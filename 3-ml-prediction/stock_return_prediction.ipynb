{
 "cells": [
  {
   "cell_type": "markdown",
   "id": "cec26413",
   "metadata": {},
   "source": [
    "# 🤖 Prédiction de retours boursiers (ML)\n",
    "\n",
    "## Objectif\n",
    "- Prédire si le prix va monter ou descendre demain.\n",
    "- Utiliser des features techniques\n",
    "- Modèles : Random Forest"
   ]
  },
  {
   "cell_type": "code",
   "execution_count": 2,
   "id": "318c5451",
   "metadata": {},
   "outputs": [
    {
     "name": "stdout",
     "output_type": "stream",
     "text": [
      "              precision    recall  f1-score   support\n",
      "\n",
      "           0       0.47      0.77      0.58       218\n",
      "           1       0.64      0.33      0.43       276\n",
      "\n",
      "    accuracy                           0.52       494\n",
      "   macro avg       0.56      0.55      0.51       494\n",
      "weighted avg       0.57      0.52      0.50       494\n",
      "\n",
      "              precision    recall  f1-score   support\n",
      "\n",
      "           0       0.41      0.60      0.49       214\n",
      "           1       0.53      0.34      0.41       280\n",
      "\n",
      "    accuracy                           0.45       494\n",
      "   macro avg       0.47      0.47      0.45       494\n",
      "weighted avg       0.48      0.45      0.45       494\n",
      "\n",
      "              precision    recall  f1-score   support\n",
      "\n",
      "           0       0.47      0.78      0.59       227\n",
      "           1       0.58      0.26      0.36       267\n",
      "\n",
      "    accuracy                           0.50       494\n",
      "   macro avg       0.53      0.52      0.47       494\n",
      "weighted avg       0.53      0.50      0.47       494\n",
      "\n",
      "              precision    recall  f1-score   support\n",
      "\n",
      "           0       0.46      0.57      0.51       231\n",
      "           1       0.52      0.41      0.46       263\n",
      "\n",
      "    accuracy                           0.49       494\n",
      "   macro avg       0.49      0.49      0.48       494\n",
      "weighted avg       0.49      0.49      0.48       494\n",
      "\n",
      "              precision    recall  f1-score   support\n",
      "\n",
      "           0       0.51      0.47      0.49       235\n",
      "           1       0.55      0.59      0.57       259\n",
      "\n",
      "    accuracy                           0.53       494\n",
      "   macro avg       0.53      0.53      0.53       494\n",
      "weighted avg       0.53      0.53      0.53       494\n",
      "\n"
     ]
    }
   ],
   "source": [
    "import pandas as pd\n",
    "import numpy as np\n",
    "from sklearn.ensemble import RandomForestClassifier\n",
    "from sklearn.model_selection import train_test_split\n",
    "from sklearn.metrics import classification_report\n",
    "\n",
    "sources = [\n",
    "    \"AAPL\",  # Apple\n",
    "    \"GOOGL\",  # Alphabet (Google)\n",
    "    \"MSFT\",   # Microsoft\n",
    "    \"AMZN\",   # Amazon\n",
    "    \"TSLA\"    # Tesla\n",
    "]\n",
    "for source in sources:\n",
    "    data = pd.read_csv(f\"../1-data-collection/{source}_data.csv\", index_col=0, parse_dates=True)\n",
    "\n",
    "    data['return_1d'] = data['Close'].pct_change()\n",
    "    data['MA10'] = data['Close'].rolling(10).mean()\n",
    "    data['MA50'] = data['Close'].rolling(50).mean()\n",
    "    data['target'] = (data['Close'].shift(-1) > data['Close']).astype(int)\n",
    "    data = data.dropna()\n",
    "\n",
    "    X = data[['return_1d', 'MA10', 'MA50']]\n",
    "    y = data['target']\n",
    "\n",
    "    X_train, X_test, y_train, y_test = train_test_split(X, y, shuffle=False, test_size=0.2)\n",
    "    model = RandomForestClassifier()\n",
    "    model.fit(X_train, y_train)\n",
    "\n",
    "    preds = model.predict(X_test)\n",
    "    print(classification_report(y_test, preds))"
   ]
  },
  {
   "cell_type": "code",
   "execution_count": null,
   "id": "17f6aa68",
   "metadata": {},
   "outputs": [],
   "source": []
  }
 ],
 "metadata": {
  "kernelspec": {
   "display_name": "Python 3",
   "language": "python",
   "name": "python3"
  },
  "language_info": {
   "codemirror_mode": {
    "name": "ipython",
    "version": 3
   },
   "file_extension": ".py",
   "mimetype": "text/x-python",
   "name": "python",
   "nbconvert_exporter": "python",
   "pygments_lexer": "ipython3",
   "version": "3.8.10"
  }
 },
 "nbformat": 4,
 "nbformat_minor": 5
}
