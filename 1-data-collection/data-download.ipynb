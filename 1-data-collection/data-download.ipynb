{
 "cells": [
  {
   "cell_type": "markdown",
   "id": "1af9b59e",
   "metadata": {},
   "source": [
    "# 📥 Téléchargement de données financières\n",
    "\n",
    "Ce notebook vous permet de récupérer des données de marché via l’API yfinance.\n",
    "\n",
    "## Objectifs\n",
    "- Choisir un ticker (ex: AAPL, TSLA, ^GSPC)\n",
    "- Télécharger les données OHLCV\n",
    "- Nettoyer et sauvegarder sous forme CSV"
   ]
  },
  {
   "cell_type": "code",
   "execution_count": 13,
   "id": "5d5b33b8",
   "metadata": {},
   "outputs": [
    {
     "name": "stderr",
     "output_type": "stream",
     "text": [
      "[*********************100%***********************]  1 of 1 completed"
     ]
    },
    {
     "name": "stderr",
     "output_type": "stream",
     "text": [
      "\n",
      "[*********************100%***********************]  1 of 1 completed\n",
      "[*********************100%***********************]  1 of 1 completed\n"
     ]
    },
    {
     "name": "stdout",
     "output_type": "stream",
     "text": [
      "✅ Colonnes après aplatissement : ['Adj Close', 'Close', 'High', 'Low', 'Open', 'Volume']\n",
      "                 Open       High        Low      Close  Adj Close     Volume\n",
      "Date                                                                        \n",
      "2015-01-02  27.847500  27.860001  26.837500  27.332500  24.288580  212818400\n",
      "2015-01-05  27.072500  27.162500  26.352501  26.562500  23.604334  257142000\n",
      "2015-01-06  26.635000  26.857500  26.157499  26.565001  23.606548  263188400\n",
      "2015-01-07  26.799999  27.049999  26.674999  26.937500  23.937571  160423600\n",
      "2015-01-08  27.307501  28.037500  27.174999  27.972500  24.857309  237458000\n",
      "✅ Données sauvegardées dans AAPL_data.csv\n",
      "✅ Colonnes après aplatissement : ['Adj Close', 'Close', 'High', 'Low', 'Open', 'Volume']\n",
      "                 Open       High        Low      Close  Adj Close    Volume\n",
      "Date                                                                       \n",
      "2015-01-02  26.629999  26.790001  26.393999  26.477501  26.319653  26480000\n",
      "2015-01-05  26.357500  26.399500  25.887501  25.973000  25.818159  41182000\n",
      "2015-01-06  26.025000  26.060499  25.277500  25.332001  25.180981  54456000\n",
      "2015-01-07  25.547501  25.574499  25.182501  25.257500  25.106926  46918000\n",
      "2015-01-08  25.075500  25.375000  24.750999  25.345501  25.194401  73054000\n",
      "✅ Données sauvegardées dans GOOGL_data.csv\n",
      "✅ Colonnes après aplatissement : ['Adj Close', 'Close', 'High', 'Low', 'Open', 'Volume']\n",
      "                 Open       High        Low      Close  Adj Close    Volume\n",
      "Date                                                                       \n",
      "2015-01-02  46.660000  47.419998  46.540001  46.759998  39.998699  27913900\n",
      "2015-01-05  46.369999  46.730000  46.250000  46.330002  39.630867  39673900\n",
      "2015-01-06  46.380001  46.750000  45.540001  45.650002  39.049210  36447900\n",
      "2015-01-07  45.980000  46.459999  45.490002  46.230000  39.545338  29114100\n",
      "2015-01-08  46.750000  47.750000  46.720001  47.590000  40.708702  29645200\n",
      "✅ Données sauvegardées dans MSFT_data.csv\n"
     ]
    },
    {
     "name": "stderr",
     "output_type": "stream",
     "text": [
      "[*********************100%***********************]  1 of 1 completed\n",
      "[*********************100%***********************]  1 of 1 completed"
     ]
    },
    {
     "name": "stdout",
     "output_type": "stream",
     "text": [
      "✅ Colonnes après aplatissement : ['Adj Close', 'Close', 'High', 'Low', 'Open', 'Volume']\n",
      "               Open     High      Low    Close  Adj Close    Volume\n",
      "Date                                                               \n",
      "2015-01-02  15.6290  15.7375  15.3480  15.4260    15.4260  55664000\n",
      "2015-01-05  15.3505  15.4190  15.0425  15.1095    15.1095  55484000\n",
      "2015-01-06  15.1120  15.1500  14.6190  14.7645    14.7645  70380000\n",
      "2015-01-07  14.8750  15.0640  14.7665  14.9210    14.9210  52806000\n",
      "2015-01-08  15.0160  15.1570  14.8055  15.0230    15.0230  61768000\n",
      "✅ Données sauvegardées dans AMZN_data.csv\n",
      "✅ Colonnes après aplatissement : ['Adj Close', 'Close', 'High', 'Low', 'Open', 'Volume']\n",
      "                 Open       High        Low      Close  Adj Close    Volume\n",
      "Date                                                                       \n",
      "2015-01-02  14.858000  14.883333  14.217333  14.620667  14.620667  71466000\n",
      "2015-01-05  14.303333  14.433333  13.810667  14.006000  14.006000  80527500\n",
      "2015-01-06  14.004000  14.280000  13.614000  14.085333  14.085333  93928500\n",
      "2015-01-07  14.223333  14.318667  13.985333  14.063333  14.063333  44526000\n",
      "2015-01-08  14.187333  14.253333  14.000667  14.041333  14.041333  51637500\n",
      "✅ Données sauvegardées dans TSLA_data.csv\n"
     ]
    },
    {
     "name": "stderr",
     "output_type": "stream",
     "text": [
      "\n"
     ]
    }
   ],
   "source": [
    "import yfinance as yf\n",
    "import pandas as pd\n",
    "\n",
    "# Télécharger les données sans ajustement automatique\n",
    "sources = [\n",
    "    \"AAPL\",  # Apple\n",
    "    \"GOOGL\",  # Alphabet (Google)\n",
    "    \"MSFT\",   # Microsoft\n",
    "    \"AMZN\",   # Amazon\n",
    "    \"TSLA\"    # Tesla\n",
    "]\n",
    "for source in sources:\n",
    "    data = yf.download(source, start=\"2015-01-01\", end=\"2024-12-31\", auto_adjust=False)\n",
    "\n",
    "    # Aplatir les colonnes si MultiIndex\n",
    "    if isinstance(data.columns, pd.MultiIndex):\n",
    "        data.columns = [col[0] for col in data.columns]\n",
    "\n",
    "    # Vérifier les colonnes présentes\n",
    "    print(\"✅ Colonnes après aplatissement :\", data.columns.tolist())\n",
    "\n",
    "    # Cas où 'Adj Close' est manquant\n",
    "    if 'Adj Close' not in data.columns:\n",
    "        print(\"⚠️ 'Adj Close' manquant. Ajout d'une copie de 'Close' pour continuer.\")\n",
    "        data['Adj Close'] = data['Close']\n",
    "\n",
    "    # Réorganisation pour avoir l'ordre canonique\n",
    "    expected_order = ['Open', 'High', 'Low', 'Close', 'Adj Close', 'Volume']\n",
    "    data = data[[col for col in expected_order if col in data.columns]]\n",
    "\n",
    "    # Aperçu\n",
    "    print(data.head())\n",
    "\n",
    "    # Export CSV (optionnel)\n",
    "    data.to_csv(f\"{source}_data.csv\")\n",
    "    print(f\"✅ Données sauvegardées dans {source}_data.csv\")\n"
   ]
  },
  {
   "cell_type": "code",
   "execution_count": null,
   "id": "fc506c40",
   "metadata": {},
   "outputs": [],
   "source": []
  }
 ],
 "metadata": {
  "kernelspec": {
   "display_name": "Python 3",
   "language": "python",
   "name": "python3"
  },
  "language_info": {
   "codemirror_mode": {
    "name": "ipython",
    "version": 3
   },
   "file_extension": ".py",
   "mimetype": "text/x-python",
   "name": "python",
   "nbconvert_exporter": "python",
   "pygments_lexer": "ipython3",
   "version": "3.8.10"
  }
 },
 "nbformat": 4,
 "nbformat_minor": 5
}
