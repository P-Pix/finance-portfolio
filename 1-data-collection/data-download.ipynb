{
 "cells": [
  {
   "cell_type": "markdown",
   "id": "1af9b59e",
   "metadata": {},
   "source": [
    "# 📥 Téléchargement de données financières\n",
    "\n",
    "Ce notebook vous permet de récupérer des données de marché via l’API yfinance.\n",
    "\n",
    "## Objectifs\n",
    "- Choisir un ticker (ex: AAPL, TSLA, ^GSPC)\n",
    "- Télécharger les données OHLCV\n",
    "- Nettoyer et sauvegarder sous forme CSV"
   ]
  },
  {
   "cell_type": "code",
   "execution_count": 1,
   "id": "1bbc1603",
   "metadata": {},
   "outputs": [
    {
     "name": "stdout",
     "output_type": "stream",
     "text": [
      "Requirement already satisfied: lxml in /home/guillaume/.local/lib/python3.8/site-packages (6.0.0)\n",
      "Note: you may need to restart the kernel to use updated packages.\n",
      "['MMM', 'AOS', 'ABT', 'ABBV', 'ACN', 'ADBE', 'AMD', 'AES', 'AFL', 'A']\n"
     ]
    }
   ],
   "source": [
    "%pip install lxml\n",
    "\n",
    "import pandas as pd\n",
    "\n",
    "url = 'https://en.wikipedia.org/wiki/List_of_S%26P_500_companies'\n",
    "df = pd.read_html(url)[0]\n",
    "tickers = df['Symbol'].tolist()\n",
    "\n",
    "print(tickers[:10])  # Affiche les 10 premiers tickers"
   ]
  },
  {
   "cell_type": "code",
   "execution_count": null,
   "id": "5d5b33b8",
   "metadata": {},
   "outputs": [
    {
     "name": "stderr",
     "output_type": "stream",
     "text": [
      "[*********************100%***********************]  1 of 1 completed\n"
     ]
    },
    {
     "name": "stdout",
     "output_type": "stream",
     "text": [
      "✅ Colonnes après aplatissement : ['Adj Close', 'Close', 'High', 'Low', 'Open', 'Volume']\n",
      "                  Open        High         Low       Close  Adj Close   Volume\n",
      "Date                                                                          \n",
      "2015-01-02  137.717392  138.026749  136.061874  137.173920  96.967506  2531214\n",
      "2015-01-05  136.287628  136.822739  133.846161  134.080261  94.780594  4416708\n",
      "2015-01-06  134.464890  134.924744  131.889633  132.650497  93.769920  4224272\n",
      "2015-01-07  133.695648  134.013382  132.892975  133.612045  94.449638  3685235\n",
      "2015-01-08  134.322739  136.864548  134.214050  136.814377  96.713333  3758908\n",
      "✅ Données sauvegardées dans MMM_data.csv\n"
     ]
    },
    {
     "name": "stderr",
     "output_type": "stream",
     "text": [
      "[*********************100%***********************]  1 of 1 completed\n"
     ]
    },
    {
     "name": "stdout",
     "output_type": "stream",
     "text": [
      "✅ Colonnes après aplatissement : ['Adj Close', 'Close', 'High', 'Low', 'Open', 'Volume']\n",
      "                 Open       High        Low      Close  Adj Close   Volume\n",
      "Date                                                                      \n",
      "2015-01-02  28.309999  28.415001  27.775000  28.004999  23.714182  1540200\n",
      "2015-01-05  27.600000  27.840000  27.235001  27.514999  23.299252  1073000\n",
      "2015-01-06  27.559999  27.559999  27.040001  27.290001  23.108723  1124600\n",
      "2015-01-07  27.434999  27.674999  27.270000  27.490000  23.278082   977600\n",
      "2015-01-08  27.764999  28.245001  27.655001  28.205000  23.883526   965200\n",
      "✅ Données sauvegardées dans AOS_data.csv\n"
     ]
    },
    {
     "name": "stderr",
     "output_type": "stream",
     "text": [
      "[*********************100%***********************]  1 of 1 completed\n"
     ]
    },
    {
     "name": "stdout",
     "output_type": "stream",
     "text": [
      "✅ Colonnes après aplatissement : ['Adj Close', 'Close', 'High', 'Low', 'Open', 'Volume']\n",
      "                 Open       High        Low      Close  Adj Close   Volume\n",
      "Date                                                                      \n",
      "2015-01-02  45.250000  45.450001  44.639999  44.900002  36.744827  3216600\n",
      "2015-01-05  44.799999  45.400002  44.630001  44.910000  36.753002  5735900\n",
      "2015-01-06  44.990002  45.110001  43.930000  44.400002  36.335632  6584300\n",
      "2015-01-07  44.730000  44.939999  44.380001  44.759998  36.630241  4609500\n",
      "2015-01-08  45.189999  45.790001  45.009998  45.680000  37.383156  4883000\n",
      "✅ Données sauvegardées dans ABT_data.csv\n"
     ]
    },
    {
     "name": "stderr",
     "output_type": "stream",
     "text": [
      "[*********************100%***********************]  1 of 1 completed\n"
     ]
    },
    {
     "name": "stdout",
     "output_type": "stream",
     "text": [
      "✅ Colonnes après aplatissement : ['Adj Close', 'Close', 'High', 'Low', 'Open', 'Volume']\n",
      "                 Open       High        Low      Close  Adj Close   Volume\n",
      "Date                                                                      \n",
      "2015-01-02  65.440002  66.400002  65.440002  65.889999  42.761036  5086100\n",
      "2015-01-05  65.500000  66.099998  63.880001  64.650002  41.956303  8007400\n",
      "2015-01-06  65.620003  65.750000  63.700001  64.330002  41.748619  5483700\n",
      "2015-01-07  64.570000  67.050003  64.480003  66.930000  43.435970  8283300\n",
      "2015-01-08  68.160004  68.290001  67.419998  67.629997  43.890244  7949000\n",
      "✅ Données sauvegardées dans ABBV_data.csv\n"
     ]
    },
    {
     "name": "stderr",
     "output_type": "stream",
     "text": [
      "[*********************100%***********************]  1 of 1 completed\n"
     ]
    },
    {
     "name": "stdout",
     "output_type": "stream",
     "text": [
      "✅ Colonnes après aplatissement : ['Adj Close', 'Close', 'High', 'Low', 'Open', 'Volume']\n",
      "                 Open       High        Low      Close  Adj Close   Volume\n",
      "Date                                                                      \n",
      "2015-01-02  89.669998  90.089996  88.430000  88.839996  74.623993  2021300\n",
      "2015-01-05  88.040001  88.320000  87.180000  87.339996  73.364021  3000000\n",
      "2015-01-06  87.500000  87.769997  86.010002  86.709999  72.834816  2867000\n",
      "2015-01-07  87.160004  88.750000  87.160004  88.529999  74.363594  2865500\n",
      "2015-01-08  89.000000  90.150002  88.839996  89.879997  75.497551  2802900\n",
      "✅ Données sauvegardées dans ACN_data.csv\n"
     ]
    },
    {
     "name": "stderr",
     "output_type": "stream",
     "text": [
      "[*********************100%***********************]  1 of 1 completed\n"
     ]
    },
    {
     "name": "stdout",
     "output_type": "stream",
     "text": [
      "✅ Colonnes après aplatissement : ['Adj Close', 'Close', 'High', 'Low', 'Open', 'Volume']\n",
      "                 Open       High        Low      Close  Adj Close   Volume\n",
      "Date                                                                      \n",
      "2015-01-02  72.699997  73.199997  71.889999  72.339996  72.339996  2349200\n",
      "2015-01-05  72.209999  72.430000  71.570000  71.980003  71.980003  2403300\n",
      "2015-01-06  71.949997  72.099998  69.879997  70.529999  70.529999  2895400\n",
      "2015-01-07  70.769997  71.290001  70.419998  71.110001  71.110001  2378300\n",
      "2015-01-08  71.400002  73.059998  71.309998  72.919998  72.919998  2624200\n",
      "✅ Données sauvegardées dans ADBE_data.csv\n"
     ]
    },
    {
     "name": "stderr",
     "output_type": "stream",
     "text": [
      "[*********************100%***********************]  1 of 1 completed\n"
     ]
    },
    {
     "name": "stdout",
     "output_type": "stream",
     "text": [
      "✅ Colonnes après aplatissement : ['Adj Close', 'Close', 'High', 'Low', 'Open', 'Volume']\n",
      "            Open  High   Low  Close  Adj Close    Volume\n",
      "Date                                                    \n",
      "2015-01-02  2.67  2.67  2.67   2.67       2.67         0\n",
      "2015-01-05  2.67  2.70  2.64   2.66       2.66   8878200\n",
      "2015-01-06  2.65  2.66  2.55   2.63       2.63  13912500\n",
      "2015-01-07  2.63  2.65  2.54   2.58       2.58  12377600\n",
      "2015-01-08  2.59  2.65  2.56   2.61       2.61  11136600\n",
      "✅ Données sauvegardées dans AMD_data.csv\n"
     ]
    },
    {
     "name": "stderr",
     "output_type": "stream",
     "text": [
      "[*********************100%***********************]  1 of 1 completed\n"
     ]
    },
    {
     "name": "stdout",
     "output_type": "stream",
     "text": [
      "✅ Colonnes après aplatissement : ['Adj Close', 'Close', 'High', 'Low', 'Open', 'Volume']\n",
      "             Open   High    Low  Close  Adj Close   Volume\n",
      "Date                                                      \n",
      "2015-01-02  13.86  13.87  13.51  13.70   9.365158  5228700\n",
      "2015-01-05  13.67  13.70  13.24  13.31   9.098561  5411400\n",
      "2015-01-06  13.31  13.46  12.95  13.01   8.893485  7171200\n",
      "2015-01-07  13.11  13.13  12.93  13.03   8.907153  4932000\n",
      "2015-01-08  13.15  13.37  13.09  13.23   9.043871  6674400\n",
      "✅ Données sauvegardées dans AES_data.csv\n"
     ]
    },
    {
     "name": "stderr",
     "output_type": "stream",
     "text": [
      "[*********************100%***********************]  1 of 1 completed\n"
     ]
    },
    {
     "name": "stdout",
     "output_type": "stream",
     "text": [
      "✅ Colonnes après aplatissement : ['Adj Close', 'Close', 'High', 'Low', 'Open', 'Volume']\n",
      "                 Open    High        Low      Close  Adj Close   Volume\n",
      "Date                                                                   \n",
      "2015-01-02  30.750000  30.805  30.330000  30.540001  23.804163  2846000\n",
      "2015-01-05  30.219999  30.275  29.620001  29.740000  23.180609  4757000\n",
      "2015-01-06  29.705000  29.775  29.395000  29.475000  22.974058  5819000\n",
      "2015-01-07  29.725000  29.980  29.545000  29.660000  23.118250  3653400\n",
      "2015-01-08  29.870001  30.160  29.730000  29.950001  23.344296  4587600\n",
      "✅ Données sauvegardées dans AFL_data.csv\n"
     ]
    },
    {
     "name": "stderr",
     "output_type": "stream",
     "text": [
      "[*********************100%***********************]  1 of 1 completed\n"
     ]
    },
    {
     "name": "stdout",
     "output_type": "stream",
     "text": [
      "✅ Colonnes après aplatissement : ['Adj Close', 'Close', 'High', 'Low', 'Open', 'Volume']\n",
      "                 Open       High        Low      Close  Adj Close   Volume\n",
      "Date                                                                      \n",
      "2015-01-02  41.180000  41.310001  40.369999  40.560001  37.195484  1529200\n",
      "2015-01-05  40.320000  40.459999  39.700001  39.799999  36.498531  2041800\n",
      "2015-01-06  39.810001  40.020000  39.020000  39.180000  35.929947  2080600\n",
      "2015-01-07  39.520000  39.810001  39.290001  39.700001  36.406826  3359700\n",
      "2015-01-08  40.240002  40.980000  40.180000  40.889999  37.498116  2116300\n",
      "✅ Données sauvegardées dans A_data.csv\n"
     ]
    },
    {
     "name": "stderr",
     "output_type": "stream",
     "text": [
      "[*********************100%***********************]  1 of 1 completed\n"
     ]
    },
    {
     "name": "stdout",
     "output_type": "stream",
     "text": [
      "✅ Colonnes après aplatissement : ['Adj Close', 'Close', 'High', 'Low', 'Open', 'Volume']\n",
      "                  Open        High         Low       Close   Adj Close  \\\n",
      "Date                                                                     \n",
      "2015-01-02  132.645691  134.912125  132.173920  134.532837  104.312180   \n",
      "2015-01-05  133.543015  133.543015  129.250687  130.231262  100.976860   \n",
      "2015-01-06  130.888062  132.053650  129.241440  130.185013  100.941010   \n",
      "2015-01-07  131.202591  131.961151  130.185013  131.591125  102.031258   \n",
      "2015-01-08  132.192413  134.967621  132.192413  134.634598  104.391075   \n",
      "\n",
      "             Volume  \n",
      "Date                 \n",
      "2015-01-02  1453513  \n",
      "2015-01-05  1905371  \n",
      "2015-01-06  1280120  \n",
      "2015-01-07   731945  \n",
      "2015-01-08  1077865  \n",
      "✅ Données sauvegardées dans APD_data.csv\n"
     ]
    },
    {
     "name": "stderr",
     "output_type": "stream",
     "text": [
      "[*********************100%***********************]  1 of 1 completed\n"
     ]
    },
    {
     "name": "stdout",
     "output_type": "stream",
     "text": [
      "✅ Colonnes après aplatissement : ['Adj Close', 'Close', 'High', 'Low', 'Open', 'Volume']\n",
      "                  Open        High         Low       Close   Adj Close  \\\n",
      "Date                                                                     \n",
      "2020-12-10  146.000000  165.000000  141.250000  144.710007  144.710007   \n",
      "2020-12-11  146.550003  151.500000  135.100006  139.250000  139.250000   \n",
      "2020-12-14  135.000000  135.300003  125.160004  130.000000  130.000000   \n",
      "2020-12-15  126.690002  127.599998  121.500000  124.800003  124.800003   \n",
      "2020-12-16  125.830002  142.000000  124.910004  137.990005  137.990005   \n",
      "\n",
      "              Volume  \n",
      "Date                  \n",
      "2020-12-10  70447500  \n",
      "2020-12-11  26980800  \n",
      "2020-12-14  16966100  \n",
      "2020-12-15  10914400  \n",
      "2020-12-16  20409600  \n",
      "✅ Données sauvegardées dans ABNB_data.csv\n"
     ]
    },
    {
     "name": "stderr",
     "output_type": "stream",
     "text": [
      "[*********************100%***********************]  1 of 1 completed\n"
     ]
    },
    {
     "name": "stdout",
     "output_type": "stream",
     "text": [
      "✅ Colonnes après aplatissement : ['Adj Close', 'Close', 'High', 'Low', 'Open', 'Volume']\n",
      "                 Open       High        Low      Close  Adj Close   Volume\n",
      "Date                                                                      \n",
      "2015-01-02  63.480000  63.900002  62.520000  63.250000  63.250000   846000\n",
      "2015-01-05  61.669998  62.340000  60.759998  61.939999  61.939999  2237400\n",
      "2015-01-06  62.189999  62.189999  60.099998  60.669998  60.669998  1405000\n",
      "2015-01-07  60.860001  60.959999  59.930000  60.160000  60.160000  1848700\n",
      "2015-01-08  60.860001  61.860001  60.599998  61.570000  61.570000  1207400\n",
      "✅ Données sauvegardées dans AKAM_data.csv\n"
     ]
    },
    {
     "name": "stderr",
     "output_type": "stream",
     "text": [
      "[*********************100%***********************]  1 of 1 completed\n"
     ]
    },
    {
     "name": "stdout",
     "output_type": "stream",
     "text": [
      "✅ Colonnes après aplatissement : ['Adj Close', 'Close', 'High', 'Low', 'Open', 'Volume']\n",
      "                 Open       High        Low      Close  Adj Close   Volume\n",
      "Date                                                                      \n",
      "2015-01-02  60.369999  60.639999  59.689999  60.310001  51.807030   740900\n",
      "2015-01-05  59.900002  60.080002  58.270000  58.310001  50.089001  1544700\n",
      "2015-01-06  58.439999  58.500000  57.130001  57.169998  49.109734  1625500\n",
      "2015-01-07  57.980000  57.980000  56.750000  56.939999  48.912167   953900\n",
      "2015-01-08  57.529999  58.910000  57.360001  58.730000  50.449795  1533700\n",
      "✅ Données sauvegardées dans ALB_data.csv\n"
     ]
    },
    {
     "name": "stderr",
     "output_type": "stream",
     "text": [
      "[*********************100%***********************]  1 of 1 completed\n"
     ]
    },
    {
     "name": "stdout",
     "output_type": "stream",
     "text": [
      "✅ Colonnes après aplatissement : ['Adj Close', 'Close', 'High', 'Low', 'Open', 'Volume']\n",
      "                 Open       High        Low      Close  Adj Close   Volume\n",
      "Date                                                                      \n",
      "2015-01-02  89.110001  89.879997  88.540001  89.790001  62.992573   277400\n",
      "2015-01-05  89.309998  91.169998  89.150002  90.870003  63.750256   359800\n",
      "2015-01-06  90.650002  91.559998  90.250000  91.330002  64.072975  1329200\n",
      "2015-01-07  91.550003  92.570000  90.690002  92.570000  64.942886   543400\n",
      "2015-01-08  92.570000  93.849998  92.430000  93.629997  65.686546   718800\n",
      "✅ Données sauvegardées dans ARE_data.csv\n"
     ]
    },
    {
     "name": "stderr",
     "output_type": "stream",
     "text": [
      "[*********************100%***********************]  1 of 1 completed\n"
     ]
    },
    {
     "name": "stdout",
     "output_type": "stream",
     "text": [
      "✅ Colonnes après aplatissement : ['Adj Close', 'Close', 'High', 'Low', 'Open', 'Volume']\n",
      "                 Open       High        Low      Close  Adj Close   Volume\n",
      "Date                                                                      \n",
      "2015-01-02  57.240002  58.380001  55.779999  56.200001  56.200001   796900\n",
      "2015-01-05  55.889999  57.520000  55.639999  56.990002  56.990002   593600\n",
      "2015-01-06  57.330002  57.939999  56.790001  57.450001  57.450001   825000\n",
      "2015-01-07  57.970001  59.750000  57.450001  59.570000  59.570000  1053500\n",
      "2015-01-08  60.000000  61.669998  59.740002  61.439999  61.439999  1289100\n",
      "✅ Données sauvegardées dans ALGN_data.csv\n"
     ]
    },
    {
     "name": "stderr",
     "output_type": "stream",
     "text": [
      "[*********************100%***********************]  1 of 1 completed\n"
     ]
    },
    {
     "name": "stdout",
     "output_type": "stream",
     "text": [
      "✅ Colonnes après aplatissement : ['Adj Close', 'Close', 'High', 'Low', 'Open', 'Volume']\n",
      "                 Open       High        Low      Close  Adj Close   Volume\n",
      "Date                                                                      \n",
      "2015-01-02  55.490002  55.599998  53.970001  55.049999  49.028744   668800\n",
      "2015-01-05  54.730000  55.240002  54.560001  54.939999  48.930782   534600\n",
      "2015-01-06  55.000000  55.160000  54.080002  54.849998  48.850616  1337500\n",
      "2015-01-07  55.090000  56.000000  54.810001  55.599998  49.518585   718400\n",
      "2015-01-08  55.709999  56.380001  55.180000  56.349998  50.186558   893900\n",
      "✅ Données sauvegardées dans ALLE_data.csv\n"
     ]
    },
    {
     "name": "stderr",
     "output_type": "stream",
     "text": [
      "[*********************100%***********************]  1 of 1 completed\n"
     ]
    },
    {
     "name": "stdout",
     "output_type": "stream",
     "text": [
      "✅ Colonnes après aplatissement : ['Adj Close', 'Close', 'High', 'Low', 'Open', 'Volume']\n",
      "                 Open       High        Low      Close  Adj Close   Volume\n",
      "Date                                                                      \n",
      "2015-01-02  33.340000  33.455002  32.884998  33.250000  23.755516  1010800\n",
      "2015-01-05  33.230000  33.334999  32.764999  32.845001  23.466166  1835000\n",
      "2015-01-06  32.924999  33.450001  32.709999  32.740002  23.391148  2481200\n",
      "2015-01-07  32.980000  33.310001  32.650002  33.279999  23.776958  1501600\n",
      "2015-01-08  33.465000  33.945000  33.369999  33.805000  24.152039  2024000\n",
      "✅ Données sauvegardées dans LNT_data.csv\n"
     ]
    },
    {
     "name": "stderr",
     "output_type": "stream",
     "text": [
      "[*********************100%***********************]  1 of 1 completed\n"
     ]
    },
    {
     "name": "stdout",
     "output_type": "stream",
     "text": [
      "✅ Colonnes après aplatissement : ['Adj Close', 'Close', 'High', 'Low', 'Open', 'Volume']\n",
      "                 Open       High        Low      Close  Adj Close   Volume\n",
      "Date                                                                      \n",
      "2015-01-02  70.589996  70.910004  69.730003  70.120003  55.753872  1766400\n",
      "2015-01-05  69.680000  69.779999  68.639999  68.730003  54.648624  2898800\n",
      "2015-01-06  69.029999  69.610001  68.449997  68.680000  54.608891  2626800\n",
      "2015-01-07  69.400002  69.849998  68.820000  69.809998  55.507355  2090200\n",
      "2015-01-08  70.250000  71.150002  70.209999  71.150002  56.572826  2962600\n",
      "✅ Données sauvegardées dans ALL_data.csv\n"
     ]
    },
    {
     "name": "stderr",
     "output_type": "stream",
     "text": [
      "[*********************100%***********************]  1 of 1 completed\n"
     ]
    },
    {
     "name": "stdout",
     "output_type": "stream",
     "text": [
      "✅ Colonnes après aplatissement : ['Adj Close', 'Close', 'High', 'Low', 'Open', 'Volume']\n",
      "                 Open       High        Low      Close  Adj Close    Volume\n",
      "Date                                                                       \n",
      "2015-01-02  26.629999  26.790001  26.393999  26.477501  26.319653  26480000\n",
      "2015-01-05  26.357500  26.399500  25.887501  25.973000  25.818161  41182000\n",
      "2015-01-06  26.025000  26.060499  25.277500  25.332001  25.180981  54456000\n",
      "2015-01-07  25.547501  25.574499  25.182501  25.257500  25.106926  46918000\n",
      "2015-01-08  25.075500  25.375000  24.750999  25.345501  25.194399  73054000\n",
      "✅ Données sauvegardées dans GOOGL_data.csv\n"
     ]
    },
    {
     "name": "stderr",
     "output_type": "stream",
     "text": [
      "[*********************100%***********************]  1 of 1 completed\n"
     ]
    },
    {
     "name": "stdout",
     "output_type": "stream",
     "text": [
      "✅ Colonnes après aplatissement : ['Adj Close', 'Close', 'High', 'Low', 'Open', 'Volume']\n",
      "                 Open       High        Low      Close  Adj Close    Volume\n",
      "Date                                                                       \n",
      "2015-01-02  26.378078  26.490770  26.133251  26.168653  26.014023  28951268\n",
      "2015-01-05  26.091366  26.144720  25.582764  25.623152  25.471746  41196796\n",
      "2015-01-06  25.679497  25.738087  24.983908  25.029282  24.881382  57998800\n",
      "2015-01-07  25.280592  25.292759  24.914099  24.986401  24.838757  41301082\n",
      "2015-01-08  24.831326  25.105074  24.482782  25.065184  24.917074  67071641\n",
      "✅ Données sauvegardées dans GOOG_data.csv\n"
     ]
    },
    {
     "name": "stderr",
     "output_type": "stream",
     "text": [
      "[*********************100%***********************]  1 of 1 completed\n"
     ]
    },
    {
     "name": "stdout",
     "output_type": "stream",
     "text": [
      "✅ Colonnes après aplatissement : ['Adj Close', 'Close', 'High', 'Low', 'Open', 'Volume']\n",
      "                 Open       High        Low      Close  Adj Close   Volume\n",
      "Date                                                                      \n",
      "2015-01-02  49.299999  49.639999  48.580002  48.970001  24.941753  6078100\n",
      "2015-01-05  48.639999  48.990002  48.520000  48.689999  24.799135  6900200\n",
      "2015-01-06  49.000000  49.650002  48.889999  48.980000  24.946850  7240000\n",
      "2015-01-07  49.330002  50.029999  49.320000  49.880001  25.405243  5492500\n",
      "2015-01-08  50.259998  50.930000  50.200001  50.720001  25.833082  4692600\n",
      "✅ Données sauvegardées dans MO_data.csv\n"
     ]
    },
    {
     "name": "stderr",
     "output_type": "stream",
     "text": [
      "[*********************100%***********************]  1 of 1 completed\n"
     ]
    },
    {
     "name": "stdout",
     "output_type": "stream",
     "text": [
      "✅ Colonnes après aplatissement : ['Adj Close', 'Close', 'High', 'Low', 'Open', 'Volume']\n",
      "               Open     High      Low    Close  Adj Close    Volume\n",
      "Date                                                               \n",
      "2015-01-02  15.6290  15.7375  15.3480  15.4260    15.4260  55664000\n",
      "2015-01-05  15.3505  15.4190  15.0425  15.1095    15.1095  55484000\n",
      "2015-01-06  15.1120  15.1500  14.6190  14.7645    14.7645  70380000\n",
      "2015-01-07  14.8750  15.0640  14.7665  14.9210    14.9210  52806000\n",
      "2015-01-08  15.0160  15.1570  14.8055  15.0230    15.0230  61768000\n",
      "✅ Données sauvegardées dans AMZN_data.csv\n"
     ]
    },
    {
     "name": "stderr",
     "output_type": "stream",
     "text": [
      "[*********************100%***********************]  1 of 1 completed\n"
     ]
    },
    {
     "name": "stdout",
     "output_type": "stream",
     "text": [
      "✅ Colonnes après aplatissement : ['Adj Close', 'Close', 'High', 'Low', 'Open', 'Volume']\n",
      "             Open   High    Low  Close  Adj Close  Volume\n",
      "Date                                                     \n",
      "2015-01-02  11.20  11.20  11.20  11.20   7.139422       0\n",
      "2015-01-05  11.20  11.20  11.20  11.20   7.139422       0\n",
      "2015-01-06  11.20  11.20  11.20  11.20   7.139422       0\n",
      "2015-01-07  10.72  10.72  10.72  10.72   6.833447     800\n",
      "2015-01-08  10.72  10.72  10.72  10.72   6.833447       0\n",
      "✅ Données sauvegardées dans AMCR_data.csv\n"
     ]
    },
    {
     "name": "stderr",
     "output_type": "stream",
     "text": [
      "[*********************100%***********************]  1 of 1 completed\n"
     ]
    },
    {
     "name": "stdout",
     "output_type": "stream",
     "text": [
      "✅ Colonnes après aplatissement : ['Adj Close', 'Close', 'High', 'Low', 'Open', 'Volume']\n",
      "                 Open       High        Low      Close  Adj Close   Volume\n",
      "Date                                                                      \n",
      "2015-01-02  46.290001  46.369999  45.490002  45.990002  33.367195  2556900\n",
      "2015-01-05  45.980000  46.150002  45.310001  45.529999  33.033455  2536000\n",
      "2015-01-06  45.639999  46.320000  44.930000  45.000000  32.648918  2943900\n",
      "2015-01-07  45.240002  45.560001  44.820000  45.349998  32.902859  2893500\n",
      "2015-01-08  45.740002  45.880001  45.470001  45.509998  33.018944  1661500\n",
      "✅ Données sauvegardées dans AEE_data.csv\n"
     ]
    },
    {
     "name": "stderr",
     "output_type": "stream",
     "text": [
      "[*********************100%***********************]  1 of 1 completed\n"
     ]
    },
    {
     "name": "stdout",
     "output_type": "stream",
     "text": [
      "✅ Colonnes après aplatissement : ['Adj Close', 'Close', 'High', 'Low', 'Open', 'Volume']\n",
      "                 Open       High        Low      Close  Adj Close   Volume\n",
      "Date                                                                      \n",
      "2015-01-02  60.880001  61.240002  60.389999  61.150002  42.041309  2007400\n",
      "2015-01-05  61.099998  61.279999  59.970001  60.250000  41.422550  2642600\n",
      "2015-01-06  60.419998  61.840000  60.369999  60.580002  41.649445  4166500\n",
      "2015-01-07  60.709999  61.880001  60.360001  61.439999  42.240688  2798800\n",
      "2015-01-08  61.630001  62.189999  61.630001  61.970001  42.605076  2470100\n",
      "✅ Données sauvegardées dans AEP_data.csv\n"
     ]
    },
    {
     "name": "stderr",
     "output_type": "stream",
     "text": [
      "[*********************100%***********************]  1 of 1 completed\n"
     ]
    },
    {
     "name": "stdout",
     "output_type": "stream",
     "text": [
      "✅ Colonnes après aplatissement : ['Adj Close', 'Close', 'High', 'Low', 'Open', 'Volume']\n",
      "                 Open       High        Low      Close  Adj Close   Volume\n",
      "Date                                                                      \n",
      "2015-01-02  93.169998  93.940002  92.139999  93.019997  79.667564  2437500\n",
      "2015-01-05  92.459999  92.779999  90.320000  90.559998  77.560715  3469600\n",
      "2015-01-06  90.790001  90.900002  87.940002  88.629997  75.907753  4800300\n",
      "2015-01-07  91.010002  91.010002  89.529999  90.300003  77.565598  5665200\n",
      "2015-01-08  91.440002  91.809998  91.000000  91.580002  78.665054  3774200\n",
      "✅ Données sauvegardées dans AXP_data.csv\n"
     ]
    },
    {
     "name": "stderr",
     "output_type": "stream",
     "text": [
      "[*********************100%***********************]  1 of 1 completed\n"
     ]
    },
    {
     "name": "stdout",
     "output_type": "stream",
     "text": [
      "✅ Colonnes après aplatissement : ['Adj Close', 'Close', 'High', 'Low', 'Open', 'Volume']\n",
      "                 Open       High        Low      Close  Adj Close    Volume\n",
      "Date                                                                       \n",
      "2015-01-02  56.529999  56.599998  55.750000  56.110001  43.568638   6608300\n",
      "2015-01-05  55.680000  55.869999  54.730000  55.000000  42.706741  10103500\n",
      "2015-01-06  54.740002  54.869999  53.740002  54.220001  42.101086  15406400\n",
      "2015-01-07  54.730000  54.730000  54.169998  54.480000  42.302967   8762000\n",
      "2015-01-08  54.419998  54.669998  53.860001  54.240002  42.116619  13066300\n",
      "✅ Données sauvegardées dans AIG_data.csv\n"
     ]
    },
    {
     "name": "stderr",
     "output_type": "stream",
     "text": [
      "[*********************100%***********************]  1 of 1 completed\n"
     ]
    },
    {
     "name": "stdout",
     "output_type": "stream",
     "text": [
      "✅ Colonnes après aplatissement : ['Adj Close', 'Close', 'High', 'Low', 'Open', 'Volume']\n",
      "                 Open        High        Low      Close  Adj Close   Volume\n",
      "Date                                                                       \n",
      "2015-01-02  99.160004   99.910004  98.900002  99.669998  77.933525  1462700\n",
      "2015-01-05  99.680000   99.680000  97.949997  98.230003  76.807571  2124700\n",
      "2015-01-06  98.300003   98.919998  97.930000  97.970001  76.604286  2329500\n",
      "2015-01-07  98.559998   99.339996  98.050003  99.000000  77.409645  1854900\n",
      "2015-01-08  99.570000  100.199997  99.330002  99.919998  78.129013  2214800\n",
      "✅ Données sauvegardées dans AMT_data.csv\n"
     ]
    },
    {
     "name": "stderr",
     "output_type": "stream",
     "text": [
      "[*********************100%***********************]  1 of 1 completed\n"
     ]
    },
    {
     "name": "stdout",
     "output_type": "stream",
     "text": [
      "✅ Colonnes après aplatissement : ['Adj Close', 'Close', 'High', 'Low', 'Open', 'Volume']\n",
      "                 Open       High        Low      Close  Adj Close   Volume\n",
      "Date                                                                      \n",
      "2015-01-02  53.299999  54.040001  53.189999  53.939999  43.931828   913100\n",
      "2015-01-05  53.970001  54.099998  52.900002  53.110001  43.255825   707700\n",
      "2015-01-06  53.259998  53.889999  52.919998  53.250000  43.369854  1141800\n",
      "2015-01-07  53.630001  54.200001  53.459999  53.930000  43.923695   528300\n",
      "2015-01-08  54.250000  54.759998  53.950001  54.139999  44.094727  1355400\n",
      "✅ Données sauvegardées dans AWK_data.csv\n"
     ]
    },
    {
     "name": "stderr",
     "output_type": "stream",
     "text": [
      "[*********************100%***********************]  1 of 1 completed\n"
     ]
    },
    {
     "name": "stdout",
     "output_type": "stream",
     "text": [
      "✅ Colonnes après aplatissement : ['Adj Close', 'Close', 'High', 'Low', 'Open', 'Volume']\n",
      "                  Open        High         Low       Close   Adj Close  \\\n",
      "Date                                                                     \n",
      "2015-01-02  132.979996  133.490005  130.710007  132.089996  105.322937   \n",
      "2015-01-05  130.779999  131.300003  127.209999  127.849998  101.942139   \n",
      "2015-01-06  127.830002  128.220001  123.480003  124.410004   99.199242   \n",
      "2015-01-07  125.750000  127.040001  124.809998  126.620003  100.961372   \n",
      "2015-01-08  128.529999  129.369995  127.750000  128.869995  102.755440   \n",
      "\n",
      "             Volume  \n",
      "Date                 \n",
      "2015-01-02   622200  \n",
      "2015-01-05  1068600  \n",
      "2015-01-06  1307600  \n",
      "2015-01-07  1271000  \n",
      "2015-01-08  1681400  \n",
      "✅ Données sauvegardées dans AMP_data.csv\n"
     ]
    },
    {
     "name": "stderr",
     "output_type": "stream",
     "text": [
      "[*********************100%***********************]  1 of 1 completed\n"
     ]
    },
    {
     "name": "stdout",
     "output_type": "stream",
     "text": [
      "✅ Colonnes après aplatissement : ['Adj Close', 'Close', 'High', 'Low', 'Open', 'Volume']\n",
      "                 Open       High        Low      Close  Adj Close   Volume\n",
      "Date                                                                      \n",
      "2015-01-02  52.759998  52.869999  51.930000  52.619999  49.027306   648300\n",
      "2015-01-05  52.020000  52.160000  50.860001  51.040001  47.555199   867400\n",
      "2015-01-06  51.040001  51.119999  49.660000  50.060001  46.642105  1410100\n",
      "2015-01-07  50.490002  50.619999  50.040001  50.209999  46.781857  1207100\n",
      "2015-01-08  50.639999  51.459999  50.540001  51.450001  47.937199  1590300\n",
      "✅ Données sauvegardées dans AME_data.csv\n"
     ]
    },
    {
     "name": "stderr",
     "output_type": "stream",
     "text": [
      "[*********************100%***********************]  1 of 1 completed\n"
     ]
    },
    {
     "name": "stdout",
     "output_type": "stream",
     "text": [
      "✅ Colonnes après aplatissement : ['Adj Close', 'Close', 'High', 'Low', 'Open', 'Volume']\n",
      "                  Open        High         Low       Close   Adj Close  \\\n",
      "Date                                                                     \n",
      "2015-01-02  160.160004  162.589996  158.600006  159.889999  118.218307   \n",
      "2015-01-05  157.429993  159.600006  154.259995  157.990005  116.813484   \n",
      "2015-01-06  158.779999  158.880005  152.330002  152.899994  113.050072   \n",
      "2015-01-07  154.089996  158.580002  153.009995  158.240005  116.998352   \n",
      "2015-01-08  159.600006  162.759995  155.149994  157.669998  116.576881   \n",
      "\n",
      "             Volume  \n",
      "Date                 \n",
      "2015-01-02  2605400  \n",
      "2015-01-05  4080300  \n",
      "2015-01-06  5075800  \n",
      "2015-01-07  3502400  \n",
      "2015-01-08  4560200  \n",
      "✅ Données sauvegardées dans AMGN_data.csv\n"
     ]
    },
    {
     "name": "stderr",
     "output_type": "stream",
     "text": [
      "[*********************100%***********************]  1 of 1 completed\n"
     ]
    },
    {
     "name": "stdout",
     "output_type": "stream",
     "text": [
      "✅ Colonnes après aplatissement : ['Adj Close', 'Close', 'High', 'Low', 'Open', 'Volume']\n",
      "               Open     High      Low    Close  Adj Close   Volume\n",
      "Date                                                              \n",
      "2015-01-02  13.5075  13.5550  13.2950  13.4100  12.126299  3136000\n",
      "2015-01-05  13.3150  13.3525  13.1325  13.1650  11.904752  4789200\n",
      "2015-01-06  13.1750  13.2725  12.8725  12.9975  11.753287  8298400\n",
      "2015-01-07  13.1250  13.2275  13.0375  13.2200  11.954488  3245200\n",
      "2015-01-08  13.3650  13.5050  13.3550  13.4775  12.187337  3911200\n",
      "✅ Données sauvegardées dans APH_data.csv\n"
     ]
    },
    {
     "name": "stderr",
     "output_type": "stream",
     "text": [
      "[*********************100%***********************]  1 of 1 completed\n"
     ]
    },
    {
     "name": "stdout",
     "output_type": "stream",
     "text": [
      "✅ Colonnes après aplatissement : ['Adj Close', 'Close', 'High', 'Low', 'Open', 'Volume']\n",
      "                 Open       High        Low      Close  Adj Close   Volume\n",
      "Date                                                                      \n",
      "2015-01-02  55.680000  56.250000  54.970001  55.540001  44.687199  1323200\n",
      "2015-01-05  55.400002  55.450001  54.500000  54.529999  43.874554  1445200\n",
      "2015-01-06  54.730000  54.799999  53.209999  53.250000  42.844658  1707500\n",
      "2015-01-07  53.490002  54.130001  53.029999  53.810001  43.295242  1723000\n",
      "2015-01-08  54.389999  55.180000  54.080002  54.759998  44.059608  1874900\n",
      "✅ Données sauvegardées dans ADI_data.csv\n"
     ]
    },
    {
     "name": "stderr",
     "output_type": "stream",
     "text": [
      "[*********************100%***********************]  1 of 1 completed\n"
     ]
    },
    {
     "name": "stdout",
     "output_type": "stream",
     "text": [
      "✅ Colonnes après aplatissement : ['Adj Close', 'Close', 'High', 'Low', 'Open', 'Volume']\n",
      "                 Open       High        Low      Close  Adj Close  Volume\n",
      "Date                                                                     \n",
      "2015-01-02  82.089996  82.629997  81.019997  81.639999  81.639999  282600\n",
      "2015-01-05  81.290001  82.070000  80.779999  80.860001  80.860001  321500\n",
      "2015-01-06  81.000000  81.139999  78.760002  79.260002  79.260002  344300\n",
      "2015-01-07  79.919998  80.900002  78.959999  79.709999  79.709999  233300\n",
      "2015-01-08  80.110001  82.160004  80.110001  81.660004  81.660004  429900\n",
      "✅ Données sauvegardées dans ANSS_data.csv\n"
     ]
    },
    {
     "name": "stderr",
     "output_type": "stream",
     "text": [
      "[*********************100%***********************]  1 of 1 completed\n"
     ]
    },
    {
     "name": "stdout",
     "output_type": "stream",
     "text": [
      "✅ Colonnes après aplatissement : ['Adj Close', 'Close', 'High', 'Low', 'Open', 'Volume']\n",
      "                 Open       High        Low      Close  Adj Close   Volume\n",
      "Date                                                                      \n",
      "2015-01-02  95.489998  96.050003  93.599998  94.330002  85.419922   933900\n",
      "2015-01-05  93.879997  94.309998  93.029999  93.419998  84.595840  1107600\n",
      "2015-01-06  93.970001  94.930000  92.639999  92.860001  84.088776  1793200\n",
      "2015-01-07  92.709999  93.980003  92.300003  93.919998  85.048630  1190100\n",
      "2015-01-08  94.540001  95.860001  94.459999  95.300003  86.298264  1444100\n",
      "✅ Données sauvegardées dans AON_data.csv\n"
     ]
    },
    {
     "name": "stderr",
     "output_type": "stream",
     "text": [
      "[*********************100%***********************]  1 of 1 completed\n"
     ]
    },
    {
     "name": "stdout",
     "output_type": "stream",
     "text": [
      "✅ Colonnes après aplatissement : ['Adj Close', 'Close', 'High', 'Low', 'Open', 'Volume']\n",
      "                 Open       High        Low      Close  Adj Close   Volume\n",
      "Date                                                                      \n",
      "2015-01-02  62.180000  64.260002  61.509998  63.830002  50.157887  3364400\n",
      "2015-01-05  62.169998  62.509998  59.599998  59.910000  47.077530  4813200\n",
      "2015-01-06  59.740002  61.230000  58.730000  59.259998  46.566750  4549300\n",
      "2015-01-07  60.310001  60.419998  57.910000  58.599998  46.048126  4612100\n",
      "2015-01-08  59.389999  61.400002  58.709999  60.869999  47.831902  3655900\n",
      "✅ Données sauvegardées dans APA_data.csv\n"
     ]
    },
    {
     "name": "stderr",
     "output_type": "stream",
     "text": [
      "[*********************100%***********************]  1 of 1 completed\n"
     ]
    },
    {
     "name": "stdout",
     "output_type": "stream",
     "text": [
      "✅ Colonnes après aplatissement : ['Adj Close', 'Close', 'High', 'Low', 'Open', 'Volume']\n",
      "                 Open       High        Low      Close  Adj Close   Volume\n",
      "Date                                                                      \n",
      "2015-01-02  23.700001  23.889999  23.240000  23.570000  14.093246   395700\n",
      "2015-01-05  23.389999  23.459999  22.540001  22.850000  13.662732   982700\n",
      "2015-01-06  22.510000  22.809999  21.980000  22.129999  13.232222  1203700\n",
      "2015-01-07  22.299999  23.090000  22.219999  22.780001  13.620878  1047500\n",
      "2015-01-08  23.010000  23.830000  22.790001  23.820000  14.242725   889000\n",
      "✅ Données sauvegardées dans APO_data.csv\n"
     ]
    },
    {
     "name": "stderr",
     "output_type": "stream",
     "text": [
      "[*********************100%***********************]  1 of 1 completed\n"
     ]
    },
    {
     "name": "stdout",
     "output_type": "stream",
     "text": [
      "✅ Colonnes après aplatissement : ['Adj Close', 'Close', 'High', 'Low', 'Open', 'Volume']\n",
      "                 Open       High        Low      Close  Adj Close     Volume\n",
      "Date                                                                        \n",
      "2015-01-02  27.847500  27.860001  26.837500  27.332500  24.288584  212818400\n",
      "2015-01-05  27.072500  27.162500  26.352501  26.562500  23.604330  257142000\n",
      "2015-01-06  26.635000  26.857500  26.157499  26.565001  23.606552  263188400\n",
      "2015-01-07  26.799999  27.049999  26.674999  26.937500  23.937572  160423600\n",
      "2015-01-08  27.307501  28.037500  27.174999  27.972500  24.857306  237458000\n",
      "✅ Données sauvegardées dans AAPL_data.csv\n"
     ]
    },
    {
     "name": "stderr",
     "output_type": "stream",
     "text": [
      "[*********************100%***********************]  1 of 1 completed\n"
     ]
    },
    {
     "name": "stdout",
     "output_type": "stream",
     "text": [
      "✅ Colonnes après aplatissement : ['Adj Close', 'Close', 'High', 'Low', 'Open', 'Volume']\n",
      "                 Open       High    Low      Close  Adj Close    Volume\n",
      "Date                                                                   \n",
      "2015-01-02  24.990000  25.160000  24.60  24.959999  21.869741   6910200\n",
      "2015-01-05  24.750000  24.900000  24.15  24.160000  21.168785  11419800\n",
      "2015-01-06  24.129999  24.299999  23.23  23.250000  20.371454  19678300\n",
      "2015-01-07  23.370001  23.540001  23.09  23.469999  20.564217  15710300\n",
      "2015-01-08  23.690001  24.320000  23.67  24.219999  21.221355  16696900\n",
      "✅ Données sauvegardées dans AMAT_data.csv\n"
     ]
    },
    {
     "name": "stderr",
     "output_type": "stream",
     "text": [
      "[*********************100%***********************]  1 of 1 completed\n"
     ]
    },
    {
     "name": "stdout",
     "output_type": "stream",
     "text": [
      "✅ Colonnes après aplatissement : ['Adj Close', 'Close', 'High', 'Low', 'Open', 'Volume']\n",
      "                 Open       High        Low      Close  Adj Close   Volume\n",
      "Date                                                                      \n",
      "2015-01-02  61.542332  61.944675  60.159264  60.846603  57.221508  1502106\n",
      "2015-01-05  60.201176  60.268230  58.139145  58.189438  54.722660  3071856\n",
      "2015-01-06  58.264877  58.432522  57.317688  57.820621  54.375809  2393635\n",
      "2015-01-07  58.130764  58.642078  57.820621  58.281643  54.809361  2295929\n",
      "2015-01-08  58.843250  59.790443  58.717518  59.715004  56.157333  2874295\n",
      "✅ Données sauvegardées dans APTV_data.csv\n"
     ]
    },
    {
     "name": "stderr",
     "output_type": "stream",
     "text": [
      "[*********************100%***********************]  1 of 1 completed\n"
     ]
    },
    {
     "name": "stdout",
     "output_type": "stream",
     "text": [
      "✅ Colonnes après aplatissement : ['Adj Close', 'Close', 'High', 'Low', 'Open', 'Volume']\n",
      "                 Open       High        Low      Close  Adj Close   Volume\n",
      "Date                                                                      \n",
      "2015-01-02  19.733334  19.860001  19.426666  19.496668  18.539352  1101600\n",
      "2015-01-05  19.393333  19.500000  19.333332  19.379999  18.428413  1095900\n",
      "2015-01-06  19.420000  19.556667  19.343332  19.423332  18.469618  1407300\n",
      "2015-01-07  19.523333  19.620001  19.356667  19.536667  18.577387  1274400\n",
      "2015-01-08  19.693333  19.940001  19.643333  19.876667  18.900694  1154700\n",
      "✅ Données sauvegardées dans ACGL_data.csv\n"
     ]
    },
    {
     "name": "stderr",
     "output_type": "stream",
     "text": [
      "[*********************100%***********************]  1 of 1 completed\n"
     ]
    },
    {
     "name": "stdout",
     "output_type": "stream",
     "text": [
      "✅ Colonnes après aplatissement : ['Adj Close', 'Close', 'High', 'Low', 'Open', 'Volume']\n",
      "                 Open       High        Low      Close  Adj Close   Volume\n",
      "Date                                                                      \n",
      "2015-01-02  52.200001  52.599998  51.590000  52.020000  38.306625  2039800\n",
      "2015-01-05  51.450001  51.680000  49.980000  50.220001  36.981136  3828000\n",
      "2015-01-06  50.459999  50.490002  48.939999  49.230000  36.252129  4855700\n",
      "2015-01-07  49.700001  50.259998  49.619999  49.970001  36.797031  2849500\n",
      "2015-01-08  49.290001  49.599998  48.540001  49.240002  36.259491  7469600\n",
      "✅ Données sauvegardées dans ADM_data.csv\n"
     ]
    },
    {
     "name": "stderr",
     "output_type": "stream",
     "text": [
      "[*********************100%***********************]  1 of 1 completed\n"
     ]
    },
    {
     "name": "stdout",
     "output_type": "stream",
     "text": [
      "✅ Colonnes après aplatissement : ['Adj Close', 'Close', 'High', 'Low', 'Open', 'Volume']\n",
      "                Open      High       Low     Close  Adj Close   Volume\n",
      "Date                                                                  \n",
      "2015-01-02  3.797500  3.929688  3.760000  3.917500   3.917500  5928000\n",
      "2015-01-05  3.937500  4.046875  3.878125  3.987500   3.987500  7505600\n",
      "2015-01-06  4.000000  4.056875  3.888125  3.988125   3.988125  5769600\n",
      "2015-01-07  4.024375  4.093750  3.998750  4.071250   4.071250  6560000\n",
      "2015-01-08  4.106875  4.176875  4.053500  4.132500   4.132500  7592000\n",
      "✅ Données sauvegardées dans ANET_data.csv\n"
     ]
    },
    {
     "name": "stderr",
     "output_type": "stream",
     "text": [
      "[*********************100%***********************]  1 of 1 completed\n"
     ]
    },
    {
     "name": "stdout",
     "output_type": "stream",
     "text": [
      "✅ Colonnes après aplatissement : ['Adj Close', 'Close', 'High', 'Low', 'Open', 'Volume']\n",
      "                 Open       High        Low      Close  Adj Close  Volume\n",
      "Date                                                                     \n",
      "2015-01-02  47.250000  47.490002  46.540001  46.980000  38.475166  540200\n",
      "2015-01-05  46.669998  46.830002  46.360001  46.700001  38.245861  744100\n",
      "2015-01-06  46.669998  46.950001  46.270000  46.610001  38.172161  931700\n",
      "2015-01-07  46.869999  47.119999  46.480000  47.060001  38.540691  643600\n",
      "2015-01-08  47.299999  48.040001  47.169998  47.880001  39.212250  803600\n",
      "✅ Données sauvegardées dans AJG_data.csv\n"
     ]
    },
    {
     "name": "stderr",
     "output_type": "stream",
     "text": [
      "[*********************100%***********************]  1 of 1 completed\n"
     ]
    },
    {
     "name": "stdout",
     "output_type": "stream",
     "text": [
      "✅ Colonnes après aplatissement : ['Adj Close', 'Close', 'High', 'Low', 'Open', 'Volume']\n",
      "                 Open       High        Low      Close  Adj Close  Volume\n",
      "Date                                                                     \n",
      "2015-01-02  68.519997  68.820000  67.480003  67.769997  54.896034  452300\n",
      "2015-01-05  67.650002  67.760002  65.989998  66.250000  53.664795  656400\n",
      "2015-01-06  66.230003  66.839996  65.160004  65.330002  52.919556  686000\n",
      "2015-01-07  65.699997  66.150002  65.199997  65.589996  53.130177  576600\n",
      "2015-01-08  66.199997  66.849998  66.089996  66.570000  53.924004  759400\n",
      "✅ Données sauvegardées dans AIZ_data.csv\n"
     ]
    },
    {
     "name": "stderr",
     "output_type": "stream",
     "text": [
      "[*********************100%***********************]  1 of 1 completed\n"
     ]
    },
    {
     "name": "stdout",
     "output_type": "stream",
     "text": [
      "✅ Colonnes après aplatissement : ['Adj Close', 'Close', 'High', 'Low', 'Open', 'Volume']\n",
      "                 Open       High        Low      Close  Adj Close    Volume\n",
      "Date                                                                       \n",
      "2015-01-02  25.370090  25.657101  25.370090  25.581572  11.901093  27226736\n",
      "2015-01-05  25.581572  25.619335  25.317221  25.339878  11.788653  40288128\n",
      "2015-01-06  25.506042  25.536255  25.188822  25.377644  11.806219  39184839\n",
      "2015-01-07  25.362537  25.370090  24.720545  25.052870  11.875056  41917840\n",
      "2015-01-08  25.105740  25.362537  25.037764  25.302114  11.993201  30186935\n",
      "✅ Données sauvegardées dans T_data.csv\n"
     ]
    },
    {
     "name": "stderr",
     "output_type": "stream",
     "text": [
      "[*********************100%***********************]  1 of 1 completed\n"
     ]
    },
    {
     "name": "stdout",
     "output_type": "stream",
     "text": [
      "✅ Colonnes après aplatissement : ['Adj Close', 'Close', 'High', 'Low', 'Open', 'Volume']\n",
      "                 Open       High        Low      Close  Adj Close  Volume\n",
      "Date                                                                     \n",
      "2015-01-02  55.919998  56.169998  55.349998  55.900002  43.341759  421700\n",
      "2015-01-05  55.459999  55.509998  54.540001  54.889999  42.558640  373000\n",
      "2015-01-06  54.930000  55.590000  54.389999  54.549999  42.295036  561100\n",
      "2015-01-07  54.950001  55.500000  54.360001  55.330002  42.899799  550900\n",
      "2015-01-08  55.680000  56.009998  55.580002  55.700001  43.186680  747300\n",
      "✅ Données sauvegardées dans ATO_data.csv\n"
     ]
    },
    {
     "name": "stderr",
     "output_type": "stream",
     "text": [
      "[*********************100%***********************]  1 of 1 completed\n"
     ]
    },
    {
     "name": "stdout",
     "output_type": "stream",
     "text": [
      "✅ Colonnes après aplatissement : ['Adj Close', 'Close', 'High', 'Low', 'Open', 'Volume']\n",
      "                 Open       High        Low      Close  Adj Close   Volume\n",
      "Date                                                                      \n",
      "2015-01-02  60.060001  60.490002  58.950001  59.529999  59.529999   901900\n",
      "2015-01-05  59.150002  59.439999  58.459999  58.660000  58.660000  2130600\n",
      "2015-01-06  58.889999  59.220001  57.310001  57.500000  57.500000  1941700\n",
      "2015-01-07  57.779999  58.520000  57.099998  57.380001  57.380001  1218700\n",
      "2015-01-08  57.869999  59.130001  57.740002  58.799999  58.799999  1307200\n",
      "✅ Données sauvegardées dans ADSK_data.csv\n"
     ]
    },
    {
     "name": "stderr",
     "output_type": "stream",
     "text": [
      "[*********************100%***********************]  1 of 1 completed\n"
     ]
    },
    {
     "name": "stdout",
     "output_type": "stream",
     "text": [
      "✅ Colonnes après aplatissement : ['Adj Close', 'Close', 'High', 'Low', 'Open', 'Volume']\n",
      "                 Open       High        Low      Close  Adj Close   Volume\n",
      "Date                                                                      \n",
      "2015-01-02  82.980003  84.180000  82.519997  83.290001  66.329132  1866600\n",
      "2015-01-05  83.250000  84.440002  82.949997  83.230003  66.281364  3270900\n",
      "2015-01-06  83.300003  83.739998  81.959999  82.540001  65.731880  2569700\n",
      "2015-01-07  82.220001  83.320000  81.800003  83.260002  66.305237  2079000\n",
      "2015-01-08  83.959999  85.180000  83.639999  85.169998  67.826302  3358700\n",
      "✅ Données sauvegardées dans ADP_data.csv\n"
     ]
    },
    {
     "name": "stderr",
     "output_type": "stream",
     "text": [
      "[*********************100%***********************]  1 of 1 completed\n"
     ]
    },
    {
     "name": "stdout",
     "output_type": "stream",
     "text": [
      "✅ Colonnes après aplatissement : ['Adj Close', 'Close', 'High', 'Low', 'Open', 'Volume']\n",
      "                  Open        High         Low       Close   Adj Close  Volume\n",
      "Date                                                                          \n",
      "2015-01-02  623.979980  623.979980  613.489990  616.789978  616.789978  224600\n",
      "2015-01-05  614.460022  616.109985  605.700012  608.489990  608.489990  439800\n",
      "2015-01-06  610.770020  612.340027  599.809998  607.820007  607.820007  388500\n",
      "2015-01-07  616.000000  616.000000  605.590027  607.239990  607.239990  388200\n",
      "2015-01-08  610.359985  614.969971  605.070007  606.000000  606.000000  593300\n",
      "✅ Données sauvegardées dans AZO_data.csv\n"
     ]
    },
    {
     "name": "stderr",
     "output_type": "stream",
     "text": [
      "[*********************100%***********************]  1 of 1 completed\n"
     ]
    },
    {
     "name": "stdout",
     "output_type": "stream",
     "text": [
      "✅ Colonnes après aplatissement : ['Adj Close', 'Close', 'High', 'Low', 'Open', 'Volume']\n",
      "                  Open        High         Low       Close   Adj Close  \\\n",
      "Date                                                                     \n",
      "2015-01-02  164.059998  166.470001  163.809998  165.809998  117.373573   \n",
      "2015-01-05  165.660004  166.979996  165.130005  166.929993  118.166420   \n",
      "2015-01-06  167.570007  169.830002  166.949997  169.199997  119.773300   \n",
      "2015-01-07  170.380005  171.509995  169.000000  171.160004  121.160782   \n",
      "2015-01-08  171.160004  173.119995  170.410004  172.750000  122.286247   \n",
      "\n",
      "             Volume  \n",
      "Date                 \n",
      "2015-01-02   565800  \n",
      "2015-01-05  1130700  \n",
      "2015-01-06   983500  \n",
      "2015-01-07   815700  \n",
      "2015-01-08   785400  \n",
      "✅ Données sauvegardées dans AVB_data.csv\n"
     ]
    },
    {
     "name": "stderr",
     "output_type": "stream",
     "text": [
      "[*********************100%***********************]  1 of 1 completed\n"
     ]
    },
    {
     "name": "stdout",
     "output_type": "stream",
     "text": [
      "✅ Colonnes après aplatissement : ['Adj Close', 'Close', 'High', 'Low', 'Open', 'Volume']\n",
      "                 Open       High        Low      Close  Adj Close   Volume\n",
      "Date                                                                      \n",
      "2015-01-02  52.130001  52.349998  51.330002  51.790001  42.553326   378700\n",
      "2015-01-05  51.410000  51.549999  50.799999  51.150002  42.027473   801700\n",
      "2015-01-06  51.770000  52.180000  51.270000  51.660000  42.446518  1515900\n",
      "2015-01-07  52.110001  52.230000  51.849998  52.169998  42.865547   813100\n",
      "2015-01-08  52.660000  54.009998  52.610001  53.720001  44.139111  1243900\n",
      "✅ Données sauvegardées dans AVY_data.csv\n"
     ]
    },
    {
     "name": "stderr",
     "output_type": "stream",
     "text": [
      "[*********************100%***********************]  1 of 1 completed\n"
     ]
    },
    {
     "name": "stdout",
     "output_type": "stream",
     "text": [
      "✅ Colonnes après aplatissement : ['Adj Close', 'Close', 'High', 'Low', 'Open', 'Volume']\n",
      "                 Open       High        Low      Close  Adj Close   Volume\n",
      "Date                                                                      \n",
      "2015-01-02  26.700001  26.750000  25.559999  26.510000  26.510000  2273500\n",
      "2015-01-05  26.150000  26.400000  25.459999  25.690001  25.690001  2443600\n",
      "2015-01-06  26.110001  26.219999  24.740000  25.570000  25.570000  3444900\n",
      "2015-01-07  25.889999  26.200001  25.219999  25.980000  25.980000  1646700\n",
      "2015-01-08  26.190001  26.660000  25.750000  26.629999  26.629999  2391200\n",
      "✅ Données sauvegardées dans AXON_data.csv\n"
     ]
    },
    {
     "name": "stderr",
     "output_type": "stream",
     "text": [
      "[*********************100%***********************]  1 of 1 completed\n"
     ]
    },
    {
     "name": "stdout",
     "output_type": "stream",
     "text": [
      "✅ Colonnes après aplatissement : ['Adj Close', 'Close', 'High', 'Low', 'Open', 'Volume']\n",
      "                 Open       High        Low      Close  Adj Close   Volume\n",
      "Date                                                                      \n",
      "2015-01-02  55.869999  56.790001  55.689999  56.169998  30.256418  2787600\n",
      "2015-01-05  55.330002  55.660000  54.959999  55.160000  29.712383  5565300\n",
      "2015-01-06  55.040001  55.799999  54.730000  54.990002  29.620806  5931400\n",
      "2015-01-07  55.660000  56.480000  55.480000  56.470001  30.418024  3921000\n",
      "2015-01-08  57.049999  57.200001  56.320000  57.029999  30.719662  4396200\n",
      "✅ Données sauvegardées dans BKR_data.csv\n"
     ]
    },
    {
     "name": "stderr",
     "output_type": "stream",
     "text": [
      "[*********************100%***********************]  1 of 1 completed\n"
     ]
    },
    {
     "name": "stdout",
     "output_type": "stream",
     "text": [
      "✅ Colonnes après aplatissement : ['Adj Close', 'Close', 'High', 'Low', 'Open', 'Volume']\n",
      "                 Open       High        Low      Close  Adj Close   Volume\n",
      "Date                                                                      \n",
      "2015-01-02  34.299999  34.509998  33.750000  34.154999  30.778164   934000\n",
      "2015-01-05  33.865002  34.000000  33.255001  33.410000  30.106829  1793200\n",
      "2015-01-06  32.860001  33.355000  32.410000  32.845001  29.597687  1982800\n",
      "2015-01-07  32.924999  33.200001  32.750000  33.134998  29.859011  1341200\n",
      "2015-01-08  33.384998  33.974998  33.384998  33.705002  30.372662  1989200\n",
      "✅ Données sauvegardées dans BALL_data.csv\n"
     ]
    },
    {
     "name": "stderr",
     "output_type": "stream",
     "text": [
      "[*********************100%***********************]  1 of 1 completed\n"
     ]
    },
    {
     "name": "stdout",
     "output_type": "stream",
     "text": [
      "✅ Colonnes après aplatissement : ['Adj Close', 'Close', 'High', 'Low', 'Open', 'Volume']\n",
      "                 Open       High        Low      Close  Adj Close     Volume\n",
      "Date                                                                        \n",
      "2015-01-02  17.990000  18.030001  17.680000  17.900000  14.356874   48951100\n",
      "2015-01-05  17.790001  17.809999  17.290001  17.379999  13.939799  105605500\n",
      "2015-01-06  17.420000  17.440001  16.780001  16.860001  13.522729  144912400\n",
      "2015-01-07  17.139999  17.180000  16.870001  16.940001  13.586898  104603800\n",
      "2015-01-08  17.160000  17.340000  17.100000  17.290001  13.867612   73388500\n",
      "✅ Données sauvegardées dans BAC_data.csv\n"
     ]
    },
    {
     "name": "stderr",
     "output_type": "stream",
     "text": [
      "[*********************100%***********************]  1 of 1 completed\n"
     ]
    },
    {
     "name": "stdout",
     "output_type": "stream",
     "text": [
      "✅ Colonnes après aplatissement : ['Adj Close', 'Close', 'High', 'Low', 'Open', 'Volume']\n",
      "                 Open       High        Low      Close  Adj Close   Volume\n",
      "Date                                                                      \n",
      "2015-01-02  39.983704  40.211842  39.592613  39.820751  33.422970  3964594\n",
      "2015-01-05  39.380772  39.483974  38.647472  38.832157  32.593212  6754997\n",
      "2015-01-06  38.957088  39.130905  38.517109  38.625748  32.419960  6930076\n",
      "2015-01-07  38.951656  39.027702  38.517109  38.810429  32.574978  6065359\n",
      "2015-01-08  39.261272  39.902225  39.239544  39.815319  33.418407  5669175\n",
      "✅ Données sauvegardées dans BAX_data.csv\n"
     ]
    },
    {
     "name": "stderr",
     "output_type": "stream",
     "text": [
      "[*********************100%***********************]  1 of 1 completed\n"
     ]
    },
    {
     "name": "stdout",
     "output_type": "stream",
     "text": [
      "✅ Colonnes après aplatissement : ['Adj Close', 'Close', 'High', 'Low', 'Open', 'Volume']\n",
      "                  Open        High         Low       Close   Adj Close  \\\n",
      "Date                                                                     \n",
      "2015-01-02  136.848785  137.443909  135.980484  136.448776  116.662529   \n",
      "2015-01-05  136.585373  138.965851  136.224396  137.287811  117.379883   \n",
      "2015-01-06  138.048782  138.370728  135.853653  137.024384  117.154671   \n",
      "2015-01-07  137.482925  140.458542  137.482925  140.234146  119.898987   \n",
      "2015-01-08  141.443909  143.160980  141.160980  142.790237  122.084427   \n",
      "\n",
      "             Volume  \n",
      "Date                 \n",
      "2015-01-02  1445660  \n",
      "2015-01-05  1425263  \n",
      "2015-01-06  2370723  \n",
      "2015-01-07  1411220  \n",
      "2015-01-08  1374218  \n",
      "✅ Données sauvegardées dans BDX_data.csv\n"
     ]
    },
    {
     "name": "stderr",
     "output_type": "stream",
     "text": [
      "[*********************100%***********************]  1 of 1 completed\n",
      "\n",
      "1 Failed download:\n",
      "['BRK.B']: YFTzMissingError('possibly delisted; no timezone found')\n"
     ]
    },
    {
     "name": "stdout",
     "output_type": "stream",
     "text": [
      "✅ Colonnes après aplatissement : ['Adj Close', 'Close', 'High', 'Low', 'Open', 'Volume']\n",
      "Empty DataFrame\n",
      "Columns: [Open, High, Low, Close, Adj Close, Volume]\n",
      "Index: []\n",
      "✅ Données sauvegardées dans BRK.B_data.csv\n"
     ]
    },
    {
     "name": "stderr",
     "output_type": "stream",
     "text": [
      "[*********************100%***********************]  1 of 1 completed\n"
     ]
    },
    {
     "name": "stdout",
     "output_type": "stream",
     "text": [
      "✅ Colonnes après aplatissement : ['Adj Close', 'Close', 'High', 'Low', 'Open', 'Volume']\n",
      "                 Open       High        Low      Close  Adj Close   Volume\n",
      "Date                                                                      \n",
      "2015-01-02  39.169998  39.320000  38.169998  38.790001  26.638880  3889300\n",
      "2015-01-05  38.549999  38.709999  37.730000  37.790001  25.952133  4853600\n",
      "2015-01-06  37.650002  37.980000  36.639999  37.450001  25.718637  6776700\n",
      "2015-01-07  37.980000  38.840000  37.980000  38.529999  26.460323  5432900\n",
      "2015-01-08  38.990002  39.270000  38.700001  39.110001  26.858635  8457400\n",
      "✅ Données sauvegardées dans BBY_data.csv\n"
     ]
    },
    {
     "name": "stderr",
     "output_type": "stream",
     "text": [
      "[*********************100%***********************]  1 of 1 completed\n"
     ]
    },
    {
     "name": "stdout",
     "output_type": "stream",
     "text": [
      "✅ Colonnes après aplatissement : ['Adj Close', 'Close', 'High', 'Low', 'Open', 'Volume']\n",
      "                 Open       High        Low      Close  Adj Close   Volume\n",
      "Date                                                                      \n",
      "2015-01-02  23.252501  23.400000  22.602501  22.860001  21.201725   699200\n",
      "2015-01-05  22.747499  22.950001  22.500000  22.584999  20.946678  1136800\n",
      "2015-01-06  22.684999  22.767500  22.302500  22.387501  20.763510  2810000\n",
      "2015-01-07  22.582500  23.184999  22.320000  22.690001  21.044064   725200\n",
      "2015-01-08  22.885000  23.197500  22.842501  22.877501  21.217962   958400\n",
      "✅ Données sauvegardées dans TECH_data.csv\n"
     ]
    },
    {
     "name": "stderr",
     "output_type": "stream",
     "text": [
      "[*********************100%***********************]  1 of 1 completed\n"
     ]
    },
    {
     "name": "stdout",
     "output_type": "stream",
     "text": [
      "✅ Colonnes après aplatissement : ['Adj Close', 'Close', 'High', 'Low', 'Open', 'Volume']\n",
      "                  Open        High         Low       Close   Adj Close  \\\n",
      "Date                                                                     \n",
      "2015-01-02  342.839996  346.989990  340.329987  342.010010  342.010010   \n",
      "2015-01-05  339.269989  342.000000  335.130005  336.739990  336.739990   \n",
      "2015-01-06  339.980011  346.640015  334.399994  334.649994  334.649994   \n",
      "2015-01-07  338.089996  354.000000  338.049988  353.239990  353.239990   \n",
      "2015-01-08  359.420013  360.000000  341.709991  350.250000  350.250000   \n",
      "\n",
      "             Volume  \n",
      "Date                 \n",
      "2015-01-02   976300  \n",
      "2015-01-05  1250000  \n",
      "2015-01-06  1898200  \n",
      "2015-01-07  2484300  \n",
      "2015-01-08  4277700  \n",
      "✅ Données sauvegardées dans BIIB_data.csv\n"
     ]
    },
    {
     "name": "stderr",
     "output_type": "stream",
     "text": [
      "[*********************100%***********************]  1 of 1 completed\n"
     ]
    },
    {
     "name": "stdout",
     "output_type": "stream",
     "text": [
      "✅ Colonnes après aplatissement : ['Adj Close', 'Close', 'High', 'Low', 'Open', 'Volume']\n",
      "                  Open        High         Low       Close   Adj Close  Volume\n",
      "Date                                                                          \n",
      "2015-01-02  357.980011  359.890015  352.440002  356.730011  273.823822  367000\n",
      "2015-01-05  353.239990  354.269989  346.600006  347.500000  266.738922  465900\n",
      "2015-01-06  348.700012  351.630005  338.549988  342.100006  262.593933  626400\n",
      "2015-01-07  345.149994  349.980011  344.260010  349.339996  268.151276  388300\n",
      "2015-01-08  352.839996  354.649994  351.589996  353.420013  271.283081  480600\n",
      "✅ Données sauvegardées dans BLK_data.csv\n"
     ]
    },
    {
     "name": "stderr",
     "output_type": "stream",
     "text": [
      "[*********************100%***********************]  1 of 1 completed\n"
     ]
    },
    {
     "name": "stdout",
     "output_type": "stream",
     "text": [
      "✅ Colonnes après aplatissement : ['Adj Close', 'Close', 'High', 'Low', 'Open', 'Volume']\n",
      "                 Open       High        Low      Close  Adj Close   Volume\n",
      "Date                                                                      \n",
      "2015-01-02  33.980000  34.270000  33.720001  34.130001  21.124439  2577200\n",
      "2015-01-05  33.880001  34.060001  33.150002  33.630001  20.814968  3015400\n",
      "2015-01-06  33.709999  33.750000  32.360001  32.980000  20.412651  3354200\n",
      "2015-01-07  33.299999  33.650002  33.000000  33.450001  20.703556  2517400\n",
      "2015-01-08  33.799999  33.919998  33.610001  33.709999  20.864477  3523000\n",
      "✅ Données sauvegardées dans BX_data.csv\n"
     ]
    },
    {
     "name": "stderr",
     "output_type": "stream",
     "text": [
      "[*********************100%***********************]  1 of 1 completed\n"
     ]
    },
    {
     "name": "stdout",
     "output_type": "stream",
     "text": [
      "✅ Colonnes après aplatissement : ['Adj Close', 'Close', 'High', 'Low', 'Open', 'Volume']\n",
      "                 Open       High        Low      Close  Adj Close   Volume\n",
      "Date                                                                      \n",
      "2015-01-02  40.750000  40.779999  40.080002  40.459999  31.113022  3891100\n",
      "2015-01-05  40.220001  40.369999  39.279999  39.419998  30.313282  4241900\n",
      "2015-01-06  39.450001  39.470001  37.869999  38.279999  29.436630  7633100\n",
      "2015-01-07  38.689999  39.099998  38.439999  39.070000  30.044136  7113900\n",
      "2015-01-08  39.450001  39.639999  39.400002  39.610001  30.459387  4795300\n",
      "✅ Données sauvegardées dans BK_data.csv\n"
     ]
    },
    {
     "name": "stderr",
     "output_type": "stream",
     "text": [
      "[*********************100%***********************]  1 of 1 completed\n"
     ]
    },
    {
     "name": "stdout",
     "output_type": "stream",
     "text": [
      "✅ Colonnes après aplatissement : ['Adj Close', 'Close', 'High', 'Low', 'Open', 'Volume']\n",
      "                  Open        High         Low       Close   Adj Close  \\\n",
      "Date                                                                     \n",
      "2015-01-02  131.070007  131.839996  129.089996  129.949997  113.657234   \n",
      "2015-01-05  129.660004  129.919998  128.610001  129.050003  112.870056   \n",
      "2015-01-06  129.050003  129.619995  126.180000  127.529999  111.540619   \n",
      "2015-01-07  128.740005  129.970001  128.720001  129.509995  113.272385   \n",
      "2015-01-08  130.600006  131.990005  130.399994  131.800003  115.275261   \n",
      "\n",
      "             Volume  \n",
      "Date                 \n",
      "2015-01-02  4294200  \n",
      "2015-01-05  5024800  \n",
      "2015-01-06  4992800  \n",
      "2015-01-07  3573200  \n",
      "2015-01-08  4503400  \n",
      "✅ Données sauvegardées dans BA_data.csv\n"
     ]
    },
    {
     "name": "stderr",
     "output_type": "stream",
     "text": [
      "[*********************100%***********************]  1 of 1 completed\n"
     ]
    },
    {
     "name": "stdout",
     "output_type": "stream",
     "text": [
      "✅ Colonnes après aplatissement : ['Adj Close', 'Close', 'High', 'Low', 'Open', 'Volume']\n",
      "                   Open         High          Low        Close    Adj Close  \\\n",
      "Date                                                                          \n",
      "2015-01-02  1144.000000  1149.439941  1131.510010  1142.060059  1127.762085   \n",
      "2015-01-05  1138.369995  1138.369995  1090.739990  1097.579956  1083.838745   \n",
      "2015-01-06  1103.410034  1103.979980  1072.500000  1079.959961  1066.439331   \n",
      "2015-01-07  1090.770020  1092.069946  1058.569946  1069.569946  1056.179321   \n",
      "2015-01-08  1056.949951  1083.170044  1047.119995  1082.849976  1069.293213   \n",
      "\n",
      "             Volume  \n",
      "Date                 \n",
      "2015-01-02   509300  \n",
      "2015-01-05  1051300  \n",
      "2015-01-06  1081500  \n",
      "2015-01-07   955000  \n",
      "2015-01-08  1045800  \n",
      "✅ Données sauvegardées dans BKNG_data.csv\n"
     ]
    },
    {
     "name": "stderr",
     "output_type": "stream",
     "text": [
      "[*********************100%***********************]  1 of 1 completed\n"
     ]
    },
    {
     "name": "stdout",
     "output_type": "stream",
     "text": [
      "✅ Colonnes après aplatissement : ['Adj Close', 'Close', 'High', 'Low', 'Open', 'Volume']\n",
      "             Open   High    Low  Close  Adj Close    Volume\n",
      "Date                                                       \n",
      "2015-01-02  13.29  13.33  13.14  13.22      13.22  10520200\n",
      "2015-01-05  13.45  13.95  13.42  13.81      13.81  17359500\n",
      "2015-01-06  13.80  13.89  13.50  13.70      13.70  18291700\n",
      "2015-01-07  13.76  14.07  13.75  14.03      14.03  17243800\n",
      "2015-01-08  14.30  14.76  14.19  14.59      14.59  27109600\n",
      "✅ Données sauvegardées dans BSX_data.csv\n"
     ]
    },
    {
     "name": "stderr",
     "output_type": "stream",
     "text": [
      "[*********************100%***********************]  1 of 1 completed\n"
     ]
    },
    {
     "name": "stdout",
     "output_type": "stream",
     "text": [
      "✅ Colonnes après aplatissement : ['Adj Close', 'Close', 'High', 'Low', 'Open', 'Volume']\n",
      "                 Open       High        Low      Close  Adj Close   Volume\n",
      "Date                                                                      \n",
      "2015-01-02  59.430000  59.930000  59.299999  59.509998  42.368382  4887700\n",
      "2015-01-05  59.360001  59.400002  58.040001  58.580002  41.706268  5928800\n",
      "2015-01-06  58.869999  59.500000  58.110001  58.480000  41.635056  6039900\n",
      "2015-01-07  59.150002  59.540001  58.820000  59.240002  42.176159  6278400\n",
      "2015-01-08  59.830002  61.070000  59.830002  60.720001  43.229847  8405100\n",
      "✅ Données sauvegardées dans BMY_data.csv\n"
     ]
    },
    {
     "name": "stderr",
     "output_type": "stream",
     "text": [
      "[*********************100%***********************]  1 of 1 completed\n"
     ]
    },
    {
     "name": "stdout",
     "output_type": "stream",
     "text": [
      "✅ Colonnes après aplatissement : ['Adj Close', 'Close', 'High', 'Low', 'Open', 'Volume']\n",
      "              Open    High     Low   Close  Adj Close    Volume\n",
      "Date                                                           \n",
      "2015-01-02  10.093  10.221   9.913  10.009   7.587783  13500000\n",
      "2015-01-05  10.007  10.082   9.840   9.849   7.466486  15596000\n",
      "2015-01-06   9.895   9.908   9.518   9.625   7.296675  22194000\n",
      "2015-01-07   9.705   9.939   9.653   9.885   7.493779  30907000\n",
      "2015-01-08  10.053  10.430  10.036  10.379   7.868279  33265000\n",
      "✅ Données sauvegardées dans AVGO_data.csv\n"
     ]
    },
    {
     "name": "stderr",
     "output_type": "stream",
     "text": [
      "[*********************100%***********************]  1 of 1 completed\n"
     ]
    },
    {
     "name": "stdout",
     "output_type": "stream",
     "text": [
      "✅ Colonnes après aplatissement : ['Adj Close', 'Close', 'High', 'Low', 'Open', 'Volume']\n",
      "                 Open       High        Low      Close  Adj Close   Volume\n",
      "Date                                                                      \n",
      "2015-01-02  46.250000  46.250000  45.160000  45.599998  37.893467   637400\n",
      "2015-01-05  45.259998  45.540001  44.639999  44.919998  37.328381   551000\n",
      "2015-01-06  45.119999  45.549999  44.650002  45.259998  37.610924  1188300\n",
      "2015-01-07  45.480000  46.090000  45.180000  46.000000  38.225861   715900\n",
      "2015-01-08  46.150002  46.970001  45.970001  46.689999  38.799244  1048500\n",
      "✅ Données sauvegardées dans BR_data.csv\n"
     ]
    },
    {
     "name": "stderr",
     "output_type": "stream",
     "text": [
      "[*********************100%***********************]  1 of 1 completed\n",
      "[*********************100%***********************]  1 of 1 completed\n",
      "\n",
      "1 Failed download:\n",
      "['BF.B']: YFPricesMissingError('possibly delisted; no price data found  (1d 2015-01-01 -> 2024-12-31)')\n"
     ]
    },
    {
     "name": "stdout",
     "output_type": "stream",
     "text": [
      "✅ Colonnes après aplatissement : ['Adj Close', 'Close', 'High', 'Low', 'Open', 'Volume']\n",
      "                 Open       High        Low      Close  Adj Close   Volume\n",
      "Date                                                                      \n",
      "2015-01-02  16.535000  16.535000  16.155001  16.280001  14.726797   836400\n",
      "2015-01-05  16.174999  16.174999  15.970000  16.070000  14.536831  1343600\n",
      "2015-01-06  16.059999  16.190001  15.845000  15.990000  14.464463  1146400\n",
      "2015-01-07  16.080000  16.145000  15.910000  16.135000  14.595627   887000\n",
      "2015-01-08  16.230000  16.510000  16.170000  16.445000  14.876054  1248400\n",
      "✅ Données sauvegardées dans BRO_data.csv\n",
      "✅ Colonnes après aplatissement : ['Adj Close', 'Close', 'High', 'Low', 'Open', 'Volume']\n",
      "Empty DataFrame\n",
      "Columns: [Open, High, Low, Close, Adj Close, Volume]\n",
      "Index: []\n",
      "✅ Données sauvegardées dans BF.B_data.csv\n"
     ]
    },
    {
     "name": "stderr",
     "output_type": "stream",
     "text": [
      "[*********************100%***********************]  1 of 1 completed\n"
     ]
    },
    {
     "name": "stdout",
     "output_type": "stream",
     "text": [
      "✅ Colonnes après aplatissement : ['Adj Close', 'Close', 'High', 'Low', 'Open', 'Volume']\n",
      "            Open  High   Low  Close  Adj Close  Volume\n",
      "Date                                                  \n",
      "2015-01-02  6.94  7.01  6.60   6.75       6.75  220200\n",
      "2015-01-05  6.66  6.77  6.58   6.63       6.63  113000\n",
      "2015-01-06  6.64  6.68  6.33   6.40       6.40  151800\n",
      "2015-01-07  6.49  6.59  6.40   6.42       6.42  223600\n",
      "2015-01-08  6.52  6.64  6.40   6.56       6.56  291600\n",
      "✅ Données sauvegardées dans BLDR_data.csv\n"
     ]
    },
    {
     "name": "stderr",
     "output_type": "stream",
     "text": [
      "[*********************100%***********************]  1 of 1 completed\n"
     ]
    },
    {
     "name": "stdout",
     "output_type": "stream",
     "text": [
      "✅ Colonnes après aplatissement : ['Adj Close', 'Close', 'High', 'Low', 'Open', 'Volume']\n",
      "                 Open       High        Low      Close  Adj Close   Volume\n",
      "Date                                                                      \n",
      "2015-01-02  90.879997  91.470001  90.349998  91.160004  67.661087   493900\n",
      "2015-01-05  90.970001  91.190002  88.940002  89.309998  66.287979  1114900\n",
      "2015-01-06  89.610001  89.769997  87.650002  88.470001  65.664528  1861200\n",
      "2015-01-07  88.860001  89.199997  88.110001  88.930000  66.005936   751900\n",
      "2015-01-08  89.669998  90.629997  88.410004  90.559998  67.215729  1229500\n",
      "✅ Données sauvegardées dans BG_data.csv\n"
     ]
    },
    {
     "name": "stderr",
     "output_type": "stream",
     "text": [
      "[*********************100%***********************]  1 of 1 completed\n"
     ]
    },
    {
     "name": "stdout",
     "output_type": "stream",
     "text": [
      "✅ Colonnes après aplatissement : ['Adj Close', 'Close', 'High', 'Low', 'Open', 'Volume']\n",
      "                  Open        High         Low       Close  Adj Close   Volume\n",
      "Date                                                                          \n",
      "2015-01-02  129.339996  131.460007  129.289993  131.259995  86.867691   612000\n",
      "2015-01-05  131.850006  132.679993  131.059998  132.449997  87.655220   892500\n",
      "2015-01-06  132.910004  135.240005  132.729996  135.020004  89.356049  1636600\n",
      "2015-01-07  135.440002  137.039993  134.330002  136.529999  90.355385   999200\n",
      "2015-01-08  137.009995  137.880005  136.139999  137.080002  90.719353   937400\n",
      "✅ Données sauvegardées dans BXP_data.csv\n"
     ]
    },
    {
     "name": "stderr",
     "output_type": "stream",
     "text": [
      "[*********************100%***********************]  1 of 1 completed\n"
     ]
    },
    {
     "name": "stdout",
     "output_type": "stream",
     "text": [
      "✅ Colonnes après aplatissement : ['Adj Close', 'Close', 'High', 'Low', 'Open', 'Volume']\n",
      "                 Open       High        Low      Close  Adj Close   Volume\n",
      "Date                                                                      \n",
      "2015-01-02  74.849998  75.239998  73.019997  73.839996  57.130650  2052400\n",
      "2015-01-05  73.370003  73.370003  70.320000  70.599998  54.623833  8418500\n",
      "2015-01-06  71.900002  71.949997  69.230003  69.680000  53.912006  3887700\n",
      "2015-01-07  69.830002  70.320000  69.230003  69.709999  53.935230  2067900\n",
      "2015-01-08  70.669998  72.900002  70.629997  72.839996  56.356945  3016800\n",
      "✅ Données sauvegardées dans CHRW_data.csv\n"
     ]
    },
    {
     "name": "stderr",
     "output_type": "stream",
     "text": [
      "[*********************100%***********************]  1 of 1 completed\n"
     ]
    },
    {
     "name": "stdout",
     "output_type": "stream",
     "text": [
      "✅ Colonnes après aplatissement : ['Adj Close', 'Close', 'High', 'Low', 'Open', 'Volume']\n",
      "                 Open       High        Low      Close  Adj Close   Volume\n",
      "Date                                                                      \n",
      "2015-01-02  19.150000  19.240000  18.570000  18.830000  18.830000  3508000\n",
      "2015-01-05  18.709999  18.750000  18.340000  18.400000  18.400000  9069900\n",
      "2015-01-06  18.469999  18.530001  17.889999  17.910000  17.910000  4301000\n",
      "2015-01-07  18.040001  18.450001  17.879999  18.420000  18.420000  2912700\n",
      "2015-01-08  18.610001  18.740000  18.490000  18.610001  18.610001  2198900\n",
      "✅ Données sauvegardées dans CDNS_data.csv\n"
     ]
    },
    {
     "name": "stderr",
     "output_type": "stream",
     "text": [
      "[*********************100%***********************]  1 of 1 completed\n"
     ]
    },
    {
     "name": "stdout",
     "output_type": "stream",
     "text": [
      "✅ Colonnes après aplatissement : ['Adj Close', 'Close', 'High', 'Low', 'Open', 'Volume']\n",
      "            Open  High   Low  Close  Adj Close  Volume\n",
      "Date                                                  \n",
      "2015-01-02  4.24  4.24  3.88   4.04       4.04    2200\n",
      "2015-01-05  3.90  4.28  3.88   4.25       4.25   15600\n",
      "2015-01-06  4.24  4.25  4.00   4.07       4.07    9000\n",
      "2015-01-07  4.24  4.29  4.12   4.29       4.29   22300\n",
      "2015-01-08  4.23  4.24  4.16   4.20       4.20    4400\n",
      "✅ Données sauvegardées dans CZR_data.csv\n"
     ]
    },
    {
     "name": "stderr",
     "output_type": "stream",
     "text": [
      "[*********************100%***********************]  1 of 1 completed\n"
     ]
    },
    {
     "name": "stdout",
     "output_type": "stream",
     "text": [
      "✅ Colonnes après aplatissement : ['Adj Close', 'Close', 'High', 'Low', 'Open', 'Volume']\n",
      "                 Open       High        Low      Close  Adj Close   Volume\n",
      "Date                                                                      \n",
      "2015-01-02  74.019997  75.389999  73.959999  75.250000  50.086227   573300\n",
      "2015-01-05  74.889999  75.550003  74.800003  74.949997  49.886559  1239500\n",
      "2015-01-06  75.309998  76.050003  75.070000  75.620003  50.332497  1194300\n",
      "2015-01-07  76.029999  77.900002  75.269997  77.699997  51.716938  1093000\n",
      "2015-01-08  77.900002  77.900002  76.800003  76.889999  51.177811   709900\n",
      "✅ Données sauvegardées dans CPT_data.csv\n"
     ]
    },
    {
     "name": "stderr",
     "output_type": "stream",
     "text": [
      "[*********************100%***********************]  1 of 1 completed\n"
     ]
    },
    {
     "name": "stdout",
     "output_type": "stream",
     "text": [
      "✅ Colonnes après aplatissement : ['Adj Close', 'Close', 'High', 'Low', 'Open', 'Volume']\n",
      "                 Open       High        Low      Close  Adj Close   Volume\n",
      "Date                                                                      \n",
      "2015-01-02  44.099998  44.270000  43.799999  44.000000  31.583574  1032400\n",
      "2015-01-05  43.720001  43.919998  43.330002  43.330002  31.102648  1346900\n",
      "2015-01-06  43.450001  43.630001  42.900002  43.040001  30.894484  2166600\n",
      "2015-01-07  43.820000  45.259998  43.599998  44.939999  32.258324  3329900\n",
      "2015-01-08  45.029999  45.610001  44.910000  45.529999  32.910313  1735800\n",
      "✅ Données sauvegardées dans CPB_data.csv\n"
     ]
    },
    {
     "name": "stderr",
     "output_type": "stream",
     "text": [
      "[*********************100%***********************]  1 of 1 completed\n"
     ]
    },
    {
     "name": "stdout",
     "output_type": "stream",
     "text": [
      "✅ Colonnes après aplatissement : ['Adj Close', 'Close', 'High', 'Low', 'Open', 'Volume']\n",
      "                 Open       High        Low      Close  Adj Close   Volume\n",
      "Date                                                                      \n",
      "2015-01-02  82.790001  83.239998  81.730003  82.489998  68.011070  1483200\n",
      "2015-01-05  81.570000  82.160004  80.199997  80.589996  66.444565  2678200\n",
      "2015-01-06  80.730003  80.769997  78.860001  79.089996  65.207848  2929500\n",
      "2015-01-07  80.160004  80.459999  79.709999  79.989998  65.949890  2434100\n",
      "2015-01-08  80.709999  81.389999  80.580002  80.769997  66.592957  2008200\n",
      "✅ Données sauvegardées dans COF_data.csv\n"
     ]
    },
    {
     "name": "stderr",
     "output_type": "stream",
     "text": [
      "[*********************100%***********************]  1 of 1 completed\n"
     ]
    },
    {
     "name": "stdout",
     "output_type": "stream",
     "text": [
      "✅ Colonnes après aplatissement : ['Adj Close', 'Close', 'High', 'Low', 'Open', 'Volume']\n",
      "                 Open       High        Low      Close  Adj Close   Volume\n",
      "Date                                                                      \n",
      "2015-01-02  81.180000  81.610001  79.870003  80.510002  59.853989  1015800\n",
      "2015-01-05  80.190002  80.919998  79.779999  80.050003  59.512001  1346000\n",
      "2015-01-06  80.330002  80.779999  78.410004  79.190002  58.872627  2105700\n",
      "2015-01-07  80.050003  82.129997  79.519997  82.029999  60.984005  2024500\n",
      "2015-01-08  82.750000  84.589996  82.720001  84.559998  62.864880  2737800\n",
      "✅ Données sauvegardées dans CAH_data.csv\n"
     ]
    },
    {
     "name": "stderr",
     "output_type": "stream",
     "text": [
      "[*********************100%***********************]  1 of 1 completed\n"
     ]
    },
    {
     "name": "stdout",
     "output_type": "stream",
     "text": [
      "✅ Colonnes après aplatissement : ['Adj Close', 'Close', 'High', 'Low', 'Open', 'Volume']\n",
      "                 Open       High        Low      Close  Adj Close   Volume\n",
      "Date                                                                      \n",
      "2015-01-02  67.040001  67.709999  65.860001  66.470001  66.470001  2147400\n",
      "2015-01-05  66.010002  66.309998  64.099998  64.580002  64.580002  2115800\n",
      "2015-01-06  64.970001  65.080002  63.060001  63.770000  63.770000  2356800\n",
      "2015-01-07  64.440002  64.800003  63.790001  64.779999  64.779999  1653900\n",
      "2015-01-08  65.660004  66.300003  65.480003  66.089996  66.089996  1506500\n",
      "✅ Données sauvegardées dans KMX_data.csv\n"
     ]
    },
    {
     "name": "stderr",
     "output_type": "stream",
     "text": [
      "[*********************100%***********************]  1 of 1 completed\n"
     ]
    },
    {
     "name": "stdout",
     "output_type": "stream",
     "text": [
      "✅ Colonnes après aplatissement : ['Adj Close', 'Close', 'High', 'Low', 'Open', 'Volume']\n",
      "                 Open       High        Low      Close  Adj Close   Volume\n",
      "Date                                                                      \n",
      "2015-01-02  45.910000  46.110001  45.310001  45.610001  38.915916  2769700\n",
      "2015-01-05  46.180000  46.200001  45.299999  45.389999  38.728195  4301500\n",
      "2015-01-06  45.630001  46.169998  45.020000  45.830002  39.103626  6216100\n",
      "2015-01-07  45.889999  46.290001  45.740002  46.000000  39.248672  7102600\n",
      "2015-01-08  46.070000  46.970001  46.029999  46.680000  39.828873  4910000\n",
      "✅ Données sauvegardées dans CCL_data.csv\n"
     ]
    },
    {
     "name": "stderr",
     "output_type": "stream",
     "text": [
      "[*********************100%***********************]  1 of 1 completed\n"
     ]
    },
    {
     "name": "stdout",
     "output_type": "stream",
     "text": [
      "✅ Colonnes après aplatissement : ['Adj Close', 'Close', 'High', 'Low', 'Open', 'Volume']\n",
      "             Open   High   Low  Close  Adj Close  Volume\n",
      "Date                                                    \n",
      "2020-03-19  12.00  12.00  12.0  12.00  11.220619     100\n",
      "2020-03-20  13.00  13.00  12.0  12.75  11.921907    2300\n",
      "2020-03-23  12.75  12.75  11.5  11.54  10.790496   18700\n",
      "2020-03-24  12.90  12.90  11.5  11.70  10.940102   96100\n",
      "2020-03-25  11.80  13.45  11.8  13.45  12.576443   19200\n",
      "✅ Données sauvegardées dans CARR_data.csv\n"
     ]
    },
    {
     "name": "stderr",
     "output_type": "stream",
     "text": [
      "[*********************100%***********************]  1 of 1 completed\n"
     ]
    },
    {
     "name": "stdout",
     "output_type": "stream",
     "text": [
      "✅ Colonnes après aplatissement : ['Adj Close', 'Close', 'High', 'Low', 'Open', 'Volume']\n",
      "                 Open       High        Low      Close  Adj Close    Volume\n",
      "Date                                                                       \n",
      "2015-01-02  91.769997  92.370003  90.660004  91.879997  69.774193   3767900\n",
      "2015-01-05  90.349998  90.419998  86.599998  87.029999  66.091095  11301400\n",
      "2015-01-06  87.279999  87.680000  85.169998  86.470001  65.665810   8660600\n",
      "2015-01-07  87.370003  88.139999  86.419998  87.809998  66.683418   6511100\n",
      "2015-01-08  89.180000  89.279999  87.839996  88.709999  67.366882   7617800\n",
      "✅ Données sauvegardées dans CAT_data.csv\n"
     ]
    },
    {
     "name": "stderr",
     "output_type": "stream",
     "text": [
      "[*********************100%***********************]  1 of 1 completed\n"
     ]
    },
    {
     "name": "stdout",
     "output_type": "stream",
     "text": [
      "✅ Colonnes après aplatissement : ['Adj Close', 'Close', 'High', 'Low', 'Open', 'Volume']\n",
      "                 Open       High        Low      Close  Adj Close   Volume\n",
      "Date                                                                      \n",
      "2015-01-02  60.728996  60.995186  59.892403  60.234646  53.085747   347700\n",
      "2015-01-05  60.111057  62.478233  59.711777  62.155006  54.778194   839000\n",
      "2015-01-06  62.506756  62.944065  62.155006  62.801464  55.347923  1234500\n",
      "2015-01-07  62.829983  63.970791  62.354645  63.866215  56.286293   520200\n",
      "2015-01-08  64.246483  64.645767  63.067650  63.219761  55.716572   712800\n",
      "✅ Données sauvegardées dans CBOE_data.csv\n"
     ]
    },
    {
     "name": "stderr",
     "output_type": "stream",
     "text": [
      "[*********************100%***********************]  1 of 1 completed\n"
     ]
    },
    {
     "name": "stdout",
     "output_type": "stream",
     "text": [
      "✅ Colonnes après aplatissement : ['Adj Close', 'Close', 'High', 'Low', 'Open', 'Volume']\n",
      "                 Open       High        Low      Close  Adj Close   Volume\n",
      "Date                                                                      \n",
      "2015-01-02  34.509998  34.730000  34.270000  34.669998  34.669998  1406500\n",
      "2015-01-05  34.310001  34.459999  33.849998  33.919998  33.919998  1349300\n",
      "2015-01-06  34.040001  34.160000  33.389999  33.660000  33.660000  1516100\n",
      "2015-01-07  33.889999  34.070000  33.660000  34.009998  34.009998  1250500\n",
      "2015-01-08  34.240002  34.750000  34.040001  34.750000  34.750000  1810000\n",
      "✅ Données sauvegardées dans CBRE_data.csv\n"
     ]
    },
    {
     "name": "stderr",
     "output_type": "stream",
     "text": [
      "[*********************100%***********************]  1 of 1 completed\n"
     ]
    },
    {
     "name": "stdout",
     "output_type": "stream",
     "text": [
      "✅ Colonnes après aplatissement : ['Adj Close', 'Close', 'High', 'Low', 'Open', 'Volume']\n",
      "                 Open       High        Low      Close  Adj Close  Volume\n",
      "Date                                                                     \n",
      "2015-01-02  35.259998  35.299999  34.599998  34.860001  31.012136  380200\n",
      "2015-01-05  34.720001  34.779999  34.150002  34.490002  30.682981  470200\n",
      "2015-01-06  34.490002  34.680000  33.860001  33.990002  30.238169  515200\n",
      "2015-01-07  34.290001  34.919998  34.180000  34.700001  30.869793  985500\n",
      "2015-01-08  35.070000  35.860001  35.070000  35.570000  31.643755  862400\n",
      "✅ Données sauvegardées dans CDW_data.csv\n"
     ]
    },
    {
     "name": "stderr",
     "output_type": "stream",
     "text": [
      "[*********************100%***********************]  1 of 1 completed\n"
     ]
    },
    {
     "name": "stdout",
     "output_type": "stream",
     "text": [
      "✅ Colonnes après aplatissement : ['Adj Close', 'Close', 'High', 'Low', 'Open', 'Volume']\n",
      "                 Open       High        Low      Close  Adj Close   Volume\n",
      "Date                                                                      \n",
      "2015-01-02  90.610001  91.320000  89.820000  90.459999  77.707436  1124600\n",
      "2015-01-05  90.070000  90.739998  89.639999  89.690002  77.045982  1631200\n",
      "2015-01-06  90.139999  91.419998  89.519997  90.180000  77.466896  1761600\n",
      "2015-01-07  90.980003  92.400002  90.430000  91.980003  79.013161  1608900\n",
      "2015-01-08  91.739998  92.769997  91.160004  92.190002  79.193550  2396900\n",
      "✅ Données sauvegardées dans COR_data.csv\n"
     ]
    },
    {
     "name": "stderr",
     "output_type": "stream",
     "text": [
      "[*********************100%***********************]  1 of 1 completed\n"
     ]
    },
    {
     "name": "stdout",
     "output_type": "stream",
     "text": [
      "✅ Colonnes après aplatissement : ['Adj Close', 'Close', 'High', 'Low', 'Open', 'Volume']\n",
      "                 Open       High        Low      Close  Adj Close   Volume\n",
      "Date                                                                      \n",
      "2015-01-02  26.580000  26.745001  25.940001  26.110001  26.110001  1620400\n",
      "2015-01-05  25.927500  26.457500  25.862499  26.040001  26.040001  2036800\n",
      "2015-01-06  26.477501  26.895000  25.947500  26.125000  26.125000  4416800\n",
      "2015-01-07  26.465000  26.687500  26.212500  26.267500  26.267500  2348800\n",
      "2015-01-08  26.450001  26.790001  26.362499  26.672501  26.672501  3831200\n",
      "✅ Données sauvegardées dans CNC_data.csv\n"
     ]
    },
    {
     "name": "stderr",
     "output_type": "stream",
     "text": [
      "[*********************100%***********************]  1 of 1 completed\n"
     ]
    },
    {
     "name": "stdout",
     "output_type": "stream",
     "text": [
      "✅ Colonnes après aplatissement : ['Adj Close', 'Close', 'High', 'Low', 'Open', 'Volume']\n",
      "                 Open       High        Low      Close  Adj Close   Volume\n",
      "Date                                                                      \n",
      "2015-01-02  23.450001  23.660000  23.299999  23.629999  16.320332  2275600\n",
      "2015-01-05  23.270000  23.440001  22.700001  22.879999  15.802333  4125900\n",
      "2015-01-06  22.879999  23.020000  22.209999  22.370001  15.450097  4766400\n",
      "2015-01-07  22.540001  22.870001  22.379999  22.660000  15.650383  5264500\n",
      "2015-01-08  22.860001  23.240000  22.709999  23.200001  16.023350  3429700\n",
      "✅ Données sauvegardées dans CNP_data.csv\n"
     ]
    },
    {
     "name": "stderr",
     "output_type": "stream",
     "text": [
      "[*********************100%***********************]  1 of 1 completed\n"
     ]
    },
    {
     "name": "stdout",
     "output_type": "stream",
     "text": [
      "✅ Colonnes après aplatissement : ['Adj Close', 'Close', 'High', 'Low', 'Open', 'Volume']\n",
      "                 Open       High        Low      Close  Adj Close   Volume\n",
      "Date                                                                      \n",
      "2015-01-02  54.846001  55.743999  54.598000  55.580002  41.406578  3689000\n",
      "2015-01-05  55.840000  56.388000  55.029999  55.389999  41.265026  4224000\n",
      "2015-01-06  56.004002  57.304001  55.930000  56.535999  42.118782  5571500\n",
      "2015-01-07  56.953999  58.543999  56.953999  58.147999  43.319714  6901000\n",
      "2015-01-08  58.840000  59.026001  58.063999  58.956001  43.921680  3931000\n",
      "✅ Données sauvegardées dans CF_data.csv\n"
     ]
    },
    {
     "name": "stderr",
     "output_type": "stream",
     "text": [
      "[*********************100%***********************]  1 of 1 completed\n"
     ]
    },
    {
     "name": "stdout",
     "output_type": "stream",
     "text": [
      "✅ Colonnes après aplatissement : ['Adj Close', 'Close', 'High', 'Low', 'Open', 'Volume']\n",
      "                 Open       High        Low      Close  Adj Close  Volume\n",
      "Date                                                                     \n",
      "2015-01-02  63.860001  64.680000  63.419998  63.880001  63.880001  201400\n",
      "2015-01-05  63.549999  64.800003  63.220001  64.379997  64.379997  373600\n",
      "2015-01-06  64.480003  64.989998  63.490002  64.650002  64.650002  555800\n",
      "2015-01-07  65.000000  66.250000  64.559998  66.199997  66.199997  547800\n",
      "2015-01-08  66.320000  67.220001  66.320000  66.559998  66.559998  640600\n",
      "✅ Données sauvegardées dans CRL_data.csv\n"
     ]
    },
    {
     "name": "stderr",
     "output_type": "stream",
     "text": [
      "[*********************100%***********************]  1 of 1 completed\n"
     ]
    },
    {
     "name": "stdout",
     "output_type": "stream",
     "text": [
      "✅ Colonnes après aplatissement : ['Adj Close', 'Close', 'High', 'Low', 'Open', 'Volume']\n",
      "                 Open       High        Low      Close  Adj Close   Volume\n",
      "Date                                                                      \n",
      "2015-01-02  30.410000  30.570000  29.809999  30.219999  26.597202  4537600\n",
      "2015-01-05  29.969999  30.000000  29.129999  29.209999  25.708281  5931400\n",
      "2015-01-06  29.209999  29.280001  27.920000  28.139999  24.766558  9825000\n",
      "2015-01-07  28.459999  28.700001  28.219999  28.690001  25.250618  7966100\n",
      "2015-01-08  29.190001  29.520000  29.070000  29.440001  25.910715  5590200\n",
      "✅ Données sauvegardées dans SCHW_data.csv\n"
     ]
    },
    {
     "name": "stderr",
     "output_type": "stream",
     "text": [
      "[*********************100%***********************]  1 of 1 completed\n"
     ]
    },
    {
     "name": "stdout",
     "output_type": "stream",
     "text": [
      "✅ Colonnes après aplatissement : ['Adj Close', 'Close', 'High', 'Low', 'Open', 'Volume']\n",
      "                  Open        High         Low       Close   Adj Close  \\\n",
      "Date                                                                     \n",
      "2015-01-02  167.229996  167.300003  164.529999  166.429993  166.429993   \n",
      "2015-01-05  166.080002  166.419998  159.720001  160.500000  160.500000   \n",
      "2015-01-06  160.899994  161.830002  155.850006  156.309998  156.309998   \n",
      "2015-01-07  157.220001  160.110001  155.500000  156.789993  156.789993   \n",
      "2015-01-08  157.610001  165.660004  157.610001  162.940002  162.940002   \n",
      "\n",
      "             Volume  \n",
      "Date                 \n",
      "2015-01-02   713100  \n",
      "2015-01-05  1232600  \n",
      "2015-01-06  1419200  \n",
      "2015-01-07  1122700  \n",
      "2015-01-08  1170100  \n",
      "✅ Données sauvegardées dans CHTR_data.csv\n"
     ]
    },
    {
     "name": "stderr",
     "output_type": "stream",
     "text": [
      "[*********************100%***********************]  1 of 1 completed\n"
     ]
    },
    {
     "name": "stdout",
     "output_type": "stream",
     "text": [
      "✅ Colonnes après aplatissement : ['Adj Close', 'Close', 'High', 'Low', 'Open', 'Volume']\n",
      "                  Open        High         Low       Close  Adj Close  \\\n",
      "Date                                                                    \n",
      "2015-01-02  111.629997  113.000000  110.849998  112.580002  71.783989   \n",
      "2015-01-05  110.959999  111.199997  107.440002  108.080002  68.914680   \n",
      "2015-01-06  107.870003  109.019997  106.480003  108.029999  68.882782   \n",
      "2015-01-07  109.250000  109.730003  107.510002  107.940002  68.825417   \n",
      "2015-01-08  109.190002  110.440002  108.599998  110.410004  70.400368   \n",
      "\n",
      "              Volume  \n",
      "Date                  \n",
      "2015-01-02   5898800  \n",
      "2015-01-05  11758100  \n",
      "2015-01-06  11591600  \n",
      "2015-01-07  10353800  \n",
      "2015-01-08   8650800  \n",
      "✅ Données sauvegardées dans CVX_data.csv\n"
     ]
    },
    {
     "name": "stderr",
     "output_type": "stream",
     "text": [
      "[*********************100%***********************]  1 of 1 completed\n"
     ]
    },
    {
     "name": "stdout",
     "output_type": "stream",
     "text": [
      "✅ Colonnes après aplatissement : ['Adj Close', 'Close', 'High', 'Low', 'Open', 'Volume']\n",
      "               Open     High      Low    Close  Adj Close    Volume\n",
      "Date                                                               \n",
      "2015-01-02  13.7200  13.7494  13.4202  13.5680    13.5680  16240000\n",
      "2015-01-05  13.5680  13.5984  13.2840  13.3538    13.3538  18720000\n",
      "2015-01-06  13.3358  13.4400  13.0754  13.2876    13.2876  30470000\n",
      "2015-01-07  13.3680  13.8970  13.3680  13.8852    13.8852  34280000\n",
      "2015-01-08  14.0500  14.5594  14.0500  14.3998    14.3998  58495000\n",
      "✅ Données sauvegardées dans CMG_data.csv\n"
     ]
    },
    {
     "name": "stderr",
     "output_type": "stream",
     "text": [
      "[*********************100%***********************]  1 of 1 completed\n"
     ]
    },
    {
     "name": "stdout",
     "output_type": "stream",
     "text": [
      "✅ Colonnes après aplatissement : ['Adj Close', 'Close', 'High', 'Low', 'Open', 'Volume']\n",
      "                  Open        High         Low       Close  Adj Close   Volume\n",
      "Date                                                                          \n",
      "2015-01-02  115.379997  115.769997  113.599998  114.440002  93.604462   854600\n",
      "2015-01-05  114.709999  114.709999  112.260002  112.570000  92.074921  1532300\n",
      "2015-01-06  113.059998  113.199997  111.089996  111.580002  91.265182  1768700\n",
      "2015-01-07  112.599998  113.269997  111.860001  113.169998  92.565674  1570300\n",
      "2015-01-08  113.989998  115.250000  113.800003  115.000000  94.062500  1348100\n",
      "✅ Données sauvegardées dans CB_data.csv\n"
     ]
    },
    {
     "name": "stderr",
     "output_type": "stream",
     "text": [
      "[*********************100%***********************]  1 of 1 completed\n"
     ]
    },
    {
     "name": "stdout",
     "output_type": "stream",
     "text": [
      "✅ Colonnes après aplatissement : ['Adj Close', 'Close', 'High', 'Low', 'Open', 'Volume']\n",
      "                 Open       High        Low      Close  Adj Close   Volume\n",
      "Date                                                                      \n",
      "2015-01-02  39.455002  39.595001  39.224998  39.544998  34.364895  1076600\n",
      "2015-01-05  39.345001  39.590000  39.025002  39.105000  33.982517  1106200\n",
      "2015-01-06  39.250000  39.345001  38.720001  38.779999  33.700100  1400400\n",
      "2015-01-07  39.000000  39.230000  38.695000  39.215000  34.078110  1085200\n",
      "2015-01-08  39.450001  40.110001  39.349998  39.990002  34.751595  1665600\n",
      "✅ Données sauvegardées dans CHD_data.csv\n"
     ]
    },
    {
     "name": "stderr",
     "output_type": "stream",
     "text": [
      "[*********************100%***********************]  1 of 1 completed\n"
     ]
    },
    {
     "name": "stdout",
     "output_type": "stream",
     "text": [
      "✅ Colonnes après aplatissement : ['Adj Close', 'Close', 'High', 'Low', 'Open', 'Volume']\n",
      "                  Open        High         Low       Close   Adj Close  \\\n",
      "Date                                                                     \n",
      "2015-01-02  103.639999  104.529999  102.099998  102.830002   94.931908   \n",
      "2015-01-05  102.260002  102.430000  100.669998  101.059998   93.297836   \n",
      "2015-01-06  101.769997  102.559998  100.860001  101.459999   93.667114   \n",
      "2015-01-07  103.720001  104.510002  103.099998  103.839996   95.864311   \n",
      "2015-01-08  105.099998  109.239998  105.000000  109.129997  100.748009   \n",
      "\n",
      "             Volume  \n",
      "Date                 \n",
      "2015-01-02   720600  \n",
      "2015-01-05  1455000  \n",
      "2015-01-06  2241400  \n",
      "2015-01-07  1781700  \n",
      "2015-01-08  2307000  \n",
      "✅ Données sauvegardées dans CI_data.csv\n"
     ]
    },
    {
     "name": "stderr",
     "output_type": "stream",
     "text": [
      "[*********************100%***********************]  1 of 1 completed\n"
     ]
    },
    {
     "name": "stdout",
     "output_type": "stream",
     "text": [
      "✅ Colonnes après aplatissement : ['Adj Close', 'Close', 'High', 'Low', 'Open', 'Volume']\n",
      "                 Open       High        Low      Close  Adj Close  Volume\n",
      "Date                                                                     \n",
      "2015-01-02  52.000000  52.310001  51.240002  51.610001  38.289818  386600\n",
      "2015-01-05  51.299999  51.470001  50.720001  50.869999  37.740807  605700\n",
      "2015-01-06  50.869999  51.099998  50.119999  50.480000  37.451462  576100\n",
      "2015-01-07  50.790001  51.189999  50.470001  51.169998  37.963367  490500\n",
      "2015-01-08  51.669998  52.389999  51.270000  52.259998  38.772053  550500\n",
      "✅ Données sauvegardées dans CINF_data.csv\n"
     ]
    },
    {
     "name": "stderr",
     "output_type": "stream",
     "text": [
      "[*********************100%***********************]  1 of 1 completed\n"
     ]
    },
    {
     "name": "stdout",
     "output_type": "stream",
     "text": [
      "✅ Colonnes après aplatissement : ['Adj Close', 'Close', 'High', 'Low', 'Open', 'Volume']\n",
      "                 Open       High        Low      Close  Adj Close   Volume\n",
      "Date                                                                      \n",
      "2015-01-02  19.727501  19.775000  19.392500  19.612499  18.521734  1822000\n",
      "2015-01-05  19.537500  19.612499  19.212500  19.254999  18.184114  3243200\n",
      "2015-01-06  19.372499  19.424999  18.975000  19.217501  18.148703  4724000\n",
      "2015-01-07  19.410000  19.412500  19.077499  19.117500  18.054264  3350000\n",
      "2015-01-08  19.365000  19.507500  19.250000  19.432501  18.351746  3518800\n",
      "✅ Données sauvegardées dans CTAS_data.csv\n"
     ]
    },
    {
     "name": "stderr",
     "output_type": "stream",
     "text": [
      "[*********************100%***********************]  1 of 1 completed\n"
     ]
    },
    {
     "name": "stdout",
     "output_type": "stream",
     "text": [
      "✅ Colonnes après aplatissement : ['Adj Close', 'Close', 'High', 'Low', 'Open', 'Volume']\n",
      "                 Open       High        Low      Close  Adj Close    Volume\n",
      "Date                                                                       \n",
      "2015-01-02  27.860001  28.120001  27.379999  27.610001  19.935266  22926500\n",
      "2015-01-05  27.320000  27.450001  27.000000  27.059999  19.538145  29460600\n",
      "2015-01-06  27.139999  27.680000  27.040001  27.049999  19.530928  47297600\n",
      "2015-01-07  27.139999  27.400000  26.980000  27.299999  19.711430  27570800\n",
      "2015-01-08  27.540001  28.090000  27.469999  27.510000  19.863058  40907000\n",
      "✅ Données sauvegardées dans CSCO_data.csv\n"
     ]
    },
    {
     "name": "stderr",
     "output_type": "stream",
     "text": [
      "[*********************100%***********************]  1 of 1 completed\n"
     ]
    },
    {
     "name": "stdout",
     "output_type": "stream",
     "text": [
      "✅ Colonnes après aplatissement : ['Adj Close', 'Close', 'High', 'Low', 'Open', 'Volume']\n",
      "                 Open       High        Low      Close  Adj Close    Volume\n",
      "Date                                                                       \n",
      "2015-01-02  54.360001  54.689999  53.790001  54.259998  40.921154  11137800\n",
      "2015-01-05  53.910000  53.959999  52.330002  52.549999  39.631523  20945400\n",
      "2015-01-06  52.680000  52.770000  50.529999  50.700001  38.236328  31989300\n",
      "2015-01-07  51.509998  51.549999  50.619999  51.169998  38.590771  27890800\n",
      "2015-01-08  51.770000  52.080002  51.500000  51.939999  39.171490  17467200\n",
      "✅ Données sauvegardées dans C_data.csv\n"
     ]
    },
    {
     "name": "stderr",
     "output_type": "stream",
     "text": [
      "[*********************100%***********************]  1 of 1 completed\n"
     ]
    },
    {
     "name": "stdout",
     "output_type": "stream",
     "text": [
      "✅ Colonnes après aplatissement : ['Adj Close', 'Close', 'High', 'Low', 'Open', 'Volume']\n",
      "                 Open       High        Low  Close  Adj Close   Volume\n",
      "Date                                                                  \n",
      "2015-01-02  24.969999  25.000000  24.290001  24.76  17.134750   643500\n",
      "2015-01-05  24.580000  24.680000  23.840000  24.18  16.733372  1330400\n",
      "2015-01-06  24.170000  24.219999  23.700001  23.91  16.546526  2075000\n",
      "2015-01-07  23.990000  24.129999  23.790001  24.00  16.608807  1160200\n",
      "2015-01-08  24.070000  24.480000  23.940001  24.18  16.733372   661500\n",
      "✅ Données sauvegardées dans CFG_data.csv\n"
     ]
    },
    {
     "name": "stderr",
     "output_type": "stream",
     "text": [
      "[*********************100%***********************]  1 of 1 completed\n"
     ]
    },
    {
     "name": "stdout",
     "output_type": "stream",
     "text": [
      "✅ Colonnes après aplatissement : ['Adj Close', 'Close', 'High', 'Low', 'Open', 'Volume']\n",
      "                  Open        High         Low       Close  Adj Close   Volume\n",
      "Date                                                                          \n",
      "2015-01-02  103.959999  104.220001  102.949997  103.870003  77.679611   858900\n",
      "2015-01-05  103.809998  104.900002  103.199997  103.889999  77.694557  1307400\n",
      "2015-01-06  104.349998  105.500000  103.830002  104.330002  78.023590  1524600\n",
      "2015-01-07  104.470001  106.540001  104.339996  106.120003  79.362289  1226500\n",
      "2015-01-08  106.239998  107.449997  106.169998  107.309998  80.252220  1647200\n",
      "✅ Données sauvegardées dans CLX_data.csv\n"
     ]
    },
    {
     "name": "stderr",
     "output_type": "stream",
     "text": [
      "[*********************100%***********************]  1 of 1 completed\n"
     ]
    },
    {
     "name": "stdout",
     "output_type": "stream",
     "text": [
      "✅ Colonnes après aplatissement : ['Adj Close', 'Close', 'High', 'Low', 'Open', 'Volume']\n",
      "                 Open       High        Low      Close  Adj Close   Volume\n",
      "Date                                                                      \n",
      "2015-01-02  89.220001  89.379997  87.620003  88.139999  58.365395  1130200\n",
      "2015-01-05  87.900002  89.040001  87.690002  88.639999  58.696495  1503900\n",
      "2015-01-06  89.000000  89.209999  87.019997  87.290001  57.802551  1583800\n",
      "2015-01-07  87.000000  88.339996  86.650002  88.300003  58.471333  1908800\n",
      "2015-01-08  89.260002  89.970001  88.540001  88.709999  58.742836  2002400\n",
      "✅ Données sauvegardées dans CME_data.csv\n"
     ]
    },
    {
     "name": "stderr",
     "output_type": "stream",
     "text": [
      "[*********************100%***********************]  1 of 1 completed\n"
     ]
    },
    {
     "name": "stdout",
     "output_type": "stream",
     "text": [
      "✅ Colonnes après aplatissement : ['Adj Close', 'Close', 'High', 'Low', 'Open', 'Volume']\n",
      "                 Open       High        Low      Close  Adj Close   Volume\n",
      "Date                                                                      \n",
      "2015-01-02  34.900002  35.169998  34.740002  35.139999  25.645071  2405000\n",
      "2015-01-05  35.169998  35.250000  34.650002  34.849998  25.433422  2501300\n",
      "2015-01-06  34.930000  35.619999  34.849998  34.910000  25.477205  2580800\n",
      "2015-01-07  34.990002  35.730000  34.790001  35.480000  25.893198  2156400\n",
      "2015-01-08  35.590000  35.840000  35.560001  35.669998  26.031858  1690500\n",
      "✅ Données sauvegardées dans CMS_data.csv\n"
     ]
    },
    {
     "name": "stderr",
     "output_type": "stream",
     "text": [
      "[*********************100%***********************]  1 of 1 completed\n"
     ]
    },
    {
     "name": "stdout",
     "output_type": "stream",
     "text": [
      "✅ Colonnes après aplatissement : ['Adj Close', 'Close', 'High', 'Low', 'Open', 'Volume']\n",
      "                 Open       High        Low      Close  Adj Close    Volume\n",
      "Date                                                                       \n",
      "2015-01-02  42.259998  42.400002  41.799999  42.139999  30.222610   9921100\n",
      "2015-01-05  42.689999  42.970001  42.080002  42.139999  30.222610  26292600\n",
      "2015-01-06  42.410000  42.939999  42.240002  42.459999  30.452118  16897500\n",
      "2015-01-07  42.799999  43.110001  42.580002  42.990002  30.832230  13412300\n",
      "2015-01-08  43.180000  43.570000  43.099998  43.509998  31.205173  21743600\n",
      "✅ Données sauvegardées dans KO_data.csv\n"
     ]
    },
    {
     "name": "stderr",
     "output_type": "stream",
     "text": [
      "[*********************100%***********************]  1 of 1 completed\n"
     ]
    },
    {
     "name": "stdout",
     "output_type": "stream",
     "text": [
      "✅ Colonnes après aplatissement : ['Adj Close', 'Close', 'High', 'Low', 'Open', 'Volume']\n",
      "                 Open       High        Low      Close  Adj Close   Volume\n",
      "Date                                                                      \n",
      "2015-01-02  52.889999  53.770000  52.000000  52.669998  47.107773  2370900\n",
      "2015-01-05  53.970001  53.970001  52.070000  52.340000  46.812630  3017300\n",
      "2015-01-06  52.110001  52.320000  50.709999  50.980000  45.596272  4183800\n",
      "2015-01-07  51.209999  52.680000  51.209999  52.650002  47.089905  4411400\n",
      "2015-01-08  52.840000  54.110001  52.599998  53.880001  48.190010  5570200\n",
      "✅ Données sauvegardées dans CTSH_data.csv\n"
     ]
    },
    {
     "name": "stderr",
     "output_type": "stream",
     "text": [
      "[*********************100%***********************]  1 of 1 completed\n"
     ]
    },
    {
     "name": "stdout",
     "output_type": "stream",
     "text": [
      "✅ Colonnes après aplatissement : ['Adj Close', 'Close', 'High', 'Low', 'Open', 'Volume']\n",
      "                  Open        High         Low       Close   Adj Close  \\\n",
      "Date                                                                     \n",
      "2021-04-14  381.000000  429.540009  310.000000  328.279999  328.279999   \n",
      "2021-04-15  348.899994  349.200012  317.269989  322.750000  322.750000   \n",
      "2021-04-16  327.500000  345.989990  321.029999  342.000000  342.000000   \n",
      "2021-04-19  337.260010  341.010010  326.790009  333.000000  333.000000   \n",
      "2021-04-20  333.429993  334.829987  312.019989  320.820007  320.820007   \n",
      "\n",
      "              Volume  \n",
      "Date                  \n",
      "2021-04-14  81065700  \n",
      "2021-04-15  39777900  \n",
      "2021-04-16  22654500  \n",
      "2021-04-19  11405600  \n",
      "2021-04-20  18082300  \n",
      "✅ Données sauvegardées dans COIN_data.csv\n"
     ]
    },
    {
     "name": "stderr",
     "output_type": "stream",
     "text": [
      "[*********************100%***********************]  1 of 1 completed\n"
     ]
    },
    {
     "name": "stdout",
     "output_type": "stream",
     "text": [
      "✅ Colonnes après aplatissement : ['Adj Close', 'Close', 'High', 'Low', 'Open', 'Volume']\n",
      "                 Open       High        Low      Close  Adj Close   Volume\n",
      "Date                                                                      \n",
      "2015-01-02  69.169998  69.260002  68.699997  69.040001  54.077049  2522800\n",
      "2015-01-05  68.940002  69.430000  68.449997  68.529999  53.677567  2950700\n",
      "2015-01-06  68.730003  68.870003  67.629997  67.809998  53.113613  3437400\n",
      "2015-01-07  68.129997  68.440002  67.739998  68.349998  53.536575  2908000\n",
      "2015-01-08  68.949997  69.309998  68.680000  69.279999  54.265026  2745200\n",
      "✅ Données sauvegardées dans CL_data.csv\n"
     ]
    },
    {
     "name": "stderr",
     "output_type": "stream",
     "text": [
      "[*********************100%***********************]  1 of 1 completed\n"
     ]
    },
    {
     "name": "stdout",
     "output_type": "stream",
     "text": [
      "✅ Colonnes après aplatissement : ['Adj Close', 'Close', 'High', 'Low', 'Open', 'Volume']\n",
      "                 Open       High        Low      Close  Adj Close    Volume\n",
      "Date                                                                       \n",
      "2015-01-02  29.000000  29.174999  28.420000  28.674999  22.492350  21170000\n",
      "2015-01-05  28.424999  28.549999  27.830000  27.980000  22.033642  33001400\n",
      "2015-01-06  27.940001  27.969999  27.430000  27.615000  21.746212  33973200\n",
      "2015-01-07  27.735001  27.825001  27.385000  27.590000  21.726530  22123800\n",
      "2015-01-08  27.875000  28.525000  27.799999  28.190001  22.199015  31532400\n",
      "✅ Données sauvegardées dans CMCSA_data.csv\n"
     ]
    },
    {
     "name": "stderr",
     "output_type": "stream",
     "text": [
      "[*********************100%***********************]  1 of 1 completed\n"
     ]
    },
    {
     "name": "stdout",
     "output_type": "stream",
     "text": [
      "✅ Colonnes après aplatissement : ['Adj Close', 'Close', 'High', 'Low', 'Open', 'Volume']\n",
      "                 Open       High        Low      Close  Adj Close   Volume\n",
      "Date                                                                      \n",
      "2015-01-02  28.186769  28.241245  27.867704  27.875486  19.869270  5126379\n",
      "2015-01-05  27.789883  28.023346  27.564201  27.571983  19.652933  5400213\n",
      "2015-01-06  27.680935  27.743191  27.167315  27.299610  19.458792  5229051\n",
      "2015-01-07  27.439690  27.976654  27.431908  27.945524  19.919195  3124092\n",
      "2015-01-08  28.093386  28.560310  28.054476  28.552528  20.351858  4154019\n",
      "✅ Données sauvegardées dans CAG_data.csv\n"
     ]
    },
    {
     "name": "stderr",
     "output_type": "stream",
     "text": [
      "[*********************100%***********************]  1 of 1 completed\n"
     ]
    },
    {
     "name": "stdout",
     "output_type": "stream",
     "text": [
      "✅ Colonnes après aplatissement : ['Adj Close', 'Close', 'High', 'Low', 'Open', 'Volume']\n",
      "                 Open       High        Low      Close  Adj Close    Volume\n",
      "Date                                                                       \n",
      "2015-01-02  68.500000  69.480003  68.230003  68.919998  49.140278   5701800\n",
      "2015-01-05  67.709999  67.980003  65.430000  65.639999  46.801636  10938900\n",
      "2015-01-06  65.290001  66.599998  62.880001  62.930000  44.869392  18054700\n",
      "2015-01-07  64.010002  64.230003  62.849998  63.349998  45.168846  12350500\n",
      "2015-01-08  64.849998  65.489998  63.900002  64.930000  46.295387  10348300\n",
      "✅ Données sauvegardées dans COP_data.csv\n"
     ]
    },
    {
     "name": "stderr",
     "output_type": "stream",
     "text": [
      "[*********************100%***********************]  1 of 1 completed\n"
     ]
    },
    {
     "name": "stdout",
     "output_type": "stream",
     "text": [
      "✅ Colonnes après aplatissement : ['Adj Close', 'Close', 'High', 'Low', 'Open', 'Volume']\n",
      "                 Open       High        Low      Close  Adj Close   Volume\n",
      "Date                                                                      \n",
      "2015-01-02  66.099998  66.480003  65.480003  66.339996  45.168125  1689900\n",
      "2015-01-05  66.239998  66.459999  65.360001  65.709999  44.739182  2465000\n",
      "2015-01-06  65.750000  67.040001  65.680000  66.080002  44.991108  3203600\n",
      "2015-01-07  66.269997  67.339996  65.739998  67.059998  45.658360  2173500\n",
      "2015-01-08  67.260002  67.769997  67.070000  67.480003  45.944309  2025600\n",
      "✅ Données sauvegardées dans ED_data.csv\n"
     ]
    },
    {
     "name": "stderr",
     "output_type": "stream",
     "text": [
      "[*********************100%***********************]  1 of 1 completed\n"
     ]
    },
    {
     "name": "stdout",
     "output_type": "stream",
     "text": [
      "✅ Colonnes après aplatissement : ['Adj Close', 'Close', 'High', 'Low', 'Open', 'Volume']\n",
      "                  Open        High         Low       Close  Adj Close   Volume\n",
      "Date                                                                          \n",
      "2015-01-02   98.169998   98.860001   96.529999   97.500000  84.613579  1991700\n",
      "2015-01-05   97.379997  100.250000   96.589996   99.820000  86.626900  2422300\n",
      "2015-01-06  102.209999  105.349998   99.220001  100.459999  87.182343  3278800\n",
      "2015-01-07  101.059998  103.779999  100.860001  103.050003  89.430031  2156500\n",
      "2015-01-08  108.339996  109.239998  106.589996  107.639999  93.413368  3613700\n",
      "✅ Données sauvegardées dans STZ_data.csv\n"
     ]
    },
    {
     "name": "stderr",
     "output_type": "stream",
     "text": [
      "[*********************100%***********************]  1 of 1 completed\n"
     ]
    },
    {
     "name": "stdout",
     "output_type": "stream",
     "text": [
      "✅ Colonnes après aplatissement : ['Adj Close', 'Close', 'High', 'Low', 'Open', 'Volume']\n",
      "                 Open       High        Low      Close  Adj Close  Volume\n",
      "Date                                                                     \n",
      "2022-01-19  38.000000  43.000000  38.000000  42.000000  40.705009  129900\n",
      "2022-01-20  40.950001  48.369999  40.950001  45.000000  43.612503  153400\n",
      "2022-01-21  43.000000  49.950001  42.950001  45.000000  43.612503  329500\n",
      "2022-01-24  44.919998  45.000000  41.880001  42.799999  41.480343  110000\n",
      "2022-01-25  42.500000  44.919998  41.330002  41.897999  40.606159   23500\n",
      "✅ Données sauvegardées dans CEG_data.csv\n"
     ]
    },
    {
     "name": "stderr",
     "output_type": "stream",
     "text": [
      "[*********************100%***********************]  1 of 1 completed\n"
     ]
    },
    {
     "name": "stdout",
     "output_type": "stream",
     "text": [
      "✅ Colonnes après aplatissement : ['Adj Close', 'Close', 'High', 'Low', 'Open', 'Volume']\n",
      "                 Open       High        Low      Close  Adj Close   Volume\n",
      "Date                                                                      \n",
      "2015-01-02  40.720001  40.985001  39.985001  40.152500  40.064976  1700400\n",
      "2015-01-05  39.867500  40.322498  39.647499  39.842499  39.755653  2182400\n",
      "2015-01-06  39.955002  40.150002  39.087502  39.279999  39.194374  2707200\n",
      "2015-01-07  39.634998  40.599998  39.567501  40.555000  40.466599  1882400\n",
      "2015-01-08  40.764999  41.232498  40.590000  40.720001  40.631248  2138800\n",
      "✅ Données sauvegardées dans COO_data.csv\n"
     ]
    },
    {
     "name": "stderr",
     "output_type": "stream",
     "text": [
      "[*********************100%***********************]  1 of 1 completed\n"
     ]
    },
    {
     "name": "stdout",
     "output_type": "stream",
     "text": [
      "✅ Colonnes après aplatissement : ['Adj Close', 'Close', 'High', 'Low', 'Open', 'Volume']\n",
      "               Open     High      Low    Close  Adj Close   Volume\n",
      "Date                                                              \n",
      "2015-01-02  4.51250  4.60250  4.51250  4.57250    4.57250  4997600\n",
      "2015-01-05  4.55250  4.57375  4.49500  4.52750    4.52750  4297600\n",
      "2015-01-06  4.54375  4.55000  4.43000  4.47625    4.47625  3136000\n",
      "2015-01-07  4.49250  4.50875  4.45000  4.49000    4.49000  2844000\n",
      "2015-01-08  4.51500  4.55625  4.50375  4.53625    4.53625  4082400\n",
      "✅ Données sauvegardées dans CPRT_data.csv\n"
     ]
    },
    {
     "name": "stderr",
     "output_type": "stream",
     "text": [
      "[*********************100%***********************]  1 of 1 completed\n"
     ]
    },
    {
     "name": "stdout",
     "output_type": "stream",
     "text": [
      "✅ Colonnes après aplatissement : ['Adj Close', 'Close', 'High', 'Low', 'Open', 'Volume']\n",
      "                 Open       High        Low      Close  Adj Close   Volume\n",
      "Date                                                                      \n",
      "2015-01-02  23.030001  23.110001  22.750000  23.010000  17.339651  5009300\n",
      "2015-01-05  22.840000  22.950001  22.570000  22.690001  17.098503  7039700\n",
      "2015-01-06  21.889999  22.770000  21.889999  22.299999  16.804613  7835600\n",
      "2015-01-07  22.480000  22.770000  22.350000  22.620001  17.045752  5839900\n",
      "2015-01-08  22.930000  23.490000  22.900000  23.350000  17.595863  9533600\n",
      "✅ Données sauvegardées dans GLW_data.csv\n"
     ]
    },
    {
     "name": "stderr",
     "output_type": "stream",
     "text": [
      "[*********************100%***********************]  1 of 1 completed\n"
     ]
    },
    {
     "name": "stdout",
     "output_type": "stream",
     "text": [
      "✅ Colonnes après aplatissement : ['Adj Close', 'Close', 'High', 'Low', 'Open', 'Volume']\n",
      "                  Open        High         Low       Close   Adj Close  \\\n",
      "Date                                                                     \n",
      "2015-01-02  149.039993  150.710007  148.779999  150.259995  150.259995   \n",
      "2015-01-05  150.279999  150.550003  143.610001  143.779999  143.779999   \n",
      "2015-01-06  143.410004  144.000000  138.630005  142.250000  142.250000   \n",
      "2015-01-07  143.360001  144.220001  141.869995  143.210007  143.210007   \n",
      "2015-01-08  144.259995  146.320007  143.669998  146.119995  146.119995   \n",
      "\n",
      "             Volume  \n",
      "Date                 \n",
      "2015-01-02  1057400  \n",
      "2015-01-05   985300  \n",
      "2015-01-06  1150900  \n",
      "2015-01-07   290800  \n",
      "2015-01-08   378600  \n",
      "✅ Données sauvegardées dans CPAY_data.csv\n"
     ]
    },
    {
     "name": "stderr",
     "output_type": "stream",
     "text": [
      "[*********************100%***********************]  1 of 1 completed\n"
     ]
    },
    {
     "name": "stdout",
     "output_type": "stream",
     "text": [
      "✅ Colonnes après aplatissement : ['Adj Close', 'Close', 'High', 'Low', 'Open', 'Volume']\n",
      "             Open   High        Low      Close  Adj Close  Volume\n",
      "Date                                                             \n",
      "2019-05-24  29.75  32.00  28.500000  29.000000  26.805334   44000\n",
      "2019-05-28  29.25  30.50  28.510000  28.764999  26.588112   61500\n",
      "2019-05-29  29.90  29.90  27.660000  28.500000  26.343170  207800\n",
      "2019-05-30  28.99  29.16  28.219999  28.799999  26.620468  666000\n",
      "2019-05-31  28.50  28.59  26.969999  26.969999  24.928959  853800\n",
      "✅ Données sauvegardées dans CTVA_data.csv\n"
     ]
    },
    {
     "name": "stderr",
     "output_type": "stream",
     "text": [
      "[*********************100%***********************]  1 of 1 completed\n"
     ]
    },
    {
     "name": "stdout",
     "output_type": "stream",
     "text": [
      "✅ Colonnes après aplatissement : ['Adj Close', 'Close', 'High', 'Low', 'Open', 'Volume']\n",
      "                 Open       High        Low      Close  Adj Close   Volume\n",
      "Date                                                                      \n",
      "2015-01-02  18.459999  18.459999  17.978001  18.013000  18.013000  1784000\n",
      "2015-01-05  17.827999  18.033001  17.440001  17.655001  17.655001  2261000\n",
      "2015-01-06  17.736000  17.849001  17.254000  17.583000  17.583000  3218000\n",
      "2015-01-07  17.735001  17.802999  17.455000  17.677000  17.677000  1500000\n",
      "2015-01-08  17.832001  18.215000  17.672001  18.004000  18.004000  1703000\n",
      "✅ Données sauvegardées dans CSGP_data.csv\n"
     ]
    },
    {
     "name": "stderr",
     "output_type": "stream",
     "text": [
      "[*********************100%***********************]  1 of 1 completed\n"
     ]
    },
    {
     "name": "stdout",
     "output_type": "stream",
     "text": [
      "✅ Colonnes après aplatissement : ['Adj Close', 'Close', 'High', 'Low', 'Open', 'Volume']\n",
      "                  Open        High         Low       Close   Adj Close  \\\n",
      "Date                                                                     \n",
      "2015-01-02  141.869995  143.149994  140.809998  141.610001  114.455849   \n",
      "2015-01-05  141.690002  142.160004  139.800003  140.000000  113.154579   \n",
      "2015-01-06  140.610001  142.940002  139.850006  141.850006  114.649864   \n",
      "2015-01-07  142.600006  144.429993  142.360001  144.320007  116.646202   \n",
      "2015-01-08  145.559998  146.100006  144.940002  145.559998  117.648384   \n",
      "\n",
      "             Volume  \n",
      "Date                 \n",
      "2015-01-02  1471000  \n",
      "2015-01-05  1748500  \n",
      "2015-01-06  3185200  \n",
      "2015-01-07  2171600  \n",
      "2015-01-08  2937700  \n",
      "✅ Données sauvegardées dans COST_data.csv\n"
     ]
    },
    {
     "name": "stderr",
     "output_type": "stream",
     "text": [
      "[*********************100%***********************]  1 of 1 completed\n"
     ]
    },
    {
     "name": "stdout",
     "output_type": "stream",
     "text": [
      "✅ Colonnes après aplatissement : ['Adj Close', 'Close', 'High', 'Low', 'Open', 'Volume']\n",
      "                 Open       High        Low      Close  Adj Close   Volume\n",
      "Date                                                                      \n",
      "2015-01-02  29.469999  30.379999  29.410000  30.100000  22.204071  4087500\n",
      "2015-01-05  29.540001  29.920000  28.420000  28.450001  20.986906  7466900\n",
      "2015-01-06  28.320000  28.719999  27.520000  28.049999  20.691841  8000600\n",
      "2015-01-07  28.490000  28.590000  27.910000  28.290001  20.868879  5403900\n",
      "2015-01-08  28.280001  28.900000  27.870001  28.860001  21.289354  6670100\n",
      "✅ Données sauvegardées dans CTRA_data.csv\n"
     ]
    },
    {
     "name": "stderr",
     "output_type": "stream",
     "text": [
      "[*********************100%***********************]  1 of 1 completed\n"
     ]
    },
    {
     "name": "stdout",
     "output_type": "stream",
     "text": [
      "✅ Colonnes après aplatissement : ['Adj Close', 'Close', 'High', 'Low', 'Open', 'Volume']\n",
      "                 Open       High        Low      Close  Adj Close    Volume\n",
      "Date                                                                       \n",
      "2019-06-12  63.500000  67.000000  56.000000  58.000000  58.000000  19449200\n",
      "2019-06-13  63.860001  69.669998  61.599998  67.559998  67.559998  10923900\n",
      "2019-06-14  69.779999  70.790001  63.020000  64.160004  64.160004   6264200\n",
      "2019-06-17  64.750000  70.010002  62.000000  70.010002  70.010002   3247500\n",
      "2019-06-18  73.000000  78.699997  71.500000  76.500000  76.500000   6612600\n",
      "✅ Données sauvegardées dans CRWD_data.csv\n"
     ]
    },
    {
     "name": "stderr",
     "output_type": "stream",
     "text": [
      "[*********************100%***********************]  1 of 1 completed\n"
     ]
    },
    {
     "name": "stdout",
     "output_type": "stream",
     "text": [
      "✅ Colonnes après aplatissement : ['Adj Close', 'Close', 'High', 'Low', 'Open', 'Volume']\n",
      "                 Open       High        Low      Close  Adj Close   Volume\n",
      "Date                                                                      \n",
      "2015-01-02  78.860001  79.930000  78.720001  79.510002  51.592838  2133900\n",
      "2015-01-05  79.089996  79.320000  78.750000  79.000000  51.261890  2962900\n",
      "2015-01-06  79.260002  79.919998  78.570000  78.849998  51.164566  4014400\n",
      "2015-01-07  79.349998  80.669998  79.070000  80.500000  52.235222  4292400\n",
      "2015-01-08  80.919998  82.320000  80.699997  81.769997  53.059303  5096600\n",
      "✅ Données sauvegardées dans CCI_data.csv\n"
     ]
    },
    {
     "name": "stderr",
     "output_type": "stream",
     "text": [
      "[*********************100%***********************]  1 of 1 completed\n"
     ]
    },
    {
     "name": "stdout",
     "output_type": "stream",
     "text": [
      "✅ Colonnes après aplatissement : ['Adj Close', 'Close', 'High', 'Low', 'Open', 'Volume']\n",
      "                 Open       High        Low      Close  Adj Close    Volume\n",
      "Date                                                                       \n",
      "2015-01-02  12.036667  12.150000  11.833333  11.950000  10.144099  14064900\n",
      "2015-01-05  11.800000  11.846667  11.593333  11.626667   9.869629  25873500\n",
      "2015-01-06  11.446667  11.503333  11.113333  11.163333   9.476315  43623900\n",
      "2015-01-07  11.260000  11.400000  11.100000  11.310000   9.600818  29139900\n",
      "2015-01-08  11.383333  11.570000  11.283333  11.490000   9.753615  28705800\n",
      "✅ Données sauvegardées dans CSX_data.csv\n"
     ]
    },
    {
     "name": "stderr",
     "output_type": "stream",
     "text": [
      "[*********************100%***********************]  1 of 1 completed\n"
     ]
    },
    {
     "name": "stdout",
     "output_type": "stream",
     "text": [
      "✅ Colonnes après aplatissement : ['Adj Close', 'Close', 'High', 'Low', 'Open', 'Volume']\n",
      "                  Open        High         Low       Close   Adj Close  \\\n",
      "Date                                                                     \n",
      "2015-01-02  145.220001  146.949997  143.600006  146.419998  109.598404   \n",
      "2015-01-05  145.210007  145.440002  140.869995  141.460007  105.885742   \n",
      "2015-01-06  141.889999  143.619995  139.699997  142.250000  106.477104   \n",
      "2015-01-07  143.649994  144.020004  140.860001  142.929993  106.986076   \n",
      "2015-01-08  145.399994  146.759995  144.009995  145.820007  109.149284   \n",
      "\n",
      "             Volume  \n",
      "Date                 \n",
      "2015-01-02  1248300  \n",
      "2015-01-05  2443200  \n",
      "2015-01-06  2927000  \n",
      "2015-01-07  1698200  \n",
      "2015-01-08  1555800  \n",
      "✅ Données sauvegardées dans CMI_data.csv\n"
     ]
    },
    {
     "name": "stderr",
     "output_type": "stream",
     "text": [
      "[*********************100%***********************]  1 of 1 completed\n"
     ]
    },
    {
     "name": "stdout",
     "output_type": "stream",
     "text": [
      "✅ Colonnes après aplatissement : ['Adj Close', 'Close', 'High', 'Low', 'Open', 'Volume']\n",
      "                 Open       High        Low      Close  Adj Close   Volume\n",
      "Date                                                                      \n",
      "2015-01-02  96.519997  96.870003  94.379997  95.099998  70.937965  5124200\n",
      "2015-01-05  94.589996  94.889999  93.870003  94.160004  70.236786  5887900\n",
      "2015-01-06  94.629997  95.300003  93.680000  94.230003  70.289001  5538700\n",
      "2015-01-07  94.910004  95.980003  94.620003  95.930000  71.557091  5792700\n",
      "2015-01-08  96.870003  98.000000  96.839996  97.970001  73.078827  6530700\n",
      "✅ Données sauvegardées dans CVS_data.csv\n"
     ]
    },
    {
     "name": "stderr",
     "output_type": "stream",
     "text": [
      "[*********************100%***********************]  1 of 1 completed\n"
     ]
    },
    {
     "name": "stdout",
     "output_type": "stream",
     "text": [
      "✅ Colonnes après aplatissement : ['Adj Close', 'Close', 'High', 'Low', 'Open', 'Volume']\n",
      "                 Open       High        Low      Close  Adj Close   Volume\n",
      "Date                                                                      \n",
      "2015-01-02  57.808945  57.997139  57.204041  57.614033  35.117767  3070588\n",
      "2015-01-05  57.325020  57.533379  56.760441  57.042732  34.769558  4495187\n",
      "2015-01-06  57.217484  57.358627  56.175697  56.652901  34.531937  4294330\n",
      "2015-01-07  57.177155  57.372070  56.841095  56.995682  34.740879  4920112\n",
      "2015-01-08  57.533379  57.990417  57.479607  57.876160  35.277561  4403983\n",
      "✅ Données sauvegardées dans DHR_data.csv\n"
     ]
    },
    {
     "name": "stderr",
     "output_type": "stream",
     "text": [
      "[*********************100%***********************]  1 of 1 completed\n"
     ]
    },
    {
     "name": "stdout",
     "output_type": "stream",
     "text": [
      "✅ Colonnes après aplatissement : ['Adj Close', 'Close', 'High', 'Low', 'Open', 'Volume']\n",
      "                 Open       High        Low      Close  Adj Close   Volume\n",
      "Date                                                                      \n",
      "2015-01-02  52.740101  53.151295  51.962406  52.221638  38.454456  1155946\n",
      "2015-01-05  52.096493  52.311028  51.658482  51.837261  38.171402  1046314\n",
      "2015-01-06  52.686466  52.981453  51.443947  52.016041  38.303059  1693142\n",
      "2015-01-07  51.873016  53.848537  51.515457  53.803841  39.997581  3014207\n",
      "2015-01-08  54.331242  54.697742  54.009438  54.653046  40.628895  2009956\n",
      "✅ Données sauvegardées dans DRI_data.csv\n"
     ]
    },
    {
     "name": "stderr",
     "output_type": "stream",
     "text": [
      "[*********************100%***********************]  1 of 1 completed\n"
     ]
    },
    {
     "name": "stdout",
     "output_type": "stream",
     "text": [
      "✅ Colonnes après aplatissement : ['Adj Close', 'Close', 'High', 'Low', 'Open', 'Volume']\n",
      "                 Open       High        Low      Close  Adj Close   Volume\n",
      "Date                                                                      \n",
      "2015-01-02  75.839996  76.370003  75.370003  75.830002  75.830002   945900\n",
      "2015-01-05  75.360001  75.930000  74.449997  74.699997  74.699997  1220800\n",
      "2015-01-06  74.889999  75.110001  73.430000  73.620003  73.620003  1233600\n",
      "2015-01-07  73.870003  74.720001  73.820000  74.290001  74.290001  1155800\n",
      "2015-01-08  74.870003  76.059998  74.839996  75.769997  75.769997  1082600\n",
      "✅ Données sauvegardées dans DVA_data.csv\n"
     ]
    },
    {
     "name": "stderr",
     "output_type": "stream",
     "text": [
      "[*********************100%***********************]  1 of 1 completed\n"
     ]
    },
    {
     "name": "stdout",
     "output_type": "stream",
     "text": [
      "✅ Colonnes après aplatissement : ['Adj Close', 'Close', 'High', 'Low', 'Open', 'Volume']\n",
      "                 Open       High        Low      Close  Adj Close    Volume\n",
      "Date                                                                       \n",
      "2018-04-26  28.900000  31.750000  28.650000  31.209999  31.209999  13590200\n",
      "2018-04-27  30.950001  31.500000  29.680000  30.520000  30.520000   1744900\n",
      "2018-04-30  30.760000  32.000000  30.209999  31.580000  31.580000    638900\n",
      "2018-05-01  31.420000  32.400002  31.260000  31.480000  31.480000    858600\n",
      "2018-05-02  31.480000  33.650002  31.480000  32.750000  32.750000    845500\n",
      "✅ Données sauvegardées dans DAY_data.csv\n"
     ]
    },
    {
     "name": "stderr",
     "output_type": "stream",
     "text": [
      "[*********************100%***********************]  1 of 1 completed\n"
     ]
    },
    {
     "name": "stdout",
     "output_type": "stream",
     "text": [
      "✅ Colonnes après aplatissement : ['Adj Close', 'Close', 'High', 'Low', 'Open', 'Volume']\n",
      "                 Open       High        Low      Close  Adj Close   Volume\n",
      "Date                                                                      \n",
      "2015-01-02  15.286667  15.288333  14.781667  14.956667  14.956667  4429800\n",
      "2015-01-05  14.883333  15.036667  14.683333  14.843333  14.843333  4231800\n",
      "2015-01-06  14.898333  14.915000  14.560000  14.585000  14.585000  8932200\n",
      "2015-01-07  14.768333  15.213333  14.695000  15.058333  15.058333  3787200\n",
      "2015-01-08  15.236667  15.706667  15.216667  15.668333  15.668333  5188800\n",
      "✅ Données sauvegardées dans DECK_data.csv\n"
     ]
    },
    {
     "name": "stderr",
     "output_type": "stream",
     "text": [
      "[*********************100%***********************]  1 of 1 completed\n"
     ]
    },
    {
     "name": "stdout",
     "output_type": "stream",
     "text": [
      "✅ Colonnes après aplatissement : ['Adj Close', 'Close', 'High', 'Low', 'Open', 'Volume']\n",
      "                 Open       High        Low      Close  Adj Close   Volume\n",
      "Date                                                                      \n",
      "2015-01-02  88.470001  89.370003  87.419998  88.339996  73.169655  1867900\n",
      "2015-01-05  88.059998  88.059998  85.879997  86.449997  71.604218  3007000\n",
      "2015-01-06  86.269997  87.000000  84.889999  85.730003  71.007889  3512000\n",
      "2015-01-07  85.900002  85.919998  84.739998  85.360001  70.701393  3055900\n",
      "2015-01-08  86.169998  86.580002  85.620003  86.489998  71.637367  2842300\n",
      "✅ Données sauvegardées dans DE_data.csv\n"
     ]
    },
    {
     "name": "stderr",
     "output_type": "stream",
     "text": [
      "[*********************100%***********************]  1 of 1 completed\n"
     ]
    },
    {
     "name": "stdout",
     "output_type": "stream",
     "text": [
      "✅ Colonnes après aplatissement : ['Adj Close', 'Close', 'High', 'Low', 'Open', 'Volume']\n",
      "                 Open       High        Low      Close  Adj Close   Volume\n",
      "Date                                                                      \n",
      "2016-08-17  12.207997  12.348319  12.067676  12.067676  11.147491   271519\n",
      "2016-08-18  12.348319  12.348319  11.927354  11.997515  11.082682  1767366\n",
      "2016-08-19  11.983482  12.207997  11.969450  12.207997  11.277111  4735900\n",
      "2016-08-22  12.067676  12.797349  11.955418  12.250094  11.316000  2245909\n",
      "2016-08-23  12.278158  12.881542  12.207997  12.628963  11.665980  1483020\n",
      "✅ Données sauvegardées dans DELL_data.csv\n"
     ]
    },
    {
     "name": "stderr",
     "output_type": "stream",
     "text": [
      "[*********************100%***********************]  1 of 1 completed\n"
     ]
    },
    {
     "name": "stdout",
     "output_type": "stream",
     "text": [
      "✅ Colonnes après aplatissement : ['Adj Close', 'Close', 'High', 'Low', 'Open', 'Volume']\n",
      "                 Open       High        Low      Close  Adj Close    Volume\n",
      "Date                                                                       \n",
      "2015-01-02  49.919998  50.009998  48.709999  49.180000  43.348660   8637300\n",
      "2015-01-05  49.459999  49.480000  47.810001  48.360001  42.625881  10556500\n",
      "2015-01-06  48.549999  48.740002  46.250000  47.220001  41.621063  12880400\n",
      "2015-01-07  47.480000  47.590000  46.509998  46.970001  41.400696  10516200\n",
      "2015-01-08  47.480000  48.320000  47.259998  48.189999  42.476040  10499300\n",
      "✅ Données sauvegardées dans DAL_data.csv\n"
     ]
    },
    {
     "name": "stderr",
     "output_type": "stream",
     "text": [
      "[*********************100%***********************]  1 of 1 completed\n"
     ]
    },
    {
     "name": "stdout",
     "output_type": "stream",
     "text": [
      "✅ Colonnes après aplatissement : ['Adj Close', 'Close', 'High', 'Low', 'Open', 'Volume']\n",
      "                 Open       High        Low      Close  Adj Close   Volume\n",
      "Date                                                                      \n",
      "2015-01-02  60.630001  61.630001  59.599998  60.959999  42.066345  3017000\n",
      "2015-01-05  59.689999  59.689999  57.799999  58.700001  40.506783  3864500\n",
      "2015-01-06  58.599998  59.189999  56.770000  57.500000  39.678711  4685000\n",
      "2015-01-07  58.090000  58.939999  57.380001  57.770000  39.865040  4208700\n",
      "2015-01-08  58.750000  60.450001  58.009998  59.820000  41.279667  4551800\n",
      "✅ Données sauvegardées dans DVN_data.csv\n"
     ]
    },
    {
     "name": "stderr",
     "output_type": "stream",
     "text": [
      "[*********************100%***********************]  1 of 1 completed\n"
     ]
    },
    {
     "name": "stdout",
     "output_type": "stream",
     "text": [
      "✅ Colonnes après aplatissement : ['Adj Close', 'Close', 'High', 'Low', 'Open', 'Volume']\n",
      "               Open     High      Low    Close  Adj Close   Volume\n",
      "Date                                                              \n",
      "2015-01-02  13.9050  14.1525  13.5550  13.6275    13.6275  1607600\n",
      "2015-01-05  13.5225  14.0200  13.5225  13.8650    13.8650  2171200\n",
      "2015-01-06  13.8000  13.9475  13.4750  13.5525    13.5525  3276400\n",
      "2015-01-07  13.6575  13.9025  13.3250  13.9000    13.9000  2671600\n",
      "2015-01-08  14.0600  14.6575  13.9000  14.5925    14.5925  3654000\n",
      "✅ Données sauvegardées dans DXCM_data.csv\n"
     ]
    },
    {
     "name": "stderr",
     "output_type": "stream",
     "text": [
      "[*********************100%***********************]  1 of 1 completed\n"
     ]
    },
    {
     "name": "stdout",
     "output_type": "stream",
     "text": [
      "✅ Colonnes après aplatissement : ['Adj Close', 'Close', 'High', 'Low', 'Open', 'Volume']\n",
      "                 Open       High        Low      Close  Adj Close   Volume\n",
      "Date                                                                      \n",
      "2015-01-02  60.049999  61.509998  58.740002  59.930000  46.998089  1023200\n",
      "2015-01-05  59.200001  59.590000  55.869999  57.279999  44.919910  1421500\n",
      "2015-01-06  56.720001  58.189999  55.529999  57.369999  44.990490  1394500\n",
      "2015-01-07  58.400002  60.029999  57.180000  58.250000  45.680611  1197000\n",
      "2015-01-08  58.740002  61.330002  57.709999  61.090000  47.907780  1217300\n",
      "✅ Données sauvegardées dans FANG_data.csv\n"
     ]
    },
    {
     "name": "stderr",
     "output_type": "stream",
     "text": [
      "[*********************100%***********************]  1 of 1 completed\n"
     ]
    },
    {
     "name": "stdout",
     "output_type": "stream",
     "text": [
      "✅ Colonnes après aplatissement : ['Adj Close', 'Close', 'High', 'Low', 'Open', 'Volume']\n",
      "                 Open       High        Low      Close  Adj Close   Volume\n",
      "Date                                                                      \n",
      "2015-01-02  66.349998  66.720001  66.180000  66.410004  45.155552   659000\n",
      "2015-01-05  65.930000  67.830002  65.620003  67.690002  46.025894  1514900\n",
      "2015-01-06  67.949997  68.370003  67.220001  67.480003  45.883106  1232300\n",
      "2015-01-07  67.870003  68.099998  67.120003  68.019997  46.250263   854600\n",
      "2015-01-08  68.209999  69.099998  67.849998  68.910004  46.855431  1165800\n",
      "✅ Données sauvegardées dans DLR_data.csv\n"
     ]
    },
    {
     "name": "stderr",
     "output_type": "stream",
     "text": [
      "[*********************100%***********************]  1 of 1 completed\n"
     ]
    },
    {
     "name": "stdout",
     "output_type": "stream",
     "text": [
      "✅ Colonnes après aplatissement : ['Adj Close', 'Close', 'High', 'Low', 'Open', 'Volume']\n",
      "                 Open       High        Low      Close  Adj Close   Volume\n",
      "Date                                                                      \n",
      "2015-01-02  70.699997  71.470001  70.599998  70.779999  62.246212  2717000\n",
      "2015-01-05  70.500000  71.070000  70.010002  70.320000  61.841675  2508500\n",
      "2015-01-06  70.480003  70.910004  69.150002  69.430000  61.059006  3640300\n",
      "2015-01-07  70.019997  70.610001  69.599998  70.269997  61.797722  4239000\n",
      "2015-01-08  70.000000  70.419998  68.760002  69.510002  61.129372  8738500\n",
      "✅ Données sauvegardées dans DG_data.csv\n"
     ]
    },
    {
     "name": "stderr",
     "output_type": "stream",
     "text": [
      "[*********************100%***********************]  1 of 1 completed\n"
     ]
    },
    {
     "name": "stdout",
     "output_type": "stream",
     "text": [
      "✅ Colonnes après aplatissement : ['Adj Close', 'Close', 'High', 'Low', 'Open', 'Volume']\n",
      "                 Open       High        Low      Close  Adj Close   Volume\n",
      "Date                                                                      \n",
      "2015-01-02  70.940002  71.300003  69.760002  70.349998  70.349998  1435700\n",
      "2015-01-05  70.199997  70.540001  69.449997  69.620003  69.620003  2653100\n",
      "2015-01-06  69.779999  69.959999  67.580002  68.669998  68.669998  2696900\n",
      "2015-01-07  69.180000  70.919998  68.830002  70.830002  70.830002  2756300\n",
      "2015-01-08  71.059998  71.190002  70.250000  71.110001  71.110001  2794100\n",
      "✅ Données sauvegardées dans DLTR_data.csv\n"
     ]
    },
    {
     "name": "stderr",
     "output_type": "stream",
     "text": [
      "[*********************100%***********************]  1 of 1 completed\n"
     ]
    },
    {
     "name": "stdout",
     "output_type": "stream",
     "text": [
      "✅ Colonnes après aplatissement : ['Adj Close', 'Close', 'High', 'Low', 'Open', 'Volume']\n",
      "                 Open       High        Low      Close  Adj Close   Volume\n",
      "Date                                                                      \n",
      "2015-01-02  77.260002  77.599998  76.529999  77.489998  49.614651  2210200\n",
      "2015-01-05  77.279999  77.599998  76.300003  76.550003  49.012791  2779200\n",
      "2015-01-06  76.790001  77.940002  76.029999  76.160004  48.763100  3290000\n",
      "2015-01-07  76.370003  77.010002  75.720001  76.470001  48.961563  2908100\n",
      "2015-01-08  77.059998  77.739998  76.879997  77.370003  49.537819  2164100\n",
      "✅ Données sauvegardées dans D_data.csv\n"
     ]
    },
    {
     "name": "stderr",
     "output_type": "stream",
     "text": [
      "[*********************100%***********************]  1 of 1 completed\n"
     ]
    },
    {
     "name": "stdout",
     "output_type": "stream",
     "text": [
      "✅ Colonnes après aplatissement : ['Adj Close', 'Close', 'High', 'Low', 'Open', 'Volume']\n",
      "                 Open        High        Low       Close  Adj Close  Volume\n",
      "Date                                                                       \n",
      "2015-01-02  94.300003   95.019997  93.550003   94.290001  84.106232  400800\n",
      "2015-01-05  95.360001   95.940002  94.089996   95.470001  85.158775  570800\n",
      "2015-01-06  94.419998   95.639999  93.169998   94.290001  84.106232  727800\n",
      "2015-01-07  95.349998   97.589996  94.959999   97.500000  86.969521  624600\n",
      "2015-01-08  98.440002  100.800003  98.169998  100.779999  89.895279  706100\n",
      "✅ Données sauvegardées dans DPZ_data.csv\n"
     ]
    },
    {
     "name": "stderr",
     "output_type": "stream",
     "text": [
      "[*********************100%***********************]  1 of 1 completed\n"
     ]
    },
    {
     "name": "stdout",
     "output_type": "stream",
     "text": [
      "✅ Colonnes après aplatissement : ['Adj Close', 'Close', 'High', 'Low', 'Open', 'Volume']\n",
      "                  Open        High         Low       Close   Adj Close  \\\n",
      "Date                                                                     \n",
      "2020-12-09  182.000000  195.500000  163.800003  189.509995  189.509995   \n",
      "2020-12-10  179.710007  187.695007  172.636002  186.000000  186.000000   \n",
      "2020-12-11  176.520004  182.000000  168.250000  175.000000  175.000000   \n",
      "2020-12-14  169.100006  170.000000  151.199997  160.000000  160.000000   \n",
      "2020-12-15  157.100006  161.419998  153.759995  158.889999  158.889999   \n",
      "\n",
      "              Volume  \n",
      "Date                  \n",
      "2020-12-09  25373700  \n",
      "2020-12-10   9307600  \n",
      "2020-12-11   4760600  \n",
      "2020-12-14   7859600  \n",
      "2020-12-15   5017000  \n",
      "✅ Données sauvegardées dans DASH_data.csv\n"
     ]
    },
    {
     "name": "stderr",
     "output_type": "stream",
     "text": [
      "[*********************100%***********************]  1 of 1 completed\n"
     ]
    },
    {
     "name": "stdout",
     "output_type": "stream",
     "text": [
      "✅ Colonnes après aplatissement : ['Adj Close', 'Close', 'High', 'Low', 'Open', 'Volume']\n",
      "                 Open       High        Low      Close  Adj Close   Volume\n",
      "Date                                                                      \n",
      "2015-01-02  58.271404  58.691437  57.399033  58.142166  48.086151  2099648\n",
      "2015-01-05  57.382877  58.715672  55.840065  56.114700  46.409340  5079390\n",
      "2015-01-06  56.308563  56.413570  55.201939  55.848141  46.188892  3130407\n",
      "2015-01-07  56.542812  56.801292  55.654282  56.308563  46.569687  2993484\n",
      "2015-01-08  56.938610  57.495960  56.413570  57.455574  47.518314  2041214\n",
      "✅ Données sauvegardées dans DOV_data.csv\n"
     ]
    },
    {
     "name": "stderr",
     "output_type": "stream",
     "text": [
      "[*********************100%***********************]  1 of 1 completed\n"
     ]
    },
    {
     "name": "stdout",
     "output_type": "stream",
     "text": [
      "✅ Colonnes après aplatissement : ['Adj Close', 'Close', 'High', 'Low', 'Open', 'Volume']\n",
      "                 Open       High        Low      Close  Adj Close   Volume\n",
      "Date                                                                      \n",
      "2019-03-20  52.750000  53.500000  49.500000  49.799999  35.140572  2350800\n",
      "2019-03-21  49.990002  50.000000  48.200001  48.980000  34.561954  1764700\n",
      "2019-03-22  48.799999  49.950001  48.160000  48.599998  34.293808   844700\n",
      "2019-03-25  48.599998  49.400002  48.000000  49.150002  34.681923   440900\n",
      "2019-03-26  49.000000  49.750000  48.180000  48.849998  34.470230   504700\n",
      "✅ Données sauvegardées dans DOW_data.csv\n"
     ]
    },
    {
     "name": "stderr",
     "output_type": "stream",
     "text": [
      "[*********************100%***********************]  1 of 1 completed\n"
     ]
    },
    {
     "name": "stdout",
     "output_type": "stream",
     "text": [
      "✅ Colonnes après aplatissement : ['Adj Close', 'Close', 'High', 'Low', 'Open', 'Volume']\n",
      "                 Open       High        Low      Close  Adj Close    Volume\n",
      "Date                                                                       \n",
      "2015-01-02  25.480000  25.500000  24.570000  24.959999  22.239662   3174300\n",
      "2015-01-05  24.870001  24.969999  24.350000  24.440001  21.776340   5012500\n",
      "2015-01-06  24.570000  24.570000  23.850000  24.110001  21.482306   7431500\n",
      "2015-01-07  24.360001  25.719999  24.299999  25.350000  22.587151  11395200\n",
      "2015-01-08  25.590000  26.209999  25.549999  25.930000  23.103947   8526900\n",
      "✅ Données sauvegardées dans DHI_data.csv\n"
     ]
    },
    {
     "name": "stderr",
     "output_type": "stream",
     "text": [
      "[*********************100%***********************]  1 of 1 completed\n"
     ]
    },
    {
     "name": "stdout",
     "output_type": "stream",
     "text": [
      "✅ Colonnes après aplatissement : ['Adj Close', 'Close', 'High', 'Low', 'Open', 'Volume']\n",
      "                 Open       High        Low      Close  Adj Close   Volume\n",
      "Date                                                                      \n",
      "2015-01-02  73.897873  74.246811  73.174469  74.051064  52.165283  1025423\n",
      "2015-01-05  73.965958  74.280853  73.038300  73.327660  51.655678  1293910\n",
      "2015-01-06  73.574471  74.740425  73.157448  73.217018  51.577751  1450185\n",
      "2015-01-07  73.455322  74.365959  72.927658  74.085106  52.189281  1096158\n",
      "2015-01-08  74.340424  74.808510  74.102127  74.425529  52.429070   800410\n",
      "✅ Données sauvegardées dans DTE_data.csv\n"
     ]
    },
    {
     "name": "stderr",
     "output_type": "stream",
     "text": [
      "[*********************100%***********************]  1 of 1 completed\n"
     ]
    },
    {
     "name": "stdout",
     "output_type": "stream",
     "text": [
      "✅ Colonnes après aplatissement : ['Adj Close', 'Close', 'High', 'Low', 'Open', 'Volume']\n",
      "                 Open       High        Low      Close  Adj Close   Volume\n",
      "Date                                                                      \n",
      "2015-01-02  83.540001  84.230003  83.089996  84.050003  54.291672  2266200\n",
      "2015-01-05  83.599998  83.910004  82.610001  82.839996  53.510063  3780400\n",
      "2015-01-06  82.919998  84.790001  82.919998  84.199997  54.388538  5290900\n",
      "2015-01-07  84.260002  84.889999  83.720001  84.470001  54.562943  2583500\n",
      "2015-01-08  84.919998  85.279999  84.570000  84.809998  54.782574  2165100\n",
      "✅ Données sauvegardées dans DUK_data.csv\n"
     ]
    },
    {
     "name": "stderr",
     "output_type": "stream",
     "text": [
      "[*********************100%***********************]  1 of 1 completed\n"
     ]
    },
    {
     "name": "stdout",
     "output_type": "stream",
     "text": [
      "✅ Colonnes après aplatissement : ['Adj Close', 'Close', 'High', 'Low', 'Open', 'Volume']\n",
      "                 Open       High        Low      Close  Adj Close   Volume\n",
      "Date                                                                      \n",
      "2015-01-02  65.029198  65.527336  64.445656  64.886871  50.634899  4273821\n",
      "2015-01-05  64.246399  64.388725  62.566936  62.880058  49.068844  8517922\n",
      "2015-01-06  62.936989  63.050850  61.172134  61.869537  48.280293  8104437\n",
      "2015-01-07  62.695030  62.837360  61.542183  61.769909  48.202549  6416563\n",
      "2015-01-08  62.794662  63.847881  62.410378  63.307037  49.402054  8559165\n",
      "✅ Données sauvegardées dans DD_data.csv\n"
     ]
    },
    {
     "name": "stderr",
     "output_type": "stream",
     "text": [
      "[*********************100%***********************]  1 of 1 completed\n"
     ]
    },
    {
     "name": "stdout",
     "output_type": "stream",
     "text": [
      "✅ Colonnes après aplatissement : ['Adj Close', 'Close', 'High', 'Low', 'Open', 'Volume']\n",
      "                 Open       High        Low      Close  Adj Close   Volume\n",
      "Date                                                                      \n",
      "2015-01-02  76.029999  76.669998  75.629997  76.480003  55.420536  1566100\n",
      "2015-01-05  75.669998  75.750000  73.720001  73.839996  53.507488  2099000\n",
      "2015-01-06  73.760002  74.449997  72.660004  73.529999  53.282841  1497400\n",
      "2015-01-07  74.180000  74.220001  72.830002  73.059998  52.942249  1670200\n",
      "2015-01-08  73.910004  75.330002  73.510002  75.320000  54.579937  2297600\n",
      "✅ Données sauvegardées dans EMN_data.csv\n"
     ]
    },
    {
     "name": "stderr",
     "output_type": "stream",
     "text": [
      "[*********************100%***********************]  1 of 1 completed\n"
     ]
    },
    {
     "name": "stdout",
     "output_type": "stream",
     "text": [
      "✅ Colonnes après aplatissement : ['Adj Close', 'Close', 'High', 'Low', 'Open', 'Volume']\n",
      "                 Open       High        Low      Close  Adj Close   Volume\n",
      "Date                                                                      \n",
      "2015-01-02  68.389999  68.570000  66.989998  67.930000  52.561039  1638100\n",
      "2015-01-05  67.110001  67.139999  64.949997  65.120003  50.386806  3206200\n",
      "2015-01-06  65.089996  65.250000  63.570000  64.389999  49.821957  3241700\n",
      "2015-01-07  65.309998  65.570000  64.349998  64.580002  49.968975  3120800\n",
      "2015-01-08  65.199997  66.919998  65.199997  66.889999  51.756344  3445900\n",
      "✅ Données sauvegardées dans ETN_data.csv\n"
     ]
    },
    {
     "name": "stderr",
     "output_type": "stream",
     "text": [
      "[*********************100%***********************]  1 of 1 completed\n"
     ]
    },
    {
     "name": "stdout",
     "output_type": "stream",
     "text": [
      "✅ Colonnes après aplatissement : ['Adj Close', 'Close', 'High', 'Low', 'Open', 'Volume']\n",
      "                 Open       High        Low      Close  Adj Close    Volume\n",
      "Date                                                                       \n",
      "2015-01-02  23.728956  23.922560  23.455387  23.657408  21.194727  14021251\n",
      "2015-01-05  23.505892  23.670034  23.274410  23.459597  21.017509  17694072\n",
      "2015-01-06  23.484848  23.484848  23.017677  23.156567  20.746021  22926737\n",
      "2015-01-07  23.223906  23.350168  22.912458  23.118687  20.712086  21981564\n",
      "2015-01-08  23.278620  23.745790  23.274410  23.741583  21.270138  24326438\n",
      "✅ Données sauvegardées dans EBAY_data.csv\n"
     ]
    },
    {
     "name": "stderr",
     "output_type": "stream",
     "text": [
      "[*********************100%***********************]  1 of 1 completed\n"
     ]
    },
    {
     "name": "stdout",
     "output_type": "stream",
     "text": [
      "✅ Colonnes après aplatissement : ['Adj Close', 'Close', 'High', 'Low', 'Open', 'Volume']\n",
      "                  Open        High         Low       Close  Adj Close   Volume\n",
      "Date                                                                          \n",
      "2015-01-02  104.690002  105.239998  103.610001  104.309998  92.922371  1191200\n",
      "2015-01-05  103.830002  104.190002  101.940002  101.980003  90.846741  2073800\n",
      "2015-01-06  101.690002  101.730003   97.779999   98.930000  88.129707  3396100\n",
      "2015-01-07   99.940002  100.639999   99.080002  100.379997  89.421394  2315500\n",
      "2015-01-08  101.459999  103.160004  101.370003  102.620003  91.416862  1935500\n",
      "✅ Données sauvegardées dans ECL_data.csv\n"
     ]
    },
    {
     "name": "stderr",
     "output_type": "stream",
     "text": [
      "[*********************100%***********************]  1 of 1 completed\n"
     ]
    },
    {
     "name": "stdout",
     "output_type": "stream",
     "text": [
      "✅ Colonnes après aplatissement : ['Adj Close', 'Close', 'High', 'Low', 'Open', 'Volume']\n",
      "                 Open       High        Low      Close  Adj Close   Volume\n",
      "Date                                                                      \n",
      "2015-01-02  65.010002  65.940002  64.779999  65.510002  43.381859  1892800\n",
      "2015-01-05  65.580002  65.809998  65.110001  65.349998  43.275909  2462100\n",
      "2015-01-06  65.099998  66.730003  65.029999  65.599998  43.441463  2238600\n",
      "2015-01-07  65.660004  67.339996  65.500000  66.699997  44.169914  2385600\n",
      "2015-01-08  66.980003  67.379997  66.480003  67.070000  44.414932  2760800\n",
      "✅ Données sauvegardées dans EIX_data.csv\n"
     ]
    },
    {
     "name": "stderr",
     "output_type": "stream",
     "text": [
      "[*********************100%***********************]  1 of 1 completed\n"
     ]
    },
    {
     "name": "stdout",
     "output_type": "stream",
     "text": [
      "✅ Colonnes après aplatissement : ['Adj Close', 'Close', 'High', 'Low', 'Open', 'Volume']\n",
      "                 Open       High        Low      Close  Adj Close   Volume\n",
      "Date                                                                      \n",
      "2015-01-02  21.365000  21.635000  21.101667  21.286667  21.286667  3645600\n",
      "2015-01-05  21.100000  21.536667  21.083332  21.296667  21.296667  3835800\n",
      "2015-01-06  21.161667  21.469999  20.901667  21.170000  21.170000  4988400\n",
      "2015-01-07  21.366667  21.748333  21.211666  21.666668  21.666668  4652400\n",
      "2015-01-08  21.836666  22.245001  21.760000  22.191668  22.191668  6945600\n",
      "✅ Données sauvegardées dans EW_data.csv\n"
     ]
    },
    {
     "name": "stderr",
     "output_type": "stream",
     "text": [
      "[*********************100%***********************]  1 of 1 completed\n"
     ]
    },
    {
     "name": "stdout",
     "output_type": "stream",
     "text": [
      "✅ Colonnes après aplatissement : ['Adj Close', 'Close', 'High', 'Low', 'Open', 'Volume']\n",
      "                 Open       High        Low      Close  Adj Close   Volume\n",
      "Date                                                                      \n",
      "2015-01-02  47.189999  47.669998  46.580002  46.869999  45.664433  1959800\n",
      "2015-01-05  46.959999  47.340000  46.520000  46.570000  45.372147  2727600\n",
      "2015-01-06  46.869999  47.330002  45.419998  45.959999  44.777836  4418900\n",
      "2015-01-07  46.270000  47.029999  46.099998  46.810001  45.605984  4849400\n",
      "2015-01-08  47.009998  48.250000  47.009998  48.130001  46.892029  3877000\n",
      "✅ Données sauvegardées dans EA_data.csv\n"
     ]
    },
    {
     "name": "stderr",
     "output_type": "stream",
     "text": [
      "[*********************100%***********************]  1 of 1 completed\n"
     ]
    },
    {
     "name": "stdout",
     "output_type": "stream",
     "text": [
      "✅ Colonnes après aplatissement : ['Adj Close', 'Close', 'High', 'Low', 'Open', 'Volume']\n",
      "                  Open        High         Low       Close   Adj Close  \\\n",
      "Date                                                                     \n",
      "2015-01-02  126.650002  127.730003  124.400002  125.459999  108.549370   \n",
      "2015-01-05  124.300003  125.459999  122.860001  123.260002  106.645905   \n",
      "2015-01-06  125.019997  126.940002  124.269997  124.940002  108.099472   \n",
      "2015-01-07  125.139999  127.900002  125.139999  125.559998  108.635902   \n",
      "2015-01-08  126.019997  131.800003  126.019997  131.550003  113.818504   \n",
      "\n",
      "             Volume  \n",
      "Date                 \n",
      "2015-01-02  1181600  \n",
      "2015-01-05  1550000  \n",
      "2015-01-06  2117000  \n",
      "2015-01-07  1578500  \n",
      "2015-01-08  1967400  \n",
      "✅ Données sauvegardées dans ELV_data.csv\n"
     ]
    },
    {
     "name": "stderr",
     "output_type": "stream",
     "text": [
      "[*********************100%***********************]  1 of 1 completed\n"
     ]
    },
    {
     "name": "stdout",
     "output_type": "stream",
     "text": [
      "✅ Colonnes après aplatissement : ['Adj Close', 'Close', 'High', 'Low', 'Open', 'Volume']\n",
      "                 Open       High        Low      Close  Adj Close   Volume\n",
      "Date                                                                      \n",
      "2015-01-02  61.840000  62.250000  60.990002  61.790001  46.321365  3395500\n",
      "2015-01-05  61.830002  62.160000  60.450001  60.520000  45.369316  7148400\n",
      "2015-01-06  60.740002  60.860001  59.730000  60.419998  45.294334  5451800\n",
      "2015-01-07  61.000000  61.020000  60.070000  60.290001  45.196892  5283500\n",
      "2015-01-08  60.730000  61.930000  60.560001  61.869999  46.381340  4894900\n",
      "✅ Données sauvegardées dans EMR_data.csv\n"
     ]
    },
    {
     "name": "stderr",
     "output_type": "stream",
     "text": [
      "[*********************100%***********************]  1 of 1 completed\n"
     ]
    },
    {
     "name": "stdout",
     "output_type": "stream",
     "text": [
      "✅ Colonnes après aplatissement : ['Adj Close', 'Close', 'High', 'Low', 'Open', 'Volume']\n",
      "             Open   High    Low  Close  Adj Close   Volume\n",
      "Date                                                      \n",
      "2015-01-02  14.30  14.71  13.57  14.21      14.21   836100\n",
      "2015-01-05  14.04  14.54  13.88  13.88      13.88   720300\n",
      "2015-01-06  13.92  14.14  12.41  12.94      12.94   921900\n",
      "2015-01-07  12.41  12.48  11.25  11.40      11.40  2316400\n",
      "2015-01-08  11.81  12.35  11.55  11.73      11.73   908400\n",
      "✅ Données sauvegardées dans ENPH_data.csv\n"
     ]
    },
    {
     "name": "stderr",
     "output_type": "stream",
     "text": [
      "[*********************100%***********************]  1 of 1 completed\n"
     ]
    },
    {
     "name": "stdout",
     "output_type": "stream",
     "text": [
      "✅ Colonnes après aplatissement : ['Adj Close', 'Close', 'High', 'Low', 'Open', 'Volume']\n",
      "                 Open       High        Low      Close  Adj Close   Volume\n",
      "Date                                                                      \n",
      "2015-01-02  43.740002  44.049999  43.330002  43.855000  36.295567  3889600\n",
      "2015-01-05  43.904999  44.130001  43.279999  43.525002  36.022449  3322200\n",
      "2015-01-06  43.555000  44.375000  43.415001  43.445000  35.956245  3676000\n",
      "2015-01-07  43.509998  44.154999  43.334999  43.884998  36.320404  2188400\n",
      "2015-01-08  43.970001  44.365002  43.900002  44.145000  36.535583  2037000\n",
      "✅ Données sauvegardées dans ETR_data.csv\n"
     ]
    },
    {
     "name": "stderr",
     "output_type": "stream",
     "text": [
      "[*********************100%***********************]  1 of 1 completed\n"
     ]
    },
    {
     "name": "stdout",
     "output_type": "stream",
     "text": [
      "✅ Colonnes après aplatissement : ['Adj Close', 'Close', 'High', 'Low', 'Open', 'Volume']\n",
      "                 Open       High        Low      Close  Adj Close   Volume\n",
      "Date                                                                      \n",
      "2015-01-02  91.010002  92.989998  90.360001  92.239998  68.680679  3462300\n",
      "2015-01-05  89.959999  90.779999  86.019997  86.680000  64.540779  6173600\n",
      "2015-01-06  85.839996  86.599998  82.760002  84.209999  62.701656  8142000\n",
      "2015-01-07  85.180000  85.730003  82.720001  83.680000  62.307007  5950300\n",
      "2015-01-08  84.720001  87.650002  84.070000  86.879997  64.689697  5836500\n",
      "✅ Données sauvegardées dans EOG_data.csv\n"
     ]
    },
    {
     "name": "stderr",
     "output_type": "stream",
     "text": [
      "[*********************100%***********************]  1 of 1 completed\n"
     ]
    },
    {
     "name": "stdout",
     "output_type": "stream",
     "text": [
      "✅ Colonnes après aplatissement : ['Adj Close', 'Close', 'High', 'Low', 'Open', 'Volume']\n",
      "                 Open       High        Low      Close  Adj Close  Volume\n",
      "Date                                                                     \n",
      "2015-01-02  47.770000  48.160000  46.000000  46.470001  46.470001  379300\n",
      "2015-01-05  46.000000  47.619999  45.799999  46.270000  46.270000  294300\n",
      "2015-01-06  46.290001  47.230000  45.770000  46.290001  46.290001  426200\n",
      "2015-01-07  46.500000  47.560001  46.470001  47.290001  47.290001  253900\n",
      "2015-01-08  47.919998  48.779999  47.509998  48.669998  48.669998  562300\n",
      "✅ Données sauvegardées dans EPAM_data.csv\n"
     ]
    },
    {
     "name": "stderr",
     "output_type": "stream",
     "text": [
      "[*********************100%***********************]  1 of 1 completed\n"
     ]
    },
    {
     "name": "stdout",
     "output_type": "stream",
     "text": [
      "✅ Colonnes après aplatissement : ['Adj Close', 'Close', 'High', 'Low', 'Open', 'Volume']\n",
      "                 Open       High        Low      Close  Adj Close   Volume\n",
      "Date                                                                      \n",
      "2015-01-02  41.458900  42.705498  40.974415  42.199238  38.979584  4219038\n",
      "2015-01-05  42.199238  42.199238  39.814915  39.945564  36.897850  3342789\n",
      "2015-01-06  39.863911  40.402832  39.243332  39.488297  36.475471  3724334\n",
      "2015-01-07  39.945564  40.255852  39.237888  39.542732  36.525757  2507321\n",
      "2015-01-08  39.787697  41.317364  39.444748  41.126839  37.989010  2774237\n",
      "✅ Données sauvegardées dans EQT_data.csv\n"
     ]
    },
    {
     "name": "stderr",
     "output_type": "stream",
     "text": [
      "[*********************100%***********************]  1 of 1 completed\n"
     ]
    },
    {
     "name": "stdout",
     "output_type": "stream",
     "text": [
      "✅ Colonnes après aplatissement : ['Adj Close', 'Close', 'High', 'Low', 'Open', 'Volume']\n",
      "                 Open       High        Low      Close  Adj Close  Volume\n",
      "Date                                                                     \n",
      "2015-01-02  81.370003  81.750000  80.610001  81.320000  73.466026  428700\n",
      "2015-01-05  80.720001  81.129997  80.459999  80.639999  72.851723  699800\n",
      "2015-01-06  80.519997  80.970001  79.620003  80.000000  72.273521  633100\n",
      "2015-01-07  80.459999  81.480003  80.169998  81.349998  73.493118  385800\n",
      "2015-01-08  81.800003  83.320000  81.540001  83.089996  75.065094  655600\n",
      "✅ Données sauvegardées dans EFX_data.csv\n"
     ]
    },
    {
     "name": "stderr",
     "output_type": "stream",
     "text": [
      "[*********************100%***********************]  1 of 1 completed\n"
     ]
    },
    {
     "name": "stdout",
     "output_type": "stream",
     "text": [
      "✅ Colonnes après aplatissement : ['Adj Close', 'Close', 'High', 'Low', 'Open', 'Volume']\n",
      "                  Open        High         Low       Close   Adj Close  Volume\n",
      "Date                                                                          \n",
      "2015-01-02  228.509995  229.559998  224.279999  226.649994  177.176422  383500\n",
      "2015-01-05  226.139999  227.369995  224.259995  224.320007  175.355087  553600\n",
      "2015-01-06  224.190002  226.419998  219.250000  219.429993  171.532440  826200\n",
      "2015-01-07  220.720001  221.550003  219.110001  220.149994  172.095276  482300\n",
      "2015-01-08  221.949997  224.990005  219.899994  222.779999  174.151215  550700\n",
      "✅ Données sauvegardées dans EQIX_data.csv\n"
     ]
    },
    {
     "name": "stderr",
     "output_type": "stream",
     "text": [
      "[*********************100%***********************]  1 of 1 completed\n"
     ]
    },
    {
     "name": "stdout",
     "output_type": "stream",
     "text": [
      "✅ Colonnes après aplatissement : ['Adj Close', 'Close', 'High', 'Low', 'Open', 'Volume']\n",
      "                 Open       High        Low      Close  Adj Close   Volume\n",
      "Date                                                                      \n",
      "2015-01-02  72.279999  73.690002  72.059998  73.410004  43.488041  1408400\n",
      "2015-01-05  73.239998  74.320000  72.940002  74.059998  43.873085  1801800\n",
      "2015-01-06  74.309998  74.980003  74.110001  74.480003  44.121910  2043200\n",
      "2015-01-07  74.779999  75.820000  74.559998  75.580002  44.773548  1719400\n",
      "2015-01-08  75.760002  76.480003  75.010002  76.430000  45.277077  2122400\n",
      "✅ Données sauvegardées dans EQR_data.csv\n"
     ]
    },
    {
     "name": "stderr",
     "output_type": "stream",
     "text": [
      "[*********************100%***********************]  1 of 1 completed\n"
     ]
    },
    {
     "name": "stdout",
     "output_type": "stream",
     "text": [
      "✅ Colonnes après aplatissement : ['Adj Close', 'Close', 'High', 'Low', 'Open', 'Volume']\n",
      "                 Open       High        Low      Close  Adj Close  Volume\n",
      "Date                                                                     \n",
      "2015-01-02  90.540001  90.970001  88.720001  89.339996  70.271156   28200\n",
      "2015-01-05  88.400002  89.239998  85.860001  86.120003  67.738457   83700\n",
      "2015-01-06  85.779999  86.459999  83.889999  84.110001  66.157455  246600\n",
      "2015-01-07  84.900002  86.419998  84.239998  86.309998  67.887886   59500\n",
      "2015-01-08  86.940002  88.349998  86.370003  88.239998  69.405937   57100\n",
      "✅ Données sauvegardées dans ERIE_data.csv\n"
     ]
    },
    {
     "name": "stderr",
     "output_type": "stream",
     "text": [
      "[*********************100%***********************]  1 of 1 completed\n"
     ]
    },
    {
     "name": "stdout",
     "output_type": "stream",
     "text": [
      "✅ Colonnes après aplatissement : ['Adj Close', 'Close', 'High', 'Low', 'Open', 'Volume']\n",
      "                  Open        High         Low       Close   Adj Close  Volume\n",
      "Date                                                                          \n",
      "2015-01-02  207.820007  210.690002  207.259995  210.350006  150.732544  258700\n",
      "2015-01-05  209.660004  212.220001  209.289993  211.190002  151.334488  350700\n",
      "2015-01-06  210.589996  214.570007  210.589996  214.229996  153.512878  470400\n",
      "2015-01-07  214.220001  217.690002  213.529999  217.460007  155.827423  620500\n",
      "2015-01-08  218.210007  219.119995  216.250000  218.860001  156.830597  379800\n",
      "✅ Données sauvegardées dans ESS_data.csv\n"
     ]
    },
    {
     "name": "stderr",
     "output_type": "stream",
     "text": [
      "[*********************100%***********************]  1 of 1 completed\n"
     ]
    },
    {
     "name": "stdout",
     "output_type": "stream",
     "text": [
      "✅ Colonnes après aplatissement : ['Adj Close', 'Close', 'High', 'Low', 'Open', 'Volume']\n",
      "                 Open       High        Low      Close  Adj Close   Volume\n",
      "Date                                                                      \n",
      "2015-01-02  76.550003  76.730003  75.010002  75.589996  66.216927   916800\n",
      "2015-01-05  75.190002  75.239998  74.500000  74.680000  65.419762  1350900\n",
      "2015-01-06  74.680000  74.830002  73.809998  73.989998  64.815331  1588300\n",
      "2015-01-07  74.400002  74.629997  73.910004  74.330002  65.113167  1586600\n",
      "2015-01-08  74.639999  75.610001  74.419998  75.400002  66.050491  1475300\n",
      "✅ Données sauvegardées dans EL_data.csv\n"
     ]
    },
    {
     "name": "stderr",
     "output_type": "stream",
     "text": [
      "[*********************100%***********************]  1 of 1 completed\n"
     ]
    },
    {
     "name": "stdout",
     "output_type": "stream",
     "text": [
      "✅ Colonnes après aplatissement : ['Adj Close', 'Close', 'High', 'Low', 'Open', 'Volume']\n",
      "                  Open        High         Low       Close   Adj Close  Volume\n",
      "Date                                                                          \n",
      "2015-01-02  170.399994  171.309998  167.600006  168.820007  135.387329  274700\n",
      "2015-01-05  167.899994  168.440002  166.699997  167.910004  134.657578  334200\n",
      "2015-01-06  168.320007  169.460007  167.699997  168.970001  135.507629  395900\n",
      "2015-01-07  169.460007  170.929993  168.020004  170.110001  136.421860  296700\n",
      "2015-01-08  171.850006  175.089996  170.919998  174.960007  140.311401  348200\n",
      "✅ Données sauvegardées dans EG_data.csv\n"
     ]
    },
    {
     "name": "stderr",
     "output_type": "stream",
     "text": [
      "[*********************100%***********************]  1 of 1 completed\n"
     ]
    },
    {
     "name": "stdout",
     "output_type": "stream",
     "text": [
      "✅ Colonnes après aplatissement : ['Adj Close', 'Close', 'High', 'Low', 'Open', 'Volume']\n",
      "                 Open       High        Low      Close  Adj Close   Volume\n",
      "Date                                                                      \n",
      "2015-01-02  41.320000  41.410000  40.619999  41.169998  28.220465  1051600\n",
      "2015-01-05  41.029999  41.240002  40.689999  40.830002  27.987421   870800\n",
      "2015-01-06  40.849998  41.439999  40.669998  40.709999  27.905153   901800\n",
      "2015-01-07  40.790001  41.529999  40.509998  41.400002  28.378132   771000\n",
      "2015-01-08  41.470001  41.930000  41.470001  41.770000  28.631741  1190600\n",
      "✅ Données sauvegardées dans EVRG_data.csv\n"
     ]
    },
    {
     "name": "stderr",
     "output_type": "stream",
     "text": [
      "[*********************100%***********************]  1 of 1 completed\n"
     ]
    },
    {
     "name": "stdout",
     "output_type": "stream",
     "text": [
      "✅ Colonnes après aplatissement : ['Adj Close', 'Close', 'High', 'Low', 'Open', 'Volume']\n",
      "                 Open       High        Low      Close  Adj Close   Volume\n",
      "Date                                                                      \n",
      "2015-01-02  53.529999  53.799999  52.930000  53.740002  37.707367  1693400\n",
      "2015-01-05  53.759998  53.810001  53.049999  53.259998  37.370560  1400700\n",
      "2015-01-06  53.389999  54.189999  53.060001  53.290001  37.391609  2680800\n",
      "2015-01-07  53.700001  54.349998  53.310001  54.070000  37.938911  1463200\n",
      "2015-01-08  53.959999  54.459999  53.840000  54.160000  38.002056  2115100\n",
      "✅ Données sauvegardées dans ES_data.csv\n"
     ]
    },
    {
     "name": "stderr",
     "output_type": "stream",
     "text": [
      "[*********************100%***********************]  1 of 1 completed\n"
     ]
    },
    {
     "name": "stdout",
     "output_type": "stream",
     "text": [
      "✅ Colonnes après aplatissement : ['Adj Close', 'Close', 'High', 'Low', 'Open', 'Volume']\n",
      "                 Open       High        Low      Close  Adj Close    Volume\n",
      "Date                                                                       \n",
      "2015-01-02  26.447931  26.854494  26.447931  26.797432  18.444113   6972006\n",
      "2015-01-05  26.604851  26.790300  25.827389  26.034237  17.918827  12329749\n",
      "2015-01-06  26.119829  26.483595  25.798859  25.834522  17.781363  10649452\n",
      "2015-01-07  25.920115  26.069901  25.734665  25.870186  17.805908  10545844\n",
      "2015-01-08  25.984308  26.490728  25.870186  26.069901  17.943371   7527759\n",
      "✅ Données sauvegardées dans EXC_data.csv\n"
     ]
    },
    {
     "name": "stderr",
     "output_type": "stream",
     "text": [
      "[*********************100%***********************]  1 of 1 completed\n"
     ]
    },
    {
     "name": "stdout",
     "output_type": "stream",
     "text": [
      "✅ Colonnes après aplatissement : ['Adj Close', 'Close', 'High', 'Low', 'Open', 'Volume']\n",
      "                 Open       High        Low      Close  Adj Close   Volume\n",
      "Date                                                                      \n",
      "2021-02-10  43.000000  50.000000  43.000000  44.990002  36.505295  1836900\n",
      "2021-02-11  45.470001  45.470001  42.750000  42.799999  34.728306  1652100\n",
      "2021-02-12  43.009998  43.500000  41.549999  42.509998  34.492996  2088200\n",
      "2021-02-16  44.200001  45.540001  43.009998  43.549999  35.336868  1369100\n",
      "2021-02-17  44.029999  44.599998  43.500000  44.259998  35.912971  1910200\n",
      "✅ Données sauvegardées dans EXE_data.csv\n"
     ]
    },
    {
     "name": "stderr",
     "output_type": "stream",
     "text": [
      "[*********************100%***********************]  1 of 1 completed\n"
     ]
    },
    {
     "name": "stdout",
     "output_type": "stream",
     "text": [
      "✅ Colonnes après aplatissement : ['Adj Close', 'Close', 'High', 'Low', 'Open', 'Volume']\n",
      "                 Open       High        Low      Close  Adj Close   Volume\n",
      "Date                                                                      \n",
      "2015-01-02  85.580002  86.260002  84.480003  85.760002  81.129036  1257600\n",
      "2015-01-05  85.449997  85.870003  83.809998  84.199997  79.653282  1683200\n",
      "2015-01-06  84.720001  85.779999  83.309998  84.169998  79.624878  2079800\n",
      "2015-01-07  85.010002  85.629997  83.809998  84.169998  79.624878  1663600\n",
      "2015-01-08  84.660004  88.190002  84.099998  87.889999  83.144012  2263300\n",
      "✅ Données sauvegardées dans EXPE_data.csv\n"
     ]
    },
    {
     "name": "stderr",
     "output_type": "stream",
     "text": [
      "[*********************100%***********************]  1 of 1 completed\n"
     ]
    },
    {
     "name": "stdout",
     "output_type": "stream",
     "text": [
      "✅ Colonnes après aplatissement : ['Adj Close', 'Close', 'High', 'Low', 'Open', 'Volume']\n",
      "                 Open       High        Low      Close  Adj Close   Volume\n",
      "Date                                                                      \n",
      "2015-01-02  44.990002  44.990002  43.770000  44.419998  38.780380  1122800\n",
      "2015-01-05  44.330002  44.380001  42.919998  43.040001  37.575592  1146100\n",
      "2015-01-06  43.020000  43.360001  42.410000  42.549999  37.147793  1146100\n",
      "2015-01-07  42.680000  42.700001  42.169998  42.560001  37.156528   989500\n",
      "2015-01-08  42.950001  43.759998  42.840000  43.720001  38.169250   915700\n",
      "✅ Données sauvegardées dans EXPD_data.csv\n"
     ]
    },
    {
     "name": "stderr",
     "output_type": "stream",
     "text": [
      "[*********************100%***********************]  1 of 1 completed\n"
     ]
    },
    {
     "name": "stdout",
     "output_type": "stream",
     "text": [
      "✅ Colonnes après aplatissement : ['Adj Close', 'Close', 'High', 'Low', 'Open', 'Volume']\n",
      "                 Open       High        Low      Close  Adj Close   Volume\n",
      "Date                                                                      \n",
      "2015-01-02  58.720001  59.119999  58.509998  58.939999  40.264107   837900\n",
      "2015-01-05  58.919998  60.529999  58.889999  60.240002  41.152176  1206000\n",
      "2015-01-06  60.529999  61.580002  60.450001  61.549999  42.047108  1663900\n",
      "2015-01-07  61.930000  62.750000  61.200001  62.439999  42.655087  1218100\n",
      "2015-01-08  62.549999  63.490002  62.509998  63.380001  43.297241   983600\n",
      "✅ Données sauvegardées dans EXR_data.csv\n"
     ]
    },
    {
     "name": "stderr",
     "output_type": "stream",
     "text": [
      "[*********************100%***********************]  1 of 1 completed\n"
     ]
    },
    {
     "name": "stdout",
     "output_type": "stream",
     "text": [
      "✅ Colonnes après aplatissement : ['Adj Close', 'Close', 'High', 'Low', 'Open', 'Volume']\n",
      "                 Open       High        Low      Close  Adj Close    Volume\n",
      "Date                                                                       \n",
      "2015-01-02  92.250000  93.050003  91.809998  92.830002  58.967136  10220400\n",
      "2015-01-05  92.099998  92.400002  89.500000  90.290001  57.353680  18502400\n",
      "2015-01-06  90.239998  91.410004  89.019997  89.809998  57.048767  16670700\n",
      "2015-01-07  90.650002  91.480003  90.000000  90.720001  57.626820  13590700\n",
      "2015-01-08  91.250000  92.269997  91.000000  92.230003  58.586010  15487500\n",
      "✅ Données sauvegardées dans XOM_data.csv\n"
     ]
    },
    {
     "name": "stderr",
     "output_type": "stream",
     "text": [
      "[*********************100%***********************]  1 of 1 completed\n"
     ]
    },
    {
     "name": "stdout",
     "output_type": "stream",
     "text": [
      "✅ Colonnes après aplatissement : ['Adj Close', 'Close', 'High', 'Low', 'Open', 'Volume']\n",
      "                  Open        High         Low       Close   Adj Close  \\\n",
      "Date                                                                     \n",
      "2015-01-02  131.720001  132.399994  128.440002  130.330002  130.330002   \n",
      "2015-01-05  132.190002  132.990005  128.970001  129.759995  129.759995   \n",
      "2015-01-06  128.000000  129.470001  126.690002  126.730003  126.730003   \n",
      "2015-01-07  127.550003  129.429993  127.260002  128.350006  128.350006   \n",
      "2015-01-08  129.800003  131.070007  128.729996  129.649994  129.649994   \n",
      "\n",
      "             Volume  \n",
      "Date                 \n",
      "2015-01-02   496300  \n",
      "2015-01-05  1355100  \n",
      "2015-01-06   958500  \n",
      "2015-01-07   666000  \n",
      "2015-01-08  1092000  \n",
      "✅ Données sauvegardées dans FFIV_data.csv\n"
     ]
    },
    {
     "name": "stderr",
     "output_type": "stream",
     "text": [
      "[*********************100%***********************]  1 of 1 completed\n"
     ]
    },
    {
     "name": "stdout",
     "output_type": "stream",
     "text": [
      "✅ Colonnes après aplatissement : ['Adj Close', 'Close', 'High', 'Low', 'Open', 'Volume']\n",
      "                  Open        High         Low       Close   Adj Close  Volume\n",
      "Date                                                                          \n",
      "2015-01-02  141.470001  142.080002  139.089996  140.589996  126.268501  186500\n",
      "2015-01-05  139.869995  140.259995  138.000000  138.389999  124.292648  181000\n",
      "2015-01-06  139.029999  139.729996  136.800003  137.660004  123.637016  349900\n",
      "2015-01-07  138.199997  139.690002  137.710007  138.759995  124.624924  230800\n",
      "2015-01-08  139.600006  140.839996  139.570007  140.470001  126.160721  177200\n",
      "✅ Données sauvegardées dans FDS_data.csv\n"
     ]
    },
    {
     "name": "stderr",
     "output_type": "stream",
     "text": [
      "[*********************100%***********************]  1 of 1 completed\n"
     ]
    },
    {
     "name": "stdout",
     "output_type": "stream",
     "text": [
      "✅ Colonnes après aplatissement : ['Adj Close', 'Close', 'High', 'Low', 'Open', 'Volume']\n",
      "                 Open       High        Low      Close  Adj Close  Volume\n",
      "Date                                                                     \n",
      "2015-01-02  72.610001  73.379997  71.160004  72.169998  72.042084  115800\n",
      "2015-01-05  71.669998  72.550003  70.769997  71.360001  71.233505  170700\n",
      "2015-01-06  71.459999  71.739998  69.669998  70.050003  69.925850  154600\n",
      "2015-01-07  70.430000  70.820000  69.440002  70.489998  70.365044  161500\n",
      "2015-01-08  71.099998  72.849998  70.860001  72.720001  72.591103  353000\n",
      "✅ Données sauvegardées dans FICO_data.csv\n"
     ]
    },
    {
     "name": "stderr",
     "output_type": "stream",
     "text": [
      "[*********************100%***********************]  1 of 1 completed\n"
     ]
    },
    {
     "name": "stdout",
     "output_type": "stream",
     "text": [
      "✅ Colonnes après aplatissement : ['Adj Close', 'Close', 'High', 'Low', 'Open', 'Volume']\n",
      "               Open     High      Low    Close  Adj Close   Volume\n",
      "Date                                                              \n",
      "2015-01-02  11.9625  12.0850  11.7675  11.8500   7.559497  5365600\n",
      "2015-01-05  11.7875  11.8150  11.6000  11.6475   7.430318  7647600\n",
      "2015-01-06  11.6700  11.6750  11.3000  11.4475   7.302732  7152800\n",
      "2015-01-07  11.4350  11.5025  11.2825  11.3725   7.254886  8587600\n",
      "2015-01-08  11.4900  11.6350  11.4550  11.6300   7.419155  6368000\n",
      "✅ Données sauvegardées dans FAST_data.csv\n"
     ]
    },
    {
     "name": "stderr",
     "output_type": "stream",
     "text": [
      "[*********************100%***********************]  1 of 1 completed\n"
     ]
    },
    {
     "name": "stdout",
     "output_type": "stream",
     "text": [
      "✅ Colonnes après aplatissement : ['Adj Close', 'Close', 'High', 'Low', 'Open', 'Volume']\n",
      "                  Open        High         Low       Close  Adj Close  Volume\n",
      "Date                                                                         \n",
      "2015-01-02  134.419998  135.800003  133.369995  135.740005  92.770370  250400\n",
      "2015-01-05  135.240005  137.639999  135.020004  137.580002  94.027893  500200\n",
      "2015-01-06  138.270004  139.550003  137.779999  139.380005  95.258118  563000\n",
      "2015-01-07  139.820007  142.490005  138.160004  142.300003  97.253769  347500\n",
      "2015-01-08  142.300003  142.940002  141.100006  141.679993  96.830025  419300\n",
      "✅ Données sauvegardées dans FRT_data.csv\n"
     ]
    },
    {
     "name": "stderr",
     "output_type": "stream",
     "text": [
      "[*********************100%***********************]  1 of 1 completed\n"
     ]
    },
    {
     "name": "stdout",
     "output_type": "stream",
     "text": [
      "✅ Colonnes après aplatissement : ['Adj Close', 'Close', 'High', 'Low', 'Open', 'Volume']\n",
      "                  Open        High         Low       Close   Adj Close  \\\n",
      "Date                                                                     \n",
      "2015-01-02  173.779999  174.639999  170.330002  172.449997  148.542786   \n",
      "2015-01-05  171.820007  171.929993  169.350006  169.800003  146.260162   \n",
      "2015-01-06  172.419998  173.320007  169.580002  169.789993  146.251495   \n",
      "2015-01-07  171.970001  172.339996  170.050003  171.039993  147.328247   \n",
      "2015-01-08  173.179993  175.360001  172.460007  175.039993  150.773697   \n",
      "\n",
      "             Volume  \n",
      "Date                 \n",
      "2015-01-02  1249700  \n",
      "2015-01-05  1726100  \n",
      "2015-01-06  2612500  \n",
      "2015-01-07  1835800  \n",
      "2015-01-08  1819500  \n",
      "✅ Données sauvegardées dans FDX_data.csv\n"
     ]
    },
    {
     "name": "stderr",
     "output_type": "stream",
     "text": [
      "[*********************100%***********************]  1 of 1 completed\n"
     ]
    },
    {
     "name": "stdout",
     "output_type": "stream",
     "text": [
      "✅ Colonnes après aplatissement : ['Adj Close', 'Close', 'High', 'Low', 'Open', 'Volume']\n",
      "                 Open       High        Low      Close  Adj Close   Volume\n",
      "Date                                                                      \n",
      "2015-01-02  62.330002  63.029999  61.820000  62.410000  52.332714   666300\n",
      "2015-01-05  62.160000  62.240002  60.740002  61.330002  51.427113   952900\n",
      "2015-01-06  61.389999  61.730000  60.360001  61.250000  51.360027  1190000\n",
      "2015-01-07  61.799999  62.299999  61.360001  62.259998  52.206940   925200\n",
      "2015-01-08  62.830002  63.189999  62.709999  63.139999  52.944851   907200\n",
      "✅ Données sauvegardées dans FIS_data.csv\n"
     ]
    },
    {
     "name": "stderr",
     "output_type": "stream",
     "text": [
      "[*********************100%***********************]  1 of 1 completed\n"
     ]
    },
    {
     "name": "stdout",
     "output_type": "stream",
     "text": [
      "✅ Colonnes après aplatissement : ['Adj Close', 'Close', 'High', 'Low', 'Open', 'Volume']\n",
      "                 Open       High        Low      Close  Adj Close    Volume\n",
      "Date                                                                       \n",
      "2015-01-02  20.410000  20.530001  19.990000  20.209999  14.130394   6398800\n",
      "2015-01-05  20.020000  20.090000  19.590000  19.600000  13.703897   7497700\n",
      "2015-01-06  19.650000  19.790001  18.799999  18.809999  13.151544  27930000\n",
      "2015-01-07  19.100000  19.129999  18.809999  19.020000  13.298373  12862200\n",
      "2015-01-08  19.190001  19.469999  19.139999  19.450001  13.599018  14648800\n",
      "✅ Données sauvegardées dans FITB_data.csv\n"
     ]
    },
    {
     "name": "stderr",
     "output_type": "stream",
     "text": [
      "[*********************100%***********************]  1 of 1 completed\n"
     ]
    },
    {
     "name": "stdout",
     "output_type": "stream",
     "text": [
      "✅ Colonnes après aplatissement : ['Adj Close', 'Close', 'High', 'Low', 'Open', 'Volume']\n",
      "                 Open       High        Low      Close  Adj Close   Volume\n",
      "Date                                                                      \n",
      "2015-01-02  44.720001  45.340000  43.720001  44.549999  44.549999  1873800\n",
      "2015-01-05  43.880001  43.980000  41.509998  41.830002  41.830002  3668000\n",
      "2015-01-06  42.009998  42.009998  39.880001  40.860001  40.860001  3712200\n",
      "2015-01-07  42.000000  42.470001  41.400002  41.750000  41.750000  2869800\n",
      "2015-01-08  42.389999  43.680000  42.029999  43.630001  43.630001  3205400\n",
      "✅ Données sauvegardées dans FSLR_data.csv\n"
     ]
    },
    {
     "name": "stderr",
     "output_type": "stream",
     "text": [
      "[*********************100%***********************]  1 of 1 completed\n"
     ]
    },
    {
     "name": "stdout",
     "output_type": "stream",
     "text": [
      "✅ Colonnes après aplatissement : ['Adj Close', 'Close', 'High', 'Low', 'Open', 'Volume']\n",
      "                 Open       High        Low      Close  Adj Close   Volume\n",
      "Date                                                                      \n",
      "2015-01-02  39.099998  39.279999  38.639999  39.200001  25.258471  2354900\n",
      "2015-01-05  39.000000  39.070000  38.009998  38.150002  24.581905  3065900\n",
      "2015-01-06  38.320000  38.759998  38.130001  38.349998  24.710766  3676400\n",
      "2015-01-07  38.419998  38.950001  38.189999  38.669998  24.916954  2374400\n",
      "2015-01-08  38.820000  39.169998  38.700001  39.020000  25.142483  2114400\n",
      "✅ Données sauvegardées dans FE_data.csv\n"
     ]
    },
    {
     "name": "stderr",
     "output_type": "stream",
     "text": [
      "[*********************100%***********************]  1 of 1 completed\n"
     ]
    },
    {
     "name": "stdout",
     "output_type": "stream",
     "text": [
      "✅ Colonnes après aplatissement : ['Adj Close', 'Close', 'High', 'Low', 'Open', 'Volume']\n",
      "                 Open       High        Low      Close  Adj Close   Volume\n",
      "Date                                                                      \n",
      "2015-01-02  35.744999  35.994999  35.180000  35.310001  35.310001  2027800\n",
      "2015-01-05  35.180000  35.345001  34.779999  34.910000  34.910000  2081400\n",
      "2015-01-06  35.055000  35.255001  34.564999  34.945000  34.945000  5741000\n",
      "2015-01-07  35.139999  35.430000  34.869999  35.419998  35.419998  2237000\n",
      "2015-01-08  35.770000  36.259998  35.750000  36.139999  36.139999  3133000\n",
      "✅ Données sauvegardées dans FI_data.csv\n"
     ]
    },
    {
     "name": "stderr",
     "output_type": "stream",
     "text": [
      "[*********************100%***********************]  1 of 1 completed\n"
     ]
    },
    {
     "name": "stdout",
     "output_type": "stream",
     "text": [
      "✅ Colonnes après aplatissement : ['Adj Close', 'Close', 'High', 'Low', 'Open', 'Volume']\n",
      "             Open   High    Low  Close  Adj Close    Volume\n",
      "Date                                                       \n",
      "2015-01-02  15.59  15.65  15.18  15.36   8.742794  24777900\n",
      "2015-01-05  15.12  15.13  14.69  14.76   8.401278  44079700\n",
      "2015-01-06  14.88  14.90  14.38  14.62   8.321589  32981600\n",
      "2015-01-07  14.78  15.09  14.77  15.04   8.560652  26065300\n",
      "2015-01-08  15.40  15.48  15.23  15.42   8.776945  33943400\n",
      "✅ Données sauvegardées dans F_data.csv\n"
     ]
    },
    {
     "name": "stderr",
     "output_type": "stream",
     "text": [
      "[*********************100%***********************]  1 of 1 completed\n"
     ]
    },
    {
     "name": "stdout",
     "output_type": "stream",
     "text": [
      "✅ Colonnes après aplatissement : ['Adj Close', 'Close', 'High', 'Low', 'Open', 'Volume']\n",
      "             Open   High    Low  Close  Adj Close    Volume\n",
      "Date                                                       \n",
      "2015-01-02  6.180  6.238  6.102  6.158      6.158   6307500\n",
      "2015-01-05  6.126  6.198  6.062  6.104      6.104   9120500\n",
      "2015-01-06  6.108  6.152  5.910  5.990      5.990  10918000\n",
      "2015-01-07  6.050  6.132  5.994  6.076      6.076   7066000\n",
      "2015-01-08  6.178  6.296  6.160  6.242      6.242   7181000\n",
      "✅ Données sauvegardées dans FTNT_data.csv\n"
     ]
    },
    {
     "name": "stderr",
     "output_type": "stream",
     "text": [
      "[*********************100%***********************]  1 of 1 completed\n"
     ]
    },
    {
     "name": "stdout",
     "output_type": "stream",
     "text": [
      "✅ Colonnes après aplatissement : ['Adj Close', 'Close', 'High', 'Low', 'Open', 'Volume']\n",
      "                 Open       High        Low      Close  Adj Close    Volume\n",
      "Date                                                                       \n",
      "2016-07-05  31.152157  34.267372  30.518393  30.647669  29.362041   9880426\n",
      "2016-07-06  29.682835  30.647669  29.190958  30.111650  28.848501  10634933\n",
      "2016-07-07  30.029671  30.269302  29.856253  30.105343  28.842461   8700775\n",
      "2016-07-08  30.244078  31.915195  29.972916  31.656645  30.328691   6729194\n",
      "2016-07-11  31.032341  32.306175  30.887300  32.236809  30.884518   9581668\n",
      "✅ Données sauvegardées dans FTV_data.csv\n"
     ]
    },
    {
     "name": "stderr",
     "output_type": "stream",
     "text": [
      "[*********************100%***********************]  1 of 1 completed\n"
     ]
    },
    {
     "name": "stdout",
     "output_type": "stream",
     "text": [
      "✅ Colonnes après aplatissement : ['Adj Close', 'Close', 'High', 'Low', 'Open', 'Volume']\n",
      "                 Open       High        Low      Close  Adj Close    Volume\n",
      "Date                                                                       \n",
      "2019-03-12  38.000000  38.000000  38.000000  38.000000  34.759541     10000\n",
      "2019-03-13  39.000000  39.900002  38.700001  39.750000  36.360306  20477400\n",
      "2019-03-14  39.750000  41.400002  39.750000  40.650002  37.183556   6248600\n",
      "2019-03-15  41.380001  41.869999  41.240002  41.700001  38.144020   7107300\n",
      "2019-03-18  41.950001  41.950001  41.049999  41.700001  38.144020   4020900\n",
      "✅ Données sauvegardées dans FOXA_data.csv\n"
     ]
    },
    {
     "name": "stderr",
     "output_type": "stream",
     "text": [
      "[*********************100%***********************]  1 of 1 completed\n"
     ]
    },
    {
     "name": "stdout",
     "output_type": "stream",
     "text": [
      "✅ Colonnes après aplatissement : ['Adj Close', 'Close', 'High', 'Low', 'Open', 'Volume']\n",
      "                 Open       High        Low      Close  Adj Close   Volume\n",
      "Date                                                                      \n",
      "2019-03-13  38.599998  39.299999  38.000000  39.200001  35.673561   306000\n",
      "2019-03-14  39.500000  40.650002  39.320000  39.959999  36.365189   279700\n",
      "2019-03-15  40.549999  41.049999  40.500000  41.020000  37.329826   164200\n",
      "2019-03-18  41.730000  41.730000  40.470001  40.860001  37.184227   581700\n",
      "2019-03-19  41.400002  41.400002  39.049999  39.549999  35.992073  2540200\n",
      "✅ Données sauvegardées dans FOX_data.csv\n"
     ]
    },
    {
     "name": "stderr",
     "output_type": "stream",
     "text": [
      "[*********************100%***********************]  1 of 1 completed\n"
     ]
    },
    {
     "name": "stdout",
     "output_type": "stream",
     "text": [
      "✅ Colonnes après aplatissement : ['Adj Close', 'Close', 'High', 'Low', 'Open', 'Volume']\n",
      "                 Open       High        Low      Close  Adj Close   Volume\n",
      "Date                                                                      \n",
      "2015-01-02  55.849998  55.910000  54.950001  55.490002  34.680256  1220300\n",
      "2015-01-05  54.919998  55.180000  53.470001  53.650002  33.530285  2452500\n",
      "2015-01-06  53.919998  53.939999  52.189999  52.599998  32.874046  3468100\n",
      "2015-01-07  52.580002  53.410000  52.580002  53.290001  33.305294  1852900\n",
      "2015-01-08  53.650002  54.000000  53.250000  53.990002  33.742779  3303200\n",
      "✅ Données sauvegardées dans BEN_data.csv\n"
     ]
    },
    {
     "name": "stderr",
     "output_type": "stream",
     "text": [
      "[*********************100%***********************]  1 of 1 completed\n"
     ]
    },
    {
     "name": "stdout",
     "output_type": "stream",
     "text": [
      "✅ Colonnes après aplatissement : ['Adj Close', 'Close', 'High', 'Low', 'Open', 'Volume']\n",
      "                 Open       High        Low      Close  Adj Close    Volume\n",
      "Date                                                                       \n",
      "2015-01-02  23.350000  23.719999  23.280001  23.549999  20.874424   9331200\n",
      "2015-01-05  23.070000  23.070000  21.950001  22.150000  19.633482  23786900\n",
      "2015-01-06  22.200001  22.790001  22.110001  22.530001  19.970310  15756800\n",
      "2015-01-07  22.799999  22.900000  22.389999  22.860001  20.262823  11749700\n",
      "2015-01-08  23.049999  23.500000  22.820000  23.370001  20.714882  10959100\n",
      "✅ Données sauvegardées dans FCX_data.csv\n"
     ]
    },
    {
     "name": "stderr",
     "output_type": "stream",
     "text": [
      "[*********************100%***********************]  1 of 1 completed\n"
     ]
    },
    {
     "name": "stdout",
     "output_type": "stream",
     "text": [
      "✅ Colonnes après aplatissement : ['Adj Close', 'Close', 'High', 'Low', 'Open', 'Volume']\n",
      "                 Open       High        Low      Close  Adj Close   Volume\n",
      "Date                                                                      \n",
      "2015-01-02  52.980000  53.139999  52.320000  52.580002  38.440804   785200\n",
      "2015-01-05  52.240002  52.410000  51.080002  51.130001  37.380711  1611300\n",
      "2015-01-06  51.049999  51.250000  50.080002  50.509998  36.927433  2078400\n",
      "2015-01-07  51.360001  51.980000  51.340000  51.450001  37.614662  1750100\n",
      "2015-01-08  51.660000  51.869999  50.959999  51.450001  37.614662  2235700\n",
      "✅ Données sauvegardées dans GRMN_data.csv\n"
     ]
    },
    {
     "name": "stderr",
     "output_type": "stream",
     "text": [
      "[*********************100%***********************]  1 of 1 completed\n"
     ]
    },
    {
     "name": "stdout",
     "output_type": "stream",
     "text": [
      "✅ Colonnes après aplatissement : ['Adj Close', 'Close', 'High', 'Low', 'Open', 'Volume']\n",
      "                 Open       High        Low      Close  Adj Close  Volume\n",
      "Date                                                                     \n",
      "2015-01-02  84.639999  84.849998  82.730003  83.599998  83.599998  206700\n",
      "2015-01-05  82.879997  83.790001  82.070000  82.099998  82.099998  276500\n",
      "2015-01-06  81.919998  82.580002  81.070000  81.349998  81.349998  352000\n",
      "2015-01-07  81.709999  82.699997  81.379997  82.599998  82.599998  222900\n",
      "2015-01-08  83.019997  83.839996  82.709999  83.430000  83.430000  260200\n",
      "✅ Données sauvegardées dans IT_data.csv\n"
     ]
    },
    {
     "name": "stderr",
     "output_type": "stream",
     "text": [
      "[*********************100%***********************]  1 of 1 completed\n"
     ]
    },
    {
     "name": "stdout",
     "output_type": "stream",
     "text": [
      "✅ Colonnes après aplatissement : ['Adj Close', 'Close', 'High', 'Low', 'Open', 'Volume']\n",
      "                  Open        High         Low       Close   Adj Close  \\\n",
      "Date                                                                     \n",
      "2015-01-02  121.440361  122.015457  119.187920  120.098480  102.822708   \n",
      "2015-01-05  119.858856  119.858856  117.510567  117.893959  100.935310   \n",
      "2015-01-06  117.223015  117.750183  114.683029  115.353966   98.760666   \n",
      "2015-01-07  116.024910  116.887550  114.922646  115.401894   98.801720   \n",
      "2015-01-08  116.552078  116.839622  115.641518  116.791702   99.991615   \n",
      "\n",
      "              Volume  \n",
      "Date                  \n",
      "2015-01-02   8538620  \n",
      "2015-01-05   8770735  \n",
      "2015-01-06  13304295  \n",
      "2015-01-07   9106535  \n",
      "2015-01-08   9019294  \n",
      "✅ Données sauvegardées dans GE_data.csv\n"
     ]
    },
    {
     "name": "stderr",
     "output_type": "stream",
     "text": [
      "[*********************100%***********************]  1 of 1 completed\n",
      "[*********************100%***********************]  1 of 1 completed\n"
     ]
    },
    {
     "name": "stdout",
     "output_type": "stream",
     "text": [
      "✅ Colonnes après aplatissement : ['Adj Close', 'Close', 'High', 'Low', 'Open', 'Volume']\n",
      "            Open       High        Low      Close  Adj Close   Volume\n",
      "Date                                                                 \n",
      "2022-12-15  63.0  63.000000  60.000000  60.000000  59.785351  1318200\n",
      "2022-12-16  60.0  60.000000  55.000000  56.740002  56.537010  2307500\n",
      "2022-12-19  53.0  58.990002  53.000000  56.500000  56.297874   117200\n",
      "2022-12-20  58.0  58.000000  56.759998  57.209999  57.005329    22200\n",
      "2022-12-21  59.0  66.279999  55.500000  56.959999  56.756226   290700\n",
      "✅ Données sauvegardées dans GEHC_data.csv\n",
      "✅ Colonnes après aplatissement : ['Adj Close', 'Close', 'High', 'Low', 'Open', 'Volume']\n",
      "                  Open        High         Low       Close   Adj Close  \\\n",
      "Date                                                                     \n",
      "2024-04-01  141.009995  144.330002  137.070007  142.020004  141.805206   \n",
      "2024-04-02  142.850006  152.479996  138.639999  140.000000  139.788269   \n",
      "2024-04-03  142.300003  144.000000  135.800003  137.339996  137.132278   \n",
      "2024-04-04  136.000000  139.350006  125.260002  126.059998  125.869339   \n",
      "2024-04-05  125.500000  128.179993  119.000000  122.699997  122.514420   \n",
      "\n",
      "              Volume  \n",
      "Date                  \n",
      "2024-04-01   1029500  \n",
      "2024-04-02  18246100  \n",
      "2024-04-03   8866900  \n",
      "2024-04-04  14207700  \n",
      "2024-04-05  16051000  \n",
      "✅ Données sauvegardées dans GEV_data.csv\n"
     ]
    },
    {
     "name": "stderr",
     "output_type": "stream",
     "text": [
      "[*********************100%***********************]  1 of 1 completed\n"
     ]
    },
    {
     "name": "stdout",
     "output_type": "stream",
     "text": [
      "✅ Colonnes après aplatissement : ['Adj Close', 'Close', 'High', 'Low', 'Open', 'Volume']\n",
      "                 Open       High        Low      Close  Adj Close   Volume\n",
      "Date                                                                      \n",
      "2015-01-02  25.790001  26.110001  25.469999  25.590000   9.706328  2508900\n",
      "2015-01-05  25.559999  25.770000  25.190001  25.230000   9.569777  4177000\n",
      "2015-01-06  25.450001  25.450001  24.770000  24.840000   9.421853  5307700\n",
      "2015-01-07  24.900000  25.209999  24.740000  25.070000   9.509096  3040200\n",
      "2015-01-08  25.209999  25.660000  25.190001  25.530001   9.683575  3527800\n",
      "✅ Données sauvegardées dans GEN_data.csv\n"
     ]
    },
    {
     "name": "stderr",
     "output_type": "stream",
     "text": [
      "[*********************100%***********************]  1 of 1 completed\n"
     ]
    },
    {
     "name": "stdout",
     "output_type": "stream",
     "text": [
      "✅ Colonnes après aplatissement : ['Adj Close', 'Close', 'High', 'Low', 'Open', 'Volume']\n",
      "                 Open       High        Low      Close  Adj Close   Volume\n",
      "Date                                                                      \n",
      "2015-01-02  47.099998  47.299999  45.799999  46.369999  46.369999   545200\n",
      "2015-01-05  46.080002  46.630001  45.580002  45.980000  45.980000  1002600\n",
      "2015-01-06  45.970001  46.000000  45.400002  45.799999  45.799999  1107200\n",
      "2015-01-07  46.000000  46.110001  44.889999  45.080002  45.080002   895800\n",
      "2015-01-08  45.509998  45.900002  45.110001  45.770000  45.770000   474600\n",
      "✅ Données sauvegardées dans GNRC_data.csv\n"
     ]
    },
    {
     "name": "stderr",
     "output_type": "stream",
     "text": [
      "[*********************100%***********************]  1 of 1 completed\n"
     ]
    },
    {
     "name": "stdout",
     "output_type": "stream",
     "text": [
      "✅ Colonnes après aplatissement : ['Adj Close', 'Close', 'High', 'Low', 'Open', 'Volume']\n",
      "                  Open        High         Low       Close   Adj Close  \\\n",
      "Date                                                                     \n",
      "2015-01-02  138.470001  139.050003  137.160004  138.449997  109.414482   \n",
      "2015-01-05  137.960007  138.630005  135.380005  135.559998  107.130562   \n",
      "2015-01-06  135.779999  136.610001  134.179993  135.720001  107.256958   \n",
      "2015-01-07  135.789993  136.669998  134.970001  135.199997  106.846077   \n",
      "2015-01-08  136.130005  138.570007  135.970001  138.460007  109.422417   \n",
      "\n",
      "             Volume  \n",
      "Date                 \n",
      "2015-01-02  1111700  \n",
      "2015-01-05  1437100  \n",
      "2015-01-06  2766800  \n",
      "2015-01-07  2067200  \n",
      "2015-01-08  3858400  \n",
      "✅ Données sauvegardées dans GD_data.csv\n"
     ]
    },
    {
     "name": "stderr",
     "output_type": "stream",
     "text": [
      "[*********************100%***********************]  1 of 1 completed\n"
     ]
    },
    {
     "name": "stdout",
     "output_type": "stream",
     "text": [
      "✅ Colonnes après aplatissement : ['Adj Close', 'Close', 'High', 'Low', 'Open', 'Volume']\n",
      "                 Open       High        Low      Close  Adj Close   Volume\n",
      "Date                                                                      \n",
      "2015-01-02  53.099998  53.599998  52.799999  53.110001  37.120037  2165000\n",
      "2015-01-05  52.270000  52.689999  52.060001  52.150002  36.449070  4149500\n",
      "2015-01-06  52.439999  52.619999  51.900002  52.020000  36.358223  3036200\n",
      "2015-01-07  52.450001  53.259998  52.369999  53.119999  37.127029  3204200\n",
      "2015-01-08  53.090000  53.660000  52.970001  53.570000  37.732777  3998400\n",
      "✅ Données sauvegardées dans GIS_data.csv\n"
     ]
    },
    {
     "name": "stderr",
     "output_type": "stream",
     "text": [
      "[*********************100%***********************]  1 of 1 completed\n"
     ]
    },
    {
     "name": "stdout",
     "output_type": "stream",
     "text": [
      "✅ Colonnes après aplatissement : ['Adj Close', 'Close', 'High', 'Low', 'Open', 'Volume']\n",
      "                 Open       High        Low      Close  Adj Close    Volume\n",
      "Date                                                                       \n",
      "2015-01-02  35.270000  35.310001  34.410000  34.840000  27.022446   9756700\n",
      "2015-01-05  34.980000  35.250000  34.070000  34.330002  26.626875  16223000\n",
      "2015-01-06  34.410000  35.220001  34.099998  34.849998  27.030193  17747600\n",
      "2015-01-07  35.230000  35.950001  35.040001  35.840000  27.798054  19319200\n",
      "2015-01-08  36.060001  36.450001  35.799999  36.200001  28.077271  15206600\n",
      "✅ Données sauvegardées dans GM_data.csv\n"
     ]
    },
    {
     "name": "stderr",
     "output_type": "stream",
     "text": [
      "[*********************100%***********************]  1 of 1 completed\n"
     ]
    },
    {
     "name": "stdout",
     "output_type": "stream",
     "text": [
      "✅ Colonnes après aplatissement : ['Adj Close', 'Close', 'High', 'Low', 'Open', 'Volume']\n",
      "                  Open        High         Low       Close  Adj Close   Volume\n",
      "Date                                                                          \n",
      "2015-01-02  107.400002  108.070000  105.510002  106.519997  78.857407   580400\n",
      "2015-01-05  106.330002  106.769997  105.440002  105.839996  78.353973  1171600\n",
      "2015-01-06  100.910004  104.110001  100.250000  101.500000  75.141052  2292400\n",
      "2015-01-07  102.500000  103.269997  102.110001  103.050003  76.288536  1083800\n",
      "2015-01-08  103.709999  104.230003  102.580002  103.269997  76.451408  1218800\n",
      "✅ Données sauvegardées dans GPC_data.csv\n"
     ]
    },
    {
     "name": "stderr",
     "output_type": "stream",
     "text": [
      "[*********************100%***********************]  1 of 1 completed\n"
     ]
    },
    {
     "name": "stdout",
     "output_type": "stream",
     "text": [
      "✅ Colonnes après aplatissement : ['Adj Close', 'Close', 'High', 'Low', 'Open', 'Volume']\n",
      "                  Open        High         Low       Close  Adj Close  \\\n",
      "Date                                                                    \n",
      "2015-01-02   95.139999   96.650002   94.519997   94.910004  66.835304   \n",
      "2015-01-05   95.239998   98.730003   93.180000   96.790001  68.159203   \n",
      "2015-01-06   98.470001   99.339996   96.089996   97.650002  68.764793   \n",
      "2015-01-07   99.309998   99.900002   98.440002   99.480003  70.053459   \n",
      "2015-01-08  100.800003  102.449997  100.290001  102.300003  72.039314   \n",
      "\n",
      "              Volume  \n",
      "Date                  \n",
      "2015-01-02  12340200  \n",
      "2015-01-05  27530400  \n",
      "2015-01-06  22363800  \n",
      "2015-01-07  16373700  \n",
      "2015-01-08  18902300  \n",
      "✅ Données sauvegardées dans GILD_data.csv\n"
     ]
    },
    {
     "name": "stderr",
     "output_type": "stream",
     "text": [
      "[*********************100%***********************]  1 of 1 completed\n"
     ]
    },
    {
     "name": "stdout",
     "output_type": "stream",
     "text": [
      "✅ Colonnes après aplatissement : ['Adj Close', 'Close', 'High', 'Low', 'Open', 'Volume']\n",
      "                 Open       High        Low      Close  Adj Close   Volume\n",
      "Date                                                                      \n",
      "2015-01-02  40.630001  40.775002  40.014999  40.325001  38.536175   497000\n",
      "2015-01-05  40.169998  40.270000  39.470001  39.639999  37.881554  1174400\n",
      "2015-01-06  39.740002  39.924999  38.865002  39.185001  37.446751  1719800\n",
      "2015-01-07  39.404999  39.700001  39.060001  39.645000  37.886333  1795400\n",
      "2015-01-08  42.869999  43.145000  41.904999  42.389999  40.509571  3869200\n",
      "✅ Données sauvegardées dans GPN_data.csv\n"
     ]
    },
    {
     "name": "stderr",
     "output_type": "stream",
     "text": [
      "[*********************100%***********************]  1 of 1 completed\n"
     ]
    },
    {
     "name": "stdout",
     "output_type": "stream",
     "text": [
      "✅ Colonnes après aplatissement : ['Adj Close', 'Close', 'High', 'Low', 'Open', 'Volume']\n",
      "                 Open       High        Low      Close  Adj Close   Volume\n",
      "Date                                                                      \n",
      "2015-01-02  54.509998  54.599998  53.669998  54.160000  49.541870   617800\n",
      "2015-01-05  53.740002  53.869999  53.040001  53.189999  48.654598   505300\n",
      "2015-01-06  53.110001  53.169998  52.360001  52.470001  47.995987   669000\n",
      "2015-01-07  51.830002  53.060001  51.830002  52.529999  48.050869  1254300\n",
      "2015-01-08  53.020000  53.700001  52.880001  53.340000  48.791798  1059400\n",
      "✅ Données sauvegardées dans GL_data.csv\n"
     ]
    },
    {
     "name": "stderr",
     "output_type": "stream",
     "text": [
      "[*********************100%***********************]  1 of 1 completed\n"
     ]
    },
    {
     "name": "stdout",
     "output_type": "stream",
     "text": [
      "✅ Colonnes après aplatissement : ['Adj Close', 'Close', 'High', 'Low', 'Open', 'Volume']\n",
      "                 Open       High    Low      Close  Adj Close    Volume\n",
      "Date                                                                   \n",
      "2015-03-31  20.000000  20.000000  20.00  20.000000  20.000000         0\n",
      "2015-04-01  26.150000  26.840000  25.49  26.150000  26.150000  23177400\n",
      "2015-04-02  26.719999  27.270000  25.83  26.500000  26.500000   5166100\n",
      "2015-04-06  26.719999  26.799999  25.35  25.799999  25.799999   2090200\n",
      "2015-04-07  25.840000  25.850000  25.16  25.240000  25.240000    939400\n",
      "✅ Données sauvegardées dans GDDY_data.csv\n"
     ]
    },
    {
     "name": "stderr",
     "output_type": "stream",
     "text": [
      "[*********************100%***********************]  1 of 1 completed\n"
     ]
    },
    {
     "name": "stdout",
     "output_type": "stream",
     "text": [
      "✅ Colonnes après aplatissement : ['Adj Close', 'Close', 'High', 'Low', 'Open', 'Volume']\n",
      "                  Open        High         Low       Close   Adj Close  \\\n",
      "Date                                                                     \n",
      "2015-01-02  195.300003  195.729996  192.699997  194.410004  157.990326   \n",
      "2015-01-05  193.059998  194.039993  187.479996  188.339996  153.057419   \n",
      "2015-01-06  188.300003  188.660004  183.929993  184.529999  149.961166   \n",
      "2015-01-07  186.850006  187.990005  185.770004  187.279999  152.196030   \n",
      "2015-01-08  189.350006  190.820007  189.250000  190.270004  154.625916   \n",
      "\n",
      "             Volume  \n",
      "Date                 \n",
      "2015-01-02  1877700  \n",
      "2015-01-05  3413200  \n",
      "2015-01-06  3429200  \n",
      "2015-01-07  1896800  \n",
      "2015-01-08  1962500  \n",
      "✅ Données sauvegardées dans GS_data.csv\n"
     ]
    },
    {
     "name": "stderr",
     "output_type": "stream",
     "text": [
      "[*********************100%***********************]  1 of 1 completed\n"
     ]
    },
    {
     "name": "stdout",
     "output_type": "stream",
     "text": [
      "✅ Colonnes après aplatissement : ['Adj Close', 'Close', 'High', 'Low', 'Open', 'Volume']\n",
      "                 Open       High        Low      Close  Adj Close    Volume\n",
      "Date                                                                       \n",
      "2015-01-02  39.169998  39.939999  38.970001  39.490002  32.426189  11560200\n",
      "2015-01-05  38.930000  38.959999  38.220001  38.709999  31.785692  19738700\n",
      "2015-01-06  38.389999  38.730000  38.070000  38.330002  31.473696  20456300\n",
      "2015-01-07  38.740002  39.400002  38.549999  39.360001  32.319439  17556300\n",
      "2015-01-08  39.759998  40.400002  39.099998  40.209999  33.017399  20043600\n",
      "✅ Données sauvegardées dans HAL_data.csv\n"
     ]
    },
    {
     "name": "stderr",
     "output_type": "stream",
     "text": [
      "[*********************100%***********************]  1 of 1 completed\n"
     ]
    },
    {
     "name": "stdout",
     "output_type": "stream",
     "text": [
      "✅ Colonnes après aplatissement : ['Adj Close', 'Close', 'High', 'Low', 'Open', 'Volume']\n",
      "                 Open       High        Low      Close  Adj Close   Volume\n",
      "Date                                                                      \n",
      "2015-01-02  41.939999  42.189999  41.540001  41.790001  33.398560  1846900\n",
      "2015-01-05  41.520000  41.599998  40.720001  40.910000  32.695259  2724000\n",
      "2015-01-06  40.860001  40.990002  40.060001  40.240002  32.159813  3262100\n",
      "2015-01-07  40.580002  40.770000  40.230000  40.619999  32.463501  2705200\n",
      "2015-01-08  41.029999  41.369999  40.959999  41.060001  32.815163  2836700\n",
      "✅ Données sauvegardées dans HIG_data.csv\n"
     ]
    },
    {
     "name": "stderr",
     "output_type": "stream",
     "text": [
      "[*********************100%***********************]  1 of 1 completed\n"
     ]
    },
    {
     "name": "stdout",
     "output_type": "stream",
     "text": [
      "✅ Colonnes après aplatissement : ['Adj Close', 'Close', 'High', 'Low', 'Open', 'Volume']\n",
      "                 Open       High        Low      Close  Adj Close   Volume\n",
      "Date                                                                      \n",
      "2015-01-02  55.450001  55.820000  54.570000  54.970001  39.069134   839400\n",
      "2015-01-05  54.810001  55.299999  54.599998  55.130001  39.182842  1053500\n",
      "2015-01-06  55.389999  55.580002  54.400002  54.410000  38.671108   903500\n",
      "2015-01-07  54.639999  55.029999  53.419998  54.669998  38.855896  1899300\n",
      "2015-01-08  54.939999  55.020000  53.750000  55.000000  39.090443  1789100\n",
      "✅ Données sauvegardées dans HAS_data.csv\n"
     ]
    },
    {
     "name": "stderr",
     "output_type": "stream",
     "text": [
      "[*********************100%***********************]  1 of 1 completed\n"
     ]
    },
    {
     "name": "stdout",
     "output_type": "stream",
     "text": [
      "✅ Colonnes après aplatissement : ['Adj Close', 'Close', 'High', 'Low', 'Open', 'Volume']\n",
      "                 Open       High        Low      Close  Adj Close   Volume\n",
      "Date                                                                      \n",
      "2015-01-02  73.940002  74.629997  73.070000  73.970001  68.984688  2038000\n",
      "2015-01-05  73.930000  73.970001  71.059998  71.809998  66.970268  3025500\n",
      "2015-01-06  71.889999  72.550003  70.910004  71.690002  66.858353  3050300\n",
      "2015-01-07  72.480003  73.449997  72.129997  72.989998  68.070747  2023400\n",
      "2015-01-08  73.769997  75.089996  73.559998  74.930000  69.879990  3626800\n",
      "✅ Données sauvegardées dans HCA_data.csv\n"
     ]
    },
    {
     "name": "stderr",
     "output_type": "stream",
     "text": [
      "[*********************100%***********************]  1 of 1 completed\n"
     ]
    },
    {
     "name": "stdout",
     "output_type": "stream",
     "text": [
      "✅ Colonnes après aplatissement : ['Adj Close', 'Close', 'High', 'Low', 'Open', 'Volume']\n",
      "                 Open       High        Low      Close  Adj Close   Volume\n",
      "Date                                                                      \n",
      "2015-01-02  40.327869  41.074680  40.218578  40.846996  23.511278  2420431\n",
      "2015-01-05  40.601093  41.375229  40.591984  41.256832  23.747181  4333806\n",
      "2015-01-06  41.466301  42.285973  41.438980  42.040073  24.198004  5526673\n",
      "2015-01-07  42.258652  43.096539  41.985428  42.932606  24.711739  4284616\n",
      "2015-01-08  43.105648  43.415302  42.131149  42.358833  24.381479  6525743\n",
      "✅ Données sauvegardées dans DOC_data.csv\n"
     ]
    },
    {
     "name": "stderr",
     "output_type": "stream",
     "text": [
      "[*********************100%***********************]  1 of 1 completed\n"
     ]
    },
    {
     "name": "stdout",
     "output_type": "stream",
     "text": [
      "✅ Colonnes après aplatissement : ['Adj Close', 'Close', 'High', 'Low', 'Open', 'Volume']\n",
      "                 Open       High        Low      Close  Adj Close   Volume\n",
      "Date                                                                      \n",
      "2015-01-02  53.568626  54.164707  53.211765  53.662746  53.662746   885105\n",
      "2015-01-05  53.682354  53.909805  53.152943  53.180393  53.180393   957270\n",
      "2015-01-06  53.231373  53.741177  52.458824  52.870586  52.870586  1956870\n",
      "2015-01-07  53.333332  54.447060  52.850979  54.333332  54.333332  1178355\n",
      "2015-01-08  54.611767  55.294117  54.611767  55.098038  55.098038  1185495\n",
      "✅ Données sauvegardées dans HSIC_data.csv\n"
     ]
    },
    {
     "name": "stderr",
     "output_type": "stream",
     "text": [
      "[*********************100%***********************]  1 of 1 completed\n"
     ]
    },
    {
     "name": "stdout",
     "output_type": "stream",
     "text": [
      "✅ Colonnes après aplatissement : ['Adj Close', 'Close', 'High', 'Low', 'Open', 'Volume']\n",
      "                  Open        High         Low       Close  Adj Close   Volume\n",
      "Date                                                                          \n",
      "2015-01-02  104.330002  104.589996  102.930000  103.709999  81.010094   786500\n",
      "2015-01-05  103.150002  104.000000  102.500000  102.980003  80.439880   857800\n",
      "2015-01-06  103.349998  104.300003  102.900002  103.320000  80.705460  1241200\n",
      "2015-01-07  104.199997  105.489998  103.830002  105.139999  82.127075  1020600\n",
      "2015-01-08  105.930000  107.500000  105.510002  107.169998  83.712753  1245800\n",
      "✅ Données sauvegardées dans HSY_data.csv\n"
     ]
    },
    {
     "name": "stderr",
     "output_type": "stream",
     "text": [
      "[*********************100%***********************]  1 of 1 completed\n"
     ]
    },
    {
     "name": "stdout",
     "output_type": "stream",
     "text": [
      "✅ Colonnes après aplatissement : ['Adj Close', 'Close', 'High', 'Low', 'Open', 'Volume']\n",
      "                 Open       High        Low      Close  Adj Close   Volume\n",
      "Date                                                                      \n",
      "2015-01-02  73.190002  74.820000  72.949997  74.139999  62.317871  1908000\n",
      "2015-01-05  72.639999  73.000000  69.940002  70.550003  59.300312  3510300\n",
      "2015-01-06  69.879997  71.709999  68.769997  69.459999  58.384098  3651000\n",
      "2015-01-07  70.300003  71.110001  68.940002  69.300003  58.249649  2309600\n",
      "2015-01-08  70.209999  71.550003  69.599998  71.379997  59.997963  3349900\n",
      "✅ Données sauvegardées dans HES_data.csv\n"
     ]
    },
    {
     "name": "stderr",
     "output_type": "stream",
     "text": [
      "[*********************100%***********************]  1 of 1 completed\n"
     ]
    },
    {
     "name": "stdout",
     "output_type": "stream",
     "text": [
      "✅ Colonnes après aplatissement : ['Adj Close', 'Close', 'High', 'Low', 'Open', 'Volume']\n",
      "                 Open       High       Low     Close  Adj Close   Volume\n",
      "Date                                                                    \n",
      "2015-10-19  10.752331  10.752331  9.578292  9.618977   7.355112  2721233\n",
      "2015-10-20   9.444615   9.839836  9.444615  9.804963   7.497328  1220907\n",
      "2015-10-21  10.025822  10.083943  9.531796  9.578292   7.324004   135236\n",
      "2015-10-22   9.711970   9.909580  9.438803  9.851460   7.532881   189261\n",
      "2015-10-23  10.025822  10.025822  9.793339  9.880520   7.555104   103061\n",
      "✅ Données sauvegardées dans HPE_data.csv\n"
     ]
    },
    {
     "name": "stderr",
     "output_type": "stream",
     "text": [
      "[*********************100%***********************]  1 of 1 completed\n"
     ]
    },
    {
     "name": "stdout",
     "output_type": "stream",
     "text": [
      "✅ Colonnes après aplatissement : ['Adj Close', 'Close', 'High', 'Low', 'Open', 'Volume']\n",
      "                 Open       High        Low      Close  Adj Close   Volume\n",
      "Date                                                                      \n",
      "2015-01-02  53.762402  53.906040  52.284962  53.228882  50.392891  1791667\n",
      "2015-01-05  52.839001  53.044201  51.299999  51.505199  48.761047  2112135\n",
      "2015-01-06  51.402599  51.423119  49.986721  51.033241  48.314240  3422661\n",
      "2015-01-07  51.648842  52.059238  51.135841  51.854038  49.091301  2239425\n",
      "2015-01-08  52.305481  53.393040  52.141319  53.290440  50.451172  2098489\n",
      "✅ Données sauvegardées dans HLT_data.csv\n"
     ]
    },
    {
     "name": "stderr",
     "output_type": "stream",
     "text": [
      "[*********************100%***********************]  1 of 1 completed\n"
     ]
    },
    {
     "name": "stdout",
     "output_type": "stream",
     "text": [
      "✅ Colonnes après aplatissement : ['Adj Close', 'Close', 'High', 'Low', 'Open', 'Volume']\n",
      "                 Open       High        Low      Close  Adj Close   Volume\n",
      "Date                                                                      \n",
      "2015-01-02  26.830000  27.000000  26.150000  26.379999  26.379999  1460700\n",
      "2015-01-05  26.299999  26.480000  25.959999  26.120001  26.120001   942500\n",
      "2015-01-06  26.200001  26.389999  25.660000  25.750000  25.750000  1488000\n",
      "2015-01-07  25.740000  26.410000  25.600000  26.400000  26.400000  2059500\n",
      "2015-01-08  27.090000  27.139999  26.459999  27.110001  27.110001  3008700\n",
      "✅ Données sauvegardées dans HOLX_data.csv\n"
     ]
    },
    {
     "name": "stderr",
     "output_type": "stream",
     "text": [
      "[*********************100%***********************]  1 of 1 completed\n"
     ]
    },
    {
     "name": "stdout",
     "output_type": "stream",
     "text": [
      "✅ Colonnes après aplatissement : ['Adj Close', 'Close', 'High', 'Low', 'Open', 'Volume']\n",
      "                  Open        High         Low       Close  Adj Close   Volume\n",
      "Date                                                                          \n",
      "2015-01-02  105.160004  105.660004  102.669998  103.430000  80.874947  4323700\n",
      "2015-01-05  102.779999  102.779999  100.790001  101.260002  79.178139  5878100\n",
      "2015-01-06  102.070000  102.070000  100.339996  100.949997  78.935753  4910100\n",
      "2015-01-07  102.290001  104.470001  102.000000  104.410004  81.641205  5091000\n",
      "2015-01-08  105.370003  106.989998  105.019997  106.720001  83.447479  6464600\n",
      "✅ Données sauvegardées dans HD_data.csv\n"
     ]
    },
    {
     "name": "stderr",
     "output_type": "stream",
     "text": [
      "[*********************100%***********************]  1 of 1 completed\n"
     ]
    },
    {
     "name": "stdout",
     "output_type": "stream",
     "text": [
      "✅ Colonnes après aplatissement : ['Adj Close', 'Close', 'High', 'Low', 'Open', 'Volume']\n",
      "                 Open       High        Low      Close  Adj Close   Volume\n",
      "Date                                                                      \n",
      "2015-01-02  95.527626  96.147316  94.478920  95.556229  76.904449  2232817\n",
      "2015-01-05  95.241615  95.241615  93.430214  93.735291  75.438950  3310049\n",
      "2015-01-06  93.716225  94.850731  92.982132  93.516014  75.262466  4438363\n",
      "2015-01-07  94.450317  95.193947  93.897362  94.192909  75.807213  2738078\n",
      "2015-01-08  94.993736  96.099648  94.993736  95.908974  77.188339  2686367\n",
      "✅ Données sauvegardées dans HON_data.csv\n"
     ]
    },
    {
     "name": "stderr",
     "output_type": "stream",
     "text": [
      "[*********************100%***********************]  1 of 1 completed\n"
     ]
    },
    {
     "name": "stdout",
     "output_type": "stream",
     "text": [
      "✅ Colonnes après aplatissement : ['Adj Close', 'Close', 'High', 'Low', 'Open', 'Volume']\n",
      "                 Open       High        Low      Close  Adj Close   Volume\n",
      "Date                                                                      \n",
      "2015-01-02  26.080000  26.174999  25.670000  25.809999  20.320816   886400\n",
      "2015-01-05  25.665001  25.770000  25.305000  25.350000  19.958649  1382800\n",
      "2015-01-06  25.465000  25.565001  25.090000  25.160000  19.809055  2561600\n",
      "2015-01-07  25.344999  25.680000  25.344999  25.570000  20.131861  2520800\n",
      "2015-01-08  25.745001  25.934999  25.684999  25.844999  20.348372  1923800\n",
      "✅ Données sauvegardées dans HRL_data.csv\n"
     ]
    },
    {
     "name": "stderr",
     "output_type": "stream",
     "text": [
      "[*********************100%***********************]  1 of 1 completed\n"
     ]
    },
    {
     "name": "stdout",
     "output_type": "stream",
     "text": [
      "✅ Colonnes après aplatissement : ['Adj Close', 'Close', 'High', 'Low', 'Open', 'Volume']\n",
      "                 Open       High        Low      Close  Adj Close    Volume\n",
      "Date                                                                       \n",
      "2015-01-02  23.900000  23.910000  23.639999  23.809999  15.774973   4139800\n",
      "2015-01-05  23.680000  23.740000  23.490000  23.620001  15.649086   6250600\n",
      "2015-01-06  23.750000  24.030001  23.330000  23.520000  15.582839  10223500\n",
      "2015-01-07  23.450001  23.799999  23.270000  23.650000  15.668963   6558100\n",
      "2015-01-08  23.770000  24.150000  23.650000  23.900000  15.834603   8246100\n",
      "✅ Données sauvegardées dans HST_data.csv\n"
     ]
    },
    {
     "name": "stderr",
     "output_type": "stream",
     "text": [
      "[*********************100%***********************]  1 of 1 completed\n"
     ]
    },
    {
     "name": "stdout",
     "output_type": "stream",
     "text": [
      "✅ Colonnes après aplatissement : ['Adj Close', 'Close', 'High', 'Low', 'Open', 'Volume']\n",
      "                 Open       High        Low      Close  Adj Close  Volume\n",
      "Date                                                                     \n",
      "2016-11-01  22.240000  22.639999  18.750000  18.920000  18.478981       0\n",
      "2016-11-02  18.860001  18.969999  17.629999  17.940001  17.521826       0\n",
      "2016-11-03  17.730000  18.049999  17.420000  17.490000  17.082315       0\n",
      "2016-11-04  17.600000  17.799999  17.510000  17.680000  17.267885       0\n",
      "2016-11-07  17.900000  18.000000  17.280001  17.340000  16.935808       0\n",
      "✅ Données sauvegardées dans HWM_data.csv\n"
     ]
    },
    {
     "name": "stderr",
     "output_type": "stream",
     "text": [
      "[*********************100%***********************]  1 of 1 completed\n"
     ]
    },
    {
     "name": "stdout",
     "output_type": "stream",
     "text": [
      "✅ Colonnes après aplatissement : ['Adj Close', 'Close', 'High', 'Low', 'Open', 'Volume']\n",
      "                 Open       High        Low      Close  Adj Close    Volume\n",
      "Date                                                                       \n",
      "2015-01-02  18.192553  18.383287  17.974569  18.274296  13.064581  21604483\n",
      "2015-01-05  18.074478  18.206177  17.833788  17.970028  12.847049  23850963\n",
      "2015-01-06  18.106268  18.265213  17.674841  17.833788  12.749653  26398677\n",
      "2015-01-07  17.956404  18.051771  17.815622  18.042688  12.899001  23140598\n",
      "2015-01-08  18.219801  18.569483  18.201635  18.474113  13.207423  21644999\n",
      "✅ Données sauvegardées dans HPQ_data.csv\n"
     ]
    },
    {
     "name": "stderr",
     "output_type": "stream",
     "text": [
      "[*********************100%***********************]  1 of 1 completed\n"
     ]
    },
    {
     "name": "stdout",
     "output_type": "stream",
     "text": [
      "✅ Colonnes après aplatissement : ['Adj Close', 'Close', 'High', 'Low', 'Open', 'Volume']\n",
      "                  Open        High         Low       Close  Adj Close  Volume\n",
      "Date                                                                         \n",
      "2015-01-02  108.190002  108.199997  105.903198  107.529999  85.607780  243863\n",
      "2015-01-05  105.959999  107.519997  104.410004  104.580002  83.259209  198959\n",
      "2015-01-06  104.540001  105.470001  102.019997  102.610001  81.690811  404954\n",
      "2015-01-07  103.290001  104.230003  102.010002  102.629997  81.706718  467612\n",
      "2015-01-08  102.820000  105.699997  102.400002  105.519997  84.007538  631224\n",
      "✅ Données sauvegardées dans HUBB_data.csv\n"
     ]
    },
    {
     "name": "stderr",
     "output_type": "stream",
     "text": [
      "[*********************100%***********************]  1 of 1 completed\n"
     ]
    },
    {
     "name": "stdout",
     "output_type": "stream",
     "text": [
      "✅ Colonnes après aplatissement : ['Adj Close', 'Close', 'High', 'Low', 'Open', 'Volume']\n",
      "                  Open        High         Low       Close   Adj Close  \\\n",
      "Date                                                                     \n",
      "2015-01-02  144.949997  146.509995  141.389999  142.990005  132.016251   \n",
      "2015-01-05  141.690002  142.759995  138.690002  139.199997  128.517105   \n",
      "2015-01-06  140.210007  141.490005  137.449997  139.089996  128.415573   \n",
      "2015-01-07  139.729996  142.240005  139.729996  141.729996  130.852921   \n",
      "2015-01-08  143.619995  148.389999  143.619995  147.830002  136.484802   \n",
      "\n",
      "             Volume  \n",
      "Date                 \n",
      "2015-01-02   982800  \n",
      "2015-01-05  1686700  \n",
      "2015-01-06  1770100  \n",
      "2015-01-07   877400  \n",
      "2015-01-08  1350000  \n",
      "✅ Données sauvegardées dans HUM_data.csv\n"
     ]
    },
    {
     "name": "stderr",
     "output_type": "stream",
     "text": [
      "[*********************100%***********************]  1 of 1 completed\n"
     ]
    },
    {
     "name": "stdout",
     "output_type": "stream",
     "text": [
      "✅ Colonnes après aplatissement : ['Adj Close', 'Close', 'High', 'Low', 'Open', 'Volume']\n",
      "             Open   High    Low  Close  Adj Close    Volume\n",
      "Date                                                       \n",
      "2015-01-02  10.60  10.60  10.41  10.50   6.933084   6410200\n",
      "2015-01-05  10.46  10.48  10.19  10.19   6.728392   7511800\n",
      "2015-01-06  10.19  10.25   9.86   9.92   6.550113  11543200\n",
      "2015-01-07  10.03  10.14   9.94  10.05   6.635952  13178300\n",
      "2015-01-08  10.13  10.30  10.11  10.28   6.787818  11257800\n",
      "✅ Données sauvegardées dans HBAN_data.csv\n"
     ]
    },
    {
     "name": "stderr",
     "output_type": "stream",
     "text": [
      "[*********************100%***********************]  1 of 1 completed\n"
     ]
    },
    {
     "name": "stdout",
     "output_type": "stream",
     "text": [
      "✅ Colonnes après aplatissement : ['Adj Close', 'Close', 'High', 'Low', 'Open', 'Volume']\n",
      "                  Open        High         Low       Close  Adj Close  Volume\n",
      "Date                                                                         \n",
      "2015-01-02  112.489998  113.389999  110.589996  111.910004  92.109825  198100\n",
      "2015-01-05  111.650002  112.070000  109.419998  110.230003  90.727066  210200\n",
      "2015-01-06  111.739998  115.040001  111.010002  114.279999  94.060509  438300\n",
      "2015-01-07  115.059998  116.180000  113.089996  114.080002  93.895920  381700\n",
      "2015-01-08  115.080002  117.910004  114.570000  117.739998  96.908333  341100\n",
      "✅ Données sauvegardées dans HII_data.csv\n"
     ]
    },
    {
     "name": "stderr",
     "output_type": "stream",
     "text": [
      "[*********************100%***********************]  1 of 1 completed\n"
     ]
    },
    {
     "name": "stdout",
     "output_type": "stream",
     "text": [
      "✅ Colonnes après aplatissement : ['Adj Close', 'Close', 'High', 'Low', 'Open', 'Volume']\n",
      "                  Open        High         Low       Close  Adj Close   Volume\n",
      "Date                                                                          \n",
      "2015-01-02  154.216064  156.128113  153.919693  154.933075  99.331100  5779673\n",
      "2015-01-05  154.177826  154.177826  152.189301  152.495224  97.768188  5104898\n",
      "2015-01-06  152.648178  152.925430  148.346085  149.206497  95.659698  6429448\n",
      "2015-01-07  150.286804  150.286804  147.256210  148.231354  95.034523  4918083\n",
      "2015-01-08  149.369019  152.045883  148.709366  151.453156  97.100067  4431693\n",
      "✅ Données sauvegardées dans IBM_data.csv\n"
     ]
    },
    {
     "name": "stderr",
     "output_type": "stream",
     "text": [
      "[*********************100%***********************]  1 of 1 completed\n"
     ]
    },
    {
     "name": "stdout",
     "output_type": "stream",
     "text": [
      "✅ Colonnes après aplatissement : ['Adj Close', 'Close', 'High', 'Low', 'Open', 'Volume']\n",
      "                 Open       High        Low      Close  Adj Close  Volume\n",
      "Date                                                                     \n",
      "2015-01-02  78.120003  78.419998  76.830002  77.879997  67.962570  279000\n",
      "2015-01-05  77.019997  77.250000  75.769997  75.889999  66.225998  421000\n",
      "2015-01-06  75.830002  76.309998  73.599998  74.309998  64.847198  718200\n",
      "2015-01-07  74.930000  75.080002  74.110001  74.809998  65.283531  369300\n",
      "2015-01-08  75.169998  76.110001  75.010002  76.019997  66.339439  218100\n",
      "✅ Données sauvegardées dans IEX_data.csv\n"
     ]
    },
    {
     "name": "stderr",
     "output_type": "stream",
     "text": [
      "[*********************100%***********************]  1 of 1 completed\n"
     ]
    },
    {
     "name": "stdout",
     "output_type": "stream",
     "text": [
      "✅ Colonnes après aplatissement : ['Adj Close', 'Close', 'High', 'Low', 'Open', 'Volume']\n",
      "                 Open       High        Low      Close  Adj Close   Volume\n",
      "Date                                                                      \n",
      "2015-01-02  74.315002  75.074997  73.144997  73.665001  73.665001   514200\n",
      "2015-01-05  73.760002  73.980003  72.735001  73.154999  73.154999   622400\n",
      "2015-01-06  73.309998  73.904999  72.379997  73.389999  73.389999  1301000\n",
      "2015-01-07  73.940002  74.900002  73.195000  74.870003  74.870003   572200\n",
      "2015-01-08  75.125000  75.714996  74.845001  75.415001  75.415001   959600\n",
      "✅ Données sauvegardées dans IDXX_data.csv\n"
     ]
    },
    {
     "name": "stderr",
     "output_type": "stream",
     "text": [
      "[*********************100%***********************]  1 of 1 completed\n"
     ]
    },
    {
     "name": "stdout",
     "output_type": "stream",
     "text": [
      "✅ Colonnes après aplatissement : ['Adj Close', 'Close', 'High', 'Low', 'Open', 'Volume']\n",
      "                 Open       High        Low      Close  Adj Close   Volume\n",
      "Date                                                                      \n",
      "2015-01-02  95.160004  95.459999  93.879997  94.680000  74.127457  1378400\n",
      "2015-01-05  94.209999  94.209999  92.180000  92.339996  72.295433  1827500\n",
      "2015-01-06  92.680000  92.820000  90.430000  91.070000  71.301117  2681700\n",
      "2015-01-07  91.839996  92.449997  91.379997  92.059998  72.076195  1696500\n",
      "2015-01-08  92.940002  94.320000  92.900002  94.279999  73.814285  1717400\n",
      "✅ Données sauvegardées dans ITW_data.csv\n"
     ]
    },
    {
     "name": "stderr",
     "output_type": "stream",
     "text": [
      "[*********************100%***********************]  1 of 1 completed\n"
     ]
    },
    {
     "name": "stdout",
     "output_type": "stream",
     "text": [
      "✅ Colonnes après aplatissement : ['Adj Close', 'Close', 'High', 'Low', 'Open', 'Volume']\n",
      "                 Open       High        Low      Close  Adj Close   Volume\n",
      "Date                                                                      \n",
      "2015-01-02  73.650002  74.879997  72.680000  73.760002  73.760002   775100\n",
      "2015-01-05  73.820000  74.980003  73.220001  74.220001  74.220001   968900\n",
      "2015-01-06  73.230003  74.830002  69.050003  71.489998  71.489998  2249200\n",
      "2015-01-07  72.480003  74.699997  71.989998  74.449997  74.449997  1009100\n",
      "2015-01-08  75.000000  75.650002  72.940002  73.209999  73.209999  1091400\n",
      "✅ Données sauvegardées dans INCY_data.csv\n"
     ]
    },
    {
     "name": "stderr",
     "output_type": "stream",
     "text": [
      "[*********************100%***********************]  1 of 1 completed\n"
     ]
    },
    {
     "name": "stdout",
     "output_type": "stream",
     "text": [
      "✅ Colonnes après aplatissement : ['Adj Close', 'Close', 'High', 'Low', 'Open', 'Volume']\n",
      "                 Open       High        Low  Close  Adj Close    Volume\n",
      "Date                                                                   \n",
      "2017-05-12  21.250000  21.299999  20.270000  21.10  21.003448  10933700\n",
      "2017-05-15  21.010000  22.299999  21.010000  22.02  21.919241   3487300\n",
      "2017-05-16  22.190001  22.410000  22.049999  22.10  21.998873   1289300\n",
      "2017-05-17  22.150000  22.510000  21.670000  22.10  21.998873   1583700\n",
      "2017-05-18  22.190001  23.629999  21.980000  22.50  22.397041   4075200\n",
      "✅ Données sauvegardées dans IR_data.csv\n"
     ]
    },
    {
     "name": "stderr",
     "output_type": "stream",
     "text": [
      "[*********************100%***********************]  1 of 1 completed\n"
     ]
    },
    {
     "name": "stdout",
     "output_type": "stream",
     "text": [
      "✅ Colonnes après aplatissement : ['Adj Close', 'Close', 'High', 'Low', 'Open', 'Volume']\n",
      "                 Open       High        Low      Close  Adj Close   Volume\n",
      "Date                                                                      \n",
      "2015-01-02  46.080002  46.910000  44.880001  45.180000  45.180000   401100\n",
      "2015-01-05  44.849998  45.750000  44.849998  45.090000  45.090000   525100\n",
      "2015-01-06  45.360001  46.310001  43.430000  43.490002  43.490002   654700\n",
      "2015-01-07  43.950001  44.549999  43.810001  44.529999  44.529999   545600\n",
      "2015-01-08  41.349998  41.970001  39.759998  40.520000  40.520000  3503100\n",
      "✅ Données sauvegardées dans PODD_data.csv\n"
     ]
    },
    {
     "name": "stderr",
     "output_type": "stream",
     "text": [
      "[*********************100%***********************]  1 of 1 completed\n"
     ]
    },
    {
     "name": "stdout",
     "output_type": "stream",
     "text": [
      "✅ Colonnes après aplatissement : ['Adj Close', 'Close', 'High', 'Low', 'Open', 'Volume']\n",
      "                 Open       High        Low      Close  Adj Close    Volume\n",
      "Date                                                                       \n",
      "2015-01-02  36.669998  37.160000  36.110001  36.360001  27.896461  23605600\n",
      "2015-01-05  36.200001  36.450001  35.939999  35.950001  27.581896  32785000\n",
      "2015-01-06  36.080002  36.230000  35.259998  35.279999  27.067850  30847600\n",
      "2015-01-07  35.639999  36.070000  35.270000  36.020000  27.635607  27725200\n",
      "2015-01-08  36.369999  37.000000  36.259998  36.689999  28.149635  31765400\n",
      "✅ Données sauvegardées dans INTC_data.csv\n"
     ]
    },
    {
     "name": "stderr",
     "output_type": "stream",
     "text": [
      "[*********************100%***********************]  1 of 1 completed\n"
     ]
    },
    {
     "name": "stdout",
     "output_type": "stream",
     "text": [
      "✅ Colonnes après aplatissement : ['Adj Close', 'Close', 'High', 'Low', 'Open', 'Volume']\n",
      "                 Open       High        Low      Close  Adj Close    Volume\n",
      "Date                                                                       \n",
      "2015-01-02  44.077999  44.152000  43.160000  43.528000  38.079041   2868000\n",
      "2015-01-05  43.400002  44.167999  43.230000  43.765999  38.287251   5274000\n",
      "2015-01-06  43.916000  44.155998  42.709999  43.139999  37.739609   6890000\n",
      "2015-01-07  43.293999  43.790001  42.762001  43.750000  38.273247  14759000\n",
      "2015-01-08  43.950001  44.728001  43.950001  44.299999  38.754387   4232000\n",
      "✅ Données sauvegardées dans ICE_data.csv\n"
     ]
    },
    {
     "name": "stderr",
     "output_type": "stream",
     "text": [
      "[*********************100%***********************]  1 of 1 completed\n"
     ]
    },
    {
     "name": "stdout",
     "output_type": "stream",
     "text": [
      "✅ Colonnes après aplatissement : ['Adj Close', 'Close', 'High', 'Low', 'Open', 'Volume']\n",
      "                  Open        High         Low       Close  Adj Close  Volume\n",
      "Date                                                                         \n",
      "2015-01-02  101.419998  101.860001  100.169998  100.849998  78.650192  287600\n",
      "2015-01-05  100.449997  101.059998   98.870003   99.370003  77.495979  381500\n",
      "2015-01-06   99.790001  100.430000   97.589996   98.150002  76.544533  420200\n",
      "2015-01-07   98.750000   99.230003   97.940002   99.120003  77.301003  516700\n",
      "2015-01-08   99.889999  101.680000   99.800003  101.639999  79.266296  333900\n",
      "✅ Données sauvegardées dans IFF_data.csv\n"
     ]
    },
    {
     "name": "stderr",
     "output_type": "stream",
     "text": [
      "[*********************100%***********************]  1 of 1 completed\n"
     ]
    },
    {
     "name": "stdout",
     "output_type": "stream",
     "text": [
      "✅ Colonnes après aplatissement : ['Adj Close', 'Close', 'High', 'Low', 'Open', 'Volume']\n",
      "                 Open       High        Low      Close  Adj Close   Volume\n",
      "Date                                                                      \n",
      "2015-01-02  51.003788  51.145832  50.047348  50.416668  32.402012  2774429\n",
      "2015-01-05  49.952652  50.208332  49.393940  49.621212  31.890783  4297286\n",
      "2015-01-06  49.924240  50.369316  48.835228  48.948864  31.458666  4078483\n",
      "2015-01-07  49.100380  49.157196  48.626896  48.863636  31.403902  3931488\n",
      "2015-01-08  49.554924  50.539772  49.488636  50.539772  32.481117  2965882\n",
      "✅ Données sauvegardées dans IP_data.csv\n"
     ]
    },
    {
     "name": "stderr",
     "output_type": "stream",
     "text": [
      "[*********************100%***********************]  1 of 1 completed\n"
     ]
    },
    {
     "name": "stdout",
     "output_type": "stream",
     "text": [
      "✅ Colonnes après aplatissement : ['Adj Close', 'Close', 'High', 'Low', 'Open', 'Volume']\n",
      "                 Open       High        Low      Close  Adj Close   Volume\n",
      "Date                                                                      \n",
      "2015-01-02  20.850000  20.850000  20.059999  20.250000  13.761522  2627000\n",
      "2015-01-05  20.170000  20.170000  19.610001  19.670000  13.367368  3078800\n",
      "2015-01-06  19.629999  19.809999  19.000000  19.139999  13.007187  9900200\n",
      "2015-01-07  19.299999  19.639999  19.100000  19.639999  13.346983  3536000\n",
      "2015-01-08  19.840000  20.559999  19.790001  20.549999  13.965402  5005900\n",
      "✅ Données sauvegardées dans IPG_data.csv\n"
     ]
    },
    {
     "name": "stderr",
     "output_type": "stream",
     "text": [
      "[*********************100%***********************]  1 of 1 completed\n"
     ]
    },
    {
     "name": "stdout",
     "output_type": "stream",
     "text": [
      "✅ Colonnes après aplatissement : ['Adj Close', 'Close', 'High', 'Low', 'Open', 'Volume']\n",
      "                 Open       High        Low      Close  Adj Close   Volume\n",
      "Date                                                                      \n",
      "2015-01-02  92.209999  93.160004  90.370003  91.209999  83.657646  1880300\n",
      "2015-01-05  90.300003  91.339996  89.739998  90.849998  83.327484  2493300\n",
      "2015-01-06  90.809998  91.199997  87.610001  88.059998  80.768478  2283800\n",
      "2015-01-07  87.970001  89.040001  87.870003  88.669998  81.559525  1657600\n",
      "2015-01-08  89.180000  90.629997  89.120003  89.860001  82.654114  1947100\n",
      "✅ Données sauvegardées dans INTU_data.csv\n"
     ]
    },
    {
     "name": "stderr",
     "output_type": "stream",
     "text": [
      "[*********************100%***********************]  1 of 1 completed\n"
     ]
    },
    {
     "name": "stdout",
     "output_type": "stream",
     "text": [
      "✅ Colonnes après aplatissement : ['Adj Close', 'Close', 'High', 'Low', 'Open', 'Volume']\n",
      "                 Open       High        Low      Close  Adj Close   Volume\n",
      "Date                                                                      \n",
      "2015-01-02  58.986668  59.533333  57.923332  58.396667  58.396667  1603800\n",
      "2015-01-05  58.086666  58.165558  57.087776  57.152222  57.152222  3871800\n",
      "2015-01-06  58.155556  58.270000  57.154446  57.754444  57.754444  2534400\n",
      "2015-01-07  58.197777  59.211109  57.911110  58.071110  58.071110  3394800\n",
      "2015-01-08  58.733334  59.633331  58.197777  59.222221  59.222221  3659400\n",
      "✅ Données sauvegardées dans ISRG_data.csv\n"
     ]
    },
    {
     "name": "stderr",
     "output_type": "stream",
     "text": [
      "[*********************100%***********************]  1 of 1 completed\n"
     ]
    },
    {
     "name": "stdout",
     "output_type": "stream",
     "text": [
      "✅ Colonnes après aplatissement : ['Adj Close', 'Close', 'High', 'Low', 'Open', 'Volume']\n",
      "                 Open       High        Low      Close  Adj Close   Volume\n",
      "Date                                                                      \n",
      "2015-01-02  39.720001  39.820000  38.869999  39.139999  24.570934  2898800\n",
      "2015-01-05  38.770000  38.889999  37.939999  38.000000  23.855280  4067600\n",
      "2015-01-06  37.599998  37.990002  36.900002  37.209999  23.359331  5081100\n",
      "2015-01-07  37.660000  37.959999  37.410000  37.700001  23.666939  2547300\n",
      "2015-01-08  38.160000  38.709999  38.020000  38.360001  24.081272  2892100\n",
      "✅ Données sauvegardées dans IVZ_data.csv\n"
     ]
    },
    {
     "name": "stderr",
     "output_type": "stream",
     "text": [
      "[*********************100%***********************]  1 of 1 completed\n"
     ]
    },
    {
     "name": "stdout",
     "output_type": "stream",
     "text": [
      "✅ Colonnes après aplatissement : ['Adj Close', 'Close', 'High', 'Low', 'Open', 'Volume']\n",
      "                 Open       High        Low      Close  Adj Close    Volume\n",
      "Date                                                                       \n",
      "2017-02-01  20.100000  20.420000  19.799999  20.000000  16.318150  30833000\n",
      "2017-02-02  20.040001  20.410000  20.040001  20.230000  16.505806   4901200\n",
      "2017-02-03  20.350000  20.799999  20.299999  20.629999  16.832172   2631500\n",
      "2017-02-06  21.139999  21.139999  20.549999  20.730000  16.913763   1836800\n",
      "2017-02-07  20.750000  20.860001  20.620001  20.799999  16.970873   3521100\n",
      "✅ Données sauvegardées dans INVH_data.csv\n"
     ]
    },
    {
     "name": "stderr",
     "output_type": "stream",
     "text": [
      "[*********************100%***********************]  1 of 1 completed\n"
     ]
    },
    {
     "name": "stdout",
     "output_type": "stream",
     "text": [
      "✅ Colonnes après aplatissement : ['Adj Close', 'Close', 'High', 'Low', 'Open', 'Volume']\n",
      "                 Open       High        Low      Close  Adj Close  Volume\n",
      "Date                                                                     \n",
      "2015-01-02  59.139999  59.860001  58.779999  59.110001  59.110001  458400\n",
      "2015-01-05  58.459999  59.380001  58.130001  58.410000  58.410000  638300\n",
      "2015-01-06  58.630001  58.630001  56.459999  57.070000  57.070000  966000\n",
      "2015-01-07  57.820000  58.200001  57.500000  57.770000  57.770000  737700\n",
      "2015-01-08  58.439999  59.240002  58.169998  59.200001  59.200001  436100\n",
      "✅ Données sauvegardées dans IQV_data.csv\n"
     ]
    },
    {
     "name": "stderr",
     "output_type": "stream",
     "text": [
      "[*********************100%***********************]  1 of 1 completed\n"
     ]
    },
    {
     "name": "stdout",
     "output_type": "stream",
     "text": [
      "✅ Colonnes après aplatissement : ['Adj Close', 'Close', 'High', 'Low', 'Open', 'Volume']\n",
      "                 Open       High        Low      Close  Adj Close   Volume\n",
      "Date                                                                      \n",
      "2015-01-02  38.950001  39.110001  38.590000  38.959999  21.296650   898700\n",
      "2015-01-05  38.810001  39.270000  38.740002  39.150002  21.400507   907100\n",
      "2015-01-06  39.330002  39.900002  39.029999  39.509998  21.597296  1389300\n",
      "2015-01-07  39.790001  39.959999  39.419998  39.570000  21.630093  1701900\n",
      "2015-01-08  39.939999  40.299999  39.709999  40.299999  22.029142  2114200\n",
      "✅ Données sauvegardées dans IRM_data.csv\n"
     ]
    },
    {
     "name": "stderr",
     "output_type": "stream",
     "text": [
      "[*********************100%***********************]  1 of 1 completed\n"
     ]
    },
    {
     "name": "stdout",
     "output_type": "stream",
     "text": [
      "✅ Colonnes après aplatissement : ['Adj Close', 'Close', 'High', 'Low', 'Open', 'Volume']\n",
      "                 Open       High        Low      Close  Adj Close   Volume\n",
      "Date                                                                      \n",
      "2015-01-02  84.610001  85.459999  82.339996  83.220001  75.395531   576900\n",
      "2015-01-05  82.589996  82.690002  81.260002  81.849998  74.154312   718900\n",
      "2015-01-06  82.239998  82.309998  79.709999  80.440002  72.876884  1233900\n",
      "2015-01-07  81.000000  81.070000  79.830002  80.309998  72.759087   760200\n",
      "2015-01-08  80.650002  81.440002  80.290001  81.260002  73.619804   731400\n",
      "✅ Données sauvegardées dans JBHT_data.csv\n"
     ]
    },
    {
     "name": "stderr",
     "output_type": "stream",
     "text": [
      "[*********************100%***********************]  1 of 1 completed\n"
     ]
    },
    {
     "name": "stdout",
     "output_type": "stream",
     "text": [
      "✅ Colonnes après aplatissement : ['Adj Close', 'Close', 'High', 'Low', 'Open', 'Volume']\n",
      "                 Open       High    Low      Close  Adj Close   Volume\n",
      "Date                                                                  \n",
      "2015-01-02  21.860001  22.000000  21.35  21.620001  19.706715  2018100\n",
      "2015-01-05  21.400000  21.430000  21.16  21.270000  19.387690  2549500\n",
      "2015-01-06  21.299999  21.309999  20.74  21.020000  19.159813  3905500\n",
      "2015-01-07  21.170000  21.420000  21.01  21.420000  19.524412  2016600\n",
      "2015-01-08  21.660000  22.000000  21.60  21.980000  20.034851  3499500\n",
      "✅ Données sauvegardées dans JBL_data.csv\n"
     ]
    },
    {
     "name": "stderr",
     "output_type": "stream",
     "text": [
      "[*********************100%***********************]  1 of 1 completed\n"
     ]
    },
    {
     "name": "stdout",
     "output_type": "stream",
     "text": [
      "✅ Colonnes après aplatissement : ['Adj Close', 'Close', 'High', 'Low', 'Open', 'Volume']\n",
      "                 Open       High        Low      Close  Adj Close  Volume\n",
      "Date                                                                     \n",
      "2015-01-02  62.639999  62.849998  61.720001  62.209999  54.757931  200600\n",
      "2015-01-05  61.910000  61.980000  61.200001  61.630001  54.247395  202800\n",
      "2015-01-06  61.599998  61.849998  60.919998  61.410000  54.053749  263600\n",
      "2015-01-07  61.779999  62.250000  61.299999  61.950001  54.529068  378100\n",
      "2015-01-08  62.580002  63.380001  62.189999  63.230000  55.655724  227200\n",
      "✅ Données sauvegardées dans JKHY_data.csv\n"
     ]
    },
    {
     "name": "stderr",
     "output_type": "stream",
     "text": [
      "[*********************100%***********************]  1 of 1 completed\n"
     ]
    },
    {
     "name": "stdout",
     "output_type": "stream",
     "text": [
      "✅ Colonnes après aplatissement : ['Adj Close', 'Close', 'High', 'Low', 'Open', 'Volume']\n",
      "                 Open       High        Low      Close  Adj Close   Volume\n",
      "Date                                                                      \n",
      "2015-01-02  37.064610  37.246582  36.444244  36.923992  35.039398   939128\n",
      "2015-01-05  36.493874  36.535233  35.368950  35.592281  33.775661  1573837\n",
      "2015-01-06  35.559196  35.584011  34.508713  34.947105  33.163414  1887323\n",
      "2015-01-07  35.203522  35.484753  34.351555  34.483898  32.723854  1862660\n",
      "2015-01-08  34.814758  35.732899  34.533527  35.724625  33.901241  1702109\n",
      "✅ Données sauvegardées dans J_data.csv\n"
     ]
    },
    {
     "name": "stderr",
     "output_type": "stream",
     "text": [
      "[*********************100%***********************]  1 of 1 completed\n"
     ]
    },
    {
     "name": "stdout",
     "output_type": "stream",
     "text": [
      "✅ Colonnes après aplatissement : ['Adj Close', 'Close', 'High', 'Low', 'Open', 'Volume']\n",
      "                  Open        High         Low       Close  Adj Close   Volume\n",
      "Date                                                                          \n",
      "2015-01-02  105.050003  105.550003  104.129997  104.519997  78.012604  5753600\n",
      "2015-01-05  104.480003  104.730003  103.680000  103.790001  77.467743  8079300\n",
      "2015-01-06  104.339996  104.989998  102.940002  103.279999  77.087082  7428000\n",
      "2015-01-07  103.910004  105.830002  103.809998  105.559998  78.788849  7931700\n",
      "2015-01-08  106.059998  106.489998  105.750000  106.389999  79.408363  9916000\n",
      "✅ Données sauvegardées dans JNJ_data.csv\n"
     ]
    },
    {
     "name": "stderr",
     "output_type": "stream",
     "text": [
      "[*********************100%***********************]  1 of 1 completed\n"
     ]
    },
    {
     "name": "stdout",
     "output_type": "stream",
     "text": [
      "✅ Colonnes après aplatissement : ['Adj Close', 'Close', 'High', 'Low', 'Open', 'Volume']\n",
      "                 Open       High        Low      Close  Adj Close   Volume\n",
      "Date                                                                      \n",
      "2015-01-02  46.062828  46.198952  45.340313  45.664921  31.774879  1665329\n",
      "2015-01-05  45.277489  45.560207  44.910995  44.973824  31.293970  1621017\n",
      "2015-01-06  44.890053  44.942410  43.947643  44.481674  30.951529  2111792\n",
      "2015-01-07  44.774868  45.214661  44.680630  45.193718  31.446993  2606482\n",
      "2015-01-08  45.476440  46.062828  45.455498  46.062828  32.051731  2564557\n",
      "✅ Données sauvegardées dans JCI_data.csv\n"
     ]
    },
    {
     "name": "stderr",
     "output_type": "stream",
     "text": [
      "[*********************100%***********************]  1 of 1 completed\n"
     ]
    },
    {
     "name": "stdout",
     "output_type": "stream",
     "text": [
      "✅ Colonnes après aplatissement : ['Adj Close', 'Close', 'High', 'Low', 'Open', 'Volume']\n",
      "                 Open       High        Low      Close  Adj Close    Volume\n",
      "Date                                                                       \n",
      "2015-01-02  62.180000  62.959999  62.070000  62.490002  46.948074  12600000\n",
      "2015-01-05  62.060001  62.279999  60.230000  60.549999  45.490574  20100600\n",
      "2015-01-06  60.639999  60.750000  58.349998  58.980000  44.311050  29074100\n",
      "2015-01-07  59.889999  59.889999  58.669998  59.070000  44.378674  23843200\n",
      "2015-01-08  59.970001  60.900002  59.970001  60.389999  45.370369  16971100\n",
      "✅ Données sauvegardées dans JPM_data.csv\n"
     ]
    },
    {
     "name": "stderr",
     "output_type": "stream",
     "text": [
      "[*********************100%***********************]  1 of 1 completed\n"
     ]
    },
    {
     "name": "stdout",
     "output_type": "stream",
     "text": [
      "✅ Colonnes après aplatissement : ['Adj Close', 'Close', 'High', 'Low', 'Open', 'Volume']\n",
      "                 Open       High        Low      Close  Adj Close   Volume\n",
      "Date                                                                      \n",
      "2015-01-02  61.624413  62.103287  61.117371  61.483566  43.306877   901842\n",
      "2015-01-05  61.258217  61.380283  60.225353  60.338028  42.499996  1448613\n",
      "2015-01-06  60.591549  61.117371  60.291080  60.516434  42.625645  2340977\n",
      "2015-01-07  61.126762  62.056339  61.098591  61.981220  43.657402  1792821\n",
      "2015-01-08  62.422535  63.145538  62.319248  63.107983  44.451057  1515282\n",
      "✅ Données sauvegardées dans K_data.csv\n"
     ]
    },
    {
     "name": "stderr",
     "output_type": "stream",
     "text": [
      "[*********************100%***********************]  1 of 1 completed\n"
     ]
    },
    {
     "name": "stdout",
     "output_type": "stream",
     "text": [
      "✅ Colonnes après aplatissement : ['Adj Close', 'Close', 'High', 'Low', 'Open', 'Volume']\n",
      "                 Open       High        Low      Close  Adj Close    Volume\n",
      "Date                                                                       \n",
      "2023-05-04  25.530001  26.980000  25.250000  26.900000  24.916622  77004200\n",
      "2023-05-05  26.660000  27.030001  26.209999  26.500000  24.546116  11289900\n",
      "2023-05-08  26.330000  26.850000  25.910000  26.510000  24.555376   6308300\n",
      "2023-05-09  26.510000  26.840000  26.070000  26.280001  24.342337   4684000\n",
      "2023-05-10  26.280001  26.770000  26.010000  26.250000  24.314550   9602400\n",
      "✅ Données sauvegardées dans KVUE_data.csv\n"
     ]
    },
    {
     "name": "stderr",
     "output_type": "stream",
     "text": [
      "[*********************100%***********************]  1 of 1 completed\n"
     ]
    },
    {
     "name": "stdout",
     "output_type": "stream",
     "text": [
      "✅ Colonnes après aplatissement : ['Adj Close', 'Close', 'High', 'Low', 'Open', 'Volume']\n",
      "                 Open       High        Low      Close  Adj Close   Volume\n",
      "Date                                                                      \n",
      "2015-01-02  71.680000  72.339996  70.970001  71.599998   9.060793  1042400\n",
      "2015-01-05  70.989998  71.709999  70.930000  71.379997   9.032951  1433500\n",
      "2015-01-06  71.639999  71.989998  70.779999  71.480003   9.045606  1549100\n",
      "2015-01-07  71.919998  72.750000  71.760002  72.519997   9.177217  1163600\n",
      "2015-01-08  73.230003  74.250000  73.150002  74.199997   9.389816  1794800\n",
      "✅ Données sauvegardées dans KDP_data.csv\n"
     ]
    },
    {
     "name": "stderr",
     "output_type": "stream",
     "text": [
      "[*********************100%***********************]  1 of 1 completed\n"
     ]
    },
    {
     "name": "stdout",
     "output_type": "stream",
     "text": [
      "✅ Colonnes après aplatissement : ['Adj Close', 'Close', 'High', 'Low', 'Open', 'Volume']\n",
      "             Open   High    Low  Close  Adj Close    Volume\n",
      "Date                                                       \n",
      "2015-01-02  14.00  14.05  13.66  13.86   9.206090   6203200\n",
      "2015-01-05  13.78  13.79  13.43  13.44   8.927118   7408500\n",
      "2015-01-06  13.47  13.48  12.98  13.03   8.654786  13236900\n",
      "2015-01-07  13.18  13.28  13.01  13.13   8.721211  11281200\n",
      "2015-01-08  13.26  13.44  13.20  13.40   8.900551   9180100\n",
      "✅ Données sauvegardées dans KEY_data.csv\n"
     ]
    },
    {
     "name": "stderr",
     "output_type": "stream",
     "text": [
      "[*********************100%***********************]  1 of 1 completed\n"
     ]
    },
    {
     "name": "stdout",
     "output_type": "stream",
     "text": [
      "✅ Colonnes après aplatissement : ['Adj Close', 'Close', 'High', 'Low', 'Open', 'Volume']\n",
      "                 Open       High        Low      Close  Adj Close   Volume\n",
      "Date                                                                      \n",
      "2015-01-02  33.810001  34.090000  33.130001  33.419998  33.419998   812700\n",
      "2015-01-05  33.049999  33.599998  33.049999  33.540001  33.540001   732200\n",
      "2015-01-06  33.650002  33.855000  33.500000  33.610001  33.610001  1495800\n",
      "2015-01-07  33.669998  34.430000  33.669998  33.880001  33.880001  2022100\n",
      "2015-01-08  34.000000  34.389999  33.820000  34.119999  34.119999  1429600\n",
      "✅ Données sauvegardées dans KEYS_data.csv\n"
     ]
    },
    {
     "name": "stderr",
     "output_type": "stream",
     "text": [
      "[*********************100%***********************]  1 of 1 completed\n"
     ]
    },
    {
     "name": "stdout",
     "output_type": "stream",
     "text": [
      "✅ Colonnes après aplatissement : ['Adj Close', 'Close', 'High', 'Low', 'Open', 'Volume']\n",
      "                  Open        High         Low       Close  Adj Close   Volume\n",
      "Date                                                                          \n",
      "2015-01-02  115.250000  115.970001  115.000000  115.550003  81.383110  1280300\n",
      "2015-01-05  115.900002  116.580002  114.750000  114.889999  80.918259  1605200\n",
      "2015-01-06  114.889999  115.480003  113.580002  113.779999  80.136482  1755200\n",
      "2015-01-07  114.699997  114.839996  113.660004  114.570000  80.692871  1449400\n",
      "2015-01-08  115.070000  116.989998  115.070000  116.989998  82.397324  2103900\n",
      "✅ Données sauvegardées dans KMB_data.csv\n"
     ]
    },
    {
     "name": "stderr",
     "output_type": "stream",
     "text": [
      "[*********************100%***********************]  1 of 1 completed\n"
     ]
    },
    {
     "name": "stdout",
     "output_type": "stream",
     "text": [
      "✅ Colonnes après aplatissement : ['Adj Close', 'Close', 'High', 'Low', 'Open', 'Volume']\n",
      "                 Open   High        Low      Close  Adj Close   Volume\n",
      "Date                                                                  \n",
      "2015-01-02  25.260000  25.51  25.200001  25.459999  15.431643  2716400\n",
      "2015-01-05  25.450001  25.90  25.410000  25.690001  15.571055  4106100\n",
      "2015-01-06  25.840000  26.02  25.709999  25.840000  15.661969  4957900\n",
      "2015-01-07  25.969999  26.58  25.780001  26.510000  16.068064  4571600\n",
      "2015-01-08  26.639999  26.76  26.430000  26.600000  16.122616  4189100\n",
      "✅ Données sauvegardées dans KIM_data.csv\n"
     ]
    },
    {
     "name": "stderr",
     "output_type": "stream",
     "text": [
      "[*********************100%***********************]  1 of 1 completed\n"
     ]
    },
    {
     "name": "stdout",
     "output_type": "stream",
     "text": [
      "✅ Colonnes après aplatissement : ['Adj Close', 'Close', 'High', 'Low', 'Open', 'Volume']\n",
      "                 Open       High        Low      Close  Adj Close    Volume\n",
      "Date                                                                       \n",
      "2015-01-02  42.310001  42.869999  42.270000  42.810001  25.030266   8662300\n",
      "2015-01-05  42.320000  42.689999  41.419998  41.650002  24.352034  15811100\n",
      "2015-01-06  41.250000  41.549999  40.220001  40.830002  23.872599  20020800\n",
      "2015-01-07  41.080002  41.650002  40.970001  41.369999  24.188316  12045900\n",
      "2015-01-08  41.540001  42.599998  41.470001  42.340000  24.755470  15461200\n",
      "✅ Données sauvegardées dans KMI_data.csv\n"
     ]
    },
    {
     "name": "stderr",
     "output_type": "stream",
     "text": [
      "[*********************100%***********************]  1 of 1 completed\n"
     ]
    },
    {
     "name": "stdout",
     "output_type": "stream",
     "text": [
      "✅ Colonnes après aplatissement : ['Adj Close', 'Close', 'High', 'Low', 'Open', 'Volume']\n",
      "                 Open       High        Low      Close  Adj Close   Volume\n",
      "Date                                                                      \n",
      "2015-01-02  23.490000  23.629999  23.219999  23.490000  18.158504  2330100\n",
      "2015-01-05  23.490000  23.620001  23.059999  23.340000  18.042559  2381500\n",
      "2015-01-06  23.420000  23.459999  22.639999  23.110001  17.864754  2315800\n",
      "2015-01-07  23.389999  23.750000  23.209999  23.540001  18.197153  2230200\n",
      "2015-01-08  23.730000  23.809999  23.330000  23.400000  18.088932  1989900\n",
      "✅ Données sauvegardées dans KKR_data.csv\n"
     ]
    },
    {
     "name": "stderr",
     "output_type": "stream",
     "text": [
      "[*********************100%***********************]  1 of 1 completed\n"
     ]
    },
    {
     "name": "stdout",
     "output_type": "stream",
     "text": [
      "✅ Colonnes après aplatissement : ['Adj Close', 'Close', 'High', 'Low', 'Open', 'Volume']\n",
      "                 Open       High        Low      Close  Adj Close   Volume\n",
      "Date                                                                      \n",
      "2015-01-02  70.620003  71.260002  69.809998  70.290001  57.103291   821000\n",
      "2015-01-05  69.769997  70.050003  68.680000  68.720001  55.827831  1068300\n",
      "2015-01-06  68.559998  68.809998  66.510002  66.690002  54.178658  1951500\n",
      "2015-01-07  66.779999  67.830002  66.510002  67.800003  55.080441  1636600\n",
      "2015-01-08  68.379997  69.440002  68.180000  68.930000  55.998428  1276100\n",
      "✅ Données sauvegardées dans KLAC_data.csv\n"
     ]
    },
    {
     "name": "stderr",
     "output_type": "stream",
     "text": [
      "[*********************100%***********************]  1 of 1 completed\n"
     ]
    },
    {
     "name": "stdout",
     "output_type": "stream",
     "text": [
      "✅ Colonnes après aplatissement : ['Adj Close', 'Close', 'High', 'Low', 'Open', 'Volume']\n",
      "                 Open       High        Low      Close  Adj Close   Volume\n",
      "Date                                                                      \n",
      "2015-07-06  71.000000  74.290001  71.000000  72.959999  47.376411  3809700\n",
      "2015-07-07  73.730003  74.709999  72.959999  74.629997  48.460808  5794300\n",
      "2015-07-08  74.300003  75.500000  74.040001  75.400002  48.960796  4276600\n",
      "2015-07-09  76.470001  77.066002  74.500000  74.800003  48.571198  4267100\n",
      "2015-07-10  75.050003  77.800003  75.000000  77.309998  50.201054  4983000\n",
      "✅ Données sauvegardées dans KHC_data.csv\n"
     ]
    },
    {
     "name": "stderr",
     "output_type": "stream",
     "text": [
      "[*********************100%***********************]  1 of 1 completed\n"
     ]
    },
    {
     "name": "stdout",
     "output_type": "stream",
     "text": [
      "✅ Colonnes après aplatissement : ['Adj Close', 'Close', 'High', 'Low', 'Open', 'Volume']\n",
      "                 Open       High        Low      Close  Adj Close    Volume\n",
      "Date                                                                       \n",
      "2015-01-02  32.055000  32.349998  31.615000  31.764999  25.955658   7742600\n",
      "2015-01-05  31.715000  31.809999  31.434999  31.540001  25.771807   6878200\n",
      "2015-01-06  31.639999  31.709999  31.190001  31.540001  25.771807  10672400\n",
      "2015-01-07  31.780001  32.520000  31.600000  32.494999  26.552145  10413400\n",
      "2015-01-08  32.674999  33.119999  32.630001  33.099998  27.046503  11418400\n",
      "✅ Données sauvegardées dans KR_data.csv\n"
     ]
    },
    {
     "name": "stderr",
     "output_type": "stream",
     "text": [
      "[*********************100%***********************]  1 of 1 completed\n"
     ]
    },
    {
     "name": "stdout",
     "output_type": "stream",
     "text": [
      "✅ Colonnes après aplatissement : ['Adj Close', 'Close', 'High', 'Low', 'Open', 'Volume']\n",
      "                 Open       High        Low      Close  Adj Close   Volume\n",
      "Date                                                                      \n",
      "2015-01-02  72.349998  72.570000  71.050003  71.620003  58.099091   407500\n",
      "2015-01-05  71.019997  71.089996  69.519997  69.690002  56.533459   664800\n",
      "2015-01-06  69.690002  69.980003  68.250000  68.290001  55.397720  1021300\n",
      "2015-01-07  68.550003  68.839996  67.860001  68.470001  55.543755   724800\n",
      "2015-01-08  69.120003  70.559998  69.110001  70.040001  56.817341   641800\n",
      "✅ Données sauvegardées dans LHX_data.csv\n"
     ]
    },
    {
     "name": "stderr",
     "output_type": "stream",
     "text": [
      "[*********************100%***********************]  1 of 1 completed\n"
     ]
    },
    {
     "name": "stdout",
     "output_type": "stream",
     "text": [
      "✅ Colonnes après aplatissement : ['Adj Close', 'Close', 'High', 'Low', 'Open', 'Volume']\n",
      "                 Open        High        Low      Close  Adj Close   Volume\n",
      "Date                                                                       \n",
      "2015-01-02  94.235397   96.761169  94.063576  95.721649  91.923004  2407618\n",
      "2015-01-05  96.563576   97.895187  95.953606  96.554985  92.723274  3527851\n",
      "2015-01-06  96.503433   96.649483  93.410652  95.017181  91.246490  3318448\n",
      "2015-01-07  95.283508   97.027489  95.197594  96.683846  92.847015  1896971\n",
      "2015-01-08  98.436424  100.008591  98.247421  99.286942  95.346809  2350116\n",
      "✅ Données sauvegardées dans LH_data.csv\n"
     ]
    },
    {
     "name": "stderr",
     "output_type": "stream",
     "text": [
      "[*********************100%***********************]  1 of 1 completed\n"
     ]
    },
    {
     "name": "stdout",
     "output_type": "stream",
     "text": [
      "✅ Colonnes après aplatissement : ['Adj Close', 'Close', 'High', 'Low', 'Open', 'Volume']\n",
      "             Open   High    Low  Close  Adj Close    Volume\n",
      "Date                                                       \n",
      "2015-01-02  7.987  8.019  7.884  7.945   7.273242   8306000\n",
      "2015-01-05  7.927  7.939  7.822  7.848   7.184442  14408000\n",
      "2015-01-06  7.856  7.873  7.640  7.717   7.064518  23414000\n",
      "2015-01-07  7.729  7.843  7.705  7.757   7.101137  15085000\n",
      "2015-01-08  7.828  7.968  7.800  7.958   7.285142  18713000\n",
      "✅ Données sauvegardées dans LRCX_data.csv\n"
     ]
    },
    {
     "name": "stderr",
     "output_type": "stream",
     "text": [
      "[*********************100%***********************]  1 of 1 completed\n"
     ]
    },
    {
     "name": "stdout",
     "output_type": "stream",
     "text": [
      "✅ Colonnes après aplatissement : ['Adj Close', 'Close', 'High', 'Low', 'Open', 'Volume']\n",
      "                 Open       High        Low      Close  Adj Close    Volume\n",
      "Date                                                                       \n",
      "2016-11-10  32.040001  32.349998  29.820000  30.330000  26.802670  35019100\n",
      "2016-11-11  29.799999  30.090000  28.850000  29.889999  26.413839   6020100\n",
      "2016-11-14  29.340000  30.430000  28.750000  30.190001  26.678949   4481900\n",
      "2016-11-15  29.639999  30.700001  29.620001  30.430000  26.891033   3667200\n",
      "2016-11-16  30.770000  32.040001  30.610001  31.700001  28.013342   4342300\n",
      "✅ Données sauvegardées dans LW_data.csv\n"
     ]
    },
    {
     "name": "stderr",
     "output_type": "stream",
     "text": [
      "[*********************100%***********************]  1 of 1 completed\n"
     ]
    },
    {
     "name": "stdout",
     "output_type": "stream",
     "text": [
      "✅ Colonnes après aplatissement : ['Adj Close', 'Close', 'High', 'Low', 'Open', 'Volume']\n",
      "                 Open       High        Low      Close  Adj Close   Volume\n",
      "Date                                                                      \n",
      "2015-01-02  58.160000  58.549999  55.400002  56.299999  41.435669  7411200\n",
      "2015-01-05  55.700001  55.700001  54.500000  54.759998  40.302254  5180900\n",
      "2015-01-06  54.549999  54.730000  52.610001  53.360001  39.271885  8078500\n",
      "2015-01-07  54.709999  55.230000  54.000000  55.119999  40.567215  6706300\n",
      "2015-01-08  55.919998  56.430000  55.599998  55.869999  41.119190  7126600\n",
      "✅ Données sauvegardées dans LVS_data.csv\n"
     ]
    },
    {
     "name": "stderr",
     "output_type": "stream",
     "text": [
      "[*********************100%***********************]  1 of 1 completed\n"
     ]
    },
    {
     "name": "stdout",
     "output_type": "stream",
     "text": [
      "✅ Colonnes après aplatissement : ['Adj Close', 'Close', 'High', 'Low', 'Open', 'Volume']\n",
      "                 Open       High        Low      Close  Adj Close  Volume\n",
      "Date                                                                     \n",
      "2015-01-02  43.520000  43.740002  42.770000  43.139999  25.854889  528400\n",
      "2015-01-05  42.910000  43.130001  42.250000  42.459999  25.447348  404800\n",
      "2015-01-06  42.419998  42.680000  42.070000  42.380001  25.399405  604900\n",
      "2015-01-07  42.610001  43.150002  42.220001  43.070000  25.812939  486700\n",
      "2015-01-08  42.540001  43.349998  42.470001  43.189999  25.884857  818800\n",
      "✅ Données sauvegardées dans LDOS_data.csv\n"
     ]
    },
    {
     "name": "stderr",
     "output_type": "stream",
     "text": [
      "[*********************100%***********************]  1 of 1 completed\n"
     ]
    },
    {
     "name": "stdout",
     "output_type": "stream",
     "text": [
      "✅ Colonnes après aplatissement : ['Adj Close', 'Close', 'High', 'Low', 'Open', 'Volume']\n",
      "                 Open       High        Low      Close  Adj Close    Volume\n",
      "Date                                                                       \n",
      "2015-01-02  42.824738  42.929443  41.587303  42.158428  39.653702   2123079\n",
      "2015-01-05  42.053722  42.129871  41.530193  41.834789  39.349289   2551708\n",
      "2015-01-06  41.939499  41.939499  40.873402  41.482597  39.018017   3723083\n",
      "2015-01-07  41.806236  44.024097  41.625378  43.529125  40.942951  10115432\n",
      "2015-01-08  43.938431  44.852226  43.729015  44.604740  41.954670   4813460\n",
      "✅ Données sauvegardées dans LEN_data.csv\n"
     ]
    },
    {
     "name": "stderr",
     "output_type": "stream",
     "text": [
      "[*********************100%***********************]  1 of 1 completed\n"
     ]
    },
    {
     "name": "stdout",
     "output_type": "stream",
     "text": [
      "✅ Colonnes après aplatissement : ['Adj Close', 'Close', 'High', 'Low', 'Open', 'Volume']\n",
      "                 Open       High        Low      Close  Adj Close  Volume\n",
      "Date                                                                     \n",
      "2015-01-02  95.089996  95.639999  94.019997  94.550003  83.446175  264000\n",
      "2015-01-05  94.139999  95.000000  93.589996  94.330002  83.252007  619000\n",
      "2015-01-06  94.400002  94.989998  92.940002  93.849998  82.828369  597400\n",
      "2015-01-07  95.169998  95.470001  94.160004  94.660004  83.543274  295700\n",
      "2015-01-08  95.230003  96.610001  95.070000  96.379997  85.061272  536700\n",
      "✅ Données sauvegardées dans LII_data.csv\n"
     ]
    },
    {
     "name": "stderr",
     "output_type": "stream",
     "text": [
      "[*********************100%***********************]  1 of 1 completed\n"
     ]
    },
    {
     "name": "stdout",
     "output_type": "stream",
     "text": [
      "✅ Colonnes après aplatissement : ['Adj Close', 'Close', 'High', 'Low', 'Open', 'Volume']\n",
      "                 Open       High        Low      Close  Adj Close   Volume\n",
      "Date                                                                      \n",
      "2015-01-02  69.769997  70.820000  69.720001  70.059998  57.687572  3146200\n",
      "2015-01-05  69.730003  70.089996  69.150002  69.370003  57.119415  4845500\n",
      "2015-01-06  69.919998  70.910004  69.199997  69.720001  57.407623  5127400\n",
      "2015-01-07  70.029999  70.529999  68.449997  69.230003  57.004139  9043000\n",
      "2015-01-08  70.000000  71.489998  69.660004  70.870003  58.354534  7472200\n",
      "✅ Données sauvegardées dans LLY_data.csv\n"
     ]
    },
    {
     "name": "stderr",
     "output_type": "stream",
     "text": [
      "[*********************100%***********************]  1 of 1 completed\n"
     ]
    },
    {
     "name": "stdout",
     "output_type": "stream",
     "text": [
      "✅ Colonnes après aplatissement : ['Adj Close', 'Close', 'High', 'Low', 'Open', 'Volume']\n",
      "                  Open        High         Low       Close   Adj Close  \\\n",
      "Date                                                                     \n",
      "2015-01-02  129.639999  130.220001  128.850006  129.949997  107.056801   \n",
      "2015-01-05  128.820007  129.059998  126.110001  126.519997  104.231094   \n",
      "2015-01-06  126.199997  127.019997  124.820000  124.900002  102.896461   \n",
      "2015-01-07  125.870003  126.650002  125.250000  126.300003  104.049835   \n",
      "2015-01-08  127.889999  128.860001  127.230003  128.380005  105.763420   \n",
      "\n",
      "             Volume  \n",
      "Date                 \n",
      "2015-01-02   683700  \n",
      "2015-01-05  1165700  \n",
      "2015-01-06  1349800  \n",
      "2015-01-07   861300  \n",
      "2015-01-08  1089700  \n",
      "✅ Données sauvegardées dans LIN_data.csv\n"
     ]
    },
    {
     "name": "stderr",
     "output_type": "stream",
     "text": [
      "[*********************100%***********************]  1 of 1 completed\n"
     ]
    },
    {
     "name": "stdout",
     "output_type": "stream",
     "text": [
      "✅ Colonnes après aplatissement : ['Adj Close', 'Close', 'High', 'Low', 'Open', 'Volume']\n",
      "                 Open       High        Low      Close  Adj Close  Volume\n",
      "Date                                                                     \n",
      "2015-01-02  26.219999  26.379999  25.770000  26.160000  26.160000  547100\n",
      "2015-01-05  25.959999  26.080000  25.530001  25.559999  25.559999  615000\n",
      "2015-01-06  25.570000  25.570000  24.709999  24.820000  24.820000  982700\n",
      "2015-01-07  25.010000  25.160000  24.770000  25.110001  25.110001  828700\n",
      "2015-01-08  25.389999  25.940001  25.320000  25.830000  25.830000  870800\n",
      "✅ Données sauvegardées dans LYV_data.csv\n"
     ]
    },
    {
     "name": "stderr",
     "output_type": "stream",
     "text": [
      "[*********************100%***********************]  1 of 1 completed\n"
     ]
    },
    {
     "name": "stdout",
     "output_type": "stream",
     "text": [
      "✅ Colonnes après aplatissement : ['Adj Close', 'Close', 'High', 'Low', 'Open', 'Volume']\n",
      "                 Open       High        Low      Close  Adj Close   Volume\n",
      "Date                                                                      \n",
      "2015-01-02  28.219999  28.230000  27.330000  27.780001  25.434830  1125000\n",
      "2015-01-05  27.559999  27.799999  27.200001  27.440001  25.123529  1029100\n",
      "2015-01-06  27.459999  27.650000  26.719999  26.950001  24.674894  1092600\n",
      "2015-01-07  27.260000  27.350000  26.910000  27.330000  25.022814   958300\n",
      "2015-01-08  27.510000  27.850000  27.450001  27.620001  25.288330  1546600\n",
      "✅ Données sauvegardées dans LKQ_data.csv\n"
     ]
    },
    {
     "name": "stderr",
     "output_type": "stream",
     "text": [
      "[*********************100%***********************]  1 of 1 completed\n"
     ]
    },
    {
     "name": "stdout",
     "output_type": "stream",
     "text": [
      "✅ Colonnes après aplatissement : ['Adj Close', 'Close', 'High', 'Low', 'Open', 'Volume']\n",
      "                  Open        High         Low       Close   Adj Close  \\\n",
      "Date                                                                     \n",
      "2015-01-02  192.100006  194.479996  191.039993  193.309998  145.785172   \n",
      "2015-01-05  192.899994  194.500000  188.600006  189.289993  142.753479   \n",
      "2015-01-06  189.619995  190.990005  186.800003  188.399994  142.082260   \n",
      "2015-01-07  189.320007  191.020004  189.220001  190.830002  143.914856   \n",
      "2015-01-08  190.899994  196.880005  190.899994  195.130005  147.157791   \n",
      "\n",
      "             Volume  \n",
      "Date                 \n",
      "2015-01-02   902100  \n",
      "2015-01-05  1506200  \n",
      "2015-01-06  1205800  \n",
      "2015-01-07   941900  \n",
      "2015-01-08  1950900  \n",
      "✅ Données sauvegardées dans LMT_data.csv\n"
     ]
    },
    {
     "name": "stderr",
     "output_type": "stream",
     "text": [
      "[*********************100%***********************]  1 of 1 completed\n"
     ]
    },
    {
     "name": "stdout",
     "output_type": "stream",
     "text": [
      "✅ Colonnes après aplatissement : ['Adj Close', 'Close', 'High', 'Low', 'Open', 'Volume']\n",
      "                 Open       High        Low      Close  Adj Close   Volume\n",
      "Date                                                                      \n",
      "2015-01-02  42.259998  42.299999  41.509998  41.740002  39.624535   868000\n",
      "2015-01-05  41.389999  41.500000  40.610001  40.740002  38.675217   820000\n",
      "2015-01-06  40.669998  40.799999  39.799999  40.020000  37.991711  1064400\n",
      "2015-01-07  40.310001  40.400002  39.730000  40.020000  37.991711   936200\n",
      "2015-01-08  40.299999  40.700001  40.209999  40.660000  38.599266  1011600\n",
      "✅ Données sauvegardées dans L_data.csv\n"
     ]
    },
    {
     "name": "stderr",
     "output_type": "stream",
     "text": [
      "[*********************100%***********************]  1 of 1 completed\n"
     ]
    },
    {
     "name": "stdout",
     "output_type": "stream",
     "text": [
      "✅ Colonnes après aplatissement : ['Adj Close', 'Close', 'High', 'Low', 'Open', 'Volume']\n",
      "                 Open       High        Low      Close  Adj Close   Volume\n",
      "Date                                                                      \n",
      "2015-01-02  69.000000  69.330002  67.339996  67.699997  56.062542  4212000\n",
      "2015-01-05  67.190002  67.379997  65.889999  66.080002  54.721012  7335600\n",
      "2015-01-06  66.529999  66.800003  65.360001  66.230003  54.845222  5247400\n",
      "2015-01-07  66.860001  68.389999  66.839996  68.199997  56.476593  4719600\n",
      "2015-01-08  68.940002  69.989998  68.830002  69.639999  57.669052  5536700\n",
      "✅ Données sauvegardées dans LOW_data.csv\n"
     ]
    },
    {
     "name": "stderr",
     "output_type": "stream",
     "text": [
      "[*********************100%***********************]  1 of 1 completed\n"
     ]
    },
    {
     "name": "stdout",
     "output_type": "stream",
     "text": [
      "✅ Colonnes après aplatissement : ['Adj Close', 'Close', 'High', 'Low', 'Open', 'Volume']\n",
      "                 Open       High        Low      Close  Adj Close   Volume\n",
      "Date                                                                      \n",
      "2015-01-02  56.009998  56.799999  54.650002  55.340000  55.340000  1648400\n",
      "2015-01-05  56.340000  57.480000  55.680000  55.959999  55.959999  3149600\n",
      "2015-01-06  55.840000  56.150002  54.419998  55.570000  55.570000  3406200\n",
      "2015-01-07  56.270000  58.009998  56.160000  57.650002  57.650002  5047500\n",
      "2015-01-08  58.250000  59.650002  58.000000  59.070000  59.070000  5225200\n",
      "✅ Données sauvegardées dans LULU_data.csv\n"
     ]
    },
    {
     "name": "stderr",
     "output_type": "stream",
     "text": [
      "[*********************100%***********************]  1 of 1 completed\n"
     ]
    },
    {
     "name": "stdout",
     "output_type": "stream",
     "text": [
      "✅ Colonnes après aplatissement : ['Adj Close', 'Close', 'High', 'Low', 'Open', 'Volume']\n",
      "                 Open       High        Low      Close  Adj Close   Volume\n",
      "Date                                                                      \n",
      "2015-01-02  79.940002  80.589996  79.290001  80.070000  46.690910  2868700\n",
      "2015-01-05  78.790001  78.989998  75.230003  76.040001  44.340927  5461200\n",
      "2015-01-06  76.440002  76.900002  74.110001  74.430000  43.402081  5074600\n",
      "2015-01-07  75.139999  75.970001  74.010002  75.209999  43.856930  3456900\n",
      "2015-01-08  76.050003  78.559998  75.860001  78.220001  45.612129  6055600\n",
      "✅ Données sauvegardées dans LYB_data.csv\n"
     ]
    },
    {
     "name": "stderr",
     "output_type": "stream",
     "text": [
      "[*********************100%***********************]  1 of 1 completed\n"
     ]
    },
    {
     "name": "stdout",
     "output_type": "stream",
     "text": [
      "✅ Colonnes après aplatissement : ['Adj Close', 'Close', 'High', 'Low', 'Open', 'Volume']\n",
      "                  Open        High         Low       Close  Adj Close  Volume\n",
      "Date                                                                         \n",
      "2015-01-02  126.419998  126.790001  123.889999  125.389999  93.701218  438400\n",
      "2015-01-05  124.389999  124.489998  121.059998  121.349998  90.682213  663800\n",
      "2015-01-06  121.529999  121.650002  117.919998  118.629997  88.649612  887500\n",
      "2015-01-07  119.839996  120.120003  117.580002  118.879997  88.836441  748100\n",
      "2015-01-08  120.089996  121.620003  119.589996  121.290001  90.637367  753100\n",
      "✅ Données sauvegardées dans MTB_data.csv\n"
     ]
    },
    {
     "name": "stderr",
     "output_type": "stream",
     "text": [
      "[*********************100%***********************]  1 of 1 completed\n"
     ]
    },
    {
     "name": "stdout",
     "output_type": "stream",
     "text": [
      "✅ Colonnes après aplatissement : ['Adj Close', 'Close', 'High', 'Low', 'Open', 'Volume']\n",
      "                 Open       High        Low      Close  Adj Close    Volume\n",
      "Date                                                                       \n",
      "2015-01-02  44.775002  45.935001  44.775002  45.820000  33.066917   5359400\n",
      "2015-01-05  45.424999  45.650002  43.924999  44.544998  32.146801  10492800\n",
      "2015-01-06  44.564999  45.165001  43.610001  44.105000  31.829260   5604600\n",
      "2015-01-07  44.820000  44.820000  43.820000  44.470001  32.092674   7012000\n",
      "2015-01-08  44.985001  45.744999  44.750000  45.514999  32.846817   7000200\n",
      "✅ Données sauvegardées dans MPC_data.csv\n"
     ]
    },
    {
     "name": "stderr",
     "output_type": "stream",
     "text": [
      "[*********************100%***********************]  1 of 1 completed\n"
     ]
    },
    {
     "name": "stdout",
     "output_type": "stream",
     "text": [
      "✅ Colonnes après aplatissement : ['Adj Close', 'Close', 'High', 'Low', 'Open', 'Volume']\n",
      "                 Open       High        Low      Close  Adj Close  Volume\n",
      "Date                                                                     \n",
      "2015-01-02  72.260002  72.269997  70.260002  70.349998  64.264397  130600\n",
      "2015-01-05  70.029999  70.239998  68.830002  68.989998  63.022018  218000\n",
      "2015-01-06  69.370003  69.500000  67.389999  67.660004  61.807083  173700\n",
      "2015-01-07  68.290001  68.410004  66.180000  68.269997  62.364315  275900\n",
      "2015-01-08  68.949997  71.839996  68.059998  71.699997  65.497612  157800\n",
      "✅ Données sauvegardées dans MKTX_data.csv\n"
     ]
    },
    {
     "name": "stderr",
     "output_type": "stream",
     "text": [
      "[*********************100%***********************]  1 of 1 completed\n"
     ]
    },
    {
     "name": "stdout",
     "output_type": "stream",
     "text": [
      "✅ Colonnes après aplatissement : ['Adj Close', 'Close', 'High', 'Low', 'Open', 'Volume']\n",
      "                 Open       High        Low      Close  Adj Close   Volume\n",
      "Date                                                                      \n",
      "2015-01-02  78.339996  78.559998  76.709999  77.750000  70.143173  1277300\n",
      "2015-01-05  77.639999  77.739998  75.320000  75.620003  68.221565  2034800\n",
      "2015-01-06  75.470001  75.599998  73.910004  74.669998  67.364487  2551500\n",
      "2015-01-07  75.480003  76.570000  74.989998  76.379997  68.907204  1979400\n",
      "2015-01-08  76.800003  79.029999  76.379997  78.910004  71.189682  2396100\n",
      "✅ Données sauvegardées dans MAR_data.csv\n"
     ]
    },
    {
     "name": "stderr",
     "output_type": "stream",
     "text": [
      "[*********************100%***********************]  1 of 1 completed\n"
     ]
    },
    {
     "name": "stdout",
     "output_type": "stream",
     "text": [
      "✅ Colonnes après aplatissement : ['Adj Close', 'Close', 'High', 'Low', 'Open', 'Volume']\n",
      "                 Open       High        Low      Close  Adj Close   Volume\n",
      "Date                                                                      \n",
      "2015-01-02  57.529999  57.730000  56.580002  56.970001  47.508434  1528900\n",
      "2015-01-05  56.700001  56.990002  56.430000  56.570000  47.174873  2526400\n",
      "2015-01-06  56.540001  56.970001  55.540001  55.810001  46.541096  2226300\n",
      "2015-01-07  56.259998  56.689999  55.990002  56.549999  47.158199  1529600\n",
      "2015-01-08  57.049999  57.650002  57.029999  57.500000  47.950420  1264500\n",
      "✅ Données sauvegardées dans MMC_data.csv\n"
     ]
    },
    {
     "name": "stderr",
     "output_type": "stream",
     "text": [
      "[*********************100%***********************]  1 of 1 completed\n"
     ]
    },
    {
     "name": "stdout",
     "output_type": "stream",
     "text": [
      "✅ Colonnes après aplatissement : ['Adj Close', 'Close', 'High', 'Low', 'Open', 'Volume']\n",
      "                  Open        High         Low       Close   Adj Close  Volume\n",
      "Date                                                                          \n",
      "2015-01-02  111.629997  112.669998  109.629997  110.849998  101.930840  478100\n",
      "2015-01-05  109.910004  110.279999  105.769997  106.330002   97.774521  671600\n",
      "2015-01-06  106.339996  107.940002  104.150002  105.309998   96.836594  799500\n",
      "2015-01-07  105.989998  108.779999  105.300003  107.769997   99.098656  743400\n",
      "2015-01-08  108.870003  112.349998  108.690002  111.910004  102.905563  755200\n",
      "✅ Données sauvegardées dans MLM_data.csv\n"
     ]
    },
    {
     "name": "stderr",
     "output_type": "stream",
     "text": [
      "[*********************100%***********************]  1 of 1 completed\n"
     ]
    },
    {
     "name": "stdout",
     "output_type": "stream",
     "text": [
      "✅ Colonnes après aplatissement : ['Adj Close', 'Close', 'High', 'Low', 'Open', 'Volume']\n",
      "                 Open       High        Low      Close  Adj Close   Volume\n",
      "Date                                                                      \n",
      "2015-01-02  22.311071  22.381371  21.810192  21.977154  18.817986  3428908\n",
      "2015-01-05  21.854130  21.915642  21.432337  21.599297  18.494442  3355507\n",
      "2015-01-06  21.634445  21.792620  21.274164  21.572935  18.471869  3906185\n",
      "2015-01-07  21.652021  21.968367  21.599297  21.818981  18.751286  3101278\n",
      "2015-01-08  22.038664  22.706503  21.968367  22.688929  19.498926  5472073\n",
      "✅ Données sauvegardées dans MAS_data.csv\n"
     ]
    },
    {
     "name": "stderr",
     "output_type": "stream",
     "text": [
      "[*********************100%***********************]  1 of 1 completed\n"
     ]
    },
    {
     "name": "stdout",
     "output_type": "stream",
     "text": [
      "✅ Colonnes après aplatissement : ['Adj Close', 'Close', 'High', 'Low', 'Open', 'Volume']\n",
      "                 Open       High        Low      Close  Adj Close   Volume\n",
      "Date                                                                      \n",
      "2015-01-02  86.680000  87.360001  84.919998  85.680000  80.319962  4505800\n",
      "2015-01-05  85.290001  85.349998  83.050003  83.269997  78.060707  6441400\n",
      "2015-01-06  83.660004  83.779999  81.800003  83.089996  77.891945  7690000\n",
      "2015-01-07  84.099998  84.279999  83.070000  84.220001  79.103607  5846800\n",
      "2015-01-08  85.190002  85.620003  85.029999  85.529999  80.334045  5174200\n",
      "✅ Données sauvegardées dans MA_data.csv\n"
     ]
    },
    {
     "name": "stderr",
     "output_type": "stream",
     "text": [
      "[*********************100%***********************]  1 of 1 completed\n"
     ]
    },
    {
     "name": "stdout",
     "output_type": "stream",
     "text": [
      "✅ Colonnes après aplatissement : ['Adj Close', 'Close', 'High', 'Low', 'Open', 'Volume']\n",
      "                 Open       High        Low      Close  Adj Close   Volume\n",
      "Date                                                                      \n",
      "2015-01-02  17.455740  17.681326  17.033125  17.218733  16.099615  2209762\n",
      "2015-01-05  17.118790  17.227299  17.001713  17.118790  16.006170  1573799\n",
      "2015-01-06  17.127356  17.347231  16.901770  17.181610  16.064905  3524763\n",
      "2015-01-07  17.224443  17.258709  17.104511  17.150200  16.035536  1899835\n",
      "2015-01-08  17.278698  17.635637  17.198744  17.569960  16.428015  2697941\n",
      "✅ Données sauvegardées dans MTCH_data.csv\n"
     ]
    },
    {
     "name": "stderr",
     "output_type": "stream",
     "text": [
      "[*********************100%***********************]  1 of 1 completed\n"
     ]
    },
    {
     "name": "stdout",
     "output_type": "stream",
     "text": [
      "✅ Colonnes après aplatissement : ['Adj Close', 'Close', 'High', 'Low', 'Open', 'Volume']\n",
      "                 Open       High        Low      Close  Adj Close   Volume\n",
      "Date                                                                      \n",
      "2015-01-02  37.259998  37.490002  36.650002  36.974998  30.486975   926400\n",
      "2015-01-05  36.849998  36.965000  36.299999  36.349998  29.971636  1345200\n",
      "2015-01-06  36.485001  36.605000  36.025002  36.185001  29.835585  2252600\n",
      "2015-01-07  36.389999  37.310001  36.270000  37.150002  30.631271  2192200\n",
      "2015-01-08  37.290001  37.820000  37.240002  37.759998  31.134222   795600\n",
      "✅ Données sauvegardées dans MKC_data.csv\n"
     ]
    },
    {
     "name": "stderr",
     "output_type": "stream",
     "text": [
      "[*********************100%***********************]  1 of 1 completed\n"
     ]
    },
    {
     "name": "stdout",
     "output_type": "stream",
     "text": [
      "✅ Colonnes après aplatissement : ['Adj Close', 'Close', 'High', 'Low', 'Open', 'Volume']\n",
      "                 Open       High        Low      Close  Adj Close   Volume\n",
      "Date                                                                      \n",
      "2015-01-02  94.129997  95.000000  93.050003  93.260002  71.498161  6019700\n",
      "2015-01-05  93.300003  93.680000  92.220001  92.230003  70.708527  6211900\n",
      "2015-01-06  92.669998  93.809998  91.879997  92.400002  70.838829  6484100\n",
      "2015-01-07  93.260002  94.050003  92.860001  94.010002  72.073135  6400300\n",
      "2015-01-08  94.230003  94.980003  94.050003  94.360001  72.341492  5476700\n",
      "✅ Données sauvegardées dans MCD_data.csv\n"
     ]
    },
    {
     "name": "stderr",
     "output_type": "stream",
     "text": [
      "[*********************100%***********************]  1 of 1 completed\n"
     ]
    },
    {
     "name": "stdout",
     "output_type": "stream",
     "text": [
      "✅ Colonnes après aplatissement : ['Adj Close', 'Close', 'High', 'Low', 'Open', 'Volume']\n",
      "                  Open        High         Low       Close   Adj Close  \\\n",
      "Date                                                                     \n",
      "2015-01-02  209.059998  209.929993  205.720001  207.199997  191.137024   \n",
      "2015-01-05  206.350006  210.229996  206.050003  208.899994  192.705276   \n",
      "2015-01-06  209.000000  212.000000  206.830002  208.419998  192.262466   \n",
      "2015-01-07  210.210007  215.190002  209.449997  214.750000  198.101715   \n",
      "2015-01-08  216.199997  218.050003  215.009995  217.199997  200.361816   \n",
      "\n",
      "             Volume  \n",
      "Date                 \n",
      "2015-01-02   787500  \n",
      "2015-01-05  1260800  \n",
      "2015-01-06  1195400  \n",
      "2015-01-07  1163200  \n",
      "2015-01-08  1665200  \n",
      "✅ Données sauvegardées dans MCK_data.csv\n"
     ]
    },
    {
     "name": "stderr",
     "output_type": "stream",
     "text": [
      "[*********************100%***********************]  1 of 1 completed\n"
     ]
    },
    {
     "name": "stdout",
     "output_type": "stream",
     "text": [
      "✅ Colonnes après aplatissement : ['Adj Close', 'Close', 'High', 'Low', 'Open', 'Volume']\n",
      "                 Open       High        Low      Close  Adj Close    Volume\n",
      "Date                                                                       \n",
      "2015-01-02  72.129997  72.989998  71.410004  71.879997  55.966072   6029800\n",
      "2015-01-05  71.500000  71.839996  71.089996  71.580002  55.732502  11258700\n",
      "2015-01-06  72.000000  72.470001  70.870003  71.220001  55.452198  12838800\n",
      "2015-01-07  71.720001  73.099998  71.510002  73.000000  56.838116   8104100\n",
      "2015-01-08  73.709999  74.779999  73.709999  74.750000  58.200687   7608400\n",
      "✅ Données sauvegardées dans MDT_data.csv\n"
     ]
    },
    {
     "name": "stderr",
     "output_type": "stream",
     "text": [
      "[*********************100%***********************]  1 of 1 completed\n"
     ]
    },
    {
     "name": "stdout",
     "output_type": "stream",
     "text": [
      "✅ Colonnes après aplatissement : ['Adj Close', 'Close', 'High', 'Low', 'Open', 'Volume']\n",
      "                 Open       High        Low      Close  Adj Close    Volume\n",
      "Date                                                                       \n",
      "2015-01-02  54.599236  55.143131  54.417938  54.570610  39.486984   7415962\n",
      "2015-01-05  55.543892  55.801525  54.933205  55.381680  40.073872  16727338\n",
      "2015-01-06  55.610687  57.729008  55.582062  57.557251  41.648117  25453510\n",
      "2015-01-07  57.671757  58.797710  57.595421  58.788170  42.538792  19528956\n",
      "2015-01-08  59.160305  60.057251  59.017178  59.971375  43.394955  20038808\n",
      "✅ Données sauvegardées dans MRK_data.csv\n"
     ]
    },
    {
     "name": "stderr",
     "output_type": "stream",
     "text": [
      "[*********************100%***********************]  1 of 1 completed\n"
     ]
    },
    {
     "name": "stdout",
     "output_type": "stream",
     "text": [
      "✅ Colonnes après aplatissement : ['Adj Close', 'Close', 'High', 'Low', 'Open', 'Volume']\n",
      "                 Open       High        Low      Close  Adj Close    Volume\n",
      "Date                                                                       \n",
      "2015-01-02  78.580002  78.930000  77.699997  78.449997  78.021965  18177500\n",
      "2015-01-05  77.980003  79.250000  76.860001  77.190002  76.768845  26452200\n",
      "2015-01-06  77.230003  77.589996  75.360001  76.150002  75.734520  27399300\n",
      "2015-01-07  76.760002  77.360001  75.820000  76.150002  75.734520  22045300\n",
      "2015-01-08  76.739998  78.230003  76.080002  78.180000  77.753441  23961000\n",
      "✅ Données sauvegardées dans META_data.csv\n"
     ]
    },
    {
     "name": "stderr",
     "output_type": "stream",
     "text": [
      "[*********************100%***********************]  1 of 1 completed\n"
     ]
    },
    {
     "name": "stdout",
     "output_type": "stream",
     "text": [
      "✅ Colonnes après aplatissement : ['Adj Close', 'Close', 'High', 'Low', 'Open', 'Volume']\n",
      "                 Open       High        Low      Close  Adj Close    Volume\n",
      "Date                                                                       \n",
      "2015-01-02  48.556149  48.805702  47.798573  48.048126  33.717411   4388927\n",
      "2015-01-05  47.611408  47.798573  46.238857  46.443851  32.591621   7315664\n",
      "2015-01-06  46.524063  46.568626  44.812836  45.035652  31.603439  13546916\n",
      "2015-01-07  45.570412  45.926914  45.178253  45.632797  32.022488   8782006\n",
      "2015-01-08  45.864529  46.577541  45.802139  46.327988  32.510330   9064301\n",
      "✅ Données sauvegardées dans MET_data.csv\n"
     ]
    },
    {
     "name": "stderr",
     "output_type": "stream",
     "text": [
      "[*********************100%***********************]  1 of 1 completed\n"
     ]
    },
    {
     "name": "stdout",
     "output_type": "stream",
     "text": [
      "✅ Colonnes après aplatissement : ['Adj Close', 'Close', 'High', 'Low', 'Open', 'Volume']\n",
      "                  Open        High         Low       Close   Adj Close  Volume\n",
      "Date                                                                          \n",
      "2015-01-02  303.200012  306.910004  299.070007  301.950012  301.950012   64600\n",
      "2015-01-05  299.609985  300.739990  294.619995  295.450012  295.450012   99500\n",
      "2015-01-06  295.119995  297.730011  288.940002  291.119995  291.119995  145200\n",
      "2015-01-07  295.390015  296.619995  293.519989  296.489990  296.489990  145500\n",
      "2015-01-08  299.959991  303.839996  298.589996  300.720001  300.720001  124200\n",
      "✅ Données sauvegardées dans MTD_data.csv\n"
     ]
    },
    {
     "name": "stderr",
     "output_type": "stream",
     "text": [
      "[*********************100%***********************]  1 of 1 completed\n"
     ]
    },
    {
     "name": "stdout",
     "output_type": "stream",
     "text": [
      "✅ Colonnes après aplatissement : ['Adj Close', 'Close', 'High', 'Low', 'Open', 'Volume']\n",
      "                 Open       High    Low      Close  Adj Close    Volume\n",
      "Date                                                                   \n",
      "2015-01-02  21.320000  21.490000  20.41  21.020000  19.853613  11628200\n",
      "2015-01-05  20.820000  20.940001  20.33  20.440001  19.305796   9182100\n",
      "2015-01-06  20.320000  20.389999  19.50  19.660000  18.569078  16832900\n",
      "2015-01-07  20.299999  20.500000  20.09  20.430000  19.296349  12387000\n",
      "2015-01-08  20.860001  21.010000  20.66  20.719999  19.570259  12807100\n",
      "✅ Données sauvegardées dans MGM_data.csv\n"
     ]
    },
    {
     "name": "stderr",
     "output_type": "stream",
     "text": [
      "[*********************100%***********************]  1 of 1 completed\n"
     ]
    },
    {
     "name": "stdout",
     "output_type": "stream",
     "text": [
      "✅ Colonnes après aplatissement : ['Adj Close', 'Close', 'High', 'Low', 'Open', 'Volume']\n",
      "                 Open       High        Low      Close  Adj Close   Volume\n",
      "Date                                                                      \n",
      "2015-01-02  22.680000  22.799999  22.209999  22.434999  18.218157  1968600\n",
      "2015-01-05  22.330000  22.389999  21.920000  21.934999  17.812130  2004000\n",
      "2015-01-06  21.879999  22.020000  21.395000  21.510000  17.467016  2809600\n",
      "2015-01-07  21.719999  21.760000  21.379999  21.629999  17.564457  2087200\n",
      "2015-01-08  21.760000  22.325001  21.745001  22.320000  18.124767  3038200\n",
      "✅ Données sauvegardées dans MCHP_data.csv\n"
     ]
    },
    {
     "name": "stderr",
     "output_type": "stream",
     "text": [
      "[*********************100%***********************]  1 of 1 completed\n"
     ]
    },
    {
     "name": "stdout",
     "output_type": "stream",
     "text": [
      "✅ Colonnes après aplatissement : ['Adj Close', 'Close', 'High', 'Low', 'Open', 'Volume']\n",
      "                 Open       High        Low      Close  Adj Close    Volume\n",
      "Date                                                                       \n",
      "2015-01-02  35.240002  35.520000  34.340000  34.750000  33.940395  15138200\n",
      "2015-01-05  34.709999  34.740002  33.750000  33.779999  32.993004  23706600\n",
      "2015-01-06  34.099998  34.230000  32.630001  32.869999  32.104202  40092000\n",
      "2015-01-07  31.530001  32.980000  31.450001  32.099998  31.352146  52552300\n",
      "2015-01-08  32.560001  33.869999  32.549999  33.669998  32.885571  31947100\n",
      "✅ Données sauvegardées dans MU_data.csv\n"
     ]
    },
    {
     "name": "stderr",
     "output_type": "stream",
     "text": [
      "[*********************100%***********************]  1 of 1 completed\n"
     ]
    },
    {
     "name": "stdout",
     "output_type": "stream",
     "text": [
      "✅ Colonnes après aplatissement : ['Adj Close', 'Close', 'High', 'Low', 'Open', 'Volume']\n",
      "                 Open       High        Low      Close  Adj Close    Volume\n",
      "Date                                                                       \n",
      "2015-01-02  46.660000  47.419998  46.540001  46.759998  39.998699  27913900\n",
      "2015-01-05  46.369999  46.730000  46.250000  46.330002  39.630882  39673900\n",
      "2015-01-06  46.380001  46.750000  45.540001  45.650002  39.049206  36447900\n",
      "2015-01-07  45.980000  46.459999  45.490002  46.230000  39.545341  29114100\n",
      "2015-01-08  46.750000  47.750000  46.720001  47.590000  40.708691  29645200\n",
      "✅ Données sauvegardées dans MSFT_data.csv\n"
     ]
    },
    {
     "name": "stderr",
     "output_type": "stream",
     "text": [
      "[*********************100%***********************]  1 of 1 completed\n"
     ]
    },
    {
     "name": "stdout",
     "output_type": "stream",
     "text": [
      "✅ Colonnes après aplatissement : ['Adj Close', 'Close', 'High', 'Low', 'Open', 'Volume']\n",
      "                 Open       High        Low      Close  Adj Close  Volume\n",
      "Date                                                                     \n",
      "2015-01-02  74.470001  76.190002  74.470001  76.150002  52.807320  276200\n",
      "2015-01-05  75.860001  76.339996  75.430000  75.860001  52.606224  549700\n",
      "2015-01-06  76.279999  77.830002  76.269997  77.180000  53.521591  833400\n",
      "2015-01-07  76.480003  78.339996  76.290001  78.139999  54.187325  544700\n",
      "2015-01-08  78.139999  78.459999  77.360001  78.339996  54.326008  544000\n",
      "✅ Données sauvegardées dans MAA_data.csv\n"
     ]
    },
    {
     "name": "stderr",
     "output_type": "stream",
     "text": [
      "[*********************100%***********************]  1 of 1 completed\n"
     ]
    },
    {
     "name": "stdout",
     "output_type": "stream",
     "text": [
      "✅ Colonnes après aplatissement : ['Adj Close', 'Close', 'High', 'Low', 'Open', 'Volume']\n",
      "                 Open       High    Low      Close  Adj Close    Volume\n",
      "Date                                                                   \n",
      "2018-12-07  22.000000  22.750000  18.51  18.600000  18.600000  12995600\n",
      "2018-12-10  18.900000  19.438999  18.00  18.799999  18.799999   4233300\n",
      "2018-12-11  20.549999  20.660000  17.99  18.010000  18.010000   3435300\n",
      "2018-12-12  18.549999  19.480000  18.02  18.680000  18.680000   2590700\n",
      "2018-12-13  19.250000  19.290001  18.68  18.760000  18.760000   1608600\n",
      "✅ Données sauvegardées dans MRNA_data.csv\n"
     ]
    },
    {
     "name": "stderr",
     "output_type": "stream",
     "text": [
      "[*********************100%***********************]  1 of 1 completed\n"
     ]
    },
    {
     "name": "stdout",
     "output_type": "stream",
     "text": [
      "✅ Colonnes après aplatissement : ['Adj Close', 'Close', 'High', 'Low', 'Open', 'Volume']\n",
      "                  Open        High         Low       Close   Adj Close  Volume\n",
      "Date                                                                          \n",
      "2015-01-02  156.660004  156.949997  151.220001  154.570007  154.570007  988100\n",
      "2015-01-05  153.500000  154.679993  152.419998  154.110001  154.110001  709700\n",
      "2015-01-06  154.580002  155.309998  151.149994  152.740005  152.740005  603300\n",
      "2015-01-07  154.220001  155.330002  153.520004  154.050003  154.050003  478700\n",
      "2015-01-08  155.399994  156.669998  155.240005  155.990005  155.990005  839900\n",
      "✅ Données sauvegardées dans MHK_data.csv\n"
     ]
    },
    {
     "name": "stderr",
     "output_type": "stream",
     "text": [
      "[*********************100%***********************]  1 of 1 completed\n"
     ]
    },
    {
     "name": "stdout",
     "output_type": "stream",
     "text": [
      "✅ Colonnes après aplatissement : ['Adj Close', 'Close', 'High', 'Low', 'Open', 'Volume']\n",
      "                 Open       High        Low      Close  Adj Close  Volume\n",
      "Date                                                                     \n",
      "2015-01-02  53.900002  54.299999  52.349998  52.430000  52.430000  471200\n",
      "2015-01-05  52.130001  52.750000  51.060001  51.430000  51.430000  623400\n",
      "2015-01-06  51.779999  52.160000  49.849998  50.360001  50.360001  784400\n",
      "2015-01-07  50.630001  51.070000  49.939999  50.459999  50.459999  846900\n",
      "2015-01-08  51.000000  51.689999  50.349998  51.509998  51.509998  884700\n",
      "✅ Données sauvegardées dans MOH_data.csv\n"
     ]
    },
    {
     "name": "stderr",
     "output_type": "stream",
     "text": [
      "[*********************100%***********************]  1 of 1 completed\n"
     ]
    },
    {
     "name": "stdout",
     "output_type": "stream",
     "text": [
      "✅ Colonnes après aplatissement : ['Adj Close', 'Close', 'High', 'Low', 'Open', 'Volume']\n",
      "                 Open       High        Low      Close  Adj Close   Volume\n",
      "Date                                                                      \n",
      "2015-01-02  74.639999  74.889999  72.940002  73.860001  57.635090   811100\n",
      "2015-01-05  73.389999  74.220001  73.279999  73.410004  57.283962  1288400\n",
      "2015-01-06  73.910004  74.360001  72.400002  73.059998  57.010822  1358800\n",
      "2015-01-07  74.000000  75.540001  73.940002  75.400002  58.836800  1507700\n",
      "2015-01-08  77.040001  78.050003  77.029999  77.730003  60.654964  1810700\n",
      "✅ Données sauvegardées dans TAP_data.csv\n"
     ]
    },
    {
     "name": "stderr",
     "output_type": "stream",
     "text": [
      "[*********************100%***********************]  1 of 1 completed\n"
     ]
    },
    {
     "name": "stdout",
     "output_type": "stream",
     "text": [
      "✅ Colonnes après aplatissement : ['Adj Close', 'Close', 'High', 'Low', 'Open', 'Volume']\n",
      "                 Open       High        Low      Close  Adj Close    Volume\n",
      "Date                                                                       \n",
      "2015-01-02  36.430000  36.939999  36.270000  36.790001  29.322319   7707700\n",
      "2015-01-05  36.709999  36.770000  36.119999  36.240002  28.883961   9621100\n",
      "2015-01-06  36.369999  36.650002  35.790001  35.990002  28.684706   7669500\n",
      "2015-01-07  36.189999  37.200001  35.970001  37.119999  29.585327  10418800\n",
      "2015-01-08  37.090000  37.880001  37.090000  37.590000  29.959921   8122100\n",
      "✅ Données sauvegardées dans MDLZ_data.csv\n"
     ]
    },
    {
     "name": "stderr",
     "output_type": "stream",
     "text": [
      "[*********************100%***********************]  1 of 1 completed\n"
     ]
    },
    {
     "name": "stdout",
     "output_type": "stream",
     "text": [
      "✅ Colonnes après aplatissement : ['Adj Close', 'Close', 'High', 'Low', 'Open', 'Volume']\n",
      "                 Open       High        Low      Close  Adj Close  Volume\n",
      "Date                                                                     \n",
      "2015-01-02  49.900002  50.200001  47.930000  48.619999  44.171875  203200\n",
      "2015-01-05  48.180000  48.820000  47.470001  47.669998  43.308800  204000\n",
      "2015-01-06  47.689999  47.980000  45.639999  46.090000  41.873348  321300\n",
      "2015-01-07  46.480000  47.439999  46.180000  46.759998  42.482052  209200\n",
      "2015-01-08  47.299999  48.700001  46.959999  48.380001  43.953842  184400\n",
      "✅ Données sauvegardées dans MPWR_data.csv\n"
     ]
    },
    {
     "name": "stderr",
     "output_type": "stream",
     "text": [
      "[*********************100%***********************]  1 of 1 completed\n"
     ]
    },
    {
     "name": "stdout",
     "output_type": "stream",
     "text": [
      "✅ Colonnes après aplatissement : ['Adj Close', 'Close', 'High', 'Low', 'Open', 'Volume']\n",
      "                 Open       High        Low      Close  Adj Close    Volume\n",
      "Date                                                                       \n",
      "2015-01-02  18.233334  18.315001  17.795000  18.026667  18.026667   3922800\n",
      "2015-01-05  18.028334  18.299999  18.023333  18.238333  18.238333   6514800\n",
      "2015-01-06  18.241667  18.998333  18.211666  18.713333  18.713333  11548800\n",
      "2015-01-07  18.738333  19.333332  18.738333  19.326668  19.326668   9118800\n",
      "2015-01-08  19.558332  19.783333  19.413334  19.618334  19.618334   9048000\n",
      "✅ Données sauvegardées dans MNST_data.csv\n"
     ]
    },
    {
     "name": "stderr",
     "output_type": "stream",
     "text": [
      "[*********************100%***********************]  1 of 1 completed\n"
     ]
    },
    {
     "name": "stdout",
     "output_type": "stream",
     "text": [
      "✅ Colonnes après aplatissement : ['Adj Close', 'Close', 'High', 'Low', 'Open', 'Volume']\n",
      "                 Open       High        Low      Close  Adj Close   Volume\n",
      "Date                                                                      \n",
      "2015-01-02  96.540001  96.930000  94.959999  95.889999  86.056465   930500\n",
      "2015-01-05  95.050003  95.730003  93.629997  94.010002  84.369232   928200\n",
      "2015-01-06  94.410004  94.760002  92.410004  93.019997  83.480797   960500\n",
      "2015-01-07  93.989998  94.470001  93.370003  94.440002  84.755157   699600\n",
      "2015-01-08  94.919998  95.959999  94.919998  95.360001  85.580811  1187500\n",
      "✅ Données sauvegardées dans MCO_data.csv\n"
     ]
    },
    {
     "name": "stderr",
     "output_type": "stream",
     "text": [
      "[*********************100%***********************]  1 of 1 completed\n"
     ]
    },
    {
     "name": "stdout",
     "output_type": "stream",
     "text": [
      "✅ Colonnes après aplatissement : ['Adj Close', 'Close', 'High', 'Low', 'Open', 'Volume']\n",
      "                 Open       High        Low      Close  Adj Close    Volume\n",
      "Date                                                                       \n",
      "2015-01-02  39.049999  39.150002  38.250000  38.709999  29.091125   7333800\n",
      "2015-01-05  38.459999  38.590000  37.169998  37.500000  28.181801  12507900\n",
      "2015-01-06  37.470001  37.540001  36.060001  36.419998  27.370180  16507800\n",
      "2015-01-07  36.930000  37.049999  36.599998  36.939999  27.760956   9957700\n",
      "2015-01-08  37.290001  37.759998  37.290001  37.490002  28.174297   8079600\n",
      "✅ Données sauvegardées dans MS_data.csv\n"
     ]
    },
    {
     "name": "stderr",
     "output_type": "stream",
     "text": [
      "[*********************100%***********************]  1 of 1 completed\n"
     ]
    },
    {
     "name": "stdout",
     "output_type": "stream",
     "text": [
      "✅ Colonnes après aplatissement : ['Adj Close', 'Close', 'High', 'Low', 'Open', 'Volume']\n",
      "                 Open       High        Low      Close  Adj Close   Volume\n",
      "Date                                                                      \n",
      "2015-01-02  45.860001  46.040001  45.410000  45.770000  37.340851  1572200\n",
      "2015-01-05  45.410000  45.689999  44.810001  44.950001  36.671867  2067300\n",
      "2015-01-06  45.270000  45.779999  44.869999  45.549999  37.161358  3284500\n",
      "2015-01-07  45.790001  46.150002  45.570000  45.790001  37.357159  2434100\n",
      "2015-01-08  46.180000  46.430000  46.020000  46.330002  37.797726  2882300\n",
      "✅ Données sauvegardées dans MOS_data.csv\n"
     ]
    },
    {
     "name": "stderr",
     "output_type": "stream",
     "text": [
      "[*********************100%***********************]  1 of 1 completed\n"
     ]
    },
    {
     "name": "stdout",
     "output_type": "stream",
     "text": [
      "✅ Colonnes après aplatissement : ['Adj Close', 'Close', 'High', 'Low', 'Open', 'Volume']\n",
      "                 Open       High        Low      Close  Adj Close   Volume\n",
      "Date                                                                      \n",
      "2015-01-02  67.540001  67.730003  66.360001  66.510002  55.985157  1077900\n",
      "2015-01-05  66.239998  66.470001  64.959999  65.059998  54.764603  1628800\n",
      "2015-01-06  65.000000  65.220001  64.110001  64.510002  54.301643  1738500\n",
      "2015-01-07  65.000000  65.000000  63.930000  64.430000  54.234310  1567600\n",
      "2015-01-08  64.910004  65.629997  64.879997  65.430000  55.076050  1234800\n",
      "✅ Données sauvegardées dans MSI_data.csv\n"
     ]
    },
    {
     "name": "stderr",
     "output_type": "stream",
     "text": [
      "[*********************100%***********************]  1 of 1 completed\n"
     ]
    },
    {
     "name": "stdout",
     "output_type": "stream",
     "text": [
      "✅ Colonnes après aplatissement : ['Adj Close', 'Close', 'High', 'Low', 'Open', 'Volume']\n",
      "                 Open       High        Low      Close  Adj Close   Volume\n",
      "Date                                                                      \n",
      "2015-01-02  47.689999  47.939999  46.930000  47.689999  42.498535   477500\n",
      "2015-01-05  47.430000  47.590000  46.799999  47.240002  42.097530   814100\n",
      "2015-01-06  47.599998  49.549999  47.540001  48.610001  43.318386  1961000\n",
      "2015-01-07  48.880001  49.790001  48.439999  49.720001  44.307552  1257700\n",
      "2015-01-08  50.060001  51.270000  49.680000  51.220001  45.644276  1287600\n",
      "✅ Données sauvegardées dans MSCI_data.csv\n"
     ]
    },
    {
     "name": "stderr",
     "output_type": "stream",
     "text": [
      "[*********************100%***********************]  1 of 1 completed\n"
     ]
    },
    {
     "name": "stdout",
     "output_type": "stream",
     "text": [
      "✅ Colonnes après aplatissement : ['Adj Close', 'Close', 'High', 'Low', 'Open', 'Volume']\n",
      "                 Open       High        Low      Close  Adj Close   Volume\n",
      "Date                                                                      \n",
      "2015-01-02  16.073334  16.136667  15.806667  15.953333  13.428907  1788300\n",
      "2015-01-05  15.873333  15.970000  15.753333  15.870000  13.358760  2866800\n",
      "2015-01-06  15.920000  15.993333  15.720000  15.860000  13.350342  3104100\n",
      "2015-01-07  15.963333  16.093332  15.773333  16.086666  13.541142  2972400\n",
      "2015-01-08  16.163334  16.443333  16.146667  16.336666  13.751584  3616800\n",
      "✅ Données sauvegardées dans NDAQ_data.csv\n"
     ]
    },
    {
     "name": "stderr",
     "output_type": "stream",
     "text": [
      "[*********************100%***********************]  1 of 1 completed\n"
     ]
    },
    {
     "name": "stdout",
     "output_type": "stream",
     "text": [
      "✅ Colonnes après aplatissement : ['Adj Close', 'Close', 'High', 'Low', 'Open', 'Volume']\n",
      "                 Open       High        Low      Close  Adj Close   Volume\n",
      "Date                                                                      \n",
      "2015-01-02  41.680000  41.790001  41.020000  41.459999  31.627438  2058600\n",
      "2015-01-05  41.200001  41.369999  39.910000  40.049999  30.551825  2800900\n",
      "2015-01-06  40.049999  40.330002  39.520000  39.689999  30.277208  3358400\n",
      "2015-01-07  39.779999  39.869999  39.430000  39.730000  30.434238  1716400\n",
      "2015-01-08  39.919998  40.889999  39.880001  40.549999  31.062380  1950100\n",
      "✅ Données sauvegardées dans NTAP_data.csv\n"
     ]
    },
    {
     "name": "stderr",
     "output_type": "stream",
     "text": [
      "[*********************100%***********************]  1 of 1 completed\n"
     ]
    },
    {
     "name": "stdout",
     "output_type": "stream",
     "text": [
      "✅ Colonnes après aplatissement : ['Adj Close', 'Close', 'High', 'Low', 'Open', 'Volume']\n",
      "                 Open       High        Low      Close  Adj Close    Volume\n",
      "Date                                                                       \n",
      "2015-01-02  49.151428  50.331429  48.731430  49.848572  49.848572  13475000\n",
      "2015-01-05  49.258572  49.258572  47.147144  47.311428  47.311428  18165000\n",
      "2015-01-06  47.347141  47.639999  45.661430  46.501431  46.501431  16037700\n",
      "2015-01-07  47.347141  47.421429  46.271427  46.742859  46.742859   9849700\n",
      "2015-01-08  47.119999  47.835712  46.478573  47.779999  47.779999   9601900\n",
      "✅ Données sauvegardées dans NFLX_data.csv\n"
     ]
    },
    {
     "name": "stderr",
     "output_type": "stream",
     "text": [
      "[*********************100%***********************]  1 of 1 completed\n"
     ]
    },
    {
     "name": "stdout",
     "output_type": "stream",
     "text": [
      "✅ Colonnes après aplatissement : ['Adj Close', 'Close', 'High', 'Low', 'Open', 'Volume']\n",
      "                 Open       High        Low      Close  Adj Close    Volume\n",
      "Date                                                                       \n",
      "2015-01-02  18.650000  19.389999  18.600000  19.340000  15.195580   6533500\n",
      "2015-01-05  19.510000  19.600000  18.860001  19.459999  15.289857   7508100\n",
      "2015-01-06  19.650000  20.660000  19.620001  20.270000  15.926286  13198100\n",
      "2015-01-07  20.040001  20.520000  19.740000  20.090000  15.784856   8172100\n",
      "2015-01-08  20.100000  20.379999  19.889999  19.980000  15.698424   7803400\n",
      "✅ Données sauvegardées dans NEM_data.csv\n"
     ]
    },
    {
     "name": "stderr",
     "output_type": "stream",
     "text": [
      "[*********************100%***********************]  1 of 1 completed\n"
     ]
    },
    {
     "name": "stdout",
     "output_type": "stream",
     "text": [
      "✅ Colonnes après aplatissement : ['Adj Close', 'Close', 'High', 'Low', 'Open', 'Volume']\n",
      "             Open   High    Low  Close  Adj Close   Volume\n",
      "Date                                                      \n",
      "2015-01-02  15.82  15.91  15.41  15.59  13.737622  3023100\n",
      "2015-01-05  15.45  15.55  15.08  15.12  13.323470  4016900\n",
      "2015-01-06  15.10  15.20  14.76  14.91  13.138422  4330200\n",
      "2015-01-07  15.04  15.04  14.68  14.87  13.103174  2516600\n",
      "2015-01-08  15.05  15.39  14.83  15.34  13.517327  4637100\n",
      "✅ Données sauvegardées dans NWSA_data.csv\n"
     ]
    },
    {
     "name": "stderr",
     "output_type": "stream",
     "text": [
      "[*********************100%***********************]  1 of 1 completed\n"
     ]
    },
    {
     "name": "stdout",
     "output_type": "stream",
     "text": [
      "✅ Colonnes après aplatissement : ['Adj Close', 'Close', 'High', 'Low', 'Open', 'Volume']\n",
      "             Open   High    Low  Close  Adj Close   Volume\n",
      "Date                                                      \n",
      "2015-01-02  15.13  15.28  14.80  14.98  13.240834   905000\n",
      "2015-01-05  14.91  14.91  14.53  14.64  12.940308  1018500\n",
      "2015-01-06  14.65  14.67  14.32  14.47  12.790046  1197100\n",
      "2015-01-07  14.57  14.57  14.25  14.41  12.737012  1074300\n",
      "2015-01-08  14.52  14.84  14.43  14.74  13.028696   887000\n",
      "✅ Données sauvegardées dans NWS_data.csv\n"
     ]
    },
    {
     "name": "stderr",
     "output_type": "stream",
     "text": [
      "[*********************100%***********************]  1 of 1 completed\n"
     ]
    },
    {
     "name": "stdout",
     "output_type": "stream",
     "text": [
      "✅ Colonnes après aplatissement : ['Adj Close', 'Close', 'High', 'Low', 'Open', 'Volume']\n",
      "                 Open       High        Low      Close  Adj Close    Volume\n",
      "Date                                                                       \n",
      "2015-01-02  26.657499  26.782499  26.344999  26.672501  20.324471   6459200\n",
      "2015-01-05  26.645000  26.692499  26.297501  26.389999  20.109198   8153600\n",
      "2015-01-06  26.480000  26.977501  26.440001  26.492500  20.187311  10623200\n",
      "2015-01-07  26.897499  26.990000  26.517500  26.735001  20.372091   7292000\n",
      "2015-01-08  26.967501  27.057501  26.827499  26.897499  20.495916   7602000\n",
      "✅ Données sauvegardées dans NEE_data.csv\n"
     ]
    },
    {
     "name": "stderr",
     "output_type": "stream",
     "text": [
      "[*********************100%***********************]  1 of 1 completed\n"
     ]
    },
    {
     "name": "stdout",
     "output_type": "stream",
     "text": [
      "✅ Colonnes après aplatissement : ['Adj Close', 'Close', 'High', 'Low', 'Open', 'Volume']\n",
      "                 Open       High        Low      Close  Adj Close   Volume\n",
      "Date                                                                      \n",
      "2015-01-02  48.275002  48.474998  47.055000  47.514999  41.862133  4985800\n",
      "2015-01-05  47.255001  47.275002  46.564999  46.750000  41.188148  6889200\n",
      "2015-01-06  46.945000  47.075001  46.035000  46.474998  40.945854  7576000\n",
      "2015-01-07  46.805000  47.650002  46.549999  47.435001  41.791645  7256000\n",
      "2015-01-08  47.830002  48.549999  47.810001  48.529999  42.756371  5978200\n",
      "✅ Données sauvegardées dans NKE_data.csv\n"
     ]
    },
    {
     "name": "stderr",
     "output_type": "stream",
     "text": [
      "[*********************100%***********************]  1 of 1 completed\n"
     ]
    },
    {
     "name": "stdout",
     "output_type": "stream",
     "text": [
      "✅ Colonnes après aplatissement : ['Adj Close', 'Close', 'High', 'Low', 'Open', 'Volume']\n",
      "                 Open       High        Low      Close  Adj Close   Volume\n",
      "Date                                                                      \n",
      "2015-01-02  16.715128  16.805502  16.526524  16.679764  11.936819  5458771\n",
      "2015-01-05  16.636541  16.730844  16.424360  16.483301  11.796220  5863426\n",
      "2015-01-06  16.479370  16.679764  16.200394  16.290766  11.658430  7364721\n",
      "2015-01-07  16.404715  16.644402  16.310413  16.565815  11.855273  3468072\n",
      "2015-01-08  16.640472  16.891945  16.569744  16.868368  12.071791  4361621\n",
      "✅ Données sauvegardées dans NI_data.csv\n"
     ]
    },
    {
     "name": "stderr",
     "output_type": "stream",
     "text": [
      "[*********************100%***********************]  1 of 1 completed\n"
     ]
    },
    {
     "name": "stdout",
     "output_type": "stream",
     "text": [
      "✅ Colonnes après aplatissement : ['Adj Close', 'Close', 'High', 'Low', 'Open', 'Volume']\n",
      "                 Open       High        Low      Close  Adj Close  Volume\n",
      "Date                                                                     \n",
      "2015-01-02  78.070000  78.660004  76.760002  78.250000  69.980186  169100\n",
      "2015-01-05  78.089996  78.099998  75.650002  75.699997  67.699699  268400\n",
      "2015-01-06  76.000000  76.360001  74.330002  74.709999  66.814323  257600\n",
      "2015-01-07  75.269997  75.940002  73.750000  73.930000  66.116760  358700\n",
      "2015-01-08  74.519997  76.000000  74.250000  75.330002  67.368813  286900\n",
      "✅ Données sauvegardées dans NDSN_data.csv\n"
     ]
    },
    {
     "name": "stderr",
     "output_type": "stream",
     "text": [
      "[*********************100%***********************]  1 of 1 completed\n"
     ]
    },
    {
     "name": "stdout",
     "output_type": "stream",
     "text": [
      "✅ Colonnes après aplatissement : ['Adj Close', 'Close', 'High', 'Low', 'Open', 'Volume']\n",
      "                  Open        High         Low       Close  Adj Close   Volume\n",
      "Date                                                                          \n",
      "2015-01-02  110.699997  111.059998  107.910004  109.150002  86.452850  1424900\n",
      "2015-01-05  108.709999  108.889999  106.250000  106.389999  84.266769  2801100\n",
      "2015-01-06  105.570000  105.870003  102.540001  103.000000  81.581734  4233200\n",
      "2015-01-07  103.699997  104.230003  102.010002  103.000000  81.581734  3746700\n",
      "2015-01-08  103.709999  104.919998  102.919998  103.989998  82.365852  3064400\n",
      "✅ Données sauvegardées dans NSC_data.csv\n"
     ]
    },
    {
     "name": "stderr",
     "output_type": "stream",
     "text": [
      "[*********************100%***********************]  1 of 1 completed\n"
     ]
    },
    {
     "name": "stdout",
     "output_type": "stream",
     "text": [
      "✅ Colonnes après aplatissement : ['Adj Close', 'Close', 'High', 'Low', 'Open', 'Volume']\n",
      "                 Open       High        Low      Close  Adj Close   Volume\n",
      "Date                                                                      \n",
      "2015-01-02  67.680000  67.949997  66.790001  67.550003  51.122898   676000\n",
      "2015-01-05  67.010002  67.150002  64.989998  65.070000  49.246006  1420400\n",
      "2015-01-06  65.220001  65.349998  63.009998  63.240002  47.861027  1520100\n",
      "2015-01-07  63.779999  64.419998  63.330002  64.260002  48.632984   798600\n",
      "2015-01-08  64.750000  65.500000  64.750000  65.260002  49.389793   801300\n",
      "✅ Données sauvegardées dans NTRS_data.csv\n"
     ]
    },
    {
     "name": "stderr",
     "output_type": "stream",
     "text": [
      "[*********************100%***********************]  1 of 1 completed\n"
     ]
    },
    {
     "name": "stdout",
     "output_type": "stream",
     "text": [
      "✅ Colonnes après aplatissement : ['Adj Close', 'Close', 'High', 'Low', 'Open', 'Volume']\n",
      "                  Open        High         Low       Close   Adj Close  \\\n",
      "Date                                                                     \n",
      "2015-01-02  148.289993  149.160004  144.539993  146.460007  123.371269   \n",
      "2015-01-05  145.449997  146.470001  142.449997  143.369995  120.768440   \n",
      "2015-01-06  143.460007  146.000000  141.580002  144.160004  121.433868   \n",
      "2015-01-07  145.050003  148.830002  144.880005  148.720001  125.275047   \n",
      "2015-01-08  149.839996  153.139999  149.809998  152.169998  128.181152   \n",
      "\n",
      "             Volume  \n",
      "Date                 \n",
      "2015-01-02  2042000  \n",
      "2015-01-05  5765000  \n",
      "2015-01-06  3121100  \n",
      "2015-01-07  2369900  \n",
      "2015-01-08  3466300  \n",
      "✅ Données sauvegardées dans NOC_data.csv\n"
     ]
    },
    {
     "name": "stderr",
     "output_type": "stream",
     "text": [
      "[*********************100%***********************]  1 of 1 completed\n"
     ]
    },
    {
     "name": "stdout",
     "output_type": "stream",
     "text": [
      "✅ Colonnes après aplatissement : ['Adj Close', 'Close', 'High', 'Low', 'Open', 'Volume']\n",
      "                 Open       High        Low      Close  Adj Close   Volume\n",
      "Date                                                                      \n",
      "2015-01-02  47.230000  47.270000  46.320000  46.700001  46.700001   438700\n",
      "2015-01-05  46.380001  46.990002  45.509998  46.029999  46.029999   938700\n",
      "2015-01-06  46.340000  46.340000  44.689999  45.610001  45.610001  1062000\n",
      "2015-01-07  46.139999  46.709999  45.619999  46.209999  46.209999  1409200\n",
      "2015-01-08  46.330002  47.020000  46.330002  46.680000  46.680000  1658500\n",
      "✅ Données sauvegardées dans NCLH_data.csv\n"
     ]
    },
    {
     "name": "stderr",
     "output_type": "stream",
     "text": [
      "[*********************100%***********************]  1 of 1 completed\n"
     ]
    },
    {
     "name": "stdout",
     "output_type": "stream",
     "text": [
      "✅ Colonnes après aplatissement : ['Adj Close', 'Close', 'High', 'Low', 'Open', 'Volume']\n",
      "                 Open       High        Low      Close  Adj Close   Volume\n",
      "Date                                                                      \n",
      "2015-01-02  27.030001  27.580000  26.850000  27.500000  21.618683  4712900\n",
      "2015-01-05  27.900000  27.900000  26.240000  26.450001  20.793242  4980200\n",
      "2015-01-06  26.549999  26.660000  25.860001  26.110001  20.525961  4623400\n",
      "2015-01-07  26.379999  26.719999  26.120001  26.230000  20.620295  3567800\n",
      "2015-01-08  26.250000  26.900000  26.219999  26.809999  21.076250  3245400\n",
      "✅ Données sauvegardées dans NRG_data.csv\n"
     ]
    },
    {
     "name": "stderr",
     "output_type": "stream",
     "text": [
      "[*********************100%***********************]  1 of 1 completed\n"
     ]
    },
    {
     "name": "stdout",
     "output_type": "stream",
     "text": [
      "✅ Colonnes après aplatissement : ['Adj Close', 'Close', 'High', 'Low', 'Open', 'Volume']\n",
      "                 Open       High        Low      Close  Adj Close   Volume\n",
      "Date                                                                      \n",
      "2015-01-02  49.230000  49.430000  48.500000  49.009998  37.984550  1359600\n",
      "2015-01-05  48.509998  48.549999  46.970001  47.139999  36.535221  2794900\n",
      "2015-01-06  47.200001  47.250000  45.820000  46.459999  36.008205  3926900\n",
      "2015-01-07  46.930000  47.259998  46.700001  46.889999  36.341480  1906100\n",
      "2015-01-08  47.099998  48.119999  46.720001  48.029999  37.225021  2660400\n",
      "✅ Données sauvegardées dans NUE_data.csv\n"
     ]
    },
    {
     "name": "stderr",
     "output_type": "stream",
     "text": [
      "[*********************100%***********************]  1 of 1 completed\n"
     ]
    },
    {
     "name": "stdout",
     "output_type": "stream",
     "text": [
      "✅ Colonnes après aplatissement : ['Adj Close', 'Close', 'High', 'Low', 'Open', 'Volume']\n",
      "               Open     High      Low    Close  Adj Close     Volume\n",
      "Date                                                                \n",
      "2015-01-02  0.50325  0.50700  0.49525  0.50325   0.483066  113680000\n",
      "2015-01-05  0.50325  0.50475  0.49250  0.49475   0.474907  197952000\n",
      "2015-01-06  0.49550  0.49600  0.47925  0.47975   0.460508  197764000\n",
      "2015-01-07  0.48325  0.48750  0.47700  0.47850   0.459308  321808000\n",
      "2015-01-08  0.48400  0.49950  0.48375  0.49650   0.476586  283780000\n",
      "✅ Données sauvegardées dans NVDA_data.csv\n"
     ]
    },
    {
     "name": "stderr",
     "output_type": "stream",
     "text": [
      "[*********************100%***********************]  1 of 1 completed\n"
     ]
    },
    {
     "name": "stdout",
     "output_type": "stream",
     "text": [
      "✅ Colonnes après aplatissement : ['Adj Close', 'Close', 'High', 'Low', 'Open', 'Volume']\n",
      "                   Open         High          Low        Close    Adj Close  \\\n",
      "Date                                                                          \n",
      "2015-01-02  1246.979980  1258.750000  1239.000000  1251.989990  1251.989990   \n",
      "2015-01-05  1240.109985  1255.000000  1235.989990  1254.989990  1254.989990   \n",
      "2015-01-06  1250.000000  1254.989990  1235.439941  1249.510010  1249.510010   \n",
      "2015-01-07  1250.109985  1285.979980  1249.930054  1276.949951  1276.949951   \n",
      "2015-01-08  1290.130005  1309.030029  1262.500000  1301.390015  1301.390015   \n",
      "\n",
      "            Volume  \n",
      "Date                \n",
      "2015-01-02   56700  \n",
      "2015-01-05   17600  \n",
      "2015-01-06   59400  \n",
      "2015-01-07   55900  \n",
      "2015-01-08   25500  \n",
      "✅ Données sauvegardées dans NVR_data.csv\n"
     ]
    },
    {
     "name": "stderr",
     "output_type": "stream",
     "text": [
      "[*********************100%***********************]  1 of 1 completed\n"
     ]
    },
    {
     "name": "stdout",
     "output_type": "stream",
     "text": [
      "✅ Colonnes après aplatissement : ['Adj Close', 'Close', 'High', 'Low', 'Open', 'Volume']\n",
      "                 Open       High        Low      Close  Adj Close   Volume\n",
      "Date                                                                      \n",
      "2015-01-02  76.559998  77.879997  75.199997  76.809998  68.878273  2566600\n",
      "2015-01-05  76.910004  77.000000  75.459999  76.000000  68.151909  3929600\n",
      "2015-01-06  75.500000  75.769997  72.199997  72.379997  64.905708  4099700\n",
      "2015-01-07  73.040001  74.980003  73.040001  74.330002  66.654373  2713000\n",
      "2015-01-08  75.510002  78.099998  75.430000  77.839996  69.801903  2664000\n",
      "✅ Données sauvegardées dans NXPI_data.csv\n"
     ]
    },
    {
     "name": "stderr",
     "output_type": "stream",
     "text": [
      "[*********************100%***********************]  1 of 1 completed\n"
     ]
    },
    {
     "name": "stdout",
     "output_type": "stream",
     "text": [
      "✅ Colonnes après aplatissement : ['Adj Close', 'Close', 'High', 'Low', 'Open', 'Volume']\n",
      "                 Open       High        Low      Close  Adj Close    Volume\n",
      "Date                                                                       \n",
      "2015-01-02  12.857333  13.002000  12.714000  12.807333  12.807333  12567000\n",
      "2015-01-05  12.767333  12.825333  12.569333  12.581333  12.581333  14562000\n",
      "2015-01-06  12.648667  12.661333  12.438000  12.538667  12.538667  13474500\n",
      "2015-01-07  12.611333  12.726667  12.532000  12.652667  12.652667  14095500\n",
      "2015-01-08  12.751333  12.958000  12.700667  12.882667  12.882667  19284000\n",
      "✅ Données sauvegardées dans ORLY_data.csv\n"
     ]
    },
    {
     "name": "stderr",
     "output_type": "stream",
     "text": [
      "[*********************100%***********************]  1 of 1 completed\n"
     ]
    },
    {
     "name": "stdout",
     "output_type": "stream",
     "text": [
      "✅ Colonnes après aplatissement : ['Adj Close', 'Close', 'High', 'Low', 'Open', 'Volume']\n",
      "                 Open       High        Low      Close  Adj Close   Volume\n",
      "Date                                                                      \n",
      "2015-01-02  79.873985  80.962128  79.145226  80.512894  58.559502  3640789\n",
      "2015-01-05  79.245056  79.245056  76.779251  77.527977  56.388481  6115096\n",
      "2015-01-06  76.938980  78.097008  75.930695  76.869102  55.909256  6048382\n",
      "2015-01-07  77.807503  78.146927  75.870796  76.879082  55.916531  5484624\n",
      "2015-01-08  77.677727  78.626106  77.348282  77.557930  56.410275  6746168\n",
      "✅ Données sauvegardées dans OXY_data.csv\n"
     ]
    },
    {
     "name": "stderr",
     "output_type": "stream",
     "text": [
      "[*********************100%***********************]  1 of 1 completed\n"
     ]
    },
    {
     "name": "stdout",
     "output_type": "stream",
     "text": [
      "✅ Colonnes après aplatissement : ['Adj Close', 'Close', 'High', 'Low', 'Open', 'Volume']\n",
      "                 Open       High        Low      Close  Adj Close   Volume\n",
      "Date                                                                      \n",
      "2015-01-02  25.976667  26.203333  25.420000  25.836666  24.935503  1058700\n",
      "2015-01-05  25.776667  25.776667  25.156668  25.180000  24.301739  1560600\n",
      "2015-01-06  25.176666  25.453333  24.466667  24.706667  23.844919  2261400\n",
      "2015-01-07  24.846666  25.036667  24.400000  24.573334  23.716234  1884000\n",
      "2015-01-08  24.719999  25.356667  24.696667  25.219999  24.340351  1724400\n",
      "✅ Données sauvegardées dans ODFL_data.csv\n"
     ]
    },
    {
     "name": "stderr",
     "output_type": "stream",
     "text": [
      "[*********************100%***********************]  1 of 1 completed\n"
     ]
    },
    {
     "name": "stdout",
     "output_type": "stream",
     "text": [
      "✅ Colonnes après aplatissement : ['Adj Close', 'Close', 'High', 'Low', 'Open', 'Volume']\n",
      "                 Open       High        Low      Close  Adj Close   Volume\n",
      "Date                                                                      \n",
      "2015-01-02  78.000000  78.059998  75.620003  75.930000  53.617710  1188500\n",
      "2015-01-05  75.809998  76.029999  74.300003  74.570000  52.657360  1627600\n",
      "2015-01-06  74.720001  74.809998  73.180000  74.080002  52.311356  2210200\n",
      "2015-01-07  74.699997  74.699997  73.680000  74.330002  52.487892  1577900\n",
      "2015-01-08  74.940002  75.680000  74.879997  75.500000  53.314072  1169700\n",
      "✅ Données sauvegardées dans OMC_data.csv\n"
     ]
    },
    {
     "name": "stderr",
     "output_type": "stream",
     "text": [
      "[*********************100%***********************]  1 of 1 completed\n"
     ]
    },
    {
     "name": "stdout",
     "output_type": "stream",
     "text": [
      "✅ Colonnes après aplatissement : ['Adj Close', 'Close', 'High', 'Low', 'Open', 'Volume']\n",
      "             Open   High    Low  Close  Adj Close   Volume\n",
      "Date                                                      \n",
      "2015-01-02  10.18  10.27  10.05  10.20      10.20  3009400\n",
      "2015-01-05  10.18  10.20   9.89   9.93       9.93  3619300\n",
      "2015-01-06  10.10  10.14   9.70   9.96       9.96  9145000\n",
      "2015-01-07  10.05  10.23  10.00  10.12      10.12  5211400\n",
      "2015-01-08  10.19  10.46  10.18  10.37      10.37  8890100\n",
      "✅ Données sauvegardées dans ON_data.csv\n"
     ]
    },
    {
     "name": "stderr",
     "output_type": "stream",
     "text": [
      "[*********************100%***********************]  1 of 1 completed\n"
     ]
    },
    {
     "name": "stdout",
     "output_type": "stream",
     "text": [
      "✅ Colonnes après aplatissement : ['Adj Close', 'Close', 'High', 'Low', 'Open', 'Volume']\n",
      "                 Open       High        Low      Close  Adj Close   Volume\n",
      "Date                                                                      \n",
      "2015-01-02  49.900002  50.349998  49.529999  49.919998  25.919062  1569200\n",
      "2015-01-05  49.250000  49.279999  46.970001  47.060001  24.434114  2151200\n",
      "2015-01-06  47.060001  47.349998  44.770000  45.099998  23.416464  2959800\n",
      "2015-01-07  45.610001  45.840000  44.369999  44.770000  23.245129  2441900\n",
      "2015-01-08  45.389999  45.599998  44.939999  45.259998  23.499540  1624100\n",
      "✅ Données sauvegardées dans OKE_data.csv\n"
     ]
    },
    {
     "name": "stderr",
     "output_type": "stream",
     "text": [
      "[*********************100%***********************]  1 of 1 completed\n"
     ]
    },
    {
     "name": "stdout",
     "output_type": "stream",
     "text": [
      "✅ Colonnes après aplatissement : ['Adj Close', 'Close', 'High', 'Low', 'Open', 'Volume']\n",
      "                 Open       High        Low      Close  Adj Close    Volume\n",
      "Date                                                                       \n",
      "2015-01-02  45.020000  45.189999  43.970001  44.330002  37.728325  15070200\n",
      "2015-01-05  44.160000  44.250000  43.580002  43.590000  37.199223  18369400\n",
      "2015-01-06  44.060001  44.180000  42.990002  43.139999  36.815193  19229500\n",
      "2015-01-07  43.330002  43.520000  43.009998  43.150002  36.823734  13502200\n",
      "2015-01-08  43.630001  43.939999  43.380001  43.410000  37.045605  17516900\n",
      "✅ Données sauvegardées dans ORCL_data.csv\n"
     ]
    },
    {
     "name": "stderr",
     "output_type": "stream",
     "text": [
      "[*********************100%***********************]  1 of 1 completed\n"
     ]
    },
    {
     "name": "stdout",
     "output_type": "stream",
     "text": [
      "✅ Colonnes après aplatissement : ['Adj Close', 'Close', 'High', 'Low', 'Open', 'Volume']\n",
      "                 Open       High    Low      Close  Adj Close  Volume\n",
      "Date                                                                 \n",
      "2020-03-19  40.000000  46.000000  40.00  45.250000  41.950386    7000\n",
      "2020-03-20  45.009998  46.009998  45.00  45.000000  41.718609    3600\n",
      "2020-03-23  42.000000  42.000000  39.98  40.000000  37.083199   11900\n",
      "2020-03-24  40.000000  40.000000  39.00  40.000000  37.083199   77800\n",
      "2020-03-25  40.000000  44.799999  38.00  41.009998  38.019547    7000\n",
      "✅ Données sauvegardées dans OTIS_data.csv\n"
     ]
    },
    {
     "name": "stderr",
     "output_type": "stream",
     "text": [
      "[*********************100%***********************]  1 of 1 completed\n"
     ]
    },
    {
     "name": "stdout",
     "output_type": "stream",
     "text": [
      "✅ Colonnes après aplatissement : ['Adj Close', 'Close', 'High', 'Low', 'Open', 'Volume']\n",
      "                 Open       High        Low      Close  Adj Close   Volume\n",
      "Date                                                                      \n",
      "2015-01-02  45.480000  45.913334  44.959999  45.433334  30.687941  2262000\n",
      "2015-01-05  45.126667  45.426666  43.833332  43.906666  29.656746  4089900\n",
      "2015-01-06  44.073334  44.419998  43.220001  43.966667  29.697281  6294750\n",
      "2015-01-07  44.299999  44.560001  43.840000  44.553333  30.093542  2675400\n",
      "2015-01-08  44.966667  45.166668  44.593334  45.139999  30.489799  3087000\n",
      "✅ Données sauvegardées dans PCAR_data.csv\n"
     ]
    },
    {
     "name": "stderr",
     "output_type": "stream",
     "text": [
      "[*********************100%***********************]  1 of 1 completed\n"
     ]
    },
    {
     "name": "stdout",
     "output_type": "stream",
     "text": [
      "✅ Colonnes après aplatissement : ['Adj Close', 'Close', 'High', 'Low', 'Open', 'Volume']\n",
      "                 Open       High        Low      Close  Adj Close   Volume\n",
      "Date                                                                      \n",
      "2015-01-02  78.730003  79.019997  77.389999  78.290001  57.033966   469300\n",
      "2015-01-05  77.790001  78.099998  76.900002  77.570000  56.509460   592000\n",
      "2015-01-06  77.559998  77.959999  76.290001  76.860001  55.992229   830000\n",
      "2015-01-07  77.169998  77.650002  75.949997  76.779999  55.933956   518700\n",
      "2015-01-08  77.660004  78.949997  77.559998  78.720001  57.347248  1067700\n",
      "✅ Données sauvegardées dans PKG_data.csv\n"
     ]
    },
    {
     "name": "stderr",
     "output_type": "stream",
     "text": [
      "[*********************100%***********************]  1 of 1 completed\n"
     ]
    },
    {
     "name": "stdout",
     "output_type": "stream",
     "text": [
      "✅ Colonnes après aplatissement : ['Adj Close', 'Close', 'High', 'Low', 'Open', 'Volume']\n",
      "             Open   High   Low  Close  Adj Close     Volume\n",
      "Date                                                       \n",
      "2020-09-30  10.00  11.41  9.11   9.50       9.50  338584400\n",
      "2020-10-01   9.69  10.10  9.23   9.46       9.46  124297600\n",
      "2020-10-02   9.06   9.28  8.94   9.20       9.20   55018300\n",
      "2020-10-05   9.43   9.49  8.92   9.03       9.03   36316900\n",
      "2020-10-06   9.04  10.18  8.90   9.90       9.90   90864000\n",
      "✅ Données sauvegardées dans PLTR_data.csv\n"
     ]
    },
    {
     "name": "stderr",
     "output_type": "stream",
     "text": [
      "[*********************100%***********************]  1 of 1 completed\n"
     ]
    },
    {
     "name": "stdout",
     "output_type": "stream",
     "text": [
      "✅ Colonnes après aplatissement : ['Adj Close', 'Close', 'High', 'Low', 'Open', 'Volume']\n",
      "                 Open       High        Low      Close  Adj Close   Volume\n",
      "Date                                                                      \n",
      "2015-01-02  20.433332  20.493334  19.600000  20.236668  20.236668  9902400\n",
      "2015-01-05  20.121668  20.698334  20.030001  20.621668  20.621668  8101200\n",
      "2015-01-06  20.666668  20.865000  19.681667  20.308332  20.308332  8107200\n",
      "2015-01-07  20.726667  21.161667  20.605000  20.921667  20.921667  7582800\n",
      "2015-01-08  21.093332  21.270000  20.966667  21.201668  21.201668  4288800\n",
      "✅ Données sauvegardées dans PANW_data.csv\n"
     ]
    },
    {
     "name": "stderr",
     "output_type": "stream",
     "text": [
      "[*********************100%***********************]  1 of 1 completed\n"
     ]
    },
    {
     "name": "stdout",
     "output_type": "stream",
     "text": [
      "✅ Colonnes après aplatissement : ['Adj Close', 'Close', 'High', 'Low', 'Open', 'Volume']\n",
      "                 Open   High        Low      Close  Adj Close   Volume\n",
      "Date                                                                  \n",
      "2015-01-02  55.750000  55.77  54.459999  54.790001  44.326672  4328900\n",
      "2015-01-05  54.509998  54.68  54.000000  54.259998  43.897877  4762800\n",
      "2015-01-06  54.250000  54.32  52.939999  53.189999  43.032215  5231000\n",
      "2015-01-07  53.599998  53.84  52.990002  53.110001  42.967495  5394700\n",
      "2015-01-08  53.730000  54.07  53.439999  53.740002  43.477184  5910400\n",
      "✅ Données sauvegardées dans PARA_data.csv\n"
     ]
    },
    {
     "name": "stderr",
     "output_type": "stream",
     "text": [
      "[*********************100%***********************]  1 of 1 completed\n"
     ]
    },
    {
     "name": "stdout",
     "output_type": "stream",
     "text": [
      "✅ Colonnes après aplatissement : ['Adj Close', 'Close', 'High', 'Low', 'Open', 'Volume']\n",
      "                  Open        High         Low       Close   Adj Close  \\\n",
      "Date                                                                     \n",
      "2015-01-02  129.240005  129.539993  127.449997  129.160004  108.083664   \n",
      "2015-01-05  124.970001  126.220001  123.199997  123.620003  103.447662   \n",
      "2015-01-06  123.589996  124.540001  121.190002  121.809998  101.933029   \n",
      "2015-01-07  123.000000  123.980003  122.190002  122.760002  102.728004   \n",
      "2015-01-08  124.820000  126.660004  123.980003  126.639999  105.974861   \n",
      "\n",
      "             Volume  \n",
      "Date                 \n",
      "2015-01-02   791300  \n",
      "2015-01-05  1631500  \n",
      "2015-01-06  1757300  \n",
      "2015-01-07  1309100  \n",
      "2015-01-08  1171100  \n",
      "✅ Données sauvegardées dans PH_data.csv\n"
     ]
    },
    {
     "name": "stderr",
     "output_type": "stream",
     "text": [
      "[*********************100%***********************]  1 of 1 completed\n"
     ]
    },
    {
     "name": "stdout",
     "output_type": "stream",
     "text": [
      "✅ Colonnes après aplatissement : ['Adj Close', 'Close', 'High', 'Low', 'Open', 'Volume']\n",
      "                 Open       High        Low      Close  Adj Close   Volume\n",
      "Date                                                                      \n",
      "2015-01-02  46.360001  46.759998  45.820000  46.240002  33.648048  1998000\n",
      "2015-01-05  46.410000  46.939999  46.029999  46.320000  33.706268  4599100\n",
      "2015-01-06  46.310001  46.630001  45.750000  45.990002  33.466122  3249100\n",
      "2015-01-07  46.430000  46.869999  46.000000  46.830002  34.077389  2262300\n",
      "2015-01-08  47.119999  47.619999  46.880001  47.560001  34.608589  1826500\n",
      "✅ Données sauvegardées dans PAYX_data.csv\n"
     ]
    },
    {
     "name": "stderr",
     "output_type": "stream",
     "text": [
      "[*********************100%***********************]  1 of 1 completed\n"
     ]
    },
    {
     "name": "stdout",
     "output_type": "stream",
     "text": [
      "✅ Colonnes après aplatissement : ['Adj Close', 'Close', 'High', 'Low', 'Open', 'Volume']\n",
      "                 Open       High        Low      Close  Adj Close  Volume\n",
      "Date                                                                     \n",
      "2015-01-02  26.290001  26.469999  25.620001  26.059999  25.642889   87500\n",
      "2015-01-05  25.950001  25.950001  25.080000  25.180000  24.776974   58700\n",
      "2015-01-06  25.280001  25.549999  24.299999  24.559999  24.166897   89900\n",
      "2015-01-07  24.620001  25.480000  24.500000  25.340000  24.934410   77300\n",
      "2015-01-08  25.809999  27.000000  25.670000  26.420000  25.997128  173200\n",
      "✅ Données sauvegardées dans PAYC_data.csv\n"
     ]
    },
    {
     "name": "stderr",
     "output_type": "stream",
     "text": [
      "[*********************100%***********************]  1 of 1 completed\n"
     ]
    },
    {
     "name": "stdout",
     "output_type": "stream",
     "text": [
      "✅ Colonnes après aplatissement : ['Adj Close', 'Close', 'High', 'Low', 'Open', 'Volume']\n",
      "                 Open       High        Low      Close  Adj Close   Volume\n",
      "Date                                                                      \n",
      "2015-07-06  38.000000  39.750000  36.000000  36.709999  36.709999  5866600\n",
      "2015-07-07  37.720001  37.810001  36.000000  36.619999  36.619999  7359000\n",
      "2015-07-08  36.340000  36.360001  34.529999  34.700001  34.700001  5387700\n",
      "2015-07-09  35.099998  35.520000  33.990002  34.500000  34.500000  3760100\n",
      "2015-07-10  34.660000  35.189999  33.980000  34.689999  34.689999  4472800\n",
      "✅ Données sauvegardées dans PYPL_data.csv\n"
     ]
    },
    {
     "name": "stderr",
     "output_type": "stream",
     "text": [
      "[*********************100%***********************]  1 of 1 completed\n"
     ]
    },
    {
     "name": "stdout",
     "output_type": "stream",
     "text": [
      "✅ Colonnes après aplatissement : ['Adj Close', 'Close', 'High', 'Low', 'Open', 'Volume']\n",
      "                 Open       High        Low      Close  Adj Close   Volume\n",
      "Date                                                                      \n",
      "2015-01-02  44.848892  45.124245  44.499664  44.781734  37.274891  2338921\n",
      "2015-01-05  44.499664  44.499664  42.813969  42.955002  35.754364  2597263\n",
      "2015-01-06  43.129616  43.458698  42.095367  42.585629  35.446903  2915611\n",
      "2015-01-07  42.981869  43.116184  42.525185  42.907993  35.715233  1762380\n",
      "2015-01-08  43.042309  44.029549  43.008732  44.022835  36.643192  2290529\n",
      "✅ Données sauvegardées dans PNR_data.csv\n"
     ]
    },
    {
     "name": "stderr",
     "output_type": "stream",
     "text": [
      "[*********************100%***********************]  1 of 1 completed\n"
     ]
    },
    {
     "name": "stdout",
     "output_type": "stream",
     "text": [
      "✅ Colonnes après aplatissement : ['Adj Close', 'Close', 'High', 'Low', 'Open', 'Volume']\n",
      "                 Open       High        Low      Close  Adj Close   Volume\n",
      "Date                                                                      \n",
      "2015-01-02  94.930000  95.339996  94.050003  94.440002  69.219109  3545700\n",
      "2015-01-05  94.449997  95.050003  93.720001  93.730003  68.698738  6441000\n",
      "2015-01-06  94.080002  94.620003  92.940002  93.019997  68.178337  6195000\n",
      "2015-01-07  95.129997  96.230003  94.430000  95.739998  70.171936  6526300\n",
      "2015-01-08  96.739998  97.910004  96.680000  97.480003  71.447258  7131600\n",
      "✅ Données sauvegardées dans PEP_data.csv\n"
     ]
    },
    {
     "name": "stderr",
     "output_type": "stream",
     "text": [
      "[*********************100%***********************]  1 of 1 completed\n"
     ]
    },
    {
     "name": "stdout",
     "output_type": "stream",
     "text": [
      "✅ Colonnes après aplatissement : ['Adj Close', 'Close', 'High', 'Low', 'Open', 'Volume']\n",
      "                 Open       High        Low      Close  Adj Close    Volume\n",
      "Date                                                                       \n",
      "2015-01-02  29.667933  30.151802  29.620493  29.724857  19.346151  16371571\n",
      "2015-01-05  29.743834  29.800758  29.421251  29.563566  19.241182  24786391\n",
      "2015-01-06  29.667933  30.227703  29.525618  29.810247  19.401735  29468681\n",
      "2015-01-07  30.094877  30.237192  29.962049  30.218216  19.667253  20248816\n",
      "2015-01-08  30.683111  30.967743  30.569260  30.834915  20.068630  49169522\n",
      "✅ Données sauvegardées dans PFE_data.csv\n"
     ]
    },
    {
     "name": "stderr",
     "output_type": "stream",
     "text": [
      "[*********************100%***********************]  1 of 1 completed\n"
     ]
    },
    {
     "name": "stdout",
     "output_type": "stream",
     "text": [
      "✅ Colonnes après aplatissement : ['Adj Close', 'Close', 'High', 'Low', 'Open', 'Volume']\n",
      "                 Open       High        Low      Close  Adj Close   Volume\n",
      "Date                                                                      \n",
      "2015-01-02  53.480000  53.790001  53.060001  53.340000  48.441814  2384000\n",
      "2015-01-05  53.950001  54.450001  53.639999  54.240002  49.259174  6398800\n",
      "2015-01-06  54.330002  55.599998  54.060001  54.160000  49.186516  5959500\n",
      "2015-01-07  54.250000  54.770000  53.950001  54.590000  49.577038  2595300\n",
      "2015-01-08  54.750000  55.500000  54.709999  55.279999  50.203663  2592100\n",
      "✅ Données sauvegardées dans PCG_data.csv\n"
     ]
    },
    {
     "name": "stderr",
     "output_type": "stream",
     "text": [
      "[*********************100%***********************]  1 of 1 completed\n"
     ]
    },
    {
     "name": "stdout",
     "output_type": "stream",
     "text": [
      "✅ Colonnes après aplatissement : ['Adj Close', 'Close', 'High', 'Low', 'Open', 'Volume']\n",
      "                 Open       High        Low      Close  Adj Close    Volume\n",
      "Date                                                                       \n",
      "2015-01-02  81.599998  81.790001  80.629997  81.019997  47.806297   3787700\n",
      "2015-01-05  80.989998  81.089996  79.860001  80.410004  47.446358   6213400\n",
      "2015-01-06  80.959999  82.050003  80.599998  81.099998  47.853504  10001900\n",
      "2015-01-07  81.800003  82.050003  81.019997  81.709999  48.213432   7525100\n",
      "2015-01-08  82.320000  83.580002  82.309998  82.940002  48.939205   6594500\n",
      "✅ Données sauvegardées dans PM_data.csv\n"
     ]
    },
    {
     "name": "stderr",
     "output_type": "stream",
     "text": [
      "[*********************100%***********************]  1 of 1 completed\n"
     ]
    },
    {
     "name": "stdout",
     "output_type": "stream",
     "text": [
      "✅ Colonnes après aplatissement : ['Adj Close', 'Close', 'High', 'Low', 'Open', 'Volume']\n",
      "                 Open       High        Low      Close  Adj Close   Volume\n",
      "Date                                                                      \n",
      "2015-01-02  71.610001  72.449997  70.949997  72.290001  49.213463  2545200\n",
      "2015-01-05  71.239998  71.589996  67.139999  67.919998  46.238453  5886000\n",
      "2015-01-06  67.660004  68.760002  66.019997  66.019997  44.944973  5793500\n",
      "2015-01-07  66.769997  67.889999  65.900002  66.309998  45.142414  5556700\n",
      "2015-01-08  67.099998  68.900002  66.599998  68.889999  46.898811  5432700\n",
      "✅ Données sauvegardées dans PSX_data.csv\n"
     ]
    },
    {
     "name": "stderr",
     "output_type": "stream",
     "text": [
      "[*********************100%***********************]  1 of 1 completed\n"
     ]
    },
    {
     "name": "stdout",
     "output_type": "stream",
     "text": [
      "✅ Colonnes après aplatissement : ['Adj Close', 'Close', 'High', 'Low', 'Open', 'Volume']\n",
      "                 Open       High        Low      Close  Adj Close   Volume\n",
      "Date                                                                      \n",
      "2015-01-02  68.580002  68.830002  67.690002  68.639999  45.500660   640100\n",
      "2015-01-05  68.620003  68.709999  67.820000  68.180000  45.195717   973700\n",
      "2015-01-06  68.199997  69.919998  68.120003  68.410004  45.348209  2072800\n",
      "2015-01-07  68.800003  70.290001  68.349998  70.000000  46.402184  1023000\n",
      "2015-01-08  70.209999  70.730003  69.959999  70.120003  46.481731  1212100\n",
      "✅ Données sauvegardées dans PNW_data.csv\n"
     ]
    },
    {
     "name": "stderr",
     "output_type": "stream",
     "text": [
      "[*********************100%***********************]  1 of 1 completed\n"
     ]
    },
    {
     "name": "stdout",
     "output_type": "stream",
     "text": [
      "✅ Colonnes après aplatissement : ['Adj Close', 'Close', 'High', 'Low', 'Open', 'Volume']\n",
      "                 Open       High        Low      Close  Adj Close   Volume\n",
      "Date                                                                      \n",
      "2015-01-02  91.839996  92.099998  89.879997  90.820000  65.484276  2083400\n",
      "2015-01-05  90.209999  90.629997  88.019997  88.040001  63.479794  3411700\n",
      "2015-01-06  88.349998  89.320000  85.379997  85.760002  61.835846  4422100\n",
      "2015-01-07  86.809998  87.269997  86.089996  86.750000  62.549664  2249200\n",
      "2015-01-08  87.489998  88.589996  87.449997  88.419998  63.753784  2116700\n",
      "✅ Données sauvegardées dans PNC_data.csv\n"
     ]
    },
    {
     "name": "stderr",
     "output_type": "stream",
     "text": [
      "[*********************100%***********************]  1 of 1 completed\n"
     ]
    },
    {
     "name": "stdout",
     "output_type": "stream",
     "text": [
      "✅ Colonnes après aplatissement : ['Adj Close', 'Close', 'High', 'Low', 'Open', 'Volume']\n",
      "                 Open       High        Low      Close  Adj Close  Volume\n",
      "Date                                                                     \n",
      "2015-01-02  63.490002  63.759998  62.419998  63.080002  55.921738  184300\n",
      "2015-01-05  62.730000  63.240002  62.160000  62.639999  55.531666  114800\n",
      "2015-01-06  62.639999  63.279999  61.669998  62.400002  55.318897  280800\n",
      "2015-01-07  62.730000  63.959999  62.209999  63.880001  56.630955  275300\n",
      "2015-01-08  64.370003  65.190002  63.639999  64.790001  57.437675  279900\n",
      "✅ Données sauvegardées dans POOL_data.csv\n"
     ]
    },
    {
     "name": "stderr",
     "output_type": "stream",
     "text": [
      "[*********************100%***********************]  1 of 1 completed\n"
     ]
    },
    {
     "name": "stdout",
     "output_type": "stream",
     "text": [
      "✅ Colonnes après aplatissement : ['Adj Close', 'Close', 'High', 'Low', 'Open', 'Volume']\n",
      "                  Open        High         Low       Close  Adj Close   Volume\n",
      "Date                                                                          \n",
      "2015-01-02  115.574997  116.169998  113.794998  114.699997  95.689400   888600\n",
      "2015-01-05  113.529999  113.875000  111.294998  111.739998  93.219978  1931800\n",
      "2015-01-06  112.355003  112.650002  109.904999  111.464996  92.990593  1710600\n",
      "2015-01-07  111.489998  112.349998  110.695000  111.959999  93.403503  2366400\n",
      "2015-01-08  113.120003  115.345001  112.464996  114.940002  95.889626  2075800\n",
      "✅ Données sauvegardées dans PPG_data.csv\n"
     ]
    },
    {
     "name": "stderr",
     "output_type": "stream",
     "text": [
      "[*********************100%***********************]  1 of 1 completed\n"
     ]
    },
    {
     "name": "stdout",
     "output_type": "stream",
     "text": [
      "✅ Colonnes après aplatissement : ['Adj Close', 'Close', 'High', 'Low', 'Open', 'Volume']\n",
      "                 Open       High        Low      Close  Adj Close   Volume\n",
      "Date                                                                      \n",
      "2015-01-02  33.977470  34.070614  33.521088  33.865704  21.058983  4041765\n",
      "2015-01-05  33.660797  33.828449  32.850479  33.083328  20.572466  5920013\n",
      "2015-01-06  33.027443  33.455887  32.859791  33.074013  20.566673  5634529\n",
      "2015-01-07  33.139214  33.427944  32.934303  33.223038  20.659349  4335839\n",
      "2015-01-08  33.353436  33.493145  32.971561  33.092644  20.578266  5903371\n",
      "✅ Données sauvegardées dans PPL_data.csv\n"
     ]
    },
    {
     "name": "stderr",
     "output_type": "stream",
     "text": [
      "[*********************100%***********************]  1 of 1 completed\n"
     ]
    },
    {
     "name": "stdout",
     "output_type": "stream",
     "text": [
      "✅ Colonnes après aplatissement : ['Adj Close', 'Close', 'High', 'Low', 'Open', 'Volume']\n",
      "                 Open       High        Low      Close  Adj Close   Volume\n",
      "Date                                                                      \n",
      "2015-01-02  52.419998  52.500000  51.299999  51.810001  35.318222   925100\n",
      "2015-01-05  51.180000  51.259998  49.709999  50.110001  34.159355  1524100\n",
      "2015-01-06  50.209999  50.470001  48.959999  49.400002  33.675377  1745300\n",
      "2015-01-07  49.880001  50.700001  49.630001  50.250000  34.254795  1604400\n",
      "2015-01-08  51.029999  51.869999  50.799999  51.730000  35.263680  2332900\n",
      "✅ Données sauvegardées dans PFG_data.csv\n"
     ]
    },
    {
     "name": "stderr",
     "output_type": "stream",
     "text": [
      "[*********************100%***********************]  1 of 1 completed\n"
     ]
    },
    {
     "name": "stdout",
     "output_type": "stream",
     "text": [
      "✅ Colonnes après aplatissement : ['Adj Close', 'Close', 'High', 'Low', 'Open', 'Volume']\n",
      "                 Open       High        Low      Close  Adj Close   Volume\n",
      "Date                                                                      \n",
      "2015-01-02  90.839996  91.000000  89.919998  90.440002  67.441582  7251400\n",
      "2015-01-05  90.230003  91.000000  89.849998  90.010002  67.120918  8626100\n",
      "2015-01-06  90.309998  90.559998  89.260002  89.599998  66.815170  7791200\n",
      "2015-01-07  89.940002  90.370003  89.559998  90.070000  67.165672  5986600\n",
      "2015-01-08  90.480003  91.230003  90.129997  91.099998  67.933739  6823300\n",
      "✅ Données sauvegardées dans PG_data.csv\n"
     ]
    },
    {
     "name": "stderr",
     "output_type": "stream",
     "text": [
      "[*********************100%***********************]  1 of 1 completed\n"
     ]
    },
    {
     "name": "stdout",
     "output_type": "stream",
     "text": [
      "✅ Colonnes après aplatissement : ['Adj Close', 'Close', 'High', 'Low', 'Open', 'Volume']\n",
      "                 Open       High        Low      Close  Adj Close   Volume\n",
      "Date                                                                      \n",
      "2015-01-02  27.090000  27.230000  26.780001  27.040001  20.636444  2849900\n",
      "2015-01-05  26.860001  26.910000  26.629999  26.740000  20.407488  3425600\n",
      "2015-01-06  26.750000  26.820000  26.389999  26.410000  20.155636  3639400\n",
      "2015-01-07  26.680000  26.959999  26.580000  26.959999  20.575399  3606300\n",
      "2015-01-08  27.170000  27.510000  27.100000  27.500000  20.987509  2748100\n",
      "✅ Données sauvegardées dans PGR_data.csv\n"
     ]
    },
    {
     "name": "stderr",
     "output_type": "stream",
     "text": [
      "[*********************100%***********************]  1 of 1 completed\n"
     ]
    },
    {
     "name": "stdout",
     "output_type": "stream",
     "text": [
      "✅ Colonnes après aplatissement : ['Adj Close', 'Close', 'High', 'Low', 'Open', 'Volume']\n",
      "                 Open       High        Low      Close  Adj Close   Volume\n",
      "Date                                                                      \n",
      "2015-01-02  43.310001  43.500000  43.060001  43.430000  31.914148  1971000\n",
      "2015-01-05  43.320000  43.770000  43.060001  43.400002  31.892099  3034000\n",
      "2015-01-06  43.599998  43.939999  43.470001  43.549999  32.002335  3641400\n",
      "2015-01-07  43.730000  44.410000  43.540001  44.209999  32.487343  2574000\n",
      "2015-01-08  44.410000  44.459999  44.009998  44.220001  32.494678  2414000\n",
      "✅ Données sauvegardées dans PLD_data.csv\n"
     ]
    },
    {
     "name": "stderr",
     "output_type": "stream",
     "text": [
      "[*********************100%***********************]  1 of 1 completed\n"
     ]
    },
    {
     "name": "stdout",
     "output_type": "stream",
     "text": [
      "✅ Colonnes après aplatissement : ['Adj Close', 'Close', 'High', 'Low', 'Open', 'Volume']\n",
      "                 Open       High        Low      Close  Adj Close   Volume\n",
      "Date                                                                      \n",
      "2015-01-02  91.010002  91.349998  89.199997  90.110001  57.427486  1696100\n",
      "2015-01-05  89.699997  89.699997  86.730003  87.250000  55.604797  2665400\n",
      "2015-01-06  87.010002  87.279999  84.690002  85.440002  54.451271  3957500\n",
      "2015-01-07  86.300003  86.870003  85.110001  85.489998  54.483116  2585600\n",
      "2015-01-08  86.389999  87.550003  86.320000  86.860001  55.356243  2172500\n",
      "✅ Données sauvegardées dans PRU_data.csv\n"
     ]
    },
    {
     "name": "stderr",
     "output_type": "stream",
     "text": [
      "[*********************100%***********************]  1 of 1 completed\n"
     ]
    },
    {
     "name": "stdout",
     "output_type": "stream",
     "text": [
      "✅ Colonnes après aplatissement : ['Adj Close', 'Close', 'High', 'Low', 'Open', 'Volume']\n",
      "                 Open       High        Low      Close  Adj Close   Volume\n",
      "Date                                                                      \n",
      "2015-01-02  41.500000  41.950001  41.290001  41.900002  28.989229  2924800\n",
      "2015-01-05  41.490002  41.799999  40.639999  40.880001  28.283512  3519300\n",
      "2015-01-06  41.020000  41.939999  40.900002  40.930000  28.318117  4450200\n",
      "2015-01-07  41.119999  41.700001  40.790001  41.560001  28.753988  5295600\n",
      "2015-01-08  41.770000  42.110001  41.639999  41.919998  29.003054  3345700\n",
      "✅ Données sauvegardées dans PEG_data.csv\n"
     ]
    },
    {
     "name": "stderr",
     "output_type": "stream",
     "text": [
      "[*********************100%***********************]  1 of 1 completed\n"
     ]
    },
    {
     "name": "stdout",
     "output_type": "stream",
     "text": [
      "✅ Colonnes après aplatissement : ['Adj Close', 'Close', 'High', 'Low', 'Open', 'Volume']\n",
      "                 Open       High        Low      Close  Adj Close   Volume\n",
      "Date                                                                      \n",
      "2015-01-02  36.869999  36.980000  36.009998  36.349998  36.349998   557900\n",
      "2015-01-05  36.080002  36.389999  35.259998  35.360001  35.360001   859800\n",
      "2015-01-06  35.540001  35.889999  34.849998  35.080002  35.080002  1253300\n",
      "2015-01-07  35.380001  35.380001  34.990002  35.220001  35.220001   698200\n",
      "2015-01-08  35.439999  36.099998  35.430000  35.750000  35.750000   806000\n",
      "✅ Données sauvegardées dans PTC_data.csv\n"
     ]
    },
    {
     "name": "stderr",
     "output_type": "stream",
     "text": [
      "[*********************100%***********************]  1 of 1 completed\n"
     ]
    },
    {
     "name": "stdout",
     "output_type": "stream",
     "text": [
      "✅ Colonnes après aplatissement : ['Adj Close', 'Close', 'High', 'Low', 'Open', 'Volume']\n",
      "                  Open        High         Low       Close   Adj Close  Volume\n",
      "Date                                                                          \n",
      "2015-01-02  185.350006  187.630005  185.050003  187.229996  124.666000  415300\n",
      "2015-01-05  186.820007  188.910004  186.169998  188.110001  125.251945  481900\n",
      "2015-01-06  189.789993  191.800003  189.190002  191.320007  127.389290  642800\n",
      "2015-01-07  191.800003  195.529999  190.669998  195.240005  129.999374  734100\n",
      "2015-01-08  195.820007  198.559998  194.710007  197.899994  131.770554  893900\n",
      "✅ Données sauvegardées dans PSA_data.csv\n"
     ]
    },
    {
     "name": "stderr",
     "output_type": "stream",
     "text": [
      "[*********************100%***********************]  1 of 1 completed\n"
     ]
    },
    {
     "name": "stdout",
     "output_type": "stream",
     "text": [
      "✅ Colonnes après aplatissement : ['Adj Close', 'Close', 'High', 'Low', 'Open', 'Volume']\n",
      "                 Open       High        Low      Close  Adj Close    Volume\n",
      "Date                                                                       \n",
      "2015-01-02  21.590000  21.620001  20.840000  21.260000  18.578445   5481700\n",
      "2015-01-05  21.190001  21.190001  20.809999  20.950001  18.307554   5089100\n",
      "2015-01-06  21.049999  21.059999  20.590000  20.700001  18.089085   6824700\n",
      "2015-01-07  20.879999  22.120001  20.840000  21.719999  18.980431  11698900\n",
      "2015-01-08  21.920000  22.400000  21.900000  22.389999  19.565920   9457000\n",
      "✅ Données sauvegardées dans PHM_data.csv\n"
     ]
    },
    {
     "name": "stderr",
     "output_type": "stream",
     "text": [
      "[*********************100%***********************]  1 of 1 completed\n"
     ]
    },
    {
     "name": "stdout",
     "output_type": "stream",
     "text": [
      "✅ Colonnes après aplatissement : ['Adj Close', 'Close', 'High', 'Low', 'Open', 'Volume']\n",
      "                 Open   High        Low      Close  Adj Close   Volume\n",
      "Date                                                                  \n",
      "2015-01-02  28.570000  28.68  28.049999  28.350000  27.822266  1259900\n",
      "2015-01-05  28.180000  28.18  27.450001  27.549999  27.037157  2299800\n",
      "2015-01-06  27.530001  27.85  27.040001  27.209999  26.703478  3381800\n",
      "2015-01-07  27.549999  27.76  27.059999  27.190001  26.683851  2766900\n",
      "2015-01-08  27.420000  28.10  27.139999  28.020000  27.498407  4004600\n",
      "✅ Données sauvegardées dans PWR_data.csv\n"
     ]
    },
    {
     "name": "stderr",
     "output_type": "stream",
     "text": [
      "[*********************100%***********************]  1 of 1 completed\n"
     ]
    },
    {
     "name": "stdout",
     "output_type": "stream",
     "text": [
      "✅ Colonnes après aplatissement : ['Adj Close', 'Close', 'High', 'Low', 'Open', 'Volume']\n",
      "                 Open       High        Low      Close  Adj Close    Volume\n",
      "Date                                                                       \n",
      "2015-01-02  74.510002  74.870003  73.750000  74.279999  54.923397   6662700\n",
      "2015-01-05  73.709999  74.500000  73.629997  73.930000  54.664600  12042800\n",
      "2015-01-06  73.860001  74.610001  72.739998  72.879997  53.888210  11094000\n",
      "2015-01-07  73.370003  74.470001  72.959999  73.730003  54.516708  10030700\n",
      "2015-01-08  74.300003  75.300003  74.139999  74.510002  55.093456  10937200\n",
      "✅ Données sauvegardées dans QCOM_data.csv\n"
     ]
    },
    {
     "name": "stderr",
     "output_type": "stream",
     "text": [
      "[*********************100%***********************]  1 of 1 completed\n"
     ]
    },
    {
     "name": "stdout",
     "output_type": "stream",
     "text": [
      "✅ Colonnes après aplatissement : ['Adj Close', 'Close', 'High', 'Low', 'Open', 'Volume']\n",
      "                 Open       High        Low      Close  Adj Close   Volume\n",
      "Date                                                                      \n",
      "2015-01-02  68.389999  69.580002  67.779999  68.970001  55.477360  2733500\n",
      "2015-01-05  68.580002  69.250000  66.959999  67.279999  54.117966  1823900\n",
      "2015-01-06  67.220001  67.739998  66.089996  66.269997  53.305542  2045600\n",
      "2015-01-07  66.830002  67.150002  66.230003  67.110001  53.981220  1224900\n",
      "2015-01-08  67.769997  69.099998  67.769997  68.879997  55.404945  1703200\n",
      "✅ Données sauvegardées dans DGX_data.csv\n"
     ]
    },
    {
     "name": "stderr",
     "output_type": "stream",
     "text": [
      "[*********************100%***********************]  1 of 1 completed\n"
     ]
    },
    {
     "name": "stdout",
     "output_type": "stream",
     "text": [
      "✅ Colonnes après aplatissement : ['Adj Close', 'Close', 'High', 'Low', 'Open', 'Volume']\n",
      "                  Open        High         Low       Close   Adj Close  \\\n",
      "Date                                                                     \n",
      "2015-01-02  185.979996  186.669998  181.410004  183.100006  148.215576   \n",
      "2015-01-05  179.779999  180.500000  176.820007  177.880005  143.990158   \n",
      "2015-01-06  178.039993  178.490005  173.250000  174.410004  141.181274   \n",
      "2015-01-07  175.669998  178.899994  175.500000  178.779999  144.718689   \n",
      "2015-01-08  177.699997  179.570007  177.089996  178.570007  144.548630   \n",
      "\n",
      "             Volume  \n",
      "Date                 \n",
      "2015-01-02   503400  \n",
      "2015-01-05  1761800  \n",
      "2015-01-06  1486500  \n",
      "2015-01-07   620400  \n",
      "2015-01-08   790700  \n",
      "✅ Données sauvegardées dans RL_data.csv\n"
     ]
    },
    {
     "name": "stderr",
     "output_type": "stream",
     "text": [
      "[*********************100%***********************]  1 of 1 completed\n"
     ]
    },
    {
     "name": "stdout",
     "output_type": "stream",
     "text": [
      "✅ Colonnes après aplatissement : ['Adj Close', 'Close', 'High', 'Low', 'Open', 'Volume']\n",
      "                 Open       High        Low      Close  Adj Close   Volume\n",
      "Date                                                                      \n",
      "2015-01-02  38.453335  38.693333  37.553333  38.099998  32.640144   559050\n",
      "2015-01-05  37.826668  37.826668  36.860001  37.026669  31.720633  1083300\n",
      "2015-01-06  37.006668  37.013332  35.813332  36.053333  30.886766   685350\n",
      "2015-01-07  36.253334  36.386665  36.013332  36.373333  31.160902   768900\n",
      "2015-01-08  36.833332  37.119999  36.606667  37.099998  31.783449   715050\n",
      "✅ Données sauvegardées dans RJF_data.csv\n"
     ]
    },
    {
     "name": "stderr",
     "output_type": "stream",
     "text": [
      "[*********************100%***********************]  1 of 1 completed\n"
     ]
    },
    {
     "name": "stdout",
     "output_type": "stream",
     "text": [
      "✅ Colonnes après aplatissement : ['Adj Close', 'Close', 'High', 'Low', 'Open', 'Volume']\n",
      "                 Open       High        Low      Close  Adj Close   Volume\n",
      "Date                                                                      \n",
      "2015-01-02  72.460670  72.775330  71.617371  72.397736  56.236706  4989619\n",
      "2015-01-05  72.089363  72.662048  71.013214  71.189430  55.298130  7572062\n",
      "2015-01-06  70.654503  71.139084  69.370674  70.182503  54.515968  9172185\n",
      "2015-01-07  70.704849  71.327881  70.497169  70.943993  55.107483  4929396\n",
      "2015-01-08  71.692886  72.372559  71.302704  72.152298  56.046070  6196941\n",
      "✅ Données sauvegardées dans RTX_data.csv\n"
     ]
    },
    {
     "name": "stderr",
     "output_type": "stream",
     "text": [
      "[*********************100%***********************]  1 of 1 completed\n"
     ]
    },
    {
     "name": "stdout",
     "output_type": "stream",
     "text": [
      "✅ Colonnes après aplatissement : ['Adj Close', 'Close', 'High', 'Low', 'Open', 'Volume']\n",
      "                 Open       High        Low      Close  Adj Close   Volume\n",
      "Date                                                                      \n",
      "2015-01-02  46.492249  47.160854  46.463177  47.112404  29.001535  1265129\n",
      "2015-01-05  47.063953  48.168606  46.763565  48.081394  29.598030  1874318\n",
      "2015-01-06  48.120155  48.817829  48.013565  48.711239  29.985758  2002080\n",
      "2015-01-07  48.808140  50.019379  48.401161  49.505814  30.474890  2897856\n",
      "2015-01-08  48.808140  49.253876  47.936047  48.197674  29.669609  3847709\n",
      "✅ Données sauvegardées dans O_data.csv\n"
     ]
    },
    {
     "name": "stderr",
     "output_type": "stream",
     "text": [
      "[*********************100%***********************]  1 of 1 completed\n"
     ]
    },
    {
     "name": "stdout",
     "output_type": "stream",
     "text": [
      "✅ Colonnes après aplatissement : ['Adj Close', 'Close', 'High', 'Low', 'Open', 'Volume']\n",
      "                 Open       High        Low      Close  Adj Close  Volume\n",
      "Date                                                                     \n",
      "2015-01-02  64.169998  64.839996  63.830002  64.809998  43.736385  337900\n",
      "2015-01-05  64.639999  65.809998  64.330002  65.540001  44.229012  762200\n",
      "2015-01-06  65.790001  66.440002  65.470001  66.010002  44.546177  771500\n",
      "2015-01-07  66.820000  68.019997  65.639999  67.720001  45.700157  911200\n",
      "2015-01-08  67.830002  68.150002  67.250000  67.480003  45.538197  724800\n",
      "✅ Données sauvegardées dans REG_data.csv\n"
     ]
    },
    {
     "name": "stderr",
     "output_type": "stream",
     "text": [
      "[*********************100%***********************]  1 of 1 completed\n"
     ]
    },
    {
     "name": "stdout",
     "output_type": "stream",
     "text": [
      "✅ Colonnes après aplatissement : ['Adj Close', 'Close', 'High', 'Low', 'Open', 'Volume']\n",
      "                  Open        High         Low       Close   Adj Close  \\\n",
      "Date                                                                     \n",
      "2015-01-02  413.899994  419.149994  407.500000  410.160004  409.029327   \n",
      "2015-01-05  414.260010  419.410004  409.040009  412.470001  411.332947   \n",
      "2015-01-06  414.390015  420.750000  396.549988  396.890015  395.795929   \n",
      "2015-01-07  402.790009  408.679993  398.500000  407.720001  406.596069   \n",
      "2015-01-08  411.570007  412.989990  401.160004  403.250000  402.138367   \n",
      "\n",
      "             Volume  \n",
      "Date                 \n",
      "2015-01-02   765900  \n",
      "2015-01-05   882800  \n",
      "2015-01-06  1262400  \n",
      "2015-01-07   880600  \n",
      "2015-01-08  1184500  \n",
      "✅ Données sauvegardées dans REGN_data.csv\n"
     ]
    },
    {
     "name": "stderr",
     "output_type": "stream",
     "text": [
      "[*********************100%***********************]  1 of 1 completed\n"
     ]
    },
    {
     "name": "stdout",
     "output_type": "stream",
     "text": [
      "✅ Colonnes après aplatissement : ['Adj Close', 'Close', 'High', 'Low', 'Open', 'Volume']\n",
      "             Open   High    Low  Close  Adj Close    Volume\n",
      "Date                                                       \n",
      "2015-01-02  10.65  10.68  10.36  10.51   7.325688   9557200\n",
      "2015-01-05  10.46  10.50  10.11  10.15   7.074758  12597500\n",
      "2015-01-06  10.11  10.12   9.77   9.81   6.837772  22149400\n",
      "2015-01-07   9.93   9.96   9.74   9.87   6.879594  14461900\n",
      "2015-01-08   9.97  10.04   9.91  10.02   6.984147  14098600\n",
      "✅ Données sauvegardées dans RF_data.csv\n"
     ]
    },
    {
     "name": "stderr",
     "output_type": "stream",
     "text": [
      "[*********************100%***********************]  1 of 1 completed\n"
     ]
    },
    {
     "name": "stdout",
     "output_type": "stream",
     "text": [
      "✅ Colonnes après aplatissement : ['Adj Close', 'Close', 'High', 'Low', 'Open', 'Volume']\n",
      "                 Open       High        Low      Close  Adj Close   Volume\n",
      "Date                                                                      \n",
      "2015-01-02  40.270000  40.750000  40.189999  40.570000  33.535301  2346600\n",
      "2015-01-05  40.410000  40.570000  40.200001  40.340000  33.345177  2235300\n",
      "2015-01-06  40.349998  40.660000  40.099998  40.480000  33.460911  2522100\n",
      "2015-01-07  40.639999  40.750000  40.099998  40.340000  33.345177  1593800\n",
      "2015-01-08  40.580002  40.810001  40.580002  40.709999  33.651024  1156100\n",
      "✅ Données sauvegardées dans RSG_data.csv\n"
     ]
    },
    {
     "name": "stderr",
     "output_type": "stream",
     "text": [
      "[*********************100%***********************]  1 of 1 completed\n"
     ]
    },
    {
     "name": "stdout",
     "output_type": "stream",
     "text": [
      "✅ Colonnes après aplatissement : ['Adj Close', 'Close', 'High', 'Low', 'Open', 'Volume']\n",
      "                 Open       High        Low      Close  Adj Close   Volume\n",
      "Date                                                                      \n",
      "2015-01-02  56.400002  57.389999  56.400002  57.169998  50.034103  1035200\n",
      "2015-01-05  57.040001  57.439999  56.849998  57.060001  49.937843   689800\n",
      "2015-01-06  56.939999  57.270000  56.450001  56.650002  49.579014  1594200\n",
      "2015-01-07  56.830002  57.049999  56.119999  57.029999  49.911587  1179800\n",
      "2015-01-08  57.250000  58.139999  57.099998  57.990002  50.751751  1061100\n",
      "✅ Données sauvegardées dans RMD_data.csv\n"
     ]
    },
    {
     "name": "stderr",
     "output_type": "stream",
     "text": [
      "[*********************100%***********************]  1 of 1 completed\n"
     ]
    },
    {
     "name": "stdout",
     "output_type": "stream",
     "text": [
      "✅ Colonnes après aplatissement : ['Adj Close', 'Close', 'High', 'Low', 'Open', 'Volume']\n",
      "                 Open       High        Low      Close  Adj Close   Volume\n",
      "Date                                                                      \n",
      "2015-01-02  43.970001  44.119999  43.610001  44.090000  42.567856   723400\n",
      "2015-01-05  43.779999  43.900002  43.040001  43.049999  41.563763  1426800\n",
      "2015-01-06  41.759998  42.980000  41.700001  42.660000  41.187218  1224400\n",
      "2015-01-07  42.980000  43.099998  42.650002  42.919998  41.438244  1132300\n",
      "2015-01-08  43.419998  44.279999  43.270000  44.000000  42.480961  1903900\n",
      "✅ Données sauvegardées dans RVTY_data.csv\n"
     ]
    },
    {
     "name": "stderr",
     "output_type": "stream",
     "text": [
      "[*********************100%***********************]  1 of 1 completed\n"
     ]
    },
    {
     "name": "stdout",
     "output_type": "stream",
     "text": [
      "✅ Colonnes après aplatissement : ['Adj Close', 'Close', 'High', 'Low', 'Open', 'Volume']\n",
      "                  Open        High         Low       Close  Adj Close   Volume\n",
      "Date                                                                          \n",
      "2015-01-02  111.930000  112.580002  109.949997  111.040001  90.041985   712600\n",
      "2015-01-05  109.660004  109.930000  107.080002  107.309998  87.017357  1337500\n",
      "2015-01-06  107.250000  107.769997  104.889999  106.080002  86.019958  1059900\n",
      "2015-01-07  107.180000  107.550003  105.919998  106.260002  86.165924  1242100\n",
      "2015-01-08  107.339996  109.410004  107.169998  109.389999  88.704010   847400\n",
      "✅ Données sauvegardées dans ROK_data.csv\n"
     ]
    },
    {
     "name": "stderr",
     "output_type": "stream",
     "text": [
      "[*********************100%***********************]  1 of 1 completed\n"
     ]
    },
    {
     "name": "stdout",
     "output_type": "stream",
     "text": [
      "✅ Colonnes après aplatissement : ['Adj Close', 'Close', 'High', 'Low', 'Open', 'Volume']\n",
      "                Open      High       Low     Close  Adj Close  Volume\n",
      "Date                                                                 \n",
      "2015-01-02  9.872593  9.925926  9.478519  9.614815   8.373385  866025\n",
      "2015-01-05  9.531852  9.700741  9.502222  9.605926   8.365643  412763\n",
      "2015-01-06  9.647407  9.647407  9.413333  9.454815   8.234044  405675\n",
      "2015-01-07  9.502222  9.842963  9.380741  9.662222   8.414672  602775\n",
      "2015-01-08  9.768889  9.976296  9.685926  9.878519   8.603038  745875\n",
      "✅ Données sauvegardées dans ROL_data.csv\n"
     ]
    },
    {
     "name": "stderr",
     "output_type": "stream",
     "text": [
      "[*********************100%***********************]  1 of 1 completed\n"
     ]
    },
    {
     "name": "stdout",
     "output_type": "stream",
     "text": [
      "✅ Colonnes après aplatissement : ['Adj Close', 'Close', 'High', 'Low', 'Open', 'Volume']\n",
      "                  Open        High         Low       Close   Adj Close  Volume\n",
      "Date                                                                          \n",
      "2015-01-02  156.660004  157.309998  154.320007  156.619995  147.195419  254600\n",
      "2015-01-05  155.330002  155.550003  151.750000  152.029999  142.881592  449600\n",
      "2015-01-06  152.149994  152.369995  148.660004  149.910004  140.889099  422500\n",
      "2015-01-07  151.250000  151.770004  149.960007  151.190002  142.329498  421100\n",
      "2015-01-08  152.009995  153.139999  150.960007  152.210007  143.289734  625200\n",
      "✅ Données sauvegardées dans ROP_data.csv\n"
     ]
    },
    {
     "name": "stderr",
     "output_type": "stream",
     "text": [
      "[*********************100%***********************]  1 of 1 completed\n"
     ]
    },
    {
     "name": "stdout",
     "output_type": "stream",
     "text": [
      "✅ Colonnes après aplatissement : ['Adj Close', 'Close', 'High', 'Low', 'Open', 'Volume']\n",
      "                 Open       High        Low      Close  Adj Close   Volume\n",
      "Date                                                                      \n",
      "2015-01-02  47.419998  47.660000  46.564999  46.865002  42.291168  1815200\n",
      "2015-01-05  46.869999  47.119999  46.505001  46.830002  42.259590  3050400\n",
      "2015-01-06  46.935001  47.535000  46.439999  46.919998  42.340805  3519400\n",
      "2015-01-07  47.130001  47.849998  47.044998  47.834999  43.166496  2605400\n",
      "2015-01-08  47.955002  48.480000  47.775002  48.470001  43.739544  3318200\n",
      "✅ Données sauvegardées dans ROST_data.csv\n"
     ]
    },
    {
     "name": "stderr",
     "output_type": "stream",
     "text": [
      "[*********************100%***********************]  1 of 1 completed\n"
     ]
    },
    {
     "name": "stdout",
     "output_type": "stream",
     "text": [
      "✅ Colonnes après aplatissement : ['Adj Close', 'Close', 'High', 'Low', 'Open', 'Volume']\n",
      "                 Open       High        Low      Close  Adj Close   Volume\n",
      "Date                                                                      \n",
      "2015-01-02  82.930000  84.150002  81.889999  82.949997  73.152489  1349900\n",
      "2015-01-05  82.970001  83.489998  80.879997  81.709999  72.058960  1847700\n",
      "2015-01-06  81.480003  82.830002  80.209999  81.949997  72.270622  2592600\n",
      "2015-01-07  82.180000  83.800003  81.959999  83.190002  73.364136  2434700\n",
      "2015-01-08  83.940002  84.730003  83.870003  84.510002  74.528267  2714500\n",
      "✅ Données sauvegardées dans RCL_data.csv\n"
     ]
    },
    {
     "name": "stderr",
     "output_type": "stream",
     "text": [
      "[*********************100%***********************]  1 of 1 completed\n"
     ]
    },
    {
     "name": "stdout",
     "output_type": "stream",
     "text": [
      "✅ Colonnes après aplatissement : ['Adj Close', 'Close', 'High', 'Low', 'Open', 'Volume']\n",
      "                 Open       High        Low      Close  Adj Close   Volume\n",
      "Date                                                                      \n",
      "2015-01-02  89.779999  89.879997  87.550003  88.660004  79.886284   979800\n",
      "2015-01-05  87.849998  88.199997  86.910004  87.089996  78.471642  2013600\n",
      "2015-01-06  87.180000  87.410004  85.059998  85.830002  77.336342  2286200\n",
      "2015-01-07  86.440002  87.070000  85.860001  86.970001  78.363541  1283200\n",
      "2015-01-08  86.930000  88.279999  86.820000  87.750000  79.066345  1593600\n",
      "✅ Données sauvegardées dans SPGI_data.csv\n"
     ]
    },
    {
     "name": "stderr",
     "output_type": "stream",
     "text": [
      "[*********************100%***********************]  1 of 1 completed\n"
     ]
    },
    {
     "name": "stdout",
     "output_type": "stream",
     "text": [
      "✅ Colonnes après aplatissement : ['Adj Close', 'Close', 'High', 'Low', 'Open', 'Volume']\n",
      "                 Open       High        Low      Close  Adj Close   Volume\n",
      "Date                                                                      \n",
      "2015-01-02  59.900002  60.430000  58.509998  59.240002  58.725414  2796400\n",
      "2015-01-05  58.599998  59.240002  57.840000  58.169998  57.664711  3688200\n",
      "2015-01-06  58.180000  58.549999  56.549999  57.200001  56.703140  3174900\n",
      "2015-01-07  57.790001  57.950001  56.599998  56.930000  56.435482  4284300\n",
      "2015-01-08  57.330002  58.779999  57.169998  58.590000  58.081062  3756600\n",
      "✅ Données sauvegardées dans CRM_data.csv\n"
     ]
    },
    {
     "name": "stderr",
     "output_type": "stream",
     "text": [
      "[*********************100%***********************]  1 of 1 completed\n"
     ]
    },
    {
     "name": "stdout",
     "output_type": "stream",
     "text": [
      "✅ Colonnes après aplatissement : ['Adj Close', 'Close', 'High', 'Low', 'Open', 'Volume']\n",
      "                  Open        High         Low       Close   Adj Close  \\\n",
      "Date                                                                     \n",
      "2015-01-02  111.309998  111.669998  110.260002  110.970001  103.580391   \n",
      "2015-01-05  110.809998  110.970001  108.739998  109.220001  101.946930   \n",
      "2015-01-06  109.459999  110.209999  108.650002  108.650002  101.414909   \n",
      "2015-01-07  109.910004  110.169998  108.580002  110.139999  102.805672   \n",
      "2015-01-08  110.459999  112.389999  110.419998  111.239998  103.832413   \n",
      "\n",
      "             Volume  \n",
      "Date                 \n",
      "2015-01-02  1012900  \n",
      "2015-01-05   863800  \n",
      "2015-01-06  1704400  \n",
      "2015-01-07   688600  \n",
      "2015-01-08  1068900  \n",
      "✅ Données sauvegardées dans SBAC_data.csv\n"
     ]
    },
    {
     "name": "stderr",
     "output_type": "stream",
     "text": [
      "[*********************100%***********************]  1 of 1 completed\n"
     ]
    },
    {
     "name": "stdout",
     "output_type": "stream",
     "text": [
      "✅ Colonnes après aplatissement : ['Adj Close', 'Close', 'High', 'Low', 'Open', 'Volume']\n",
      "                 Open       High        Low      Close  Adj Close    Volume\n",
      "Date                                                                       \n",
      "2015-01-02  84.809998  86.199997  84.620003  85.669998  63.907711   5500800\n",
      "2015-01-05  84.400002  84.400002  82.589996  83.349998  62.177029  10039400\n",
      "2015-01-06  82.940002  83.360001  80.660004  81.720001  60.961105   9758400\n",
      "2015-01-07  82.550003  82.660004  80.529999  81.709999  60.953632   7951600\n",
      "2015-01-08  82.489998  83.290001  81.940002  82.699997  61.692146   7911600\n",
      "✅ Données sauvegardées dans SLB_data.csv\n"
     ]
    },
    {
     "name": "stderr",
     "output_type": "stream",
     "text": [
      "[*********************100%***********************]  1 of 1 completed\n"
     ]
    },
    {
     "name": "stdout",
     "output_type": "stream",
     "text": [
      "✅ Colonnes après aplatissement : ['Adj Close', 'Close', 'High', 'Low', 'Open', 'Volume']\n",
      "                 Open       High        Low      Close  Adj Close   Volume\n",
      "Date                                                                      \n",
      "2015-01-02  66.669998  67.209999  65.500000  66.019997  39.878735  2397300\n",
      "2015-01-05  65.860001  66.500000  65.190002  65.669998  39.667305  2269700\n",
      "2015-01-06  65.900002  65.910004  63.610001  63.860001  38.574009  3425800\n",
      "2015-01-07  64.110001  64.800003  63.180000  64.269997  38.821655  1886500\n",
      "2015-01-08  65.000000  66.169998  64.510002  65.430000  39.522354  3472500\n",
      "✅ Données sauvegardées dans STX_data.csv\n"
     ]
    },
    {
     "name": "stderr",
     "output_type": "stream",
     "text": [
      "[*********************100%***********************]  1 of 1 completed\n"
     ]
    },
    {
     "name": "stdout",
     "output_type": "stream",
     "text": [
      "✅ Colonnes après aplatissement : ['Adj Close', 'Close', 'High', 'Low', 'Open', 'Volume']\n",
      "                 Open       High        Low      Close  Adj Close   Volume\n",
      "Date                                                                      \n",
      "2015-01-02  55.889999  56.134998  55.345001  56.044998  40.381634  1432800\n",
      "2015-01-05  55.884998  56.064999  54.750000  55.020000  39.643105  1946000\n",
      "2015-01-06  55.049999  55.895000  54.459999  54.505001  39.272045  2360600\n",
      "2015-01-07  54.695000  55.605000  54.564999  55.384998  39.906086  2236800\n",
      "2015-01-08  55.474998  56.090000  55.474998  55.880001  40.262756  1494800\n",
      "✅ Données sauvegardées dans SRE_data.csv\n"
     ]
    },
    {
     "name": "stderr",
     "output_type": "stream",
     "text": [
      "[*********************100%***********************]  1 of 1 completed\n"
     ]
    },
    {
     "name": "stdout",
     "output_type": "stream",
     "text": [
      "✅ Colonnes après aplatissement : ['Adj Close', 'Close', 'High', 'Low', 'Open', 'Volume']\n",
      "                 Open       High        Low      Close  Adj Close  Volume\n",
      "Date                                                                     \n",
      "2015-01-02  67.809998  68.489998  66.269997  67.379997  67.379997  815800\n",
      "2015-01-05  66.570000  68.370003  66.430000  67.150002  67.150002  800500\n",
      "2015-01-06  67.180000  67.870003  65.169998  66.330002  66.330002  855900\n",
      "2015-01-07  66.910004  67.470001  66.000000  67.089996  67.089996  623000\n",
      "2015-01-08  67.870003  69.080002  67.440002  68.889999  68.889999  637100\n",
      "✅ Données sauvegardées dans NOW_data.csv\n"
     ]
    },
    {
     "name": "stderr",
     "output_type": "stream",
     "text": [
      "[*********************100%***********************]  1 of 1 completed\n"
     ]
    },
    {
     "name": "stdout",
     "output_type": "stream",
     "text": [
      "✅ Colonnes après aplatissement : ['Adj Close', 'Close', 'High', 'Low', 'Open', 'Volume']\n",
      "                 Open       High        Low      Close  Adj Close   Volume\n",
      "Date                                                                      \n",
      "2015-01-02  87.393333  88.313332  86.779999  87.480003  79.282578  1700400\n",
      "2015-01-05  86.716667  87.496666  86.593330  87.220001  79.046967  2161800\n",
      "2015-01-06  87.019997  88.146667  86.370003  86.956665  78.808319  2133000\n",
      "2015-01-07  87.606667  88.459999  87.000000  88.440002  80.152657  2487300\n",
      "2015-01-08  88.673332  91.196671  88.529999  90.860001  82.345871  3236100\n",
      "✅ Données sauvegardées dans SHW_data.csv\n"
     ]
    },
    {
     "name": "stderr",
     "output_type": "stream",
     "text": [
      "[*********************100%***********************]  1 of 1 completed\n"
     ]
    },
    {
     "name": "stdout",
     "output_type": "stream",
     "text": [
      "✅ Colonnes après aplatissement : ['Adj Close', 'Close', 'High', 'Low', 'Open', 'Volume']\n",
      "                  Open        High         Low       Close   Adj Close  \\\n",
      "Date                                                                     \n",
      "2015-01-02  183.149994  185.570007  182.970001  185.339996  110.419495   \n",
      "2015-01-05  185.550003  186.720001  183.830002  186.100006  110.872276   \n",
      "2015-01-06  187.190002  192.279999  186.899994  191.279999  113.958321   \n",
      "2015-01-07  191.949997  194.960007  190.800003  194.800003  116.055443   \n",
      "2015-01-08  195.199997  195.679993  193.339996  194.520004  115.888649   \n",
      "\n",
      "             Volume  \n",
      "Date                 \n",
      "2015-01-02  1229100  \n",
      "2015-01-05  1267300  \n",
      "2015-01-06  2915600  \n",
      "2015-01-07  2138400  \n",
      "2015-01-08  1640900  \n",
      "✅ Données sauvegardées dans SPG_data.csv\n"
     ]
    },
    {
     "name": "stderr",
     "output_type": "stream",
     "text": [
      "[*********************100%***********************]  1 of 1 completed\n"
     ]
    },
    {
     "name": "stdout",
     "output_type": "stream",
     "text": [
      "✅ Colonnes après aplatissement : ['Adj Close', 'Close', 'High', 'Low', 'Open', 'Volume']\n",
      "                 Open       High        Low      Close  Adj Close   Volume\n",
      "Date                                                                      \n",
      "2015-01-02  73.599998  73.919998  72.120003  73.320000  60.207596  2850200\n",
      "2015-01-05  73.099998  73.400002  72.050003  72.129997  59.230404  2924500\n",
      "2015-01-06  72.199997  72.550003  68.709999  69.830002  57.341740  4746300\n",
      "2015-01-07  71.470001  71.889999  70.309998  70.980003  58.286091  2896200\n",
      "2015-01-08  72.000000  74.739998  71.750000  74.199997  60.930195  3773000\n",
      "✅ Données sauvegardées dans SWKS_data.csv\n"
     ]
    },
    {
     "name": "stderr",
     "output_type": "stream",
     "text": [
      "[*********************100%***********************]  1 of 1 completed\n"
     ]
    },
    {
     "name": "stdout",
     "output_type": "stream",
     "text": [
      "✅ Colonnes après aplatissement : ['Adj Close', 'Close', 'High', 'Low', 'Open', 'Volume']\n",
      "                  Open        High         Low       Close  Adj Close  Volume\n",
      "Date                                                                         \n",
      "2015-01-02  101.139999  101.690002   99.949997  100.480003  74.036682  360600\n",
      "2015-01-05   99.900002  100.110001   98.599998   98.839996  72.828278  478400\n",
      "2015-01-06   99.000000   99.269997   97.279999   98.050003  72.246193  671800\n",
      "2015-01-07   98.430000  100.419998   98.230003  100.239998  73.859848  488600\n",
      "2015-01-08  101.430000  101.860001  100.620003  101.690002  74.928276  487500\n",
      "✅ Données sauvegardées dans SJM_data.csv\n"
     ]
    },
    {
     "name": "stderr",
     "output_type": "stream",
     "text": [
      "[*********************100%***********************]  1 of 1 completed\n"
     ]
    },
    {
     "name": "stdout",
     "output_type": "stream",
     "text": [
      "✅ Colonnes après aplatissement : ['Adj Close', 'Close', 'High', 'Low', 'Open', 'Volume']\n",
      "                 Open       High        Low      Close  Adj Close    Volume\n",
      "Date                                                                       \n",
      "2024-07-08  47.400002  47.599998  44.900002  46.220001  45.244408  67456700\n",
      "2024-07-09  44.759998  45.810001  44.320000  44.830002  43.883747  13739300\n",
      "2024-07-10  45.040001  46.240002  44.400002  45.830002  44.862640   9427800\n",
      "2024-07-11  45.480000  46.919998  45.349998  46.869999  45.880684  12526300\n",
      "2024-07-12  46.910000  49.310001  46.860001  49.080002  48.044037  41461200\n",
      "✅ Données sauvegardées dans SW_data.csv\n"
     ]
    },
    {
     "name": "stderr",
     "output_type": "stream",
     "text": [
      "[*********************100%***********************]  1 of 1 completed\n"
     ]
    },
    {
     "name": "stdout",
     "output_type": "stream",
     "text": [
      "✅ Colonnes après aplatissement : ['Adj Close', 'Close', 'High', 'Low', 'Open', 'Volume']\n",
      "                  Open        High         Low       Close   Adj Close  Volume\n",
      "Date                                                                          \n",
      "2015-01-02  136.850006  137.690002  134.820007  136.289993  107.407082  219300\n",
      "2015-01-05  135.240005  136.039993  133.710007  133.839996  105.476280  437300\n",
      "2015-01-06  133.839996  134.570007  131.770004  133.429993  105.153191  441500\n",
      "2015-01-07  134.149994  135.070007  133.500000  134.270004  105.815170  327100\n",
      "2015-01-08  135.149994  137.500000  135.149994  137.330002  108.226677  273800\n",
      "✅ Données sauvegardées dans SNA_data.csv\n"
     ]
    },
    {
     "name": "stderr",
     "output_type": "stream",
     "text": [
      "[*********************100%***********************]  1 of 1 completed\n"
     ]
    },
    {
     "name": "stdout",
     "output_type": "stream",
     "text": [
      "✅ Colonnes après aplatissement : ['Adj Close', 'Close', 'High', 'Low', 'Open', 'Volume']\n",
      "                 Open       High        Low      Close  Adj Close    Volume\n",
      "Date                                                                       \n",
      "2024-04-01  69.150002  72.400002  65.000000  69.099998  69.099998  14094900\n",
      "2024-04-02  67.669998  68.589996  64.464996  66.900002  66.900002   9446900\n",
      "2024-04-03  65.529999  67.769997  63.860001  63.889999  63.889999   5177200\n",
      "2024-04-04  63.049999  68.165001  62.330002  67.000000  67.000000   5239700\n",
      "2024-04-05  65.970001  70.150002  65.175003  70.059998  70.059998   4216300\n",
      "✅ Données sauvegardées dans SOLV_data.csv\n"
     ]
    },
    {
     "name": "stderr",
     "output_type": "stream",
     "text": [
      "[*********************100%***********************]  1 of 1 completed\n"
     ]
    },
    {
     "name": "stdout",
     "output_type": "stream",
     "text": [
      "✅ Colonnes après aplatissement : ['Adj Close', 'Close', 'High', 'Low', 'Open', 'Volume']\n",
      "                 Open       High        Low      Close  Adj Close   Volume\n",
      "Date                                                                      \n",
      "2015-01-02  49.189999  49.439999  48.840000  49.369999  31.442543  4645300\n",
      "2015-01-05  49.380001  49.490002  48.910000  49.160000  31.308792  7028700\n",
      "2015-01-06  49.200001  50.180000  49.180000  49.750000  31.684559  9358300\n",
      "2015-01-07  49.790001  50.439999  49.599998  50.299999  32.034840  4917000\n",
      "2015-01-08  50.410000  50.689999  50.220001  50.340000  32.060318  4532500\n",
      "✅ Données sauvegardées dans SO_data.csv\n"
     ]
    },
    {
     "name": "stderr",
     "output_type": "stream",
     "text": [
      "[*********************100%***********************]  1 of 1 completed\n"
     ]
    },
    {
     "name": "stdout",
     "output_type": "stream",
     "text": [
      "✅ Colonnes après aplatissement : ['Adj Close', 'Close', 'High', 'Low', 'Open', 'Volume']\n",
      "                 Open       High        Low      Close  Adj Close    Volume\n",
      "Date                                                                       \n",
      "2015-01-02  42.689999  43.049999  42.200001  42.689999  38.076790   6890400\n",
      "2015-01-05  42.830002  42.900002  41.450001  41.639999  37.140259   7877700\n",
      "2015-01-06  41.900002  42.049999  39.669998  40.459999  36.087757  10576800\n",
      "2015-01-07  40.770000  41.119999  40.380001  40.799999  36.391033   7693100\n",
      "2015-01-08  41.000000  42.090000  40.950001  41.880001  37.354328   7301900\n",
      "✅ Données sauvegardées dans LUV_data.csv\n"
     ]
    },
    {
     "name": "stderr",
     "output_type": "stream",
     "text": [
      "[*********************100%***********************]  1 of 1 completed\n"
     ]
    },
    {
     "name": "stdout",
     "output_type": "stream",
     "text": [
      "✅ Colonnes après aplatissement : ['Adj Close', 'Close', 'High', 'Low', 'Open', 'Volume']\n",
      "                 Open       High        Low      Close  Adj Close   Volume\n",
      "Date                                                                      \n",
      "2015-01-02  96.570000  96.809998  94.910004  96.019997  74.291550   550200\n",
      "2015-01-05  95.230003  95.449997  93.739998  93.970001  72.705460  1211100\n",
      "2015-01-06  93.970001  94.379997  92.239998  93.029999  71.978165  1182700\n",
      "2015-01-07  93.680000  95.000000  93.180000  94.629997  73.216110  1446000\n",
      "2015-01-08  94.660004  96.449997  94.660004  96.430000  74.608788  1024900\n",
      "✅ Données sauvegardées dans SWK_data.csv\n"
     ]
    },
    {
     "name": "stderr",
     "output_type": "stream",
     "text": [
      "[*********************100%***********************]  1 of 1 completed\n"
     ]
    },
    {
     "name": "stdout",
     "output_type": "stream",
     "text": [
      "✅ Colonnes après aplatissement : ['Adj Close', 'Close', 'High', 'Low', 'Open', 'Volume']\n",
      "                 Open       High        Low      Close  Adj Close    Volume\n",
      "Date                                                                       \n",
      "2015-01-02  41.064999  41.490002  40.445000  40.720001  33.112347   6886000\n",
      "2015-01-05  40.070000  40.334999  39.744999  39.939999  32.478065  11623800\n",
      "2015-01-06  40.169998  40.195000  39.279999  39.615002  32.213783   7664400\n",
      "2015-01-07  39.875000  40.615002  39.700001  40.590000  33.006630   9732600\n",
      "2015-01-08  41.165001  41.650002  41.009998  41.244999  33.539257  13170600\n",
      "✅ Données sauvegardées dans SBUX_data.csv\n"
     ]
    },
    {
     "name": "stderr",
     "output_type": "stream",
     "text": [
      "[*********************100%***********************]  1 of 1 completed\n"
     ]
    },
    {
     "name": "stdout",
     "output_type": "stream",
     "text": [
      "✅ Colonnes après aplatissement : ['Adj Close', 'Close', 'High', 'Low', 'Open', 'Volume']\n",
      "                 Open       High        Low      Close  Adj Close   Volume\n",
      "Date                                                                      \n",
      "2015-01-02  79.220001  79.309998  77.709999  78.349998  58.545315  1421300\n",
      "2015-01-05  77.820000  78.239998  76.779999  77.050003  57.573910  3265100\n",
      "2015-01-06  76.800003  76.959999  74.519997  74.849998  55.930019  3254800\n",
      "2015-01-07  75.769997  75.930000  75.019997  75.550003  56.453068  2158000\n",
      "2015-01-08  76.379997  77.300003  76.220001  77.150002  57.648624  1590100\n",
      "✅ Données sauvegardées dans STT_data.csv\n"
     ]
    },
    {
     "name": "stderr",
     "output_type": "stream",
     "text": [
      "[*********************100%***********************]  1 of 1 completed\n"
     ]
    },
    {
     "name": "stdout",
     "output_type": "stream",
     "text": [
      "✅ Colonnes après aplatissement : ['Adj Close', 'Close', 'High', 'Low', 'Open', 'Volume']\n",
      "                 Open       High        Low      Close  Adj Close   Volume\n",
      "Date                                                                      \n",
      "2015-01-02  19.799999  20.180000  19.770000  19.900000  15.850373  2400400\n",
      "2015-01-05  19.500000  19.549999  18.590000  18.700001  14.894576  3476200\n",
      "2015-01-06  18.709999  18.770000  18.049999  18.160000  14.464459  4349400\n",
      "2015-01-07  19.010000  19.110001  18.270000  18.420000  14.671552  4147000\n",
      "2015-01-08  18.540001  19.250000  18.350000  19.059999  15.181313  4824100\n",
      "✅ Données sauvegardées dans STLD_data.csv\n"
     ]
    },
    {
     "name": "stderr",
     "output_type": "stream",
     "text": [
      "[*********************100%***********************]  1 of 1 completed\n"
     ]
    },
    {
     "name": "stdout",
     "output_type": "stream",
     "text": [
      "✅ Colonnes après aplatissement : ['Adj Close', 'Close', 'High', 'Low', 'Open', 'Volume']\n",
      "                 Open       High        Low      Close  Adj Close  Volume\n",
      "Date                                                                     \n",
      "2015-01-02  65.099998  66.070000  64.699997  65.160004  58.066814  449400\n",
      "2015-01-05  64.940002  65.610001  64.089996  64.510002  57.487564  397800\n",
      "2015-01-06  64.809998  65.190002  63.759998  64.550003  57.523201  492500\n",
      "2015-01-07  65.000000  65.430000  64.639999  65.070000  57.986584  394900\n",
      "2015-01-08  65.680000  66.839996  65.050003  66.779999  59.510445  681000\n",
      "✅ Données sauvegardées dans STE_data.csv\n"
     ]
    },
    {
     "name": "stderr",
     "output_type": "stream",
     "text": [
      "[*********************100%***********************]  1 of 1 completed\n"
     ]
    },
    {
     "name": "stdout",
     "output_type": "stream",
     "text": [
      "✅ Colonnes après aplatissement : ['Adj Close', 'Close', 'High', 'Low', 'Open', 'Volume']\n",
      "                 Open       High        Low      Close  Adj Close   Volume\n",
      "Date                                                                      \n",
      "2015-01-02  94.699997  95.449997  93.129997  93.989998  83.170494  1523700\n",
      "2015-01-05  90.820000  93.709999  90.820000  92.540001  81.887398  1825500\n",
      "2015-01-06  92.720001  93.449997  91.570000  92.410004  81.772369  1855000\n",
      "2015-01-07  93.070000  94.480003  92.949997  94.160004  83.320923  1145300\n",
      "2015-01-08  95.029999  96.000000  95.029999  95.760002  84.736748  1368800\n",
      "✅ Données sauvegardées dans SYK_data.csv\n"
     ]
    },
    {
     "name": "stderr",
     "output_type": "stream",
     "text": [
      "[*********************100%***********************]  1 of 1 completed\n"
     ]
    },
    {
     "name": "stdout",
     "output_type": "stream",
     "text": [
      "✅ Colonnes après aplatissement : ['Adj Close', 'Close', 'High', 'Low', 'Open', 'Volume']\n",
      "             Open   High    Low  Close  Adj Close   Volume\n",
      "Date                                                      \n",
      "2015-01-02  3.523  3.558  3.410  3.473      3.473  2073000\n",
      "2015-01-05  3.447  3.500  3.318  3.367      3.367  3900000\n",
      "2015-01-06  3.370  3.410  3.232  3.276      3.276  3381000\n",
      "2015-01-07  3.307  3.324  3.221  3.300      3.300  3553000\n",
      "2015-01-08  3.333  3.514  3.321  3.473      3.473  3599000\n",
      "✅ Données sauvegardées dans SMCI_data.csv\n"
     ]
    },
    {
     "name": "stderr",
     "output_type": "stream",
     "text": [
      "[*********************100%***********************]  1 of 1 completed\n"
     ]
    },
    {
     "name": "stdout",
     "output_type": "stream",
     "text": [
      "✅ Colonnes après aplatissement : ['Adj Close', 'Close', 'High', 'Low', 'Open', 'Volume']\n",
      "                 Open       High        Low      Close  Adj Close   Volume\n",
      "Date                                                                      \n",
      "2015-01-02  29.790001  29.799999  29.350000  29.480000  23.723505   580000\n",
      "2015-01-05  29.379999  29.620001  28.680000  29.250000  23.538418  1593900\n",
      "2015-01-06  29.400000  29.430000  28.450001  28.850000  23.216524  2198300\n",
      "2015-01-07  29.520000  29.680000  28.910000  29.200001  23.498184  1365100\n",
      "2015-01-08  29.530001  30.100000  29.490000  29.980000  24.125868   835000\n",
      "✅ Données sauvegardées dans SYF_data.csv\n"
     ]
    },
    {
     "name": "stderr",
     "output_type": "stream",
     "text": [
      "[*********************100%***********************]  1 of 1 completed\n"
     ]
    },
    {
     "name": "stdout",
     "output_type": "stream",
     "text": [
      "✅ Colonnes après aplatissement : ['Adj Close', 'Close', 'High', 'Low', 'Open', 'Volume']\n",
      "                 Open       High        Low      Close  Adj Close  Volume\n",
      "Date                                                                     \n",
      "2015-01-02  43.730000  43.889999  42.750000  43.099998  43.099998  474000\n",
      "2015-01-05  42.759998  43.189999  42.259998  42.540001  42.540001  536300\n",
      "2015-01-06  42.709999  42.849998  41.770000  42.160000  42.160000  626200\n",
      "2015-01-07  42.520000  42.529999  41.970001  42.209999  42.209999  611000\n",
      "2015-01-08  42.529999  43.080002  42.360001  42.860001  42.860001  694100\n",
      "✅ Données sauvegardées dans SNPS_data.csv\n"
     ]
    },
    {
     "name": "stderr",
     "output_type": "stream",
     "text": [
      "[*********************100%***********************]  1 of 1 completed\n"
     ]
    },
    {
     "name": "stdout",
     "output_type": "stream",
     "text": [
      "✅ Colonnes après aplatissement : ['Adj Close', 'Close', 'High', 'Low', 'Open', 'Volume']\n",
      "                 Open       High        Low      Close  Adj Close   Volume\n",
      "Date                                                                      \n",
      "2015-01-02  39.869999  40.119999  39.680000  39.849998  30.293884  2560200\n",
      "2015-01-05  39.580002  39.720001  39.290001  39.459999  29.997408  3082600\n",
      "2015-01-06  39.660000  39.880001  39.070000  39.250000  29.837765  3045600\n",
      "2015-01-07  39.540001  40.430000  39.500000  40.400002  30.711987  3817500\n",
      "2015-01-08  40.500000  41.150002  40.500000  41.130001  31.266933  8417200\n",
      "✅ Données sauvegardées dans SYY_data.csv\n"
     ]
    },
    {
     "name": "stderr",
     "output_type": "stream",
     "text": [
      "[*********************100%***********************]  1 of 1 completed\n"
     ]
    },
    {
     "name": "stdout",
     "output_type": "stream",
     "text": [
      "✅ Colonnes après aplatissement : ['Adj Close', 'Close', 'High', 'Low', 'Open', 'Volume']\n",
      "                 Open       High        Low      Close  Adj Close   Volume\n",
      "Date                                                                      \n",
      "2015-01-02  27.100000  27.469999  27.030001  27.299999  26.598776  3515300\n",
      "2015-01-05  27.120001  27.270000  26.730000  26.930000  26.238281  3477300\n",
      "2015-01-06  27.030001  27.200001  26.459999  26.870001  26.179825  4237100\n",
      "2015-01-07  27.250000  28.290001  26.959999  28.250000  27.524376  7528300\n",
      "2015-01-08  28.320000  29.030001  28.260000  29.020000  28.274599  6715900\n",
      "✅ Données sauvegardées dans TMUS_data.csv\n"
     ]
    },
    {
     "name": "stderr",
     "output_type": "stream",
     "text": [
      "[*********************100%***********************]  1 of 1 completed\n"
     ]
    },
    {
     "name": "stdout",
     "output_type": "stream",
     "text": [
      "✅ Colonnes après aplatissement : ['Adj Close', 'Close', 'High', 'Low', 'Open', 'Volume']\n",
      "                 Open       High        Low      Close  Adj Close   Volume\n",
      "Date                                                                      \n",
      "2015-01-02  86.599998  87.220001  85.110001  85.760002  58.149666   999700\n",
      "2015-01-05  85.050003  85.400002  83.489998  83.790001  56.813904  1173000\n",
      "2015-01-06  84.389999  84.690002  81.720001  82.309998  55.810387  2012700\n",
      "2015-01-07  82.470001  83.610001  82.180000  83.519997  56.630836  1267100\n",
      "2015-01-08  84.129997  84.639999  83.809998  84.510002  57.302116  1221000\n",
      "✅ Données sauvegardées dans TROW_data.csv\n"
     ]
    },
    {
     "name": "stderr",
     "output_type": "stream",
     "text": [
      "[*********************100%***********************]  1 of 1 completed\n"
     ]
    },
    {
     "name": "stdout",
     "output_type": "stream",
     "text": [
      "✅ Colonnes après aplatissement : ['Adj Close', 'Close', 'High', 'Low', 'Open', 'Volume']\n",
      "                 Open       High        Low      Close  Adj Close   Volume\n",
      "Date                                                                      \n",
      "2015-01-02  28.200001  28.440001  27.549999  28.100000  28.100000   826900\n",
      "2015-01-05  28.670000  28.879999  27.459999  27.620001  27.620001  1038300\n",
      "2015-01-06  28.150000  28.440001  27.520000  27.930000  27.930000  1595600\n",
      "2015-01-07  28.139999  28.459999  27.709999  28.100000  28.100000  1380500\n",
      "2015-01-08  28.309999  28.780001  28.150000  28.459999  28.459999  2626100\n",
      "✅ Données sauvegardées dans TTWO_data.csv\n"
     ]
    },
    {
     "name": "stderr",
     "output_type": "stream",
     "text": [
      "[*********************100%***********************]  1 of 1 completed\n"
     ]
    },
    {
     "name": "stdout",
     "output_type": "stream",
     "text": [
      "✅ Colonnes après aplatissement : ['Adj Close', 'Close', 'High', 'Low', 'Open', 'Volume']\n",
      "                 Open       High        Low      Close  Adj Close   Volume\n",
      "Date                                                                      \n",
      "2015-01-02  37.700001  37.919998  37.009998  37.310001  27.146120  2972800\n",
      "2015-01-05  37.630001  37.630001  36.520000  36.730000  26.724125  4521400\n",
      "2015-01-06  36.970001  37.099998  36.000000  36.299999  26.411259  6238900\n",
      "2015-01-07  36.790001  37.419998  36.529999  37.419998  27.226151  5088300\n",
      "2015-01-08  37.669998  38.430000  37.520000  38.369999  27.917356  6341600\n",
      "✅ Données sauvegardées dans TPR_data.csv\n"
     ]
    },
    {
     "name": "stderr",
     "output_type": "stream",
     "text": [
      "[*********************100%***********************]  1 of 1 completed\n"
     ]
    },
    {
     "name": "stdout",
     "output_type": "stream",
     "text": [
      "✅ Colonnes après aplatissement : ['Adj Close', 'Close', 'High', 'Low', 'Open', 'Volume']\n",
      "                  Open        High         Low       Close  Adj Close   Volume\n",
      "Date                                                                          \n",
      "2015-01-02  105.750000  107.930000  105.110001  107.059998  63.715919   471200\n",
      "2015-01-05  104.720001  106.000000   98.489998   99.190002  59.032173   956000\n",
      "2015-01-06  100.110001  100.739998   93.339996   96.110001  57.199108  1072700\n",
      "2015-01-07   97.320000   97.889999   93.800003   95.199997  56.657536   745000\n",
      "2015-01-08   95.879997   98.250000   94.970001   97.889999  58.258476   833000\n",
      "✅ Données sauvegardées dans TRGP_data.csv\n"
     ]
    },
    {
     "name": "stderr",
     "output_type": "stream",
     "text": [
      "[*********************100%***********************]  1 of 1 completed\n"
     ]
    },
    {
     "name": "stdout",
     "output_type": "stream",
     "text": [
      "✅ Colonnes après aplatissement : ['Adj Close', 'Close', 'High', 'Low', 'Open', 'Volume']\n",
      "                 Open       High        Low      Close  Adj Close   Volume\n",
      "Date                                                                      \n",
      "2015-01-02  76.110001  76.639999  74.550003  75.330002  55.703114  3710300\n",
      "2015-01-05  75.169998  75.510002  73.879997  73.980003  54.704861  3778200\n",
      "2015-01-06  74.300003  74.690002  72.739998  73.970001  54.697468  4659300\n",
      "2015-01-07  74.879997  76.949997  74.879997  76.769997  56.767944  6946900\n",
      "2015-01-08  76.809998  77.750000  76.690002  77.129997  57.034142  6344900\n",
      "✅ Données sauvegardées dans TGT_data.csv\n"
     ]
    },
    {
     "name": "stderr",
     "output_type": "stream",
     "text": [
      "[*********************100%***********************]  1 of 1 completed\n"
     ]
    },
    {
     "name": "stdout",
     "output_type": "stream",
     "text": [
      "✅ Colonnes après aplatissement : ['Adj Close', 'Close', 'High', 'Low', 'Open', 'Volume']\n",
      "                 Open       High        Low      Close  Adj Close   Volume\n",
      "Date                                                                      \n",
      "2015-01-02  63.720001  63.860001  62.630001  63.169998  51.862053   948900\n",
      "2015-01-05  62.650002  62.689999  61.730000  61.939999  50.852242   953400\n",
      "2015-01-06  61.939999  62.049999  60.540001  61.189999  50.236496  1448800\n",
      "2015-01-07  61.599998  63.049999  61.320000  63.029999  51.747131  1929000\n",
      "2015-01-08  63.639999  64.459999  63.639999  64.300003  52.789772  1635300\n",
      "✅ Données sauvegardées dans TEL_data.csv\n"
     ]
    },
    {
     "name": "stderr",
     "output_type": "stream",
     "text": [
      "[*********************100%***********************]  1 of 1 completed\n"
     ]
    },
    {
     "name": "stdout",
     "output_type": "stream",
     "text": [
      "✅ Colonnes après aplatissement : ['Adj Close', 'Close', 'High', 'Low', 'Open', 'Volume']\n",
      "                  Open        High         Low       Close   Adj Close  Volume\n",
      "Date                                                                          \n",
      "2015-01-02  103.500000  103.500000  100.879997  102.160004  102.160004  145700\n",
      "2015-01-05  101.269997  101.919998   99.349998   99.720001   99.720001  266200\n",
      "2015-01-06  100.099998  100.610001   97.599998   98.019997   98.019997  243000\n",
      "2015-01-07   98.940002   99.419998   98.400002   98.790001   98.790001  245300\n",
      "2015-01-08   99.739998  101.180000   99.629997  100.440002  100.440002  240300\n",
      "✅ Données sauvegardées dans TDY_data.csv\n"
     ]
    },
    {
     "name": "stderr",
     "output_type": "stream",
     "text": [
      "[*********************100%***********************]  1 of 1 completed\n"
     ]
    },
    {
     "name": "stdout",
     "output_type": "stream",
     "text": [
      "✅ Colonnes après aplatissement : ['Adj Close', 'Close', 'High', 'Low', 'Open', 'Volume']\n",
      "                 Open       High        Low      Close  Adj Close   Volume\n",
      "Date                                                                      \n",
      "2015-01-02  19.920000  20.000000  19.469999  19.700001  18.336224  1030300\n",
      "2015-01-05  19.540001  19.639999  19.320000  19.330000  17.991835  1877000\n",
      "2015-01-06  19.350000  19.410000  18.680000  18.740000  17.442678  2377700\n",
      "2015-01-07  18.860001  18.990000  18.709999  18.889999  17.582294   902400\n",
      "2015-01-08  19.090000  19.540001  19.040001  19.480000  18.131453  1626800\n",
      "✅ Données sauvegardées dans TER_data.csv\n"
     ]
    },
    {
     "name": "stderr",
     "output_type": "stream",
     "text": [
      "[*********************100%***********************]  1 of 1 completed\n"
     ]
    },
    {
     "name": "stdout",
     "output_type": "stream",
     "text": [
      "✅ Colonnes après aplatissement : ['Adj Close', 'Close', 'High', 'Low', 'Open', 'Volume']\n",
      "                 Open       High        Low      Close  Adj Close    Volume\n",
      "Date                                                                       \n",
      "2015-01-02  14.858000  14.883333  14.217333  14.620667  14.620667  71466000\n",
      "2015-01-05  14.303333  14.433333  13.810667  14.006000  14.006000  80527500\n",
      "2015-01-06  14.004000  14.280000  13.614000  14.085333  14.085333  93928500\n",
      "2015-01-07  14.223333  14.318667  13.985333  14.063333  14.063333  44526000\n",
      "2015-01-08  14.187333  14.253333  14.000667  14.041333  14.041333  51637500\n",
      "✅ Données sauvegardées dans TSLA_data.csv\n"
     ]
    },
    {
     "name": "stderr",
     "output_type": "stream",
     "text": [
      "[*********************100%***********************]  1 of 1 completed\n"
     ]
    },
    {
     "name": "stdout",
     "output_type": "stream",
     "text": [
      "✅ Colonnes après aplatissement : ['Adj Close', 'Close', 'High', 'Low', 'Open', 'Volume']\n",
      "                 Open       High        Low      Close  Adj Close   Volume\n",
      "Date                                                                      \n",
      "2015-01-02  53.560001  54.080002  53.009998  53.480000  40.199532  4020100\n",
      "2015-01-05  53.189999  53.490002  52.599998  52.650002  39.575634  5599300\n",
      "2015-01-06  52.889999  53.020000  51.720001  51.779999  38.921665  5468400\n",
      "2015-01-07  52.009998  52.869999  51.790001  52.709999  39.620728  4577100\n",
      "2015-01-08  53.130001  53.950001  53.009998  53.570000  40.267162  6295200\n",
      "✅ Données sauvegardées dans TXN_data.csv\n"
     ]
    },
    {
     "name": "stderr",
     "output_type": "stream",
     "text": [
      "[*********************100%***********************]  1 of 1 completed\n"
     ]
    },
    {
     "name": "stdout",
     "output_type": "stream",
     "text": [
      "✅ Colonnes après aplatissement : ['Adj Close', 'Close', 'High', 'Low', 'Open', 'Volume']\n",
      "                 Open       High        Low      Close  Adj Close  Volume\n",
      "Date                                                                     \n",
      "2015-01-02  38.916668  39.820000  38.833332  39.333332  34.813427   36000\n",
      "2015-01-05  38.849998  39.666668  38.383331  38.930000  34.456436   31200\n",
      "2015-01-06  38.536667  38.666668  35.660000  36.930000  32.686260   86700\n",
      "2015-01-07  37.200001  38.936668  37.200001  38.333332  33.928337   51900\n",
      "2015-01-08  38.333332  40.896667  38.333332  40.766666  36.082050   51300\n",
      "✅ Données sauvegardées dans TPL_data.csv\n"
     ]
    },
    {
     "name": "stderr",
     "output_type": "stream",
     "text": [
      "[*********************100%***********************]  1 of 1 completed\n"
     ]
    },
    {
     "name": "stdout",
     "output_type": "stream",
     "text": [
      "✅ Colonnes après aplatissement : ['Adj Close', 'Close', 'High', 'Low', 'Open', 'Volume']\n",
      "                 Open       High        Low      Close  Adj Close   Volume\n",
      "Date                                                                      \n",
      "2015-01-02  42.349998  42.549999  41.700001  42.169998  41.518360   992800\n",
      "2015-01-05  41.820000  42.180000  41.090000  41.360001  40.720886  1284900\n",
      "2015-01-06  41.520000  42.049999  40.970001  41.180000  40.543659  2530500\n",
      "2015-01-07  41.639999  41.900002  41.270000  41.450001  40.809505  2543700\n",
      "2015-01-08  41.860001  43.330002  41.849998  43.320000  42.650612  2938700\n",
      "✅ Données sauvegardées dans TXT_data.csv\n"
     ]
    },
    {
     "name": "stderr",
     "output_type": "stream",
     "text": [
      "[*********************100%***********************]  1 of 1 completed\n"
     ]
    },
    {
     "name": "stdout",
     "output_type": "stream",
     "text": [
      "✅ Colonnes après aplatissement : ['Adj Close', 'Close', 'High', 'Low', 'Open', 'Volume']\n",
      "                  Open        High         Low       Close   Adj Close  \\\n",
      "Date                                                                     \n",
      "2015-01-02  126.300003  128.490005  126.160004  128.119995  124.125473   \n",
      "2015-01-05  127.309998  129.139999  126.150002  126.360001  122.420349   \n",
      "2015-01-06  126.360001  128.190002  124.540001  125.180000  121.277130   \n",
      "2015-01-07  126.559998  128.970001  125.940002  128.929993  124.910210   \n",
      "2015-01-08  129.460007  131.059998  129.460007  130.270004  126.208427   \n",
      "\n",
      "             Volume  \n",
      "Date                 \n",
      "2015-01-02  2034700  \n",
      "2015-01-05  2430300  \n",
      "2015-01-06  2519300  \n",
      "2015-01-07  2098300  \n",
      "2015-01-08  2515800  \n",
      "✅ Données sauvegardées dans TMO_data.csv\n"
     ]
    },
    {
     "name": "stderr",
     "output_type": "stream",
     "text": [
      "[*********************100%***********************]  1 of 1 completed\n"
     ]
    },
    {
     "name": "stdout",
     "output_type": "stream",
     "text": [
      "✅ Colonnes après aplatissement : ['Adj Close', 'Close', 'High', 'Low', 'Open', 'Volume']\n",
      "                 Open       High        Low      Close  Adj Close   Volume\n",
      "Date                                                                      \n",
      "2015-01-02  34.325001  34.564999  33.755001  33.980000  29.369228  5289400\n",
      "2015-01-05  33.720001  33.970001  33.514999  33.599998  29.040789  6354200\n",
      "2015-01-06  33.750000  34.160000  33.150002  33.435001  28.898182  6146200\n",
      "2015-01-07  33.549999  34.189999  33.514999  34.119999  29.490229  6152600\n",
      "2015-01-08  34.250000  34.494999  34.139999  34.299999  29.645813  8306200\n",
      "✅ Données sauvegardées dans TJX_data.csv\n"
     ]
    },
    {
     "name": "stderr",
     "output_type": "stream",
     "text": [
      "[*********************100%***********************]  1 of 1 completed\n"
     ]
    },
    {
     "name": "stdout",
     "output_type": "stream",
     "text": [
      "✅ Colonnes après aplatissement : ['Adj Close', 'Close', 'High', 'Low', 'Open', 'Volume']\n",
      "             Open   High    Low  Close  Adj Close   Volume\n",
      "Date                                                      \n",
      "2015-01-02  12.40  12.46  11.83  12.03  10.223677   477000\n",
      "2015-01-05  11.98  12.18  11.80  11.81  10.036715   587100\n",
      "2015-01-06  11.89  12.15  11.73  11.84  10.062209   505000\n",
      "2015-01-07  11.89  11.92  11.15  11.35   9.645782  1077000\n",
      "2015-01-08  11.46  11.49  11.11  11.22   9.535302   662000\n",
      "✅ Données sauvegardées dans TKO_data.csv\n"
     ]
    },
    {
     "name": "stderr",
     "output_type": "stream",
     "text": [
      "[*********************100%***********************]  1 of 1 completed\n"
     ]
    },
    {
     "name": "stdout",
     "output_type": "stream",
     "text": [
      "✅ Colonnes après aplatissement : ['Adj Close', 'Close', 'High', 'Low', 'Open', 'Volume']\n",
      "              Open    High     Low   Close  Adj Close   Volume\n",
      "Date                                                          \n",
      "2015-01-02  15.760  15.878  15.416  15.614  14.341296  2785500\n",
      "2015-01-05  15.588  15.646  15.162  15.294  14.047379  4990000\n",
      "2015-01-06  15.258  15.384  14.908  15.060  13.832454  6737500\n",
      "2015-01-07  15.100  15.552  15.060  15.548  14.280678  7159500\n",
      "2015-01-08  15.884  16.340  15.866  16.184  14.864837  9713000\n",
      "✅ Données sauvegardées dans TSCO_data.csv\n"
     ]
    },
    {
     "name": "stderr",
     "output_type": "stream",
     "text": [
      "[*********************100%***********************]  1 of 1 completed\n"
     ]
    },
    {
     "name": "stdout",
     "output_type": "stream",
     "text": [
      "✅ Colonnes après aplatissement : ['Adj Close', 'Close', 'High', 'Low', 'Open', 'Volume']\n",
      "                 Open       High        Low      Close  Adj Close   Volume\n",
      "Date                                                                      \n",
      "2015-01-02  49.255238  49.650890  48.595810  49.076805  41.158161  1423185\n",
      "2015-01-05  48.642357  48.867340  48.013966  48.223431  40.442486  2270960\n",
      "2015-01-06  48.269978  48.378590  46.827000  47.214893  39.596661  2857584\n",
      "2015-01-07  47.719162  47.928627  47.339024  47.470909  39.811371  2210893\n",
      "2015-01-08  47.858807  48.456169  47.827774  48.432896  40.618153  2212955\n",
      "✅ Données sauvegardées dans TT_data.csv\n"
     ]
    },
    {
     "name": "stderr",
     "output_type": "stream",
     "text": [
      "[*********************100%***********************]  1 of 1 completed\n"
     ]
    },
    {
     "name": "stdout",
     "output_type": "stream",
     "text": [
      "✅ Colonnes après aplatissement : ['Adj Close', 'Close', 'High', 'Low', 'Open', 'Volume']\n",
      "                  Open        High         Low       Close   Adj Close  Volume\n",
      "Date                                                                          \n",
      "2015-01-02  196.759995  198.479996  195.210007  197.750000  132.081314  360800\n",
      "2015-01-05  197.250000  198.880005  194.449997  196.449997  131.213013  508300\n",
      "2015-01-06  196.410004  197.770004  194.300003  196.949997  131.546967  448100\n",
      "2015-01-07  198.759995  200.339996  197.410004  199.559998  133.290237  271100\n",
      "2015-01-08  201.000000  203.000000  200.429993  202.899994  135.521118  232400\n",
      "✅ Données sauvegardées dans TDG_data.csv\n"
     ]
    },
    {
     "name": "stderr",
     "output_type": "stream",
     "text": [
      "[*********************100%***********************]  1 of 1 completed\n"
     ]
    },
    {
     "name": "stdout",
     "output_type": "stream",
     "text": [
      "✅ Colonnes après aplatissement : ['Adj Close', 'Close', 'High', 'Low', 'Open', 'Volume']\n",
      "                  Open        High         Low       Close  Adj Close   Volume\n",
      "Date                                                                          \n",
      "2015-01-02  106.290001  106.739998  104.940002  105.440002  83.434692  1270800\n",
      "2015-01-05  105.110001  105.239998  103.870003  104.169998  82.429726  1728700\n",
      "2015-01-06  104.070000  104.690002  103.040001  103.239998  81.693810  2350900\n",
      "2015-01-07  104.379997  105.050003  103.650002  105.000000  83.086525  1558200\n",
      "2015-01-08  105.849998  107.239998  105.660004  107.180000  84.811539  1941200\n",
      "✅ Données sauvegardées dans TRV_data.csv\n"
     ]
    },
    {
     "name": "stderr",
     "output_type": "stream",
     "text": [
      "[*********************100%***********************]  1 of 1 completed\n"
     ]
    },
    {
     "name": "stdout",
     "output_type": "stream",
     "text": [
      "✅ Colonnes après aplatissement : ['Adj Close', 'Close', 'High', 'Low', 'Open', 'Volume']\n",
      "                 Open       High        Low      Close  Adj Close   Volume\n",
      "Date                                                                      \n",
      "2015-01-02  26.700001  26.959999  26.360001  26.910000  26.910000  1106000\n",
      "2015-01-05  26.799999  26.820000  25.900000  26.030001  26.030001  1254900\n",
      "2015-01-06  26.010000  26.139999  25.370001  25.660000  25.660000  2291600\n",
      "2015-01-07  25.600000  25.680000  25.190001  25.340000  25.340000  2096400\n",
      "2015-01-08  25.570000  25.780001  25.320000  25.670000  25.670000  2036000\n",
      "✅ Données sauvegardées dans TRMB_data.csv\n"
     ]
    },
    {
     "name": "stderr",
     "output_type": "stream",
     "text": [
      "[*********************100%***********************]  1 of 1 completed\n"
     ]
    },
    {
     "name": "stdout",
     "output_type": "stream",
     "text": [
      "✅ Colonnes après aplatissement : ['Adj Close', 'Close', 'High', 'Low', 'Open', 'Volume']\n",
      "                 Open       High        Low      Close  Adj Close   Volume\n",
      "Date                                                                      \n",
      "2015-01-02  39.020000  39.200001  38.259998  38.650002  25.794382  2173500\n",
      "2015-01-05  38.459999  38.480000  37.349998  37.430000  24.980165  4886500\n",
      "2015-01-06  37.490002  37.669998  36.509998  36.700001  24.492975  5305300\n",
      "2015-01-07  37.279999  37.320000  36.720001  37.189999  24.819996  4953200\n",
      "2015-01-08  37.520000  37.910000  37.450001  37.810001  25.233774  5412800\n",
      "✅ Données sauvegardées dans TFC_data.csv\n"
     ]
    },
    {
     "name": "stderr",
     "output_type": "stream",
     "text": [
      "[*********************100%***********************]  1 of 1 completed\n"
     ]
    },
    {
     "name": "stdout",
     "output_type": "stream",
     "text": [
      "✅ Colonnes après aplatissement : ['Adj Close', 'Close', 'High', 'Low', 'Open', 'Volume']\n",
      "                  Open        High         Low       Close   Adj Close  Volume\n",
      "Date                                                                          \n",
      "2015-01-02  110.040001  111.080002  106.769997  107.849998  107.849998  216200\n",
      "2015-01-05  106.750000  108.500000  105.279999  105.970001  105.970001  270300\n",
      "2015-01-06  106.459999  107.430000  103.529999  104.910004  104.910004  239600\n",
      "2015-01-07  105.529999  106.150002  103.370003  106.029999  106.029999  220300\n",
      "2015-01-08  107.309998  110.379997  106.550003  109.199997  109.199997  264700\n",
      "✅ Données sauvegardées dans TYL_data.csv\n"
     ]
    },
    {
     "name": "stderr",
     "output_type": "stream",
     "text": [
      "[*********************100%***********************]  1 of 1 completed\n"
     ]
    },
    {
     "name": "stdout",
     "output_type": "stream",
     "text": [
      "✅ Colonnes après aplatissement : ['Adj Close', 'Close', 'High', 'Low', 'Open', 'Volume']\n",
      "                 Open       High        Low      Close  Adj Close   Volume\n",
      "Date                                                                      \n",
      "2015-01-02  40.090000  40.520000  39.599998  39.950001  31.597870  3225300\n",
      "2015-01-05  39.750000  40.209999  38.990002  39.029999  30.870205  3809800\n",
      "2015-01-06  38.959999  39.700001  38.889999  39.259998  31.052109  4562600\n",
      "2015-01-07  39.599998  40.330002  39.470001  39.740002  31.431772  3600100\n",
      "2015-01-08  40.020000  41.209999  39.939999  41.200001  32.586533  5632800\n",
      "✅ Données sauvegardées dans TSN_data.csv\n"
     ]
    },
    {
     "name": "stderr",
     "output_type": "stream",
     "text": [
      "[*********************100%***********************]  1 of 1 completed\n"
     ]
    },
    {
     "name": "stdout",
     "output_type": "stream",
     "text": [
      "✅ Colonnes après aplatissement : ['Adj Close', 'Close', 'High', 'Low', 'Open', 'Volume']\n",
      "                 Open       High        Low      Close  Adj Close    Volume\n",
      "Date                                                                       \n",
      "2015-01-02  45.430000  45.490002  44.400002  44.830002  31.114180   5010500\n",
      "2015-01-05  44.549999  44.770000  43.689999  43.750000  30.364609   6568700\n",
      "2015-01-06  43.900002  44.000000  42.880001  43.169998  29.962067   8523700\n",
      "2015-01-07  43.599998  43.689999  43.139999  43.549999  30.225803   5073700\n",
      "2015-01-08  43.970001  44.160000  43.779999  43.869999  30.447899  10417600\n",
      "✅ Données sauvegardées dans USB_data.csv\n"
     ]
    },
    {
     "name": "stderr",
     "output_type": "stream",
     "text": [
      "[*********************100%***********************]  1 of 1 completed\n"
     ]
    },
    {
     "name": "stdout",
     "output_type": "stream",
     "text": [
      "✅ Colonnes après aplatissement : ['Adj Close', 'Close', 'High', 'Low', 'Open', 'Volume']\n",
      "                 Open       High        Low      Close  Adj Close     Volume\n",
      "Date                                                                        \n",
      "2019-05-10  42.000000  45.000000  41.060001  41.570000  41.570000  186322500\n",
      "2019-05-13  38.790001  39.240002  36.080002  37.099998  37.099998   79442400\n",
      "2019-05-14  38.310001  39.959999  36.849998  39.959999  39.959999   46661100\n",
      "2019-05-15  39.369999  41.880001  38.950001  41.290001  41.290001   36086100\n",
      "2019-05-16  41.480000  44.060001  41.250000  43.000000  43.000000   38115500\n",
      "✅ Données sauvegardées dans UBER_data.csv\n"
     ]
    },
    {
     "name": "stderr",
     "output_type": "stream",
     "text": [
      "[*********************100%***********************]  1 of 1 completed\n"
     ]
    },
    {
     "name": "stdout",
     "output_type": "stream",
     "text": [
      "✅ Colonnes après aplatissement : ['Adj Close', 'Close', 'High', 'Low', 'Open', 'Volume']\n",
      "                 Open       High        Low      Close  Adj Close   Volume\n",
      "Date                                                                      \n",
      "2015-01-02  31.000000  31.440001  30.820000  31.370001  21.726831  1071500\n",
      "2015-01-05  31.260000  31.799999  31.170000  31.700001  21.955389  1784700\n",
      "2015-01-06  31.820000  32.130001  31.600000  31.879999  22.080059  2513900\n",
      "2015-01-07  31.980000  32.150002  31.650000  32.099998  22.232426  3551300\n",
      "2015-01-08  31.889999  31.950001  31.610001  31.900000  22.274315  2929200\n",
      "✅ Données sauvegardées dans UDR_data.csv\n"
     ]
    },
    {
     "name": "stderr",
     "output_type": "stream",
     "text": [
      "[*********************100%***********************]  1 of 1 completed\n"
     ]
    },
    {
     "name": "stdout",
     "output_type": "stream",
     "text": [
      "✅ Colonnes après aplatissement : ['Adj Close', 'Close', 'High', 'Low', 'Open', 'Volume']\n",
      "                  Open        High         Low       Close   Adj Close  Volume\n",
      "Date                                                                          \n",
      "2015-01-02  128.130005  129.089996  125.239998  126.839996  126.839996  410800\n",
      "2015-01-05  126.309998  127.980003  125.650002  127.150002  127.150002  477400\n",
      "2015-01-06  127.050003  128.789993  124.699997  126.949997  126.949997  758200\n",
      "2015-01-07  128.779999  130.639999  127.970001  130.580002  130.580002  597200\n",
      "2015-01-08  131.529999  132.880005  131.139999  132.240005  132.240005  618400\n",
      "✅ Données sauvegardées dans ULTA_data.csv\n"
     ]
    },
    {
     "name": "stderr",
     "output_type": "stream",
     "text": [
      "[*********************100%***********************]  1 of 1 completed\n"
     ]
    },
    {
     "name": "stdout",
     "output_type": "stream",
     "text": [
      "✅ Colonnes après aplatissement : ['Adj Close', 'Close', 'High', 'Low', 'Open', 'Volume']\n",
      "                  Open        High         Low       Close  Adj Close   Volume\n",
      "Date                                                                          \n",
      "2015-01-02  119.930000  120.800003  117.660004  118.610001  93.786743  3082700\n",
      "2015-01-05  118.309998  118.309998  114.470001  114.599998  90.615952  4602500\n",
      "2015-01-06  114.279999  114.290001  111.660004  112.230003  88.741959  6315000\n",
      "2015-01-07  113.160004  113.800003  111.849998  112.849998  89.232178  4008400\n",
      "2015-01-08  114.000000  117.089996  113.510002  117.080002  92.576920  4844900\n",
      "✅ Données sauvegardées dans UNP_data.csv\n"
     ]
    },
    {
     "name": "stderr",
     "output_type": "stream",
     "text": [
      "[*********************100%***********************]  1 of 1 completed\n"
     ]
    },
    {
     "name": "stdout",
     "output_type": "stream",
     "text": [
      "✅ Colonnes après aplatissement : ['Adj Close', 'Close', 'High', 'Low', 'Open', 'Volume']\n",
      "                 Open       High        Low      Close  Adj Close   Volume\n",
      "Date                                                                      \n",
      "2015-01-02  67.739998  68.080002  65.709999  66.339996  66.339996  6215000\n",
      "2015-01-05  66.870003  67.349998  65.500000  66.150002  66.150002  5033400\n",
      "2015-01-06  66.629997  67.000000  63.110001  64.580002  64.580002  6051700\n",
      "2015-01-07  64.959999  66.110001  64.000000  65.529999  65.529999  5135000\n",
      "2015-01-08  65.699997  67.519997  65.410004  66.639999  66.639999  6889500\n",
      "✅ Données sauvegardées dans UAL_data.csv\n"
     ]
    },
    {
     "name": "stderr",
     "output_type": "stream",
     "text": [
      "[*********************100%***********************]  1 of 1 completed\n"
     ]
    },
    {
     "name": "stdout",
     "output_type": "stream",
     "text": [
      "✅ Colonnes après aplatissement : ['Adj Close', 'Close', 'High', 'Low', 'Open', 'Volume']\n",
      "                  Open        High         Low       Close  Adj Close   Volume\n",
      "Date                                                                          \n",
      "2015-01-02  111.269997  111.650002  109.400002  110.379997  77.129555  2662900\n",
      "2015-01-05  109.989998  109.989998  107.959999  108.169998  75.585297  3519600\n",
      "2015-01-06  108.169998  108.870003  106.519997  107.459999  75.089172  3808900\n",
      "2015-01-07  108.260002  108.769997  107.589996  108.459999  75.787949  1949500\n",
      "2015-01-08  109.290001  110.629997  109.290001  110.410004  77.150520  2876100\n",
      "✅ Données sauvegardées dans UPS_data.csv\n"
     ]
    },
    {
     "name": "stderr",
     "output_type": "stream",
     "text": [
      "[*********************100%***********************]  1 of 1 completed\n"
     ]
    },
    {
     "name": "stdout",
     "output_type": "stream",
     "text": [
      "✅ Colonnes après aplatissement : ['Adj Close', 'Close', 'High', 'Low', 'Open', 'Volume']\n",
      "                  Open        High         Low       Close   Adj Close  \\\n",
      "Date                                                                     \n",
      "2015-01-02  103.110001  103.849998  100.459999  103.589996  100.734383   \n",
      "2015-01-05  102.680000  102.820000   90.980003   92.250000   89.706985   \n",
      "2015-01-06   92.650002   92.839996   86.279999   89.389999   86.925827   \n",
      "2015-01-07   90.470001   90.900002   87.760002   88.580002   86.138161   \n",
      "2015-01-08   90.070000   91.129997   89.500000   90.470001   87.976059   \n",
      "\n",
      "             Volume  \n",
      "Date                 \n",
      "2015-01-02  1321800  \n",
      "2015-01-05  5609000  \n",
      "2015-01-06  6799400  \n",
      "2015-01-07  3973500  \n",
      "2015-01-08  3246900  \n",
      "✅ Données sauvegardées dans URI_data.csv\n"
     ]
    },
    {
     "name": "stderr",
     "output_type": "stream",
     "text": [
      "[*********************100%***********************]  1 of 1 completed\n"
     ]
    },
    {
     "name": "stdout",
     "output_type": "stream",
     "text": [
      "✅ Colonnes après aplatissement : ['Adj Close', 'Close', 'High', 'Low', 'Open', 'Volume']\n",
      "                  Open        High         Low       Close  Adj Close   Volume\n",
      "Date                                                                          \n",
      "2015-01-02  101.500000  102.620003  100.010002  100.779999  85.585045  3060900\n",
      "2015-01-05  100.300003  100.449997   98.750000   99.120003  84.175331  4679000\n",
      "2015-01-06   99.830002  100.139999   98.459999   98.919998  84.005493  3468300\n",
      "2015-01-07   98.959999  100.300003   98.919998   99.930000  84.863213  3225800\n",
      "2015-01-08  101.570000  104.980003  100.720001  104.699997  88.914009  5346100\n",
      "✅ Données sauvegardées dans UNH_data.csv\n"
     ]
    },
    {
     "name": "stderr",
     "output_type": "stream",
     "text": [
      "[*********************100%***********************]  1 of 1 completed\n"
     ]
    },
    {
     "name": "stdout",
     "output_type": "stream",
     "text": [
      "✅ Colonnes après aplatissement : ['Adj Close', 'Close', 'High', 'Low', 'Open', 'Volume']\n",
      "                  Open        High         Low       Close   Adj Close  \\\n",
      "Date                                                                     \n",
      "2015-01-02  112.050003  112.540001  109.739998  110.970001  106.240868   \n",
      "2015-01-05  110.419998  111.150002  107.760002  108.699997  104.067619   \n",
      "2015-01-06  108.529999  110.040001  108.059998  108.739998  104.105927   \n",
      "2015-01-07  110.300003  112.029999  109.779999  111.989998  107.217400   \n",
      "2015-01-08  112.650002  113.470001  112.099998  113.139999  108.318428   \n",
      "\n",
      "             Volume  \n",
      "Date                 \n",
      "2015-01-02   628500  \n",
      "2015-01-05   801600  \n",
      "2015-01-06  1022200  \n",
      "2015-01-07   914500  \n",
      "2015-01-08  1006000  \n",
      "✅ Données sauvegardées dans UHS_data.csv\n"
     ]
    },
    {
     "name": "stderr",
     "output_type": "stream",
     "text": [
      "[*********************100%***********************]  1 of 1 completed\n"
     ]
    },
    {
     "name": "stdout",
     "output_type": "stream",
     "text": [
      "✅ Colonnes après aplatissement : ['Adj Close', 'Close', 'High', 'Low', 'Open', 'Volume']\n",
      "                 Open       High        Low      Close  Adj Close   Volume\n",
      "Date                                                                      \n",
      "2015-01-02  49.549999  50.459999  49.070000  50.340000  33.303902  5897000\n",
      "2015-01-05  49.840000  49.840000  48.090000  48.270000  31.934437  7732700\n",
      "2015-01-06  48.220001  48.950001  47.290001  47.680000  31.544106  8586800\n",
      "2015-01-07  48.070000  48.950001  47.160000  47.310001  31.299322  8825800\n",
      "2015-01-08  48.090000  50.119999  47.759998  50.020000  33.092205  8941700\n",
      "✅ Données sauvegardées dans VLO_data.csv\n"
     ]
    },
    {
     "name": "stderr",
     "output_type": "stream",
     "text": [
      "[*********************100%***********************]  1 of 1 completed\n"
     ]
    },
    {
     "name": "stdout",
     "output_type": "stream",
     "text": [
      "✅ Colonnes après aplatissement : ['Adj Close', 'Close', 'High', 'Low', 'Open', 'Volume']\n",
      "                 Open       High        Low      Close  Adj Close   Volume\n",
      "Date                                                                      \n",
      "2015-01-02  82.094322  84.195503  82.094322  83.715881  52.376034  1740366\n",
      "2015-01-05  82.996460  84.389633  82.745232  84.138405  52.640373  2447932\n",
      "2015-01-06  84.469566  86.399452  84.469566  86.011192  53.812061  3771815\n",
      "2015-01-07  86.091125  87.598495  85.417381  87.290169  54.612236  2613176\n",
      "2015-01-08  87.769783  87.769783  86.011192  86.867645  54.347912  3219161\n",
      "✅ Données sauvegardées dans VTR_data.csv\n"
     ]
    },
    {
     "name": "stderr",
     "output_type": "stream",
     "text": [
      "[*********************100%***********************]  1 of 1 completed\n"
     ]
    },
    {
     "name": "stdout",
     "output_type": "stream",
     "text": [
      "✅ Colonnes après aplatissement : ['Adj Close', 'Close', 'High', 'Low', 'Open', 'Volume']\n",
      "                 Open       High        Low      Close  Adj Close    Volume\n",
      "Date                                                                       \n",
      "2023-10-04  76.669998  80.620003  76.349998  77.800003  77.246773   8358300\n",
      "2023-10-05  76.000000  76.989998  72.650002  74.449997  73.920601  15351900\n",
      "2023-10-06  73.040001  78.470001  73.040001  77.980003  77.425499   7781100\n",
      "2023-10-09  76.650002  78.000000  73.734001  74.610001  74.079460   7000900\n",
      "2023-10-10  73.959999  75.510002  72.500000  75.000000  74.466690   5385600\n",
      "✅ Données sauvegardées dans VLTO_data.csv\n"
     ]
    },
    {
     "name": "stderr",
     "output_type": "stream",
     "text": [
      "[*********************100%***********************]  1 of 1 completed\n"
     ]
    },
    {
     "name": "stdout",
     "output_type": "stream",
     "text": [
      "✅ Colonnes après aplatissement : ['Adj Close', 'Close', 'High', 'Low', 'Open', 'Volume']\n",
      "                 Open       High        Low      Close  Adj Close   Volume\n",
      "Date                                                                      \n",
      "2015-01-02  57.230000  57.400002  56.570000  57.189999  57.034470   684500\n",
      "2015-01-05  56.669998  56.980000  55.900002  56.240002  56.087055   874400\n",
      "2015-01-06  56.169998  56.389999  54.759998  55.180000  55.029938  1289300\n",
      "2015-01-07  55.419998  55.930000  55.180000  55.639999  55.488686   552400\n",
      "2015-01-08  55.889999  56.959999  55.630001  56.880001  56.725315  1282600\n",
      "✅ Données sauvegardées dans VRSN_data.csv\n"
     ]
    },
    {
     "name": "stderr",
     "output_type": "stream",
     "text": [
      "[*********************100%***********************]  1 of 1 completed\n"
     ]
    },
    {
     "name": "stdout",
     "output_type": "stream",
     "text": [
      "✅ Colonnes après aplatissement : ['Adj Close', 'Close', 'High', 'Low', 'Open', 'Volume']\n",
      "                 Open       High        Low      Close  Adj Close  Volume\n",
      "Date                                                                     \n",
      "2015-01-02  64.080002  65.000000  63.049999  63.970001  61.371513  529700\n",
      "2015-01-05  63.820000  63.980000  62.709999  63.139999  60.575222  885800\n",
      "2015-01-06  63.049999  63.740002  62.820000  62.919998  60.364162  754600\n",
      "2015-01-07  63.020000  63.349998  62.740002  62.959999  60.402542  632100\n",
      "2015-01-08  63.189999  63.930000  63.189999  63.590000  61.006962  890800\n",
      "✅ Données sauvegardées dans VRSK_data.csv\n"
     ]
    },
    {
     "name": "stderr",
     "output_type": "stream",
     "text": [
      "[*********************100%***********************]  1 of 1 completed\n"
     ]
    },
    {
     "name": "stdout",
     "output_type": "stream",
     "text": [
      "✅ Colonnes après aplatissement : ['Adj Close', 'Close', 'High', 'Low', 'Open', 'Volume']\n",
      "                 Open       High        Low      Close  Adj Close    Volume\n",
      "Date                                                                       \n",
      "2015-01-02  47.000000  47.230000  46.910000  46.959999  27.467035  11421200\n",
      "2015-01-05  47.080002  47.160000  46.560001  46.570000  27.238920  18964500\n",
      "2015-01-06  46.790001  47.380001  46.470001  47.040001  27.513832  22950100\n",
      "2015-01-07  46.919998  47.040001  46.049999  46.189999  27.336271  20793600\n",
      "2015-01-08  46.419998  47.240002  46.130001  47.180000  27.922176  17617500\n",
      "✅ Données sauvegardées dans VZ_data.csv\n"
     ]
    },
    {
     "name": "stderr",
     "output_type": "stream",
     "text": [
      "[*********************100%***********************]  1 of 1 completed\n"
     ]
    },
    {
     "name": "stdout",
     "output_type": "stream",
     "text": [
      "✅ Colonnes après aplatissement : ['Adj Close', 'Close', 'High', 'Low', 'Open', 'Volume']\n",
      "                  Open        High         Low       Close   Adj Close  \\\n",
      "Date                                                                     \n",
      "2015-01-02  119.970001  123.680000  118.300003  123.070000  123.070000   \n",
      "2015-01-05  122.269997  122.779999  119.339996  121.029999  121.029999   \n",
      "2015-01-06  121.309998  122.580002  116.800003  117.360001  117.360001   \n",
      "2015-01-07  118.820000  120.769997  117.629997  120.660004  120.660004   \n",
      "2015-01-08  122.000000  124.000000  121.139999  123.970001  123.970001   \n",
      "\n",
      "             Volume  \n",
      "Date                 \n",
      "2015-01-02  1434500  \n",
      "2015-01-05  1681100  \n",
      "2015-01-06  2289700  \n",
      "2015-01-07  1219900  \n",
      "2015-01-08  1358300  \n",
      "✅ Données sauvegardées dans VRTX_data.csv\n"
     ]
    },
    {
     "name": "stderr",
     "output_type": "stream",
     "text": [
      "[*********************100%***********************]  1 of 1 completed\n"
     ]
    },
    {
     "name": "stdout",
     "output_type": "stream",
     "text": [
      "✅ Colonnes après aplatissement : ['Adj Close', 'Close', 'High', 'Low', 'Open', 'Volume']\n",
      "                 Open       High        Low      Close  Adj Close   Volume\n",
      "Date                                                                      \n",
      "2015-01-02  56.540001  57.320000  56.060001  56.349998  47.124817  1398000\n",
      "2015-01-05  56.119999  56.279999  55.430000  55.720001  46.597961  2996200\n",
      "2015-01-06  56.209999  56.830002  53.770000  54.180000  45.310085  6610900\n",
      "2015-01-07  54.720001  56.349998  53.830002  56.110001  46.924114  3663000\n",
      "2015-01-08  56.680000  57.290001  56.349998  56.650002  47.375706  3164000\n",
      "✅ Données sauvegardées dans VTRS_data.csv\n"
     ]
    },
    {
     "name": "stderr",
     "output_type": "stream",
     "text": [
      "[*********************100%***********************]  1 of 1 completed\n"
     ]
    },
    {
     "name": "stdout",
     "output_type": "stream",
     "text": [
      "✅ Colonnes après aplatissement : ['Adj Close', 'Close', 'High', 'Low', 'Open', 'Volume']\n",
      "                 Open       High        Low      Close  Adj Close  Volume\n",
      "Date                                                                     \n",
      "2018-01-02  20.000000  20.600000  19.950001  20.100000  13.563179  427900\n",
      "2018-01-03  20.500000  20.600000  20.000000  20.160000  13.603668  231300\n",
      "2018-01-04  20.150000  20.500000  20.100000  20.200001  13.630658  447800\n",
      "2018-01-05  20.200001  20.200001  20.150000  20.200001  13.630658   78300\n",
      "2018-01-08  20.200001  20.200001  20.049999  20.200001  13.630658   59200\n",
      "✅ Données sauvegardées dans VICI_data.csv\n"
     ]
    },
    {
     "name": "stderr",
     "output_type": "stream",
     "text": [
      "[*********************100%***********************]  1 of 1 completed\n"
     ]
    },
    {
     "name": "stdout",
     "output_type": "stream",
     "text": [
      "✅ Colonnes après aplatissement : ['Adj Close', 'Close', 'High', 'Low', 'Open', 'Volume']\n",
      "                 Open       High        Low      Close  Adj Close    Volume\n",
      "Date                                                                       \n",
      "2015-01-02  65.845001  66.687500  65.622498  66.254997  61.570606   8389600\n",
      "2015-01-05  65.872498  65.875000  64.717499  64.792503  60.211533  12751200\n",
      "2015-01-06  64.947502  65.195000  63.715000  64.375000  59.823551  11070000\n",
      "2015-01-07  64.610001  65.285004  64.362503  65.237503  60.625065   9346800\n",
      "2015-01-08  65.800003  66.279999  65.657501  66.112503  61.438221  10443200\n",
      "✅ Données sauvegardées dans V_data.csv\n"
     ]
    },
    {
     "name": "stderr",
     "output_type": "stream",
     "text": [
      "[*********************100%***********************]  1 of 1 completed\n"
     ]
    },
    {
     "name": "stdout",
     "output_type": "stream",
     "text": [
      "✅ Colonnes après aplatissement : ['Adj Close', 'Close', 'High', 'Low', 'Open', 'Volume']\n",
      "             Open   High   Low  Close  Adj Close  Volume\n",
      "Date                                                    \n",
      "2016-10-05  16.00  16.50  15.5  15.50  11.397104  569700\n",
      "2016-10-06  15.50  15.90  15.5  15.75  11.580931  264900\n",
      "2016-10-07  15.90  15.90  15.7  15.90  11.691224  110900\n",
      "2016-10-10  15.95  25.24  15.9  16.00  11.764753    6300\n",
      "2016-10-11  16.10  16.50  16.0  16.35  12.022107  158400\n",
      "✅ Données sauvegardées dans VST_data.csv\n"
     ]
    },
    {
     "name": "stderr",
     "output_type": "stream",
     "text": [
      "[*********************100%***********************]  1 of 1 completed\n"
     ]
    },
    {
     "name": "stdout",
     "output_type": "stream",
     "text": [
      "✅ Colonnes après aplatissement : ['Adj Close', 'Close', 'High', 'Low', 'Open', 'Volume']\n",
      "                 Open       High        Low      Close  Adj Close   Volume\n",
      "Date                                                                      \n",
      "2015-01-02  66.389999  67.910004  66.180000  66.980003  61.405327   978500\n",
      "2015-01-05  66.290001  66.389999  64.820000  65.129997  59.709305   897200\n",
      "2015-01-06  65.019997  66.129997  64.279999  64.980003  59.571808   686300\n",
      "2015-01-07  65.300003  66.330002  65.059998  66.209999  60.699417   532400\n",
      "2015-01-08  66.860001  68.639999  66.809998  68.279999  62.597157  1380500\n",
      "✅ Données sauvegardées dans VMC_data.csv\n"
     ]
    },
    {
     "name": "stderr",
     "output_type": "stream",
     "text": [
      "[*********************100%***********************]  1 of 1 completed\n"
     ]
    },
    {
     "name": "stdout",
     "output_type": "stream",
     "text": [
      "✅ Colonnes après aplatissement : ['Adj Close', 'Close', 'High', 'Low', 'Open', 'Volume']\n",
      "                 Open       High        Low      Close  Adj Close   Volume\n",
      "Date                                                                      \n",
      "2015-01-02  15.232593  15.306667  14.962963  15.007407  12.043027  1689188\n",
      "2015-01-05  14.942222  14.998519  14.817778  14.874074  11.936029  1358100\n",
      "2015-01-06  14.924444  15.001481  14.722963  14.835556  11.905121  2236275\n",
      "2015-01-07  14.942222  14.945185  14.731852  14.850370  11.917012  1814400\n",
      "2015-01-08  14.900741  15.205926  14.900741  15.167407  12.171427  2487038\n",
      "✅ Données sauvegardées dans WRB_data.csv\n"
     ]
    },
    {
     "name": "stderr",
     "output_type": "stream",
     "text": [
      "[*********************100%***********************]  1 of 1 completed\n"
     ]
    },
    {
     "name": "stdout",
     "output_type": "stream",
     "text": [
      "✅ Colonnes après aplatissement : ['Adj Close', 'Close', 'High', 'Low', 'Open', 'Volume']\n",
      "                  Open        High         Low       Close   Adj Close  Volume\n",
      "Date                                                                          \n",
      "2015-01-02  256.019989  256.970001  253.330002  255.220001  214.415955  314300\n",
      "2015-01-05  253.699997  254.339996  248.179993  248.979996  209.173569  394100\n",
      "2015-01-06  249.529999  249.940002  242.839996  245.449997  206.207947  427300\n",
      "2015-01-07  246.000000  247.070007  243.110001  245.669998  206.392807  339500\n",
      "2015-01-08  247.380005  251.229996  247.380005  251.139999  210.988220  453000\n",
      "✅ Données sauvegardées dans GWW_data.csv\n"
     ]
    },
    {
     "name": "stderr",
     "output_type": "stream",
     "text": [
      "[*********************100%***********************]  1 of 1 completed\n"
     ]
    },
    {
     "name": "stdout",
     "output_type": "stream",
     "text": [
      "✅ Colonnes après aplatissement : ['Adj Close', 'Close', 'High', 'Low', 'Open', 'Volume']\n",
      "                 Open       High        Low      Close  Adj Close  Volume\n",
      "Date                                                                     \n",
      "2015-01-02  87.559998  87.610001  85.110001  87.110001  82.133278  407600\n",
      "2015-01-05  86.480003  86.519997  84.820000  85.139999  80.275795  407800\n",
      "2015-01-06  85.190002  85.660004  83.220001  84.040001  79.238670  499400\n",
      "2015-01-07  85.449997  85.959999  84.050003  84.860001  80.011795  426500\n",
      "2015-01-08  85.879997  86.870003  85.320000  86.599998  81.652397  463200\n",
      "✅ Données sauvegardées dans WAB_data.csv\n"
     ]
    },
    {
     "name": "stderr",
     "output_type": "stream",
     "text": [
      "[*********************100%***********************]  1 of 1 completed\n"
     ]
    },
    {
     "name": "stdout",
     "output_type": "stream",
     "text": [
      "✅ Colonnes après aplatissement : ['Adj Close', 'Close', 'High', 'Low', 'Open', 'Volume']\n",
      "                 Open       High        Low      Close  Adj Close   Volume\n",
      "Date                                                                      \n",
      "2015-01-02  76.110001  77.190002  75.089996  76.000000  51.801960  3938500\n",
      "2015-01-05  75.080002  75.900002  74.269997  74.500000  50.779549  4767900\n",
      "2015-01-06  75.970001  76.000000  73.940002  74.690002  50.909061  4881600\n",
      "2015-01-07  75.050003  76.690002  74.959999  76.599998  52.210915  5672100\n",
      "2015-01-08  77.300003  77.940002  76.860001  77.550003  52.858440  4083900\n",
      "✅ Données sauvegardées dans WBA_data.csv\n"
     ]
    },
    {
     "name": "stderr",
     "output_type": "stream",
     "text": [
      "[*********************100%***********************]  1 of 1 completed\n"
     ]
    },
    {
     "name": "stdout",
     "output_type": "stream",
     "text": [
      "✅ Colonnes après aplatissement : ['Adj Close', 'Close', 'High', 'Low', 'Open', 'Volume']\n",
      "                 Open       High        Low      Close  Adj Close    Volume\n",
      "Date                                                                       \n",
      "2015-01-02  28.756666  28.906668  28.516666  28.633333  23.320908  13505400\n",
      "2015-01-05  28.573334  28.773333  28.503332  28.549999  23.253033  20937000\n",
      "2015-01-06  28.660000  28.916668  28.596666  28.770000  23.432220  24615300\n",
      "2015-01-07  28.926666  29.559999  28.889999  29.533333  24.053926  25495200\n",
      "2015-01-08  29.736668  30.223333  29.690001  30.156668  24.561611  38140800\n",
      "✅ Données sauvegardées dans WMT_data.csv\n"
     ]
    },
    {
     "name": "stderr",
     "output_type": "stream",
     "text": [
      "[*********************100%***********************]  1 of 1 completed\n"
     ]
    },
    {
     "name": "stdout",
     "output_type": "stream",
     "text": [
      "✅ Colonnes après aplatissement : ['Adj Close', 'Close', 'High', 'Low', 'Open', 'Volume']\n",
      "                 Open       High        Low      Close  Adj Close   Volume\n",
      "Date                                                                      \n",
      "2015-01-02  94.910004  95.279999  92.849998  93.750000  85.943520  5865400\n",
      "2015-01-05  93.279999  93.349998  91.779999  92.379997  84.687592  7789400\n",
      "2015-01-06  92.570000  93.190002  91.160004  91.889999  84.238388  6793100\n",
      "2015-01-07  92.720001  93.150002  92.099998  92.830002  85.100121  6589500\n",
      "2015-01-08  93.870003  94.300003  93.559998  93.790001  85.980194  7579400\n",
      "✅ Données sauvegardées dans DIS_data.csv\n"
     ]
    },
    {
     "name": "stderr",
     "output_type": "stream",
     "text": [
      "[*********************100%***********************]  1 of 1 completed\n"
     ]
    },
    {
     "name": "stdout",
     "output_type": "stream",
     "text": [
      "✅ Colonnes après aplatissement : ['Adj Close', 'Close', 'High', 'Low', 'Open', 'Volume']\n",
      "                 Open       High        Low      Close  Adj Close   Volume\n",
      "Date                                                                      \n",
      "2015-01-02  34.630001  34.639999  34.119999  34.480000  34.480000  1979600\n",
      "2015-01-05  34.349998  34.410000  32.939999  33.060001  33.060001  1941300\n",
      "2015-01-06  33.080002  33.130001  31.930000  31.980000  31.980000  3869800\n",
      "2015-01-07  32.270000  32.270000  31.469999  32.209999  32.209999  4011700\n",
      "2015-01-08  32.639999  32.750000  31.940001  32.470001  32.470001  4331300\n",
      "✅ Données sauvegardées dans WBD_data.csv\n"
     ]
    },
    {
     "name": "stderr",
     "output_type": "stream",
     "text": [
      "[*********************100%***********************]  1 of 1 completed\n"
     ]
    },
    {
     "name": "stdout",
     "output_type": "stream",
     "text": [
      "✅ Colonnes après aplatissement : ['Adj Close', 'Close', 'High', 'Low', 'Open', 'Volume']\n",
      "                 Open       High        Low      Close  Adj Close   Volume\n",
      "Date                                                                      \n",
      "2015-01-02  51.250000  51.779999  51.200001  51.750000  42.033138  3140700\n",
      "2015-01-05  51.430000  51.619999  51.130001  51.230000  41.610794  3859100\n",
      "2015-01-06  51.270000  51.639999  50.860001  51.270000  41.643272  3010900\n",
      "2015-01-07  51.419998  51.619999  51.049999  51.310001  41.675758  2243200\n",
      "2015-01-08  51.639999  51.939999  51.540001  51.900002  42.154984  2941700\n",
      "✅ Données sauvegardées dans WM_data.csv\n"
     ]
    },
    {
     "name": "stderr",
     "output_type": "stream",
     "text": [
      "[*********************100%***********************]  1 of 1 completed\n"
     ]
    },
    {
     "name": "stdout",
     "output_type": "stream",
     "text": [
      "✅ Colonnes après aplatissement : ['Adj Close', 'Close', 'High', 'Low', 'Open', 'Volume']\n",
      "                  Open        High         Low       Close   Adj Close  Volume\n",
      "Date                                                                          \n",
      "2015-01-02  113.570000  114.919998  113.230003  113.879997  113.879997  493000\n",
      "2015-01-05  113.620003  114.300003  112.910004  113.019997  113.019997  340300\n",
      "2015-01-06  112.949997  113.809998  111.769997  112.529999  112.529999  396900\n",
      "2015-01-07  113.470001  115.980003  113.110001  115.930000  115.930000  439000\n",
      "2015-01-08  117.110001  118.400002  116.489998  118.089996  118.089996  486700\n",
      "✅ Données sauvegardées dans WAT_data.csv\n"
     ]
    },
    {
     "name": "stderr",
     "output_type": "stream",
     "text": [
      "[*********************100%***********************]  1 of 1 completed\n"
     ]
    },
    {
     "name": "stdout",
     "output_type": "stream",
     "text": [
      "✅ Colonnes après aplatissement : ['Adj Close', 'Close', 'High', 'Low', 'Open', 'Volume']\n",
      "                 Open       High        Low      Close  Adj Close   Volume\n",
      "Date                                                                      \n",
      "2015-01-02  52.970001  53.259998  52.529999  53.189999  37.758404  1249300\n",
      "2015-01-05  53.189999  53.430000  52.349998  52.540001  37.296997  1406300\n",
      "2015-01-06  52.700001  53.790001  52.570000  52.680000  37.396381  2181100\n",
      "2015-01-07  52.770000  53.540001  52.439999  53.330002  37.857803  1244300\n",
      "2015-01-08  53.509998  54.119999  53.509998  53.919998  38.276627  1490100\n",
      "✅ Données sauvegardées dans WEC_data.csv\n"
     ]
    },
    {
     "name": "stderr",
     "output_type": "stream",
     "text": [
      "[*********************100%***********************]  1 of 1 completed\n"
     ]
    },
    {
     "name": "stdout",
     "output_type": "stream",
     "text": [
      "✅ Colonnes après aplatissement : ['Adj Close', 'Close', 'High', 'Low', 'Open', 'Volume']\n",
      "                 Open       High        Low      Close  Adj Close    Volume\n",
      "Date                                                                       \n",
      "2015-01-02  55.110001  55.189999  54.189999  54.700001  40.608032  11700900\n",
      "2015-01-05  54.139999  54.360001  53.099998  53.200001  39.494465  15000500\n",
      "2015-01-06  53.349998  53.470001  51.849998  52.090000  38.670429  20211200\n",
      "2015-01-07  52.630001  52.639999  52.110001  52.400002  38.900566  15714700\n",
      "2015-01-08  53.000000  53.590000  52.959999  53.560001  39.761707  16721600\n",
      "✅ Données sauvegardées dans WFC_data.csv\n"
     ]
    },
    {
     "name": "stderr",
     "output_type": "stream",
     "text": [
      "[*********************100%***********************]  1 of 1 completed\n"
     ]
    },
    {
     "name": "stdout",
     "output_type": "stream",
     "text": [
      "✅ Colonnes après aplatissement : ['Adj Close', 'Close', 'High', 'Low', 'Open', 'Volume']\n",
      "                 Open       High        Low      Close  Adj Close   Volume\n",
      "Date                                                                      \n",
      "2015-01-02  76.050003  77.199997  75.989998  76.949997  50.566528  1794700\n",
      "2015-01-05  76.709999  78.099998  76.430000  77.900002  51.190826  2066500\n",
      "2015-01-06  77.680000  79.410004  75.309998  79.010002  51.920235  2897700\n",
      "2015-01-07  79.010002  80.050003  78.610001  79.739998  52.399952  2736500\n",
      "2015-01-08  80.089996  80.199997  78.540001  79.410004  52.183086  2459700\n",
      "✅ Données sauvegardées dans WELL_data.csv\n"
     ]
    },
    {
     "name": "stderr",
     "output_type": "stream",
     "text": [
      "[*********************100%***********************]  1 of 1 completed\n"
     ]
    },
    {
     "name": "stdout",
     "output_type": "stream",
     "text": [
      "✅ Colonnes après aplatissement : ['Adj Close', 'Close', 'High', 'Low', 'Open', 'Volume']\n",
      "                 Open       High        Low      Close  Adj Close  Volume\n",
      "Date                                                                     \n",
      "2015-01-02  53.570000  54.090000  51.990002  52.160000  49.818623  268900\n",
      "2015-01-05  51.750000  52.430000  51.080002  51.439999  49.130951  338400\n",
      "2015-01-06  51.490002  51.820000  50.279999  50.560001  48.290447  430400\n",
      "2015-01-07  51.020000  51.610001  50.669998  51.380001  49.073639  393100\n",
      "2015-01-08  51.619999  52.619999  50.939999  52.389999  50.038288  247500\n",
      "✅ Données sauvegardées dans WST_data.csv\n"
     ]
    },
    {
     "name": "stderr",
     "output_type": "stream",
     "text": [
      "[*********************100%***********************]  1 of 1 completed\n"
     ]
    },
    {
     "name": "stdout",
     "output_type": "stream",
     "text": [
      "✅ Colonnes après aplatissement : ['Adj Close', 'Close', 'High', 'Low', 'Open', 'Volume']\n",
      "                 Open       High        Low      Close  Adj Close   Volume\n",
      "Date                                                                      \n",
      "2015-01-02  84.504913  84.595619  82.585037  83.469391  77.593025  1278547\n",
      "2015-01-05  83.310661  84.074074  82.055931  82.365837  76.567154  2199752\n",
      "2015-01-06  81.927437  82.645500  80.219200  80.529099  74.859726  2665713\n",
      "2015-01-07  81.262283  81.972786  80.362808  81.738472  75.983963  2054222\n",
      "2015-01-08  82.569916  84.232803  82.569916  83.431595  77.557869  3351291\n",
      "✅ Données sauvegardées dans WDC_data.csv\n"
     ]
    },
    {
     "name": "stderr",
     "output_type": "stream",
     "text": [
      "[*********************100%***********************]  1 of 1 completed\n"
     ]
    },
    {
     "name": "stdout",
     "output_type": "stream",
     "text": [
      "✅ Colonnes après aplatissement : ['Adj Close', 'Close', 'High', 'Low', 'Open', 'Volume']\n",
      "                 Open       High        Low      Close  Adj Close   Volume\n",
      "Date                                                                      \n",
      "2015-01-02  35.869999  36.189999  35.869999  36.110001  23.921400  2426600\n",
      "2015-01-05  35.900002  36.240002  35.900002  36.110001  23.921400  2385400\n",
      "2015-01-06  36.209999  36.490002  35.980000  36.070000  23.894899  3405900\n",
      "2015-01-07  35.790001  36.349998  35.779999  36.180000  23.967772  2872700\n",
      "2015-01-08  36.419998  36.730000  36.330002  36.570000  24.226130  3004500\n",
      "✅ Données sauvegardées dans WY_data.csv\n"
     ]
    },
    {
     "name": "stderr",
     "output_type": "stream",
     "text": [
      "[*********************100%***********************]  1 of 1 completed\n"
     ]
    },
    {
     "name": "stdout",
     "output_type": "stream",
     "text": [
      "✅ Colonnes après aplatissement : ['Adj Close', 'Close', 'High', 'Low', 'Open', 'Volume']\n",
      "                 Open       High        Low      Close  Adj Close   Volume\n",
      "Date                                                                      \n",
      "2015-01-02  38.029999  38.070000  37.064999  37.424999  29.090542  1044400\n",
      "2015-01-05  37.250000  37.485001  37.049999  37.244999  28.950632   743200\n",
      "2015-01-06  37.215000  37.450001  36.750000  37.070000  28.814602  1776000\n",
      "2015-01-07  37.349998  38.480000  37.310001  38.419998  29.863953  1719800\n",
      "2015-01-08  38.825001  39.035000  38.645000  38.930000  30.260382  1342800\n",
      "✅ Données sauvegardées dans WSM_data.csv\n"
     ]
    },
    {
     "name": "stderr",
     "output_type": "stream",
     "text": [
      "[*********************100%***********************]  1 of 1 completed\n"
     ]
    },
    {
     "name": "stdout",
     "output_type": "stream",
     "text": [
      "✅ Colonnes après aplatissement : ['Adj Close', 'Close', 'High', 'Low', 'Open', 'Volume']\n",
      "                 Open       High        Low      Close  Adj Close   Volume\n",
      "Date                                                                      \n",
      "2015-01-02  44.830002  45.570000  44.830002  45.220001  24.674274  7433500\n",
      "2015-01-05  44.540001  44.840000  43.250000  43.430000  23.697567  8826800\n",
      "2015-01-06  43.279999  43.610001  42.209999  42.840000  23.375628  8068100\n",
      "2015-01-07  43.320000  43.759998  42.369999  42.610001  23.250132  8252000\n",
      "2015-01-08  43.139999  43.889999  42.860001  43.020000  23.473846  7745700\n",
      "✅ Données sauvegardées dans WMB_data.csv\n"
     ]
    },
    {
     "name": "stderr",
     "output_type": "stream",
     "text": [
      "[*********************100%***********************]  1 of 1 completed\n"
     ]
    },
    {
     "name": "stdout",
     "output_type": "stream",
     "text": [
      "✅ Colonnes après aplatissement : ['Adj Close', 'Close', 'High', 'Low', 'Open', 'Volume']\n",
      "                  Open        High         Low       Close   Adj Close  Volume\n",
      "Date                                                                          \n",
      "2015-01-02  119.205299  119.788078  116.556290  118.013245  100.274803  209022\n",
      "2015-01-05  117.350990  117.589401  116.556290  117.165565   99.554543  343789\n",
      "2015-01-06  116.874168  117.774834  115.443710  116.582779   99.059364  347338\n",
      "2015-01-07  118.701988  118.966888  116.794701  118.251656  100.477356  348357\n",
      "2015-01-08  119.205299  120.185432  118.728477  119.602646  101.625305  343147\n",
      "✅ Données sauvegardées dans WTW_data.csv\n"
     ]
    },
    {
     "name": "stderr",
     "output_type": "stream",
     "text": [
      "[*********************100%***********************]  1 of 1 completed\n"
     ]
    },
    {
     "name": "stdout",
     "output_type": "stream",
     "text": [
      "✅ Colonnes après aplatissement : ['Adj Close', 'Close', 'High', 'Low', 'Open', 'Volume']\n",
      "                 Open       High        Low      Close  Adj Close   Volume\n",
      "Date                                                                      \n",
      "2015-01-02  81.820000  81.970001  79.250000  80.410004  80.410004  1630000\n",
      "2015-01-05  80.000000  80.970001  79.110001  80.010002  80.010002  1591400\n",
      "2015-01-06  80.839996  81.480003  78.250000  79.419998  79.419998  1584000\n",
      "2015-01-07  79.730003  80.370003  78.860001  79.349998  79.349998  1106100\n",
      "2015-01-08  79.559998  83.209999  79.379997  82.779999  82.779999  2090100\n",
      "✅ Données sauvegardées dans WDAY_data.csv\n"
     ]
    },
    {
     "name": "stderr",
     "output_type": "stream",
     "text": [
      "[*********************100%***********************]  1 of 1 completed\n"
     ]
    },
    {
     "name": "stdout",
     "output_type": "stream",
     "text": [
      "✅ Colonnes après aplatissement : ['Adj Close', 'Close', 'High', 'Low', 'Open', 'Volume']\n",
      "                  Open        High         Low       Close   Adj Close  \\\n",
      "Date                                                                     \n",
      "2015-01-02  148.589996  149.229996  142.149994  146.889999  126.556206   \n",
      "2015-01-05  145.720001  146.169998  141.839996  144.389999  124.402298   \n",
      "2015-01-06  143.500000  144.339996  139.259995  141.309998  121.748642   \n",
      "2015-01-07  144.220001  147.210007  143.250000  145.460007  125.324173   \n",
      "2015-01-08  147.059998  149.029999  146.389999  147.210007  126.831970   \n",
      "\n",
      "             Volume  \n",
      "Date                 \n",
      "2015-01-02  2228900  \n",
      "2015-01-05  1695100  \n",
      "2015-01-06  1975800  \n",
      "2015-01-07  1472000  \n",
      "2015-01-08  1676600  \n",
      "✅ Données sauvegardées dans WYNN_data.csv\n"
     ]
    },
    {
     "name": "stderr",
     "output_type": "stream",
     "text": [
      "[*********************100%***********************]  1 of 1 completed\n"
     ]
    },
    {
     "name": "stdout",
     "output_type": "stream",
     "text": [
      "✅ Colonnes après aplatissement : ['Adj Close', 'Close', 'High', 'Low', 'Open', 'Volume']\n",
      "                 Open       High        Low      Close  Adj Close   Volume\n",
      "Date                                                                      \n",
      "2015-01-02  36.020000  36.169998  35.599998  36.119999  25.937885  2534900\n",
      "2015-01-05  36.029999  36.180000  35.630001  35.709999  25.643461  3107200\n",
      "2015-01-06  35.860001  36.500000  35.730000  35.900002  25.779903  4749600\n",
      "2015-01-07  35.980000  36.340000  35.810001  36.209999  26.002523  2833400\n",
      "2015-01-08  36.470001  36.740002  36.360001  36.630001  26.304115  2516800\n",
      "✅ Données sauvegardées dans XEL_data.csv\n"
     ]
    },
    {
     "name": "stderr",
     "output_type": "stream",
     "text": [
      "[*********************100%***********************]  1 of 1 completed\n"
     ]
    },
    {
     "name": "stdout",
     "output_type": "stream",
     "text": [
      "✅ Colonnes après aplatissement : ['Adj Close', 'Close', 'High', 'Low', 'Open', 'Volume']\n",
      "                 Open       High        Low      Close  Adj Close   Volume\n",
      "Date                                                                      \n",
      "2015-01-02  38.400002  38.590000  37.500000  38.080002  33.335350   605900\n",
      "2015-01-05  37.340000  37.419998  35.669998  35.709999  31.260649  1369900\n",
      "2015-01-06  35.700001  35.919998  35.110001  35.500000  31.076815  1333200\n",
      "2015-01-07  35.869999  36.000000  35.250000  35.779999  31.321913  1038600\n",
      "2015-01-08  36.009998  36.090000  35.680000  36.049999  31.558283   821800\n",
      "✅ Données sauvegardées dans XYL_data.csv\n"
     ]
    },
    {
     "name": "stderr",
     "output_type": "stream",
     "text": [
      "[*********************100%***********************]  1 of 1 completed\n"
     ]
    },
    {
     "name": "stdout",
     "output_type": "stream",
     "text": [
      "✅ Colonnes après aplatissement : ['Adj Close', 'Close', 'High', 'Low', 'Open', 'Volume']\n",
      "                 Open       High        Low      Close  Adj Close   Volume\n",
      "Date                                                                      \n",
      "2015-01-02  52.796551  52.846874  51.761322  52.012939  42.624203  2283466\n",
      "2015-01-05  52.056076  52.278934  50.948959  50.956146  41.758179  4418651\n",
      "2015-01-06  51.301224  51.329979  49.877785  50.330696  41.245628  5004401\n",
      "2015-01-07  51.020847  52.056076  50.884254  51.998562  42.612423  4554134\n",
      "2015-01-08  52.408340  53.040977  52.365204  52.904385  43.354748  4258268\n",
      "✅ Données sauvegardées dans YUM_data.csv\n"
     ]
    },
    {
     "name": "stderr",
     "output_type": "stream",
     "text": [
      "[*********************100%***********************]  1 of 1 completed\n"
     ]
    },
    {
     "name": "stdout",
     "output_type": "stream",
     "text": [
      "✅ Colonnes après aplatissement : ['Adj Close', 'Close', 'High', 'Low', 'Open', 'Volume']\n",
      "                 Open       High        Low      Close  Adj Close  Volume\n",
      "Date                                                                     \n",
      "2015-01-02  77.989998  78.419998  76.059998  77.430000  77.430000  411800\n",
      "2015-01-05  76.690002  77.000000  75.739998  76.339996  76.339996  420300\n",
      "2015-01-06  76.279999  76.279999  74.400002  75.790001  75.790001  527500\n",
      "2015-01-07  76.379997  78.139999  75.510002  77.720001  77.720001  467800\n",
      "2015-01-08  78.660004  79.809998  78.589996  79.379997  79.379997  324400\n",
      "✅ Données sauvegardées dans ZBRA_data.csv\n"
     ]
    },
    {
     "name": "stderr",
     "output_type": "stream",
     "text": [
      "[*********************100%***********************]  1 of 1 completed\n"
     ]
    },
    {
     "name": "stdout",
     "output_type": "stream",
     "text": [
      "✅ Colonnes après aplatissement : ['Adj Close', 'Close', 'High', 'Low', 'Open', 'Volume']\n",
      "                  Open        High         Low       Close   Adj Close  \\\n",
      "Date                                                                     \n",
      "2015-01-02  110.883492  111.271843  108.524269  109.310677  100.454239   \n",
      "2015-01-05  110.689323  113.776695  110.689323  113.388351  104.201546   \n",
      "2015-01-06  113.747574  113.815536  111.776695  112.427185  103.318245   \n",
      "2015-01-07  112.815536  116.097084  112.631065  115.223305  105.887840   \n",
      "2015-01-08  115.572815  117.087379  115.310677  116.446602  107.012016   \n",
      "\n",
      "             Volume  \n",
      "Date                 \n",
      "2015-01-02   936579  \n",
      "2015-01-05  2223873  \n",
      "2015-01-06  1835563  \n",
      "2015-01-07  1505860  \n",
      "2015-01-08  1449004  \n",
      "✅ Données sauvegardées dans ZBH_data.csv\n"
     ]
    },
    {
     "name": "stderr",
     "output_type": "stream",
     "text": [
      "[*********************100%***********************]  1 of 1 completed"
     ]
    },
    {
     "name": "stdout",
     "output_type": "stream",
     "text": [
      "✅ Colonnes après aplatissement : ['Adj Close', 'Close', 'High', 'Low', 'Open', 'Volume']\n",
      "                 Open       High        Low      Close  Adj Close   Volume\n",
      "Date                                                                      \n",
      "2015-01-02  43.459999  43.700001  43.070000  43.310001  40.022488  1784200\n",
      "2015-01-05  43.250000  43.630001  42.970001  43.049999  39.782227  3112100\n",
      "2015-01-06  43.150002  43.360001  42.299999  42.630001  39.394085  3977200\n",
      "2015-01-07  43.000000  43.560001  42.980000  43.509998  40.207283  2481800\n",
      "2015-01-08  44.750000  44.869999  44.000000  44.180000  40.826431  3121300\n",
      "✅ Données sauvegardées dans ZTS_data.csv\n"
     ]
    },
    {
     "name": "stderr",
     "output_type": "stream",
     "text": [
      "\n"
     ]
    }
   ],
   "source": [
    "import yfinance as yf\n",
    "import pandas as pd\n",
    "\n",
    "for source in tickers:\n",
    "    data = yf.download(source, start=\"2015-01-01\", end=\"2024-12-31\", auto_adjust=False)\n",
    "\n",
    "    # Aplatir les colonnes si MultiIndex\n",
    "    if isinstance(data.columns, pd.MultiIndex):\n",
    "        data.columns = [col[0] for col in data.columns]\n",
    "\n",
    "    # Vérifier les colonnes présentes\n",
    "    print(\"✅ Colonnes après aplatissement :\", data.columns.tolist())\n",
    "\n",
    "    # Cas où 'Adj Close' est manquant\n",
    "    if 'Adj Close' not in data.columns:\n",
    "        print(\"⚠️ 'Adj Close' manquant. Ajout d'une copie de 'Close' pour continuer.\")\n",
    "        data['Adj Close'] = data['Close']\n",
    "\n",
    "    # Réorganisation pour avoir l'ordre canonique\n",
    "    expected_order = ['Open', 'High', 'Low', 'Close', 'Adj Close', 'Volume']\n",
    "    data = data[[col for col in expected_order if col in data.columns]]\n",
    "\n",
    "    # Aperçu\n",
    "    print(data.head())\n",
    "\n",
    "    # Export CSV (optionnel)\n",
    "    data.to_csv(f\"csv/{source}_data.csv\")\n",
    "    print(f\"✅ Données sauvegardées dans {source}_data.csv\")\n"
   ]
  },
  {
   "cell_type": "code",
   "execution_count": null,
   "id": "fc506c40",
   "metadata": {},
   "outputs": [],
   "source": []
  }
 ],
 "metadata": {
  "kernelspec": {
   "display_name": "Python 3",
   "language": "python",
   "name": "python3"
  },
  "language_info": {
   "codemirror_mode": {
    "name": "ipython",
    "version": 3
   },
   "file_extension": ".py",
   "mimetype": "text/x-python",
   "name": "python",
   "nbconvert_exporter": "python",
   "pygments_lexer": "ipython3",
   "version": "3.8.10"
  }
 },
 "nbformat": 4,
 "nbformat_minor": 5
}
