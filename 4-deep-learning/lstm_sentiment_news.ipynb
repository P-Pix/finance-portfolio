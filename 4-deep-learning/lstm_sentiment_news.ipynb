{
 "cells": [
  {
   "cell_type": "markdown",
   "id": "72aeddc1",
   "metadata": {},
   "source": [
    "# 🧠 LSTM + Analyse de sentiment sur news financières\n",
    "\n",
    "## Objectif\n",
    "- Récupérer des titres de news\n",
    "- Faire une analyse de sentiment\n",
    "- Utiliser ce sentiment avec le prix pour prédire le retour"
   ]
  },
  {
   "cell_type": "code",
   "execution_count": 2,
   "id": "d643bf27",
   "metadata": {},
   "outputs": [
    {
     "name": "stderr",
     "output_type": "stream",
     "text": [
      "No model was supplied, defaulted to distilbert/distilbert-base-uncased-finetuned-sst-2-english and revision 714eb0f (https://huggingface.co/distilbert/distilbert-base-uncased-finetuned-sst-2-english).\n",
      "Using a pipeline without specifying a model name and revision in production is not recommended.\n",
      "Hardware accelerator e.g. GPU is available in the environment, but no `device` argument is passed to the `Pipeline` object. Model will be on CPU.\n"
     ]
    },
    {
     "name": "stdout",
     "output_type": "stream",
     "text": [
      "\n",
      "\n",
      "Analyse de sentiment des nouvelles sur Tesla :\n",
      "\n",
      "Tesla stocks soar after record delivery numbers -> POSITIVE (0.92)\n",
      "Elon Musk faces lawsuit over misleading tweets -> NEGATIVE (1.00)\n",
      "Tesla announces expansion in Europe -> POSITIVE (1.00)\n",
      "Market sees Tesla as overvalued -> NEGATIVE (0.99)\n"
     ]
    }
   ],
   "source": [
    "from transformers import pipeline\n",
    "\n",
    "news = [\n",
    "    \"Tesla stocks soar after record delivery numbers\",\n",
    "    \"Elon Musk faces lawsuit over misleading tweets\",\n",
    "    \"Tesla announces expansion in Europe\",\n",
    "    \"Market sees Tesla as overvalued\"\n",
    "]\n",
    "\n",
    "classifier = pipeline(\"sentiment-analysis\")\n",
    "results = classifier(news)\n",
    "\n",
    "print(\"\\n\\nAnalyse de sentiment des nouvelles sur Tesla :\\n\")\n",
    "\n",
    "for title, sentiment in zip(news, results):\n",
    "    print(f\"{title} -> {sentiment['label']} ({sentiment['score']:.2f})\")"
   ]
  },
  {
   "cell_type": "code",
   "execution_count": null,
   "id": "2a8614f6",
   "metadata": {},
   "outputs": [],
   "source": []
  }
 ],
 "metadata": {
  "kernelspec": {
   "display_name": "Python 3",
   "language": "python",
   "name": "python3"
  },
  "language_info": {
   "codemirror_mode": {
    "name": "ipython",
    "version": 3
   },
   "file_extension": ".py",
   "mimetype": "text/x-python",
   "name": "python",
   "nbconvert_exporter": "python",
   "pygments_lexer": "ipython3",
   "version": "3.8.10"
  }
 },
 "nbformat": 4,
 "nbformat_minor": 5
}
