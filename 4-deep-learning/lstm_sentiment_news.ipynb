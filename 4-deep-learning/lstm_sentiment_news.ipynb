{
 "cells": [
  {
   "cell_type": "markdown",
   "id": "72aeddc1",
   "metadata": {},
   "source": [
    "# 🧠 LSTM + Analyse de sentiment sur news financières\n",
    "\n",
    "## Objectif\n",
    "- Récupérer des titres de news\n",
    "- Faire une analyse de sentiment\n",
    "- Utiliser ce sentiment avec le prix pour prédire le retour"
   ]
  },
  {
   "cell_type": "code",
   "execution_count": null,
   "id": "d643bf27",
   "metadata": {},
   "outputs": [
    {
     "name": "stderr",
     "output_type": "stream",
     "text": [
      "/home/guillaume/.local/lib/python3.8/site-packages/tqdm/auto.py:21: TqdmWarning: IProgress not found. Please update jupyter and ipywidgets. See https://ipywidgets.readthedocs.io/en/stable/user_install.html\n",
      "  from .autonotebook import tqdm as notebook_tqdm\n",
      "No model was supplied, defaulted to distilbert/distilbert-base-uncased-finetuned-sst-2-english and revision 714eb0f (https://huggingface.co/distilbert/distilbert-base-uncased-finetuned-sst-2-english).\n",
      "Using a pipeline without specifying a model name and revision in production is not recommended.\n"
     ]
    },
    {
     "name": "stdout",
     "output_type": "stream",
     "text": [
      "{\"timestamp\":\"2025-07-08T15:52:54.572163Z\",\"level\":\"WARN\",\"fields\":{\"message\":\"Reqwest(reqwest::Error { kind: Request, source: hyper_util::client::legacy::Error(Connect, Custom { kind: Other, error: Custom { kind: InvalidData, error: InvalidCertificate(NotValidForNameContext { expected: DnsName(\\\"cas-server.xethub.hf.co\\\"), presented: [\\\"DnsName(\\\\\\\"*.us-east-1.es.amazonaws.com\\\\\\\")\\\", \\\"DnsName(\\\\\\\"*.cell-01.us-east-1.es.amazonaws.com\\\\\\\")\\\"] }) } }) }). Retrying...\"},\"filename\":\"/home/runner/work/xet-core/xet-core/cas_client/src/http_client.rs\",\"line_number\":242}\n",
      "{\"timestamp\":\"2025-07-08T15:52:54.573384Z\",\"level\":\"WARN\",\"fields\":{\"message\":\"Retry attempt #0. Sleeping 1.418821518s before the next attempt\"},\"filename\":\"/root/.cargo/registry/src/index.crates.io-1949cf8c6b5b557f/reqwest-retry-0.7.0/src/middleware.rs\",\"line_number\":171}\n"
     ]
    },
    {
     "name": "stderr",
     "output_type": "stream",
     "text": [
      "Hardware accelerator e.g. GPU is available in the environment, but no `device` argument is passed to the `Pipeline` object. Model will be on CPU.\n"
     ]
    },
    {
     "name": "stdout",
     "output_type": "stream",
     "text": [
      "Tesla stocks soar after record delivery numbers -> POSITIVE (0.92)\n",
      "Elon Musk faces lawsuit over misleading tweets -> NEGATIVE (1.00)\n",
      "Tesla announces expansion in Europe -> POSITIVE (1.00)\n",
      "Market sees Tesla as overvalued -> NEGATIVE (0.99)\n"
     ]
    }
   ],
   "source": [
    "from transformers import pipeline\n",
    "\n",
    "news = [\n",
    "    \"Tesla stocks soar after record delivery numbers\",\n",
    "    \"Elon Musk faces lawsuit over misleading tweets\",\n",
    "    \"Tesla announces expansion in Europe\",\n",
    "    \"Market sees Tesla as overvalued\"\n",
    "]\n",
    "\n",
    "classifier = pipeline(\"sentiment-analysis\")\n",
    "results = classifier(news)\n",
    "\n",
    "print(\"\\n\\nAnalyse de sentiment des nouvelles sur Tesla :\\n\")\n",
    "\n",
    "for title, sentiment in zip(news, results):\n",
    "    print(f\"{title} -> {sentiment['label']} ({sentiment['score']:.2f})\")"
   ]
  },
  {
   "cell_type": "code",
   "execution_count": null,
   "id": "2a8614f6",
   "metadata": {},
   "outputs": [],
   "source": []
  }
 ],
 "metadata": {
  "kernelspec": {
   "display_name": "Python 3",
   "language": "python",
   "name": "python3"
  },
  "language_info": {
   "codemirror_mode": {
    "name": "ipython",
    "version": 3
   },
   "file_extension": ".py",
   "mimetype": "text/x-python",
   "name": "python",
   "nbconvert_exporter": "python",
   "pygments_lexer": "ipython3",
   "version": "3.8.10"
  }
 },
 "nbformat": 4,
 "nbformat_minor": 5
}
